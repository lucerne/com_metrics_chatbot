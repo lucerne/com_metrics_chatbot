{
 "cells": [
  {
   "cell_type": "code",
   "execution_count": 1,
   "metadata": {
    "collapsed": true
   },
   "outputs": [],
   "source": [
    "import spacy\n",
    "import numpy as np\n",
    "import matplotlib.pyplot as plt\n",
    "import os\n",
    "import glob\n",
    "import re\n",
    "from collections import Counter\n",
    "import numpy as np\n",
    "import matplotlib.pyplot as plt"
   ]
  },
  {
   "cell_type": "code",
   "execution_count": 29,
   "metadata": {
    "collapsed": true
   },
   "outputs": [],
   "source": [
    "# directory = '/home/luluvyd/examples/data/'\n",
    "directory = '/home/luluvyd/corpus/Reuters21578/'\n",
    "# filename = '/home/luluvyd/examples/data/'"
   ]
  },
  {
   "cell_type": "code",
   "execution_count": 3,
   "metadata": {
    "collapsed": true
   },
   "outputs": [],
   "source": [
    "nlp = spacy.load('en_core_web_md')\n",
    "\n",
    "def analyzePOS(doc):  \n",
    "    '''\n",
    "    parameter : doc is an article by a single author\n",
    "    return : counter of POS tags\n",
    "    '''\n",
    "    counter = Counter([token.pos_ for token in doc])\n",
    "    return counter\n",
    "\n",
    "def rankCounter(counter): \n",
    "    '''\n",
    "    parameter : counter of an article by a single author\n",
    "    '''\n",
    "    if len(counter) == 0:\n",
    "        return None, None\n",
    "    else:\n",
    "        c = counter.most_common(20)\n",
    "        return zip(*c)\n",
    "\n",
    "def sumCounter(counter): \n",
    "    '''\n",
    "    parameter : counter\n",
    "    return : sum of counter values\n",
    "    '''\n",
    "    return sum(counter.values())\n",
    "\n",
    "    \n",
    "def analyzeSentence(doc):\n",
    "    '''\n",
    "    parameter : doc is an article by a single author\n",
    "    assume sentence length is measured by number of words\n",
    "    return : counter of sentence lengths'''\n",
    "    lengths = Counter([len(sentence) for sentence in doc.sents])\n",
    "    for sentence in doc.sents: \n",
    "        print(\"SENTENCE : \" + sentence.text)\n",
    "    return lengths\n",
    "\n",
    "def analyzeWordLength(doc): \n",
    "    '''parameter : doc is an article by a single author\n",
    "    return : counter of word lengths\n",
    "    '''\n",
    "    counter = Counter([len(token.lemma_) for token in doc])\n",
    "    return counter\n",
    "\n",
    "def analyzePunctuation(doc): \n",
    "    '''parameter: doc is an article by a single author\n",
    "    return : counter of punctuation symbols '''\n",
    "    counter = Counter([token.text for token in doc if token.pos_=='PUNCT'])\n",
    "    return counter\n",
    "\n",
    "def analyzePronoun(doc): \n",
    "    '''parameter: doc is an article by a single author\n",
    "    return : counter of all pronoun '''\n",
    "    counter = Counter([token.text.lower() for token in doc if (token.tag_== 'PRP' or \n",
    "                       token.tag_== 'PRP$' or \n",
    "                       token.tag_== 'WP' or \n",
    "                       token.tag_== 'WP$')])\n",
    "    return counter\n",
    "\n",
    "def analyzePronounPRP(doc):\n",
    "    '''parameter: doc is an article by a single author\n",
    "    return : counter of PRP '''\n",
    "    counter = Counter([token.text.lower() for token in doc if token.tag_== 'PRP'])\n",
    "    return counter\n",
    "\n",
    "def analyzePronounPRPD(doc):\n",
    "    '''parameter: doc is an article by a single author\n",
    "    return : counter of PRP '''\n",
    "    counter = Counter([token.text.lower() for token in doc if token.tag_== 'PRP$'])\n",
    "    return counter\n",
    "\n",
    "def analyzePronounWP(doc):\n",
    "    '''parameter: doc is an article by a single author\n",
    "    return : counter of WP '''\n",
    "    counter = Counter([token.text.lower() for token in doc if token.tag_== 'WP'])\n",
    "    return counter\n",
    "\n",
    "def analyzePronounWPD(doc):\n",
    "    '''parameter: doc is an article by a single author\n",
    "    return : counter of WP$ '''\n",
    "    counter = Counter([token.text.lower() for token in doc if token.tag_== 'WP$'])\n",
    "    return counter\n",
    "\n",
    "def analyzePronounCategories(doc):\n",
    "    '''parameter: doc is an article by a single author\n",
    "    return : counter of all pronoun categories '''\n",
    "    counter = Counter([token.tag_ for token in doc if (token.tag_== 'PRP' or \n",
    "                       token.tag_== 'PRP$' or \n",
    "                       token.tag_== 'WP' or \n",
    "                       token.tag_== 'WP$')])\n",
    "    return counter\n",
    "\n",
    "def analyzeVerb(doc): \n",
    "    '''parameter: doc is an article by a single author\n",
    "    return : counter of verb words '''\n",
    "    counter = Counter([token.lemma_ for token in doc if token.pos_=='VERB'])\n",
    "    return counter\n",
    "\n",
    "def analyzeVerbRoot(doc): \n",
    "    '''parameter: doc is an article by a single author\n",
    "    return : counter of verb words '''\n",
    "    counter = Counter([token.lemma_ for token in doc if token.pos_=='VB'])\n",
    "    return counter"
   ]
  },
  {
   "cell_type": "code",
   "execution_count": 17,
   "metadata": {
    "collapsed": false
   },
   "outputs": [
    {
     "name": "stdout",
     "output_type": "stream",
     "text": [
      "Counter({'DET': 3, 'PUNCT': 2, 'VERB': 2, 'NOUN': 2, 'ADV': 1, 'ADJ': 1})\n"
     ]
    }
   ],
   "source": [
    "parsed_text = 'This is an awesome sentence. Where is the cat?'\n",
    "doc = nlp(parsed_text)\n",
    "counter = analyzePOS(doc)\n",
    "print(counter)"
   ]
  },
  {
   "cell_type": "code",
   "execution_count": 5,
   "metadata": {
    "collapsed": true
   },
   "outputs": [],
   "source": [
    "import pyspark\n",
    "import sys\n",
    "from os import listdir\n",
    "from os.path import isfile, join\n"
   ]
  },
  {
   "cell_type": "code",
   "execution_count": 30,
   "metadata": {
    "collapsed": false
   },
   "outputs": [],
   "source": [
    "read_files = [join(directory, f) for f in listdir(directory) if isfile(join(directory, f))]"
   ]
  },
  {
   "cell_type": "code",
   "execution_count": 31,
   "metadata": {
    "collapsed": false
   },
   "outputs": [
    {
     "data": {
      "text/plain": [
       "['/home/luluvyd/corpus/Reuters21578/reut2-012.sgm',\n",
       " '/home/luluvyd/corpus/Reuters21578/reut2-006.sgm',\n",
       " '/home/luluvyd/corpus/Reuters21578/reut2-005.sgm',\n",
       " '/home/luluvyd/corpus/Reuters21578/reut2-021.sgm',\n",
       " '/home/luluvyd/corpus/Reuters21578/reut2-009.sgm',\n",
       " '/home/luluvyd/corpus/Reuters21578/reut2-007.sgm',\n",
       " '/home/luluvyd/corpus/Reuters21578/reut2-019.sgm',\n",
       " '/home/luluvyd/corpus/Reuters21578/reut2-004.sgm',\n",
       " '/home/luluvyd/corpus/Reuters21578/reut2-002.sgm',\n",
       " '/home/luluvyd/corpus/Reuters21578/reut2-014.sgm',\n",
       " '/home/luluvyd/corpus/Reuters21578/reut2-011.sgm',\n",
       " '/home/luluvyd/corpus/Reuters21578/reut2-003.sgm',\n",
       " '/home/luluvyd/corpus/Reuters21578/reut2-020.sgm',\n",
       " '/home/luluvyd/corpus/Reuters21578/reut2-010.sgm',\n",
       " '/home/luluvyd/corpus/Reuters21578/reut2-016.sgm',\n",
       " '/home/luluvyd/corpus/Reuters21578/reut2-000.sgm',\n",
       " '/home/luluvyd/corpus/Reuters21578/reut2-008.sgm',\n",
       " '/home/luluvyd/corpus/Reuters21578/reut2-001.sgm',\n",
       " '/home/luluvyd/corpus/Reuters21578/reut2-013.sgm',\n",
       " '/home/luluvyd/corpus/Reuters21578/reut2-017.sgm',\n",
       " '/home/luluvyd/corpus/Reuters21578/reut2-015.sgm',\n",
       " '/home/luluvyd/corpus/Reuters21578/reut2-018.sgm']"
      ]
     },
     "execution_count": 31,
     "metadata": {},
     "output_type": "execute_result"
    }
   ],
   "source": [
    "read_files"
   ]
  },
  {
   "cell_type": "code",
   "execution_count": null,
   "metadata": {
    "collapsed": false
   },
   "outputs": [],
   "source": [
    "counter = Counter('')\n",
    "for infile in read_files:\n",
    "    with open(infile, 'r') as f:\n",
    "        text = f.read()\n",
    "        texts = iter([text])\n",
    "        i = 0 \n",
    "        for doc in nlp.pipe(texts, n_threads=16, batch_size=10000):\n",
    "            counter += analyzeVerb(doc)\n",
    "            print(i)\n",
    "            i += 1\n"
   ]
  },
  {
   "cell_type": "code",
   "execution_count": 26,
   "metadata": {
    "collapsed": false
   },
   "outputs": [
    {
     "data": {
      "text/plain": [
       "<matplotlib.figure.Figure at 0x7f1c335f29b0>"
      ]
     },
     "metadata": {},
     "output_type": "display_data"
    },
    {
     "data": {
      "image/png": "[encoded data removed]",
      "text/plain": [
       "<matplotlib.figure.Figure at 0x7f1c335f8b70>"
      ]
     },
     "metadata": {},
     "output_type": "display_data"
    }
   ],
   "source": [
    "plt.figure(num=None, figsize=(20, 6), dpi=80, facecolor='w', edgecolor='k')\n",
    "labels, values = rankCounter(counter)\n",
    "indexes = np.arange(len(labels))\n",
    "width = 1\n",
    "plt.bar(indexes, values, width)\n",
    "plt.xticks(indexes + width * 0.5, labels)\n",
    "plt.show()"
   ]
  },
  {
   "cell_type": "code",
   "execution_count": null,
   "metadata": {
    "collapsed": true
   },
   "outputs": [],
   "source": []
  }
 ],
 "metadata": {
  "anaconda-cloud": {},
  "kernelspec": {
   "display_name": "Python [conda env:anaconda3]",
   "language": "python",
   "name": "conda-env-anaconda3-py"
  },
  "language_info": {
   "codemirror_mode": {
    "name": "ipython",
    "version": 3
   },
   "file_extension": ".py",
   "mimetype": "text/x-python",
   "name": "python",
   "nbconvert_exporter": "python",
   "pygments_lexer": "ipython3",
   "version": "3.5.2"
  }
 },
 "nbformat": 4,
 "nbformat_minor": 1
}
