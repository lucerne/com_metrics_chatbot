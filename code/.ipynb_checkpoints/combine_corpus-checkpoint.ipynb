{
 "cells": [
  {
   "cell_type": "code",
   "execution_count": 1,
   "metadata": {
    "collapsed": true
   },
   "outputs": [],
   "source": [
    "import glob\n",
    "import os\n",
    "import spacy\n",
    "import random"
   ]
  },
  {
   "cell_type": "code",
   "execution_count": 2,
   "metadata": {
    "collapsed": true
   },
   "outputs": [],
   "source": [
    "def clean_text(doc):\n",
    "    txt = \"\"\n",
    "    for token in doc:\n",
    "        if token.text.isalpha(): \n",
    "            txt += token.text + \" \"\n",
    "    return txt.lower()"
   ]
  },
  {
   "cell_type": "code",
   "execution_count": 3,
   "metadata": {
    "collapsed": false
   },
   "outputs": [
    {
     "name": "stdout",
     "output_type": "stream",
     "text": [
      "/home/luluvyd/com_metrics_chatbot/code\n"
     ]
    }
   ],
   "source": [
    "# combining 3 example files into 1 \n",
    "if __name__ == \"__main__\":\n",
    "    print(os.getcwd())\n",
    "    \n",
    "    directory = \"/home/luluvyd/corpus/aclImdb/train/neg\"\n",
    "    \n",
    "    read_files = glob.glob(\"/home/luluvyd/corpus/aclImdb/test/example_pos/*.txt\")\n",
    "    \n",
    "    with open(\"/home/luluvyd/corpus/aclImdb/test/example_pos/aclImdb_example_pos.txt\", \"w\") as outfile:\n",
    "        for f in read_files:\n",
    "            with open(f, \"r\") as infile:\n",
    "                outfile.write(infile.read())\n",
    "    outfile.close()\n",
    "    "
   ]
  },
  {
   "cell_type": "code",
   "execution_count": 5,
   "metadata": {
    "collapsed": false
   },
   "outputs": [
    {
     "name": "stdout",
     "output_type": "stream",
     "text": [
      "/home/luluvyd/com_metrics_chatbot/code\n"
     ]
    }
   ],
   "source": [
    "# combine all files into 1\n",
    "# file is 15M, too big to build word embedding\n",
    "# select a sample out of 15M, and build word embedding on it, discard words without embedding\n",
    "if __name__ == \"__main__\":\n",
    "    print(os.getcwd())\n",
    "    nlp = spacy.load('en_core_web_md')\n",
    "\n",
    "    random.seed(0)  \n",
    "    threshold = 0.10 \n",
    "    \n",
    "    directory = \"/home/luluvyd/corpus/aclImdb/train/neg\"\n",
    "    \n",
    "    read_files = glob.glob(directory + \"/*.txt\")\n",
    "    \n",
    "    with open(\"/home/luluvyd/corpus/aclImdb/test/example_pos/aclImdb_combined_neg_50.txt\", \"w\") as outfile:\n",
    "        for f in read_files:\n",
    "            if random.random() > threshold: \n",
    "                continue \n",
    "            with open(f, \"r\") as infile:\n",
    "                data = infile.read()\n",
    "                parsed_text = nlp(data)\n",
    "                txt = clean_text(parsed_text)\n",
    "                outfile.write(txt)\n",
    "    outfile.close()"
   ]
  },
  {
   "cell_type": "code",
   "execution_count": null,
   "metadata": {
    "collapsed": true
   },
   "outputs": [],
   "source": []
  }
 ],
 "metadata": {
  "anaconda-cloud": {},
  "kernelspec": {
   "display_name": "Python [conda env:anaconda3]",
   "language": "python",
   "name": "conda-env-anaconda3-py"
  },
  "language_info": {
   "codemirror_mode": {
    "name": "ipython",
    "version": 3
   },
   "file_extension": ".py",
   "mimetype": "text/x-python",
   "name": "python",
   "nbconvert_exporter": "python",
   "pygments_lexer": "ipython3",
   "version": "3.5.2"
  }
 },
 "nbformat": 4,
 "nbformat_minor": 1
}
