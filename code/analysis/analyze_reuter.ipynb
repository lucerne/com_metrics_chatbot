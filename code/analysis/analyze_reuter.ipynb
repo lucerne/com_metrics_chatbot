{
 "cells": [
  {
   "cell_type": "code",
   "execution_count": 1,
   "metadata": {},
   "outputs": [],
   "source": [
    "%load_ext autoreload\n",
    "%autoreload 2\n",
    "\n",
    "import spacy\n",
    "import numpy as np\n",
    "import matplotlib.pyplot as plt\n",
    "import os\n",
    "import glob\n",
    "import re\n",
    "from collections import Counter\n",
    "import numpy as np\n",
    "import matplotlib.pyplot as plt\n",
    "import json\n",
    "\n",
    "import os\n",
    "import sys\n",
    "module_path = os.path.abspath(os.path.join('..'))\n",
    "if module_path not in sys.path:\n",
    "    sys.path.append(module_path)\n",
    "\n",
    "from analysis_code.analyze_corpus import *"
   ]
  },
  {
   "cell_type": "code",
   "execution_count": 2,
   "metadata": {},
   "outputs": [],
   "source": [
    "plt.rcParams.update({'font.size': 11})\n",
    "barwidth = 0.8"
   ]
  },
  {
   "cell_type": "code",
   "execution_count": 3,
   "metadata": {},
   "outputs": [],
   "source": [
    "example = '/home/dashi/lulu/corpus/Reuters21578/examples/sample.sgm'\n",
    "exampleOut = '/home/dashi/lulu/corpus/Reuters21578/examples/out.sgm'\n",
    "\n",
    "'''converted articles'''\n",
    "articleData = '/home/dashi/lulu/corpus/Reuters21578/reuter-article.txt'\n",
    "articleDir = '/home/dashi/lulu/corpus/Reuters21578/Reuters-articles/'\n",
    "\n",
    "'''sgm '''\n",
    "dataDir = '/home/dashi/lulu/corpus/Reuters21578/Reuters-data/'\n",
    "breakDir = '/home/dashi/lulu/corpus/Reuters21578/Reuters21578-break/'\n",
    "\n",
    "'''converted articles so that each txt per article''' \n",
    "sampleDir = '/home/dashi/lulu/corpus/Reuters21578/sample/'\n",
    "articleBreakDir = '/home/dashi/lulu/corpus/Reuters21578/Reuters-artbreak/'"
   ]
  },
  {
   "cell_type": "code",
   "execution_count": 4,
   "metadata": {},
   "outputs": [],
   "source": [
    "nlp = spacy.load('en_core_web_md')\n",
    "emos = loadEmotionWords('/home/dashi/lulu/corpus/NRC-Emotion-Lexicon-v0.92/Generated-EmotionWords.txt')"
   ]
  },
  {
   "cell_type": "code",
   "execution_count": null,
   "metadata": {},
   "outputs": [],
   "source": [
    "parsed_text = 'This is an awesome sentence. Where is the cat?'\n",
    "doc = nlp(parsed_text)\n",
    "counter = analyzePOS(doc)\n",
    "print(counter)"
   ]
  },
  {
   "cell_type": "code",
   "execution_count": null,
   "metadata": {},
   "outputs": [],
   "source": [
    "filename = '/home/luluvyd/examples/data/example_out.json'\n",
    "with open(filename, 'w+') as f:\n",
    "    json.dump(counter, f)"
   ]
  },
  {
   "cell_type": "code",
   "execution_count": null,
   "metadata": {},
   "outputs": [],
   "source": [
    "parsed_text = 'This is an awesome sentence. Where is the cat?'\n",
    "doc = nlp(parsed_text)\n",
    "counter = analyzeSentence(doc)\n",
    "print(counter)"
   ]
  },
  {
   "cell_type": "code",
   "execution_count": null,
   "metadata": {},
   "outputs": [],
   "source": [
    "parsed_text = 'This is an awesome sentence. Where is the cat?'\n",
    "doc = nlp(parsed_text)\n",
    "counter = analyzeWordLength(doc)\n",
    "print(counter)"
   ]
  },
  {
   "cell_type": "code",
   "execution_count": null,
   "metadata": {},
   "outputs": [],
   "source": [
    "parsed_text = 'This is an awesome sentence. Where is the cat?'\n",
    "doc = nlp(parsed_text)\n",
    "counter = analyzePunctuation(doc)\n",
    "print(counter)"
   ]
  },
  {
   "cell_type": "code",
   "execution_count": null,
   "metadata": {},
   "outputs": [],
   "source": [
    "parsed_text = 'This is an awesome sentence. Where is the cat?'\n",
    "doc = nlp(parsed_text)\n",
    "counterPos = analyzePOS(doc)\n",
    "counterPunc = analyzePunctuation(doc)\n",
    "print(sumCounter(counterPunc) / sumCounter(counterPos)) "
   ]
  },
  {
   "cell_type": "code",
   "execution_count": null,
   "metadata": {},
   "outputs": [],
   "source": [
    "parsed_text = 'This is an awesome sentence. My is better. Their food is worse. It is it. Who is good? What is in him?'\n",
    "doc = nlp(parsed_text)\n",
    "counterPunc = analyzePronoun(doc)\n",
    "print(counterPunc) "
   ]
  },
  {
   "cell_type": "code",
   "execution_count": null,
   "metadata": {},
   "outputs": [],
   "source": [
    "parsed_text = 'This is an awesome sentence. My is better. Their food is worse. It is it. Who is good? What is in him?'\n",
    "doc = nlp(parsed_text)\n",
    "counterPRP = analyzePronounPRP(doc)\n",
    "print(counterPRP) "
   ]
  },
  {
   "cell_type": "code",
   "execution_count": null,
   "metadata": {},
   "outputs": [],
   "source": [
    "parsed_text = 'This is an awesome sentence. My is better. Their food is worse. It is it. Who is good? What is in him?'\n",
    "doc = nlp(parsed_text)\n",
    "counterPRPD = analyzePronounPRPD(doc)\n",
    "print(counterPRPD) "
   ]
  },
  {
   "cell_type": "code",
   "execution_count": null,
   "metadata": {},
   "outputs": [],
   "source": [
    "parsed_text = 'This is an awesome sentence. My is better. Their food is worse. It is it. Who is good? What is in him?'\n",
    "doc = nlp(parsed_text)\n",
    "counterPWP = analyzePronounWP(doc)\n",
    "print(counterPWP) "
   ]
  },
  {
   "cell_type": "code",
   "execution_count": null,
   "metadata": {},
   "outputs": [],
   "source": [
    "parsed_text = 'This is an awesome sentence. My is better. Their food is worse. It is it. Who is good? What is in him?'\n",
    "doc = nlp(parsed_text)\n",
    "counterPWPD = analyzePronounWPD(doc)\n",
    "print(counterPWPD) "
   ]
  },
  {
   "cell_type": "code",
   "execution_count": null,
   "metadata": {},
   "outputs": [],
   "source": [
    "parsed_text = 'This is an awesome sentence. My is better. Their food is worse. It is it. Who is good? What is in him?'\n",
    "doc = nlp(parsed_text)\n",
    "counterPCat = analyzePronounCategories(doc)\n",
    "print(counterPCat) "
   ]
  },
  {
   "cell_type": "code",
   "execution_count": null,
   "metadata": {},
   "outputs": [],
   "source": [
    "parsed_text = 'This is an awesome sentence. I am running. It rains.'\n",
    "doc = nlp(parsed_text)\n",
    "counterVerb = analyzeVerb(doc)\n",
    "print(counterVerb) "
   ]
  },
  {
   "cell_type": "code",
   "execution_count": null,
   "metadata": {},
   "outputs": [],
   "source": [
    "labels, values = rankCounter(counter)\n",
    "indexes = np.arange(len(labels))\n",
    "width = 1\n",
    "plt.bar(indexes, values, width)\n",
    "plt.xticks(indexes + width * 0.5, labels)\n",
    "plt.show()"
   ]
  },
  {
   "cell_type": "code",
   "execution_count": null,
   "metadata": {},
   "outputs": [],
   "source": [
    "labels, values = rankCounter(counter)\n",
    "indexes = np.arange(len(labels))\n",
    "width = 1\n",
    "plt.bar(indexes, values, width)\n",
    "plt.xticks(indexes + width * 0.5, labels)\n",
    "plt.show()"
   ]
  },
  {
   "cell_type": "code",
   "execution_count": null,
   "metadata": {},
   "outputs": [],
   "source": [
    "if __name__ == \"__main__\":  \n",
    "    with open(filename, 'r') as f:\n",
    "        text = f.read()\n",
    "        nlp = spacy.load('en_core_web_md')\n",
    "        doc = nlp(text)\n",
    "        counter = analyzePOS(doc)\n",
    "        \n",
    "        plt.figure(num=None, figsize=(20, 6), dpi=80, facecolor='w', edgecolor='k')\n",
    "\n",
    "        labels, values = rankCounter(counter)\n",
    "        indexes = np.arange(len(labels))\n",
    "        width = 1\n",
    "        plt.bar(indexes, values, width)\n",
    "        plt.xticks(indexes + width * 0.5, labels)\n",
    "        plt.show()\n",
    "    f.close()\n",
    "                \n"
   ]
  },
  {
   "cell_type": "code",
   "execution_count": null,
   "metadata": {},
   "outputs": [],
   "source": [
    "'''\n",
    "POS histogram\n",
    "error: doc input string cannot succeed 1 million characters\n",
    "problem: iterating over text is too slow, parallelize\n",
    "'''\n",
    "\n",
    "# read_files = glob.glob(\"/home/luluvyd/corpus/aclImdb/train/pos/*.txt\")\n",
    "read_files = glob.glob(directory + '*.txt')\n",
    "\n",
    "counter = Counter('')\n",
    "i = 0\n",
    "\n",
    "for infile in read_files:\n",
    "    print('i : ' + str(i))\n",
    "    with open(infile, 'r', errors='replace') as f:\n",
    "        text = f.read()\n",
    "        doc = nlp(text)\n",
    "        counter = analyzePOS(doc)\n",
    "        i += 1\n",
    "        \n",
    "        \n",
    "plt.figure(num=None, figsize=(20, 6), dpi=80, facecolor='w', edgecolor='k')\n",
    "labels, values = rankCounter(counter)\n",
    "indexes = np.arange(len(labels))\n",
    "width = 1\n",
    "plt.bar(indexes, values, width)\n",
    "plt.xticks(indexes + width * 0.5, labels)\n",
    "plt.show()"
   ]
  },
  {
   "cell_type": "code",
   "execution_count": null,
   "metadata": {},
   "outputs": [],
   "source": [
    "'''\n",
    "Sentence length histogram\n",
    "error: doc input string cannot succeed 1 million characters\n",
    "problem: non-edited opinion text can have long and publish unaccepted sentence structures\n",
    "'''\n",
    "\n",
    "# read_files = glob.glob(\"/home/luluvyd/corpus/aclImdb/train/pos/*.txt\")\n",
    "read_files = glob.glob(directory + '*.txt')\n",
    "\n",
    "counter = Counter('')\n",
    "i = 0\n",
    "\n",
    "for infile in read_files:\n",
    "    print('i : ' + str(i))\n",
    "    with open(infile, 'r', errors='replace') as f:\n",
    "        text = f.read()\n",
    "        doc = nlp(text)\n",
    "        counter += analyzeSentence(doc) \n",
    "        i += 1\n",
    "        \n",
    "        \n",
    "plt.figure(num=None, figsize=(20, 6), dpi=80, facecolor='w', edgecolor='k')\n",
    "labels, values = rankCounter(counter)\n",
    "indexes = np.arange(len(labels))\n",
    "width = 1\n",
    "plt.bar(indexes, values, width)\n",
    "plt.xticks(indexes + width * 0.5, labels)\n",
    "plt.show()"
   ]
  },
  {
   "cell_type": "code",
   "execution_count": null,
   "metadata": {},
   "outputs": [],
   "source": [
    "'''\n",
    "Word lengths histogram \n",
    "error: doc input string cannot succeed 1 million characters\n",
    "'''\n",
    "\n",
    "# read_files = glob.glob(\"/home/luluvyd/corpus/aclImdb/train/pos/*.txt\")\n",
    "read_files = glob.glob(directory + '*.txt')\n",
    "\n",
    "counterWord = Counter('')\n",
    "i = 0\n",
    "\n",
    "for infile in read_files:\n",
    "    print('i : ' + str(i))\n",
    "    with open(infile, 'r', errors='replace') as f:\n",
    "        text = f.read()\n",
    "        doc = nlp(text)\n",
    "        counterWord += analyzeWordLength(doc) \n",
    "        i += 1\n",
    "\n",
    "mean = sum([k*v for k, v in counterWord.items()]) / sumCounter(counterWord)\n",
    "print('average word lengths is : ' + str(mean))\n",
    "\n",
    "plt.figure(num=None, figsize=(20, 6), dpi=80, facecolor='w', edgecolor='k')\n",
    "labels, values = rankCounter(counterWord)\n",
    "indexes = np.arange(len(labels))\n",
    "width = 1\n",
    "plt.bar(indexes, values, width)\n",
    "plt.xticks(indexes + width * 0.5, labels)\n",
    "plt.show()\n",
    "\n",
    "counter"
   ]
  },
  {
   "cell_type": "code",
   "execution_count": null,
   "metadata": {},
   "outputs": [],
   "source": [
    "'''\n",
    "Punctuation histogram\n",
    "Percentage of punctuation out of total number of words\n",
    "'''\n",
    "\n",
    "# read_files = glob.glob(\"/home/luluvyd/corpus/aclImdb/train/pos/*.txt\")\n",
    "read_files = glob.glob(directory + '*.txt')\n",
    "\n",
    "counterPun = Counter('')\n",
    "i = 0\n",
    "\n",
    "for infile in read_files:\n",
    "    print('i : ' + str(i))\n",
    "    with open(infile, 'r', errors='replace') as f:\n",
    "        text = f.read()\n",
    "        doc = nlp(text)\n",
    "        counterPun += analyzePunctuation(doc) \n",
    "        i += 1\n",
    "pert = sumCounter(counterPun) / sumCounter(counterWord)*100\n",
    "print('percent of puncutation symbol is : ' + str(pert))\n",
    "        \n",
    "plt.figure(num=None, figsize=(20, 6), dpi=80, facecolor='w', edgecolor='k')\n",
    "labels, values = rankCounter(counterPun)\n",
    "indexes = np.arange(len(labels))\n",
    "width = 1\n",
    "plt.bar(indexes, values, width)\n",
    "plt.xticks(indexes + width * 0.5, labels)\n",
    "plt.show()"
   ]
  },
  {
   "cell_type": "code",
   "execution_count": null,
   "metadata": {},
   "outputs": [],
   "source": [
    "'''\n",
    "Punctuation histogram\n",
    "Percentage of punctuation out of total number of words\n",
    "'''\n",
    "read_files = glob.glob(directory + '*.txt')\n",
    "\n",
    "counterPron = Counter('')\n",
    "i = 0\n",
    "\n",
    "for infile in read_files:\n",
    "    print('i : ' + str(i))\n",
    "    with open(infile, 'r', errors='replace') as f:\n",
    "        text = f.read()\n",
    "        doc = nlp(text)\n",
    "        counterPron += analyzePronoun(doc) \n",
    "        i += 1\n",
    "    \n",
    "print(counterPron)\n",
    "plt.figure(num=None, figsize=(20, 6), dpi=80, facecolor='w', edgecolor='k')\n",
    "labels, values = rankCounter(counterPron)\n",
    "indexes = np.arange(len(labels))\n",
    "width = 1\n",
    "plt.bar(indexes, values, width)\n",
    "plt.xticks(indexes + width * 0.5, labels)\n",
    "plt.show()"
   ]
  },
  {
   "cell_type": "code",
   "execution_count": null,
   "metadata": {},
   "outputs": [],
   "source": [
    "'''\n",
    "Pronoun, personal histogram\n",
    "Percentage of punctuation out of total number of words\n",
    "'''\n",
    "read_files = glob.glob(directory + '*.txt')\n",
    "\n",
    "counterPronPRP = Counter('')\n",
    "i = 0\n",
    "\n",
    "for infile in read_files:\n",
    "    print('i : ' + str(i))\n",
    "    with open(infile, 'r', errors='replace') as f:\n",
    "        text = f.read()\n",
    "        doc = nlp(text)\n",
    "        counterPronPRP += analyzePronounPRP(doc) \n",
    "        i += 1\n",
    "    \n",
    "print(counterPron)\n",
    "plt.figure(num=None, figsize=(20, 6), dpi=80, facecolor='w', edgecolor='k')\n",
    "labels, values = rankCounter(counterPronPRP)\n",
    "indexes = np.arange(len(labels))\n",
    "width = 1\n",
    "plt.bar(indexes, values, width)\n",
    "plt.xticks(indexes + width * 0.5, labels)\n",
    "plt.show()"
   ]
  },
  {
   "cell_type": "code",
   "execution_count": null,
   "metadata": {},
   "outputs": [],
   "source": [
    "'''\n",
    "pronoun, possessive histogram\n",
    "Percentage of punctuation out of total number of words\n",
    "'''\n",
    "read_files = glob.glob(directory + '*.txt')\n",
    "\n",
    "counterPronPRPD = Counter('')\n",
    "i = 0\n",
    "\n",
    "for infile in read_files:\n",
    "    print('i : ' + str(i))\n",
    "    with open(infile, 'r', errors='replace') as f:\n",
    "        text = f.read()\n",
    "        doc = nlp(text)\n",
    "        counterPronPRPD += analyzePronounPRPD(doc) \n",
    "        i += 1\n",
    "    \n",
    "print(counterPronPRPD)\n",
    "plt.figure(num=None, figsize=(20, 6), dpi=80, facecolor='w', edgecolor='k')\n",
    "labels, values = rankCounter(counterPronPRPD)\n",
    "indexes = np.arange(len(labels))\n",
    "width = 1\n",
    "plt.bar(indexes, values, width)\n",
    "plt.xticks(indexes + width * 0.5, labels)\n",
    "plt.show()"
   ]
  },
  {
   "cell_type": "code",
   "execution_count": null,
   "metadata": {},
   "outputs": [],
   "source": [
    "'''\n",
    "pronoun, possessive histogram\n",
    "Percentage of punctuation out of total number of words\n",
    "'''\n",
    "read_files = glob.glob(directory + '*.txt')\n",
    "\n",
    "counterPronWP = Counter('')\n",
    "i = 0\n",
    "\n",
    "for infile in read_files:\n",
    "    print('i : ' + str(i))\n",
    "    with open(infile, 'r', errors='replace') as f:\n",
    "        text = f.read()\n",
    "        doc = nlp(text)\n",
    "        counterPronWP += analyzePronounWP(doc) \n",
    "        i += 1\n",
    "    \n",
    "print(counterPronWP)\n",
    "plt.figure(num=None, figsize=(20, 6), dpi=80, facecolor='w', edgecolor='k')\n",
    "labels, values = rankCounter(counterPronWP)\n",
    "indexes = np.arange(len(labels))\n",
    "width = 1\n",
    "plt.bar(indexes, values, width)\n",
    "plt.xticks(indexes + width * 0.5, labels)\n",
    "plt.show()"
   ]
  },
  {
   "cell_type": "code",
   "execution_count": null,
   "metadata": {},
   "outputs": [],
   "source": [
    "'''\n",
    "wh-pronoun, possessive histogram\n",
    "Percentage of punctuation out of total number of words\n",
    "'''\n",
    "read_files = glob.glob(directory + '*.txt')\n",
    "\n",
    "counterPronWPD = Counter('')\n",
    "i = 0\n",
    "\n",
    "for infile in read_files:\n",
    "    print('i : ' + str(i))\n",
    "    with open(infile, 'r', errors='replace') as f:\n",
    "        text = f.read()\n",
    "        doc = nlp(text)\n",
    "        counterPronWPD += analyzePronounWPD(doc) \n",
    "        i += 1\n",
    "    \n",
    "print(counterPronWPD)\n",
    "plt.figure(num=None, figsize=(20, 6), dpi=80, facecolor='w', edgecolor='k')\n",
    "labels, values = rankCounter(counterPronWPD)\n",
    "if labels and values:\n",
    "    indexes = np.arange(len(labels))\n",
    "    width = 1\n",
    "    plt.bar(indexes, values, width)\n",
    "    plt.xticks(indexes + width * 0.5, labels)\n",
    "    plt.show()"
   ]
  },
  {
   "cell_type": "code",
   "execution_count": null,
   "metadata": {},
   "outputs": [],
   "source": [
    "'''\n",
    "4 pronoun categories histogram\n",
    "Percentage of punctuation out of total number of words\n",
    "'''\n",
    "read_files = glob.glob(directory + '*.txt')\n",
    "\n",
    "counterPronCat = Counter('')\n",
    "i = 0\n",
    "\n",
    "for infile in read_files:\n",
    "    print('i : ' + str(i))\n",
    "    with open(infile, 'r', errors='replace') as f:\n",
    "        text = f.read()\n",
    "        doc = nlp(text)\n",
    "        counterPronCat += analyzePronounCategories(doc) \n",
    "        i += 1\n",
    "    \n",
    "print(counterPronCat)\n",
    "plt.figure(num=None, figsize=(20, 6), dpi=80, facecolor='w', edgecolor='k')\n",
    "labels, values = rankCounter(counterPronCat)\n",
    "indexes = np.arange(len(labels))\n",
    "width = 1\n",
    "plt.bar(indexes, values, width)\n",
    "plt.xticks(indexes + width * 0.5, labels)\n",
    "plt.show()"
   ]
  },
  {
   "cell_type": "code",
   "execution_count": null,
   "metadata": {},
   "outputs": [],
   "source": [
    "'''\n",
    "Verb root words histogram\n",
    "'''\n",
    "read_files = glob.glob(directory + '*.txt')\n",
    "\n",
    "counterVerbRoot = Counter('')\n",
    "i = 0\n",
    "\n",
    "for infile in read_files:\n",
    "    print('i : ' + str(i))\n",
    "    with open(infile, 'r', errors='replace') as f:\n",
    "        text = f.read()\n",
    "        doc = nlp(text)\n",
    "        counterVerbRoot += analyzeVerb(doc) \n",
    "        i += 1\n",
    "    \n",
    "print(counterVerbRoot)\n",
    "plt.figure(num=None, figsize=(20, 6), dpi=80, facecolor='w', edgecolor='k')\n",
    "labels, values = rankCounter(counterVerbRoot)\n",
    "indexes = np.arange(len(labels))\n",
    "width = 1\n",
    "plt.bar(indexes, values, width)\n",
    "plt.xticks(indexes + width * 0.5, labels)\n",
    "plt.show()"
   ]
  },
  {
   "cell_type": "code",
   "execution_count": 5,
   "metadata": {},
   "outputs": [],
   "source": [
    "'''\n",
    "Emotion words histogram\n",
    "'''  \n",
    "read_files = glob.glob(articleBreakDir + '*.txt')\n",
    "N = len(read_files)\n",
    "countersEmos, sizesEmos = docTermFreq(read_files, emos)"
   ]
  },
  {
   "cell_type": "code",
   "execution_count": 6,
   "metadata": {},
   "outputs": [
    {
     "name": "stdout",
     "output_type": "stream",
     "text": [
      "19000\n",
      "19000\n"
     ]
    },
    {
     "data": {
      "image/png": "[encoded data removed]",
      "text/plain": [
       "<Figure size 1600x480 with 1 Axes>"
      ]
     },
     "metadata": {},
     "output_type": "display_data"
    }
   ],
   "source": [
    "print(len(countersEmos))\n",
    "print(len(sizesEmos))\n",
    "\n",
    "plt.figure(num=None, figsize=(20, 6), dpi=80, facecolor='w', edgecolor='k')\n",
    "labels, values = rankCounter(countersEmos[1])\n",
    "values = [v*1.0/sizesEmos[1] for v in values]\n",
    "indexes = np.arange(len(labels)) \n",
    "plt.bar(indexes, values, barwidth)\n",
    "plt.xticks(indexes + barwidth * 0.5, labels)\n",
    "plt.show()"
   ]
  },
  {
   "cell_type": "code",
   "execution_count": 7,
   "metadata": {},
   "outputs": [],
   "source": [
    "tfsEmos = termFreq(countersEmos, sizesEmos)\n",
    "counterEmos, szEmos = docFreq(countersEmos)\n",
    "idfEmos = invDocFreq(counterEmos, szEmos)\n",
    "tiEmos = tfIdf(tfsEmos, idfEmos) "
   ]
  },
  {
   "cell_type": "code",
   "execution_count": 9,
   "metadata": {},
   "outputs": [
    {
     "name": "stdout",
     "output_type": "stream",
     "text": [
      "18999\n"
     ]
    },
    {
     "data": {
      "image/png": "[encoded data removed]",
      "text/plain": [
       "<Figure size 1600x480 with 1 Axes>"
      ]
     },
     "metadata": {},
     "output_type": "display_data"
    }
   ],
   "source": [
    "print(len(tiEmos)) \n",
    "d = sortByValue(tiEmos[1])\n",
    "plt.figure(num=None, figsize=(20, 6), dpi=80, facecolor='w', edgecolor='k')\n",
    "labels, values = list(d.keys())[:20], list(d.values())[:20]\n",
    "indexes = np.arange(len(labels)) \n",
    "plt.bar(indexes, values, barwidth)\n",
    "plt.xticks(indexes + barwidth * 0.5, labels)\n",
    "plt.show()"
   ]
  },
  {
   "cell_type": "code",
   "execution_count": 10,
   "metadata": {},
   "outputs": [
    {
     "data": {
      "image/png": "[encoded data removed]",
      "text/plain": [
       "<Figure size 1600x480 with 1 Axes>"
      ]
     },
     "metadata": {},
     "output_type": "display_data"
    }
   ],
   "source": [
    "N = len(read_files) \n",
    "plt.figure(num=None, figsize=(20, 6), dpi=80, facecolor='w', edgecolor='k')\n",
    "result = {k: v for k, v in sorted(idfEmos.items(), key=lambda item: item[1])}\n",
    "labels = list(result.keys())[:20]\n",
    "values = list(result.values())[:20]\n",
    "indexes = np.arange(len(labels)) \n",
    "plt.bar(indexes, values, barwidth)\n",
    "plt.xticks(indexes + barwidth * 0.5, labels)\n",
    "plt.show()"
   ]
  },
  {
   "cell_type": "code",
   "execution_count": 11,
   "metadata": {},
   "outputs": [
    {
     "name": "stdout",
     "output_type": "stream",
     "text": [
      "163259\n",
      "27212\n",
      "39942\n"
     ]
    }
   ],
   "source": [
    "'''\n",
    "Verb category histogram\n",
    "'''\n",
    "read_files = glob.glob(articleBreakDir + '*.txt')\n",
    "\n",
    "i = 0\n",
    "countersAct = []\n",
    "countersLink = []\n",
    "countersHelp = [] \n",
    "countersHM = []\n",
    "\n",
    "szAct = []\n",
    "szLink = []\n",
    "szHelp = []\n",
    "szHM = []\n",
    "\n",
    "for infile in read_files:\n",
    "    with open(infile, 'r', errors='replace') as f:\n",
    "        text = f.read()\n",
    "        doc = nlp(text)\n",
    "        a, b, c, d = analyzeVerbs(doc) \n",
    "        countersAct.append(a)\n",
    "        countersLink.append(b) \n",
    "        countersHelp.append(c) \n",
    "        countersHM.append(d) \n",
    "        \n",
    "        szAct.append(sum(a.values()))\n",
    "        szLink.append(sum(b.values()))\n",
    "        szHelp.append(sum(c.values()))\n",
    "        szHM.append(sum(d.values()))\n",
    "        \n",
    "print(sum(np.array(szAct)))\n",
    "print(sum(np.array(szLink)))\n",
    "print(sum(np.array(szHelp)))"
   ]
  },
  {
   "cell_type": "code",
   "execution_count": 13,
   "metadata": {},
   "outputs": [
    {
     "data": {
      "image/png": "[encoded data removed]",
      "text/plain": [
       "<Figure size 320x240 with 1 Axes>"
      ]
     },
     "metadata": {},
     "output_type": "display_data"
    }
   ],
   "source": [
    "x = np.array([sum(np.array(szAct)), sum(np.array(szLink)), sum(np.array(szHelp))])\n",
    "values = x\n",
    "# values = x*1.0/sum(x)\n",
    "labels = [\"action\", \"linking\", \"helping\"]\n",
    "indexes = np.arange(len(labels))\n",
    "plt.figure(num=None, figsize=(4, 3), dpi=80, facecolor='w', edgecolor='k') \n",
    "plt.bar(indexes, values, barwidth)\n",
    "plt.xticks(indexes + barwidth * 0.1, labels)\n",
    "plt.show()"
   ]
  },
  {
   "cell_type": "code",
   "execution_count": 14,
   "metadata": {},
   "outputs": [],
   "source": [
    "'''\n",
    "Pronoun histogram\n",
    "Percentage of punctuation out of total number of words\n",
    "'''\n",
    "read_files = glob.glob(articleBreakDir + '*.txt')\n",
    "counterPron = Counter('') \n",
    "\n",
    "for infile in read_files: \n",
    "    with open(infile, 'r', errors='replace') as f:\n",
    "        text = f.read()\n",
    "        doc = nlp(text)\n",
    "        counterPron += analyzePronoun(doc)  "
   ]
  },
  {
   "cell_type": "code",
   "execution_count": 15,
   "metadata": {},
   "outputs": [
    {
     "data": {
      "image/png": "[encoded data removed]",
      "text/plain": [
       "<Figure size 1600x480 with 1 Axes>"
      ]
     },
     "metadata": {},
     "output_type": "display_data"
    }
   ],
   "source": [
    "plt.figure(num=None, figsize=(20, 6), dpi=80, facecolor='w', edgecolor='k')\n",
    "labels, values = rankCounter(counterPron)\n",
    "values = np.array(values)*1.0/sum(counterPron.values())\n",
    "indexes = np.arange(len(labels)) \n",
    "plt.bar(indexes, values, barwidth)\n",
    "plt.xticks(indexes + barwidth * 0.5, labels)\n",
    "plt.show()"
   ]
  },
  {
   "cell_type": "code",
   "execution_count": 17,
   "metadata": {},
   "outputs": [
    {
     "data": {
      "image/png": "[encoded data removed]",
      "text/plain": [
       "<Figure size 1600x480 with 1 Axes>"
      ]
     },
     "metadata": {},
     "output_type": "display_data"
    }
   ],
   "source": [
    "N = len(read_files)\n",
    "counterPronIdf = invDocFreq(counterPron, N)\n",
    "plt.figure(num=None, figsize=(20, 6), dpi=80, facecolor='w', edgecolor='k')\n",
    "result = {k: v for k, v in sorted(counterPronIdf.items(), key=lambda item: item[1])}\n",
    "labels = list(result.keys())[:20]\n",
    "values = list(result.values())[:20]\n",
    "indexes = np.arange(len(labels)) \n",
    "plt.bar(indexes, values, barwidth)\n",
    "plt.xticks(indexes + barwidth * 0.5, labels)\n",
    "plt.show()"
   ]
  },
  {
   "cell_type": "code",
   "execution_count": null,
   "metadata": {},
   "outputs": [],
   "source": [
    "'''\n",
    "Score emotion words histogram\n",
    "'''\n",
    "counterEmos = Counter('')\n",
    "i = 0\n",
    "\n",
    "with open(articleData, 'r', errors='replace') as f:\n",
    "    text = f.read()\n",
    "    doc = nlp(text)\n",
    "    counterEmos += scoreEmos(emos) \n",
    "    i += 1\n",
    "    \n",
    "print(counterEmos)\n",
    "plt.figure(num=None, figsize=(20, 6), dpi=80, facecolor='w', edgecolor='k')\n",
    "labels, values = rankCounter(counterEmos)\n",
    "indexes = np.arange(len(labels)) \n",
    "plt.bar(indexes, values, barwidth)\n",
    "plt.xticks(indexes + width * 0.5, labels)\n",
    "plt.show()"
   ]
  },
  {
   "cell_type": "code",
   "execution_count": null,
   "metadata": {},
   "outputs": [],
   "source": [
    "'''\n",
    "Corpus : break-up cmu movie view file\n",
    "'''\n",
    "scores = []\n",
    "with open(filename, 'r', errors='replace') as f:\n",
    "    r = scoreArticle(f, emos)\n",
    "    scores += r"
   ]
  }
 ],
 "metadata": {
  "anaconda-cloud": {},
  "kernelspec": {
   "display_name": "Python 3",
   "language": "python",
   "name": "python3"
  },
  "language_info": {
   "codemirror_mode": {
    "name": "ipython",
    "version": 3
   },
   "file_extension": ".py",
   "mimetype": "text/x-python",
   "name": "python",
   "nbconvert_exporter": "python",
   "pygments_lexer": "ipython3",
   "version": "3.7.4"
  }
 },
 "nbformat": 4,
 "nbformat_minor": 1
}
