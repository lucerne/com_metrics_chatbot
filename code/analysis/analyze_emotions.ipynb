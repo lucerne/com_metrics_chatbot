{
 "cells": [
  {
   "cell_type": "code",
   "execution_count": 1,
   "metadata": {
    "collapsed": true
   },
   "outputs": [],
   "source": [
    "import spacy\n",
    "import numpy as np\n",
    "import matplotlib.pyplot as plt\n",
    "import glob\n",
    "import re\n",
    "from collections import Counter\n",
    "from collections import defaultdict\n",
    "import numpy as np\n",
    "import matplotlib.pyplot as plt\n",
    "\n",
    "import os\n",
    "import sys\n",
    "module_path = os.path.abspath(os.path.join('..'))\n",
    "if module_path not in sys.path:\n",
    "    sys.path.append(module_path)\n",
    "\n",
    "from analysis_code.analyze_corpus import *"
   ]
  },
  {
   "cell_type": "code",
   "execution_count": 2,
   "metadata": {
    "collapsed": true
   },
   "outputs": [],
   "source": [
    "Directory = '/home/luluvyd/corpus/NRC-Emotion-Lexicon-v0.92/'\n",
    "# Each line has the following format:\n",
    "# <term>--<NearSynonyms><tab><AffectCategory><tab><AssociationFlag>\n",
    "# <term> is a word for which emotion associations are provided;\n",
    "# <NearSynonyms> is a set of one to three comma-separated words that indicate the sense of the <term>. The affect annotations are for this sense of the term.\n",
    "# <AffectCategory> is one of eight emotions (anger, fear, anticipation, trust, surprise, sadness, joy, or disgust) or one of two polarities (negative or positive);\n",
    "# <AssociationFlag> has one of two possible values: 0 or 1. 0 indicates that the target word has no association with affect category, whereas 1 indicates an association.\n",
    "WordSenseFile = 'NRC-Emotion-Lexicon-Senselevel-v0.92.txt'\n",
    "# Each line has the following format:\n",
    "# <term><tab><AffectCategory><tab><AssociationFlag>\n",
    "# <term> is a word for which emotion associations are provided;\n",
    "# <AffectCategory> is one of eight emotions (anger, fear, anticipation, trust, surprise, sadness, joy, or disgust) or one of two polarities (negative or positive);\n",
    "# <AssociationFlag> has one of two possible values: 0 or 1. 0 indicates that the target word has no association with affect category, whereas 1 indicates an association.\n",
    "WordFile = 'NRC-Emotion-Lexicon-Wordlevel-v0.92.txt'\n",
    "\n",
    "outFile ='Generated-EmotionWords.txt'"
   ]
  },
  {
   "cell_type": "code",
   "execution_count": 3,
   "metadata": {
    "collapsed": false
   },
   "outputs": [],
   "source": [
    "def processSenseFile(filename):\n",
    "    '''\n",
    "    input : sense file\n",
    "    return : set of emotion words\n",
    "    '''\n",
    "    emotionWords = set([])\n",
    "    with open(filename, 'r', errors='replace') as f:\n",
    "        line = f.readline()\n",
    "        while line:\n",
    "            words = line.strip().split()\n",
    "            if len(words) == 5: \n",
    "                category = words[3]\n",
    "                sentiment = words[4]\n",
    "                word = re.split(r'(\\W+)', words[0])[0]\n",
    "                if ('positive' == category or 'negative' == category) and ('1' == sentiment):\n",
    "                    emotionWords.add(word)\n",
    "            line = f.readline()            \n",
    "    return emotionWords\n",
    "\n",
    "def processWordFile(filename):\n",
    "    '''\n",
    "    input : word file \n",
    "    return : set of emotion words\n",
    "    '''\n",
    "    emotionWords = set([])\n",
    "    with open(filename, 'r', errors='replace') as f:\n",
    "        line = f.readline()\n",
    "        while line:\n",
    "            words = line.strip().split()\n",
    "            if len(words) == 3: \n",
    "                word = words[0]\n",
    "                category = words[1]\n",
    "                sentiment = words[2]\n",
    "                if ('positive' == category or 'negative' == category) and ('1' == sentiment):\n",
    "                    emotionWords.add(word)\n",
    "            line = f.readline()            \n",
    "    return emotionWords\n"
   ]
  },
  {
   "cell_type": "code",
   "execution_count": 4,
   "metadata": {
    "collapsed": false
   },
   "outputs": [
    {
     "ename": "FileNotFoundError",
     "evalue": "[Errno 2] No such file or directory: '/home/luluvyd/corpus/NRC-Emotion-Lexicon-v0.92/NRC-example_1.txt'",
     "output_type": "error",
     "traceback": [
      "\u001b[0;31m---------------------------------------------------------------------------\u001b[0m",
      "\u001b[0;31mFileNotFoundError\u001b[0m                         Traceback (most recent call last)",
      "\u001b[0;32m<ipython-input-4-ddcfee855506>\u001b[0m in \u001b[0;36m<module>\u001b[0;34m()\u001b[0m\n\u001b[1;32m      3\u001b[0m '''\n\u001b[1;32m      4\u001b[0m \u001b[0;31m# file1 = Directory + WordSenseFile\u001b[0m\u001b[0;34m\u001b[0m\u001b[0;34m\u001b[0m\u001b[0m\n\u001b[0;32m----> 5\u001b[0;31m \u001b[0mwords\u001b[0m \u001b[0;34m=\u001b[0m \u001b[0mprocessSenseFile\u001b[0m\u001b[0;34m(\u001b[0m\u001b[0mDirectory\u001b[0m \u001b[0;34m+\u001b[0m \u001b[0;34m'NRC-example_1.txt'\u001b[0m\u001b[0;34m)\u001b[0m\u001b[0;34m\u001b[0m\u001b[0m\n\u001b[0m\u001b[1;32m      6\u001b[0m \u001b[0mprint\u001b[0m\u001b[0;34m(\u001b[0m\u001b[0mwords\u001b[0m\u001b[0;34m)\u001b[0m\u001b[0;34m\u001b[0m\u001b[0m\n",
      "\u001b[0;32m<ipython-input-3-b08a21c24e21>\u001b[0m in \u001b[0;36mprocessSenseFile\u001b[0;34m(filename)\u001b[0m\n\u001b[1;32m      5\u001b[0m     '''\n\u001b[1;32m      6\u001b[0m     \u001b[0memotionWords\u001b[0m \u001b[0;34m=\u001b[0m \u001b[0mset\u001b[0m\u001b[0;34m(\u001b[0m\u001b[0;34m[\u001b[0m\u001b[0;34m]\u001b[0m\u001b[0;34m)\u001b[0m\u001b[0;34m\u001b[0m\u001b[0m\n\u001b[0;32m----> 7\u001b[0;31m     \u001b[0;32mwith\u001b[0m \u001b[0mopen\u001b[0m\u001b[0;34m(\u001b[0m\u001b[0mfilename\u001b[0m\u001b[0;34m,\u001b[0m \u001b[0;34m'r'\u001b[0m\u001b[0;34m,\u001b[0m \u001b[0merrors\u001b[0m\u001b[0;34m=\u001b[0m\u001b[0;34m'replace'\u001b[0m\u001b[0;34m)\u001b[0m \u001b[0;32mas\u001b[0m \u001b[0mf\u001b[0m\u001b[0;34m:\u001b[0m\u001b[0;34m\u001b[0m\u001b[0m\n\u001b[0m\u001b[1;32m      8\u001b[0m         \u001b[0mline\u001b[0m \u001b[0;34m=\u001b[0m \u001b[0mf\u001b[0m\u001b[0;34m.\u001b[0m\u001b[0mreadline\u001b[0m\u001b[0;34m(\u001b[0m\u001b[0;34m)\u001b[0m\u001b[0;34m\u001b[0m\u001b[0m\n\u001b[1;32m      9\u001b[0m         \u001b[0;32mwhile\u001b[0m \u001b[0mline\u001b[0m\u001b[0;34m:\u001b[0m\u001b[0;34m\u001b[0m\u001b[0m\n",
      "\u001b[0;31mFileNotFoundError\u001b[0m: [Errno 2] No such file or directory: '/home/luluvyd/corpus/NRC-Emotion-Lexicon-v0.92/NRC-example_1.txt'"
     ]
    }
   ],
   "source": [
    "'''\n",
    "Create emotion word set, no associations, feelings, or sentiment categories\n",
    "'''\n",
    "# file1 = Directory + WordSenseFile\n",
    "words = processSenseFile(Directory + 'NRC-example_1.txt')\n",
    "print(words)"
   ]
  },
  {
   "cell_type": "code",
   "execution_count": 7,
   "metadata": {
    "collapsed": false
   },
   "outputs": [
    {
     "name": "stdout",
     "output_type": "stream",
     "text": [
      "{'abandon'}\n"
     ]
    }
   ],
   "source": [
    "'''\n",
    "Create emotion word set, no associations, feelings, or sentiment categories\n",
    "'''\n",
    "words = processWordFile(Directory + 'NRC-example_2.txt')\n",
    "print(words)"
   ]
  },
  {
   "cell_type": "code",
   "execution_count": 8,
   "metadata": {
    "collapsed": false
   },
   "outputs": [
    {
     "name": "stdout",
     "output_type": "stream",
     "text": [
      "number of emotion words : 1900\n",
      "first 10 words : ['inclement', 'sage', 'flap', 'desiring', 'essential', 'pharmaceutical', 'haunt', 'unique', 'muddle', 'enjoy']\n"
     ]
    }
   ],
   "source": [
    "senseWords = processSenseFile(Directory + WordSenseFile)\n",
    "print('number of emotion words : ' + str(len(senseWords)))\n",
    "print('first 10 words : ' + str(list(senseWords)[0:10]))"
   ]
  },
  {
   "cell_type": "code",
   "execution_count": 9,
   "metadata": {
    "collapsed": false
   },
   "outputs": [
    {
     "name": "stdout",
     "output_type": "stream",
     "text": [
      "number of emotion words : 5555\n",
      "first 10 words : ['unique', 'vengeful', 'amusing', 'pay', 'informer', 'plight', 'overpaid', 'income', 'eagerness', 'knotted']\n"
     ]
    }
   ],
   "source": [
    "wordWords = processWordFile(Directory + WordFile)\n",
    "print('number of emotion words : ' + str(len(wordWords)))\n",
    "print('first 10 words : ' + str(list(wordWords)[0:10]))"
   ]
  },
  {
   "cell_type": "code",
   "execution_count": 10,
   "metadata": {
    "collapsed": false
   },
   "outputs": [
    {
     "data": {
      "text/plain": [
       "1894"
      ]
     },
     "execution_count": 10,
     "metadata": {},
     "output_type": "execute_result"
    }
   ],
   "source": [
    "len(senseWords & wordWords)"
   ]
  },
  {
   "cell_type": "code",
   "execution_count": 11,
   "metadata": {
    "collapsed": false
   },
   "outputs": [],
   "source": [
    "'''\n",
    "Use sense words only\n",
    "'''\n",
    "with open(Directory + outFile, \"w\") as outfile:\n",
    "    for w in senseWords:\n",
    "        outfile.write(w + '\\n') \n",
    "outfile.close()\n",
    "    "
   ]
  }
 ],
 "metadata": {
  "anaconda-cloud": {},
  "kernelspec": {
   "display_name": "Python [conda env:anaconda3]",
   "language": "python",
   "name": "conda-env-anaconda3-py"
  },
  "language_info": {
   "codemirror_mode": {
    "name": "ipython",
    "version": 3
   },
   "file_extension": ".py",
   "mimetype": "text/x-python",
   "name": "python",
   "nbconvert_exporter": "python",
   "pygments_lexer": "ipython3",
   "version": "3.5.2"
  }
 },
 "nbformat": 4,
 "nbformat_minor": 1
}
