{
 "cells": [
  {
   "cell_type": "code",
   "execution_count": 1,
   "metadata": {},
   "outputs": [],
   "source": [
    "import spacy\n",
    "import numpy as np\n",
    "import matplotlib.pyplot as plt\n",
    "import os\n",
    "import glob\n",
    "from xml.etree import cElementTree as ET\n",
    "import re\n",
    "import json\n",
    "from collections import Counter\n",
    "import os\n",
    "import sys\n",
    "module_path = os.path.abspath(os.path.join('..'))\n",
    "if module_path not in sys.path:\n",
    "    sys.path.append(module_path)\n",
    "\n",
    "from analysis_code.analyze_corpus import *"
   ]
  },
  {
   "cell_type": "code",
   "execution_count": 9,
   "metadata": {},
   "outputs": [],
   "source": [
    "'''json files'''\n",
    "exampleFile = '/home/dashi/lulu/corpus/gutenberg-poem/gutenberg-poetry-example.ndjson'\n",
    "corpus = '/home/dashi/lulu/corpus/gutenberg-poem/gutenberg-poetry-v001.ndjson'\n",
    "\n",
    "'''converted into txt articles'''\n",
    "sampleDir = '/home/dashi/lulu/corpus/gutenberg-poem/sample/' \n",
    "# articleDir = '/home/dashi/lulu/corpus/gutenberg-poem/gutenberg-break/part-3/'  \n",
    "articleBreakDir = '/home/dashi/lulu/corpus/gutenberg-poem/gutenberg-artbreak/'  \n"
   ]
  },
  {
   "cell_type": "code",
   "execution_count": 24,
   "metadata": {},
   "outputs": [
    {
     "name": "stdout",
     "output_type": "stream",
     "text": [
      "1191\n"
     ]
    }
   ],
   "source": [
    "read_files = glob.glob(articleBreakDir + '*.txt')\n",
    "N = len(read_files)\n",
    "print(N)"
   ]
  },
  {
   "cell_type": "code",
   "execution_count": 25,
   "metadata": {},
   "outputs": [],
   "source": [
    "filesizes = {}\n",
    "counterfs = Counter()\n",
    "for f in os.listdir(articleBreakDir):\n",
    "    s = os.path.getsize(articleBreakDir + f) \n",
    "    counterfs[s] += 1\n",
    "    filesizes[s] = s "
   ]
  },
  {
   "cell_type": "code",
   "execution_count": 27,
   "metadata": {},
   "outputs": [
    {
     "data": {
      "text/plain": [
       "(array([4.76392195e-09, 7.04231940e-09, 3.52115970e-09, 3.72828674e-09,\n",
       "        5.38530307e-09, 4.55679491e-09, 5.79955715e-09, 4.55679491e-09,\n",
       "        6.83519236e-09, 8.90646277e-09, 4.55679491e-09, 5.38530307e-09,\n",
       "        6.83519236e-09, 1.30490036e-08, 9.32071686e-09, 6.83519236e-09,\n",
       "        1.22204954e-08, 8.69933573e-09, 1.65701633e-08, 1.01492250e-08,\n",
       "        8.69933573e-09, 7.87082757e-09, 9.73497094e-09, 1.22204954e-08,\n",
       "        9.52784390e-09, 1.49131470e-08, 7.87082757e-09, 6.00668420e-09,\n",
       "        1.13919873e-08, 9.73497094e-09]),\n",
       " array([0.00000000e+00, 4.05369843e+06, 8.10739687e+06, 1.21610953e+07,\n",
       "        1.62147937e+07, 2.02684922e+07, 2.43221906e+07, 2.83758890e+07,\n",
       "        3.24295875e+07, 3.64832859e+07, 4.05369843e+07, 4.45906828e+07,\n",
       "        4.86443812e+07, 5.26980796e+07, 5.67517781e+07, 6.08054765e+07,\n",
       "        6.48591749e+07, 6.89128734e+07, 7.29665718e+07, 7.70202702e+07,\n",
       "        8.10739687e+07, 8.51276671e+07, 8.91813655e+07, 9.32350640e+07,\n",
       "        9.72887624e+07, 1.01342461e+08, 1.05396159e+08, 1.09449858e+08,\n",
       "        1.13503556e+08, 1.17557255e+08, 1.21610953e+08]),\n",
       " <a list of 30 Patch objects>)"
      ]
     },
     "execution_count": 27,
     "metadata": {},
     "output_type": "execute_result"
    },
    {
     "data": {
      "image/png": "[encoded data removed]",
      "text/plain": [
       "<Figure size 432x288 with 1 Axes>"
      ]
     },
     "metadata": {
      "needs_background": "light"
     },
     "output_type": "display_data"
    }
   ],
   "source": [
    "plt.hist(filesizes.values(), density=True, bins=30)  # `density=False` would make counts"
   ]
  },
  {
   "cell_type": "code",
   "execution_count": 10,
   "metadata": {},
   "outputs": [],
   "source": [
    "def breakFileSmart(infile, outdir, N = 20000): \n",
    "    '''\n",
    "    break a giant input file into small output files of size n articles \n",
    "    parameters : infile : file handler of a giant input file\n",
    "    i : i-th input file\n",
    "    n : number of articles in each output file\n",
    "    '''\n",
    "    line = infile.readline()\n",
    "    buffer = \"\"\n",
    "    curr = \"\"\n",
    "    j = 0 \n",
    "    pgid = -1\n",
    "    \n",
    "    while line:\n",
    "        res = json.loads(line) \n",
    "        c = res['s']\n",
    "        cgid = res['gid']\n",
    "        if (cgid != pgid): \n",
    "            pgid = cgid\n",
    "            if (len(curr) + len(buffer) >= N): \n",
    "                write_file = outdir + 'poem_' + str(j) + '.txt'\n",
    "                with open(write_file, \"w+\") as outfile:\n",
    "                    outfile.write(buffer) \n",
    "                outfile.close() \n",
    "                buffer = curr \n",
    "                j += 1\n",
    "            else:                 \n",
    "                buffer += curr\n",
    "                curr = \"\"\n",
    "        curr += c + ' '\n",
    "        line = infile.readline()\n",
    "    if buffer: \n",
    "        write_file = outdir + 'poem_' + str(j) + '.txt'\n",
    "        with open(write_file, \"w+\") as outfile:\n",
    "            outfile.write(buffer)\n",
    "        outfile.close()         \n",
    "\n",
    "def breakFile(infile, outdir, N = 15000): \n",
    "    '''\n",
    "    break a giant input file into small output files of size n articles \n",
    "    parameters : infile : file handler of a giant input file\n",
    "    i : i-th input file\n",
    "    n : number of articles in each output file\n",
    "    '''\n",
    "    line = infile.readline()\n",
    "    buffer = \"\"\n",
    "    curr = \"\"\n",
    "    j = 0 \n",
    "    i = 0\n",
    "    \n",
    "    while line:\n",
    "        res = json.loads(line) \n",
    "        c = res['s']\n",
    "        cgid = res['gid']\n",
    "        i += 1\n",
    "        if (i % N == 0): \n",
    "            write_file = outdir + '-' + str(j) + '.txt'\n",
    "            with open(write_file, \"w\") as outfile:\n",
    "                outfile.write(buffer) \n",
    "            outfile.close() \n",
    "            buffer = \"\"\n",
    "            j += 1 \n",
    "            print(i)\n",
    "        buffer += c + ' '\n",
    "        line = infile.readline()\n",
    "    if buffer: \n",
    "        write_file = outdir + '-' + str(j) + '.txt'\n",
    "        with open(write_file, \"w\") as outfile:\n",
    "            outfile.write(buffer)\n",
    "        outfile.close()       \n",
    "        \n",
    "def countFileSize(infile): \n",
    "    '''\n",
    "    break a giant input file into small output files of size n articles \n",
    "    parameters : infile : file handler of a giant input file\n",
    "    i : i-th input file\n",
    "    n : number of articles in each output file\n",
    "    '''\n",
    "    counter = {}\n",
    "    line = infile.readline()\n",
    "    pgid = -1\n",
    "    num = 0\n",
    "    \n",
    "    while line:\n",
    "        res = json.loads(line) \n",
    "        cgid = res['gid']\n",
    "        num += 1\n",
    "        if (cgid != pgid): \n",
    "            pgid = cgid\n",
    "            counter[num] = 1 if num not in counter else (counter[num] + 1)\n",
    "            num = 0\n",
    "        line = infile.readline()\n",
    "    if num > 0: \n",
    "        counter[num] = 1 if num not in counter else (counter[num] + 1)\n",
    "    return Counter(counter)"
   ]
  },
  {
   "cell_type": "code",
   "execution_count": null,
   "metadata": {},
   "outputs": [],
   "source": [
    "countArticleSize(sampleDir, articleBreakDir)"
   ]
  },
  {
   "cell_type": "code",
   "execution_count": null,
   "metadata": {},
   "outputs": [],
   "source": [
    "countArticleSize(articleDir, articleBreakDir)"
   ]
  },
  {
   "cell_type": "code",
   "execution_count": 11,
   "metadata": {},
   "outputs": [],
   "source": [
    "'''\n",
    "break-up reuter news files \n",
    "'''\n",
    "with open(corpus, 'r', errors='replace') as f:\n",
    "    breakFileSmart(f, articleBreakDir)\n",
    "f.close()"
   ]
  },
  {
   "cell_type": "code",
   "execution_count": 8,
   "metadata": {},
   "outputs": [
    {
     "name": "stdout",
     "output_type": "stream",
     "text": [
      "Counter({1: 2, 2: 2})\n"
     ]
    }
   ],
   "source": [
    "'''\n",
    "count file sizes\n",
    "'''\n",
    "with open(exampleFile, 'r', errors='replace') as f:\n",
    "    counter = countFileSize(f)\n",
    "    print(counter)\n",
    "f.close()"
   ]
  },
  {
   "cell_type": "code",
   "execution_count": null,
   "metadata": {},
   "outputs": [],
   "source": [
    "plt.figure(num=None, figsize=(20, 6), dpi=80, facecolor='w', edgecolor='k')\n",
    "labels, values = rankCounter(counter)\n",
    "indexes = np.arange(len(labels))\n",
    "width = 1\n",
    "plt.bar(indexes, values, width)\n",
    "plt.xticks(indexes + width * 0.5, labels)\n",
    "plt.show()"
   ]
  },
  {
   "cell_type": "code",
   "execution_count": null,
   "metadata": {},
   "outputs": [],
   "source": [
    "filtered = Counter({key : value for key, value in counter.items() if int(key) < 50})\n",
    "\n",
    "plt.figure(num=None, figsize=(20, 6), dpi=80, facecolor='w', edgecolor='k')\n",
    "labels, values = rankCounter(filtered)\n",
    "indexes = np.arange(len(labels))\n",
    "width = 1\n",
    "plt.bar(indexes, values, width)\n",
    "plt.xticks(indexes + width * 0.5, labels)\n",
    "plt.show()"
   ]
  },
  {
   "cell_type": "code",
   "execution_count": null,
   "metadata": {},
   "outputs": [],
   "source": []
  }
 ],
 "metadata": {
  "anaconda-cloud": {},
  "kernelspec": {
   "display_name": "Python 3",
   "language": "python",
   "name": "python3"
  },
  "language_info": {
   "codemirror_mode": {
    "name": "ipython",
    "version": 3
   },
   "file_extension": ".py",
   "mimetype": "text/x-python",
   "name": "python",
   "nbconvert_exporter": "python",
   "pygments_lexer": "ipython3",
   "version": "3.7.4"
  }
 },
 "nbformat": 4,
 "nbformat_minor": 1
}
