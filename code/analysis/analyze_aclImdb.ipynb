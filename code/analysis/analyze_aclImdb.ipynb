{
 "cells": [
  {
   "cell_type": "code",
   "execution_count": 16,
   "metadata": {
    "collapsed": true
   },
   "outputs": [],
   "source": [
    "import spacy\n",
    "import numpy as np\n",
    "import matplotlib.pyplot as plt\n",
    "import os\n",
    "import glob\n",
    "import re\n",
    "from collections import Counter\n",
    "import numpy as np\n",
    "import matplotlib.pyplot as plt\n",
    "import json\n",
    "\n",
    "import os\n",
    "import sys\n",
    "module_path = os.path.abspath(os.path.join('..'))\n",
    "if module_path not in sys.path:\n",
    "    sys.path.append(module_path)\n",
    "\n",
    "from analysis_code.analyze_corpus import *"
   ]
  },
  {
   "cell_type": "code",
   "execution_count": 17,
   "metadata": {
    "collapsed": true
   },
   "outputs": [],
   "source": [
    "directory = '/home/luluvyd/corpus/aclImdb/sample/'\n",
    "filename = '/home/luluvyd/examples/data/9_4.txt'\n",
    "nlp = spacy.load('en_core_web_md')"
   ]
  },
  {
   "cell_type": "code",
   "execution_count": 18,
   "metadata": {
    "collapsed": true
   },
   "outputs": [],
   "source": [
    "emos = loadEmotionWords('/home/luluvyd/corpus/NRC-Emotion-Lexicon-v0.92/Generated-EmotionWords.txt')"
   ]
  },
  {
   "cell_type": "code",
   "execution_count": 4,
   "metadata": {
    "collapsed": false
   },
   "outputs": [
    {
     "name": "stdout",
     "output_type": "stream",
     "text": [
      "Counter({'DET': 3, 'NOUN': 2, 'VERB': 2, 'PUNCT': 2, 'ADV': 1, 'ADJ': 1})\n"
     ]
    }
   ],
   "source": [
    "parsed_text = 'This is an awesome sentence. Where is the cat?'\n",
    "doc = nlp(parsed_text)\n",
    "counter = analyzePOS(doc)\n",
    "print(counter)"
   ]
  },
  {
   "cell_type": "code",
   "execution_count": 4,
   "metadata": {
    "collapsed": false
   },
   "outputs": [],
   "source": [
    "filename = '/home/luluvyd/examples/data/example_out.json'\n",
    "with open(filename, 'w+') as f:\n",
    "    json.dump(counter, f)"
   ]
  },
  {
   "cell_type": "code",
   "execution_count": 5,
   "metadata": {
    "collapsed": false
   },
   "outputs": [
    {
     "name": "stdout",
     "output_type": "stream",
     "text": [
      "SENTENCE : This is an awesome sentence.\n",
      "SENTENCE : Where is the cat?\n",
      "Counter({5: 1, 6: 1})\n"
     ]
    }
   ],
   "source": [
    "parsed_text = 'This is an awesome sentence. Where is the cat?'\n",
    "doc = nlp(parsed_text)\n",
    "counter = analyzeSentence(doc)\n",
    "print(counter)"
   ]
  },
  {
   "cell_type": "code",
   "execution_count": 6,
   "metadata": {
    "collapsed": false
   },
   "outputs": [
    {
     "name": "stdout",
     "output_type": "stream",
     "text": [
      "Counter({2: 3, 1: 2, 3: 2, 4: 1, 5: 1, 7: 1, 8: 1})\n"
     ]
    }
   ],
   "source": [
    "parsed_text = 'This is an awesome sentence. Where is the cat?'\n",
    "doc = nlp(parsed_text)\n",
    "counter = analyzeWordLength(doc)\n",
    "print(counter)"
   ]
  },
  {
   "cell_type": "code",
   "execution_count": 7,
   "metadata": {
    "collapsed": false
   },
   "outputs": [
    {
     "name": "stdout",
     "output_type": "stream",
     "text": [
      "Counter({'?': 1, '.': 1})\n"
     ]
    }
   ],
   "source": [
    "parsed_text = 'This is an awesome sentence. Where is the cat?'\n",
    "doc = nlp(parsed_text)\n",
    "counter = analyzePunctuation(doc)\n",
    "print(counter)"
   ]
  },
  {
   "cell_type": "code",
   "execution_count": 8,
   "metadata": {
    "collapsed": false
   },
   "outputs": [
    {
     "name": "stdout",
     "output_type": "stream",
     "text": [
      "0.18181818181818182\n"
     ]
    }
   ],
   "source": [
    "parsed_text = 'This is an awesome sentence. Where is the cat?'\n",
    "doc = nlp(parsed_text)\n",
    "counterPos = analyzePOS(doc)\n",
    "counterPunc = analyzePunctuation(doc)\n",
    "print(sumCounter(counterPunc) / sumCounter(counterPos)) "
   ]
  },
  {
   "cell_type": "code",
   "execution_count": 9,
   "metadata": {
    "collapsed": false
   },
   "outputs": [
    {
     "name": "stdout",
     "output_type": "stream",
     "text": [
      "Counter({'it': 2, 'what': 1, 'who': 1, 'him': 1, 'their': 1, 'my': 1})\n"
     ]
    }
   ],
   "source": [
    "parsed_text = 'This is an awesome sentence. My is better. Their food is worse. It is it. Who is good? What is in him?'\n",
    "doc = nlp(parsed_text)\n",
    "counterPunc = analyzePronoun(doc)\n",
    "print(counterPunc) "
   ]
  },
  {
   "cell_type": "code",
   "execution_count": 10,
   "metadata": {
    "collapsed": false
   },
   "outputs": [
    {
     "name": "stdout",
     "output_type": "stream",
     "text": [
      "Counter({'it': 2, 'him': 1})\n"
     ]
    }
   ],
   "source": [
    "parsed_text = 'This is an awesome sentence. My is better. Their food is worse. It is it. Who is good? What is in him?'\n",
    "doc = nlp(parsed_text)\n",
    "counterPRP = analyzePronounPRP(doc)\n",
    "print(counterPRP) "
   ]
  },
  {
   "cell_type": "code",
   "execution_count": 11,
   "metadata": {
    "collapsed": false
   },
   "outputs": [
    {
     "name": "stdout",
     "output_type": "stream",
     "text": [
      "Counter({'their': 1, 'my': 1})\n"
     ]
    }
   ],
   "source": [
    "parsed_text = 'This is an awesome sentence. My is better. Their food is worse. It is it. Who is good? What is in him?'\n",
    "doc = nlp(parsed_text)\n",
    "counterPRPD = analyzePronounPRPD(doc)\n",
    "print(counterPRPD) "
   ]
  },
  {
   "cell_type": "code",
   "execution_count": 12,
   "metadata": {
    "collapsed": false
   },
   "outputs": [
    {
     "name": "stdout",
     "output_type": "stream",
     "text": [
      "Counter({'what': 1, 'who': 1})\n"
     ]
    }
   ],
   "source": [
    "parsed_text = 'This is an awesome sentence. My is better. Their food is worse. It is it. Who is good? What is in him?'\n",
    "doc = nlp(parsed_text)\n",
    "counterPWP = analyzePronounWP(doc)\n",
    "print(counterPWP) "
   ]
  },
  {
   "cell_type": "code",
   "execution_count": 13,
   "metadata": {
    "collapsed": false
   },
   "outputs": [
    {
     "name": "stdout",
     "output_type": "stream",
     "text": [
      "Counter()\n"
     ]
    }
   ],
   "source": [
    "parsed_text = 'This is an awesome sentence. My is better. Their food is worse. It is it. Who is good? What is in him?'\n",
    "doc = nlp(parsed_text)\n",
    "counterPWPD = analyzePronounWPD(doc)\n",
    "print(counterPWPD) "
   ]
  },
  {
   "cell_type": "code",
   "execution_count": 14,
   "metadata": {
    "collapsed": false
   },
   "outputs": [
    {
     "name": "stdout",
     "output_type": "stream",
     "text": [
      "Counter({'PRP': 3, 'PRP$': 2, 'WP': 2})\n"
     ]
    }
   ],
   "source": [
    "parsed_text = 'This is an awesome sentence. My is better. Their food is worse. It is it. Who is good? What is in him?'\n",
    "doc = nlp(parsed_text)\n",
    "counterPCat = analyzePronounCategories(doc)\n",
    "print(counterPCat) "
   ]
  },
  {
   "cell_type": "code",
   "execution_count": 15,
   "metadata": {
    "collapsed": false
   },
   "outputs": [
    {
     "name": "stdout",
     "output_type": "stream",
     "text": [
      "Counter({'be': 2, 'rain': 1, 'run': 1})\n"
     ]
    }
   ],
   "source": [
    "parsed_text = 'This is an awesome sentence. I am running. It rains.'\n",
    "doc = nlp(parsed_text)\n",
    "counterVerb = analyzeVerb(doc)\n",
    "print(counterVerb) "
   ]
  },
  {
   "cell_type": "code",
   "execution_count": 16,
   "metadata": {
    "collapsed": false
   },
   "outputs": [
    {
     "data": {
      "image/png": "[encoded data removed]",
      "text/plain": [
       "<matplotlib.figure.Figure at 0x7f637f1da0b8>"
      ]
     },
     "metadata": {},
     "output_type": "display_data"
    }
   ],
   "source": [
    "labels, values = rankCounter(counter)\n",
    "indexes = np.arange(len(labels))\n",
    "width = 1\n",
    "plt.bar(indexes, values, width)\n",
    "plt.xticks(indexes + width * 0.5, labels)\n",
    "plt.show()"
   ]
  },
  {
   "cell_type": "code",
   "execution_count": 17,
   "metadata": {
    "collapsed": false
   },
   "outputs": [
    {
     "data": {
      "image/png": "[encoded data removed]",
      "text/plain": [
       "<matplotlib.figure.Figure at 0x7f637f1fb128>"
      ]
     },
     "metadata": {},
     "output_type": "display_data"
    }
   ],
   "source": [
    "labels, values = rankCounter(counter)\n",
    "indexes = np.arange(len(labels))\n",
    "width = 1\n",
    "plt.bar(indexes, values, width)\n",
    "plt.xticks(indexes + width * 0.5, labels)\n",
    "plt.show()"
   ]
  },
  {
   "cell_type": "code",
   "execution_count": 18,
   "metadata": {
    "collapsed": false
   },
   "outputs": [
    {
     "data": {
      "image/png": "[encoded data removed]",
      "text/plain": [
       "<matplotlib.figure.Figure at 0x7f638d82c208>"
      ]
     },
     "metadata": {},
     "output_type": "display_data"
    }
   ],
   "source": [
    "if __name__ == \"__main__\":  \n",
    "    with open(filename, 'r') as f:\n",
    "        text = f.read()\n",
    "        nlp = spacy.load('en_core_web_md')\n",
    "        doc = nlp(text)\n",
    "        counter = analyzePOS(doc)\n",
    "        \n",
    "        plt.figure(num=None, figsize=(20, 6), dpi=80, facecolor='w', edgecolor='k')\n",
    "\n",
    "        labels, values = rankCounter(counter)\n",
    "        indexes = np.arange(len(labels))\n",
    "        width = 1\n",
    "        plt.bar(indexes, values, width)\n",
    "        plt.xticks(indexes + width * 0.5, labels)\n",
    "        plt.show()\n",
    "    f.close()\n",
    "                \n"
   ]
  },
  {
   "cell_type": "code",
   "execution_count": 21,
   "metadata": {
    "collapsed": false
   },
   "outputs": [
    {
     "name": "stdout",
     "output_type": "stream",
     "text": [
      "i : 0\n",
      "i : 1\n",
      "i : 2\n"
     ]
    },
    {
     "data": {
      "image/png": "[encoded data removed]",
      "text/plain": [
       "<matplotlib.figure.Figure at 0x7f637f1b38d0>"
      ]
     },
     "metadata": {},
     "output_type": "display_data"
    }
   ],
   "source": [
    "'''\n",
    "POS histogram\n",
    "error: doc input string cannot succeed 1 million characters\n",
    "problem: iterating over text is too slow, parallelize\n",
    "'''\n",
    "\n",
    "# read_files = glob.glob(\"/home/luluvyd/corpus/aclImdb/train/pos/*.txt\")\n",
    "read_files = glob.glob(directory + '*.txt')\n",
    "\n",
    "counter = Counter('')\n",
    "i = 0\n",
    "\n",
    "for infile in read_files:\n",
    "    print('i : ' + str(i))\n",
    "    with open(infile, 'r', errors='replace') as f:\n",
    "        text = f.read()\n",
    "        doc = nlp(text)\n",
    "        counter = analyzePOS(doc)\n",
    "        i += 1\n",
    "        \n",
    "        \n",
    "plt.figure(num=None, figsize=(20, 6), dpi=80, facecolor='w', edgecolor='k')\n",
    "labels, values = rankCounter(counter)\n",
    "indexes = np.arange(len(labels))\n",
    "width = 1\n",
    "plt.bar(indexes, values, width)\n",
    "plt.xticks(indexes + width * 0.5, labels)\n",
    "plt.show()"
   ]
  },
  {
   "cell_type": "code",
   "execution_count": 22,
   "metadata": {
    "collapsed": false
   },
   "outputs": [
    {
     "name": "stdout",
     "output_type": "stream",
     "text": [
      "i : 0\n",
      "SENTENCE : At first glance, this film looks like the Keifer Sutherland series 24 for the big screen.\n",
      "SENTENCE : With the focus on a plot to assassinate the President of the United States, a race against time, and plenty of Secret Service agents, the agency under the spotlight in The Sentinel.<br\n",
      "SENTENCE : /><br\n",
      "SENTENCE : />But\n",
      "SENTENCE : wait, the protagonist turns out to be Michael Douglas' character Pete Garrison instead, a veteran Secret Service agent famed for taking the bullet for Reagan in 1981.\n",
      "SENTENCE : The SS agents are specially trained to \"take the bullet\", which is what makes them special - who in the right mind will put themselves in the line of a bullet and a target?\n",
      "SENTENCE : But Garrison gets implicated in the assassination plot, and has to run for his life while at the same time doing his bit of investigations into the plot.\n",
      "SENTENCE : All this because of his failure in a polygraph test, due to his adulterous banging of the First Lady (Kim Basinger).\n",
      "SENTENCE : Tsk.<br\n",
      "SENTENCE : /><br\n",
      "SENTENCE : />There are shades of Clint Eastwood's\n",
      "SENTENCE : In the Line of Fire.\n",
      "SENTENCE : Both featured aging actors, and aging veteran has-been heroes with a bit of a historical reference, who took the bullet in their respective tours of duty.\n",
      "SENTENCE : While Eastwood's movie has a more enigmatic villain in John Malkovich, The Sentinel suffered from its lack of a central strong villain, preferring to share the assassination responsibility amongst many forgettable ex-KGB villains, and the mole within the Presidential Detail.\n",
      "SENTENCE : With Douglas on the run from the law, he becomes similar to Dr. Richard Kimble of The Fugitive, hunting the proverbial one-armed man while at the same time, relying on his smarts to outwit fellow agents, which turned out to be quite interesting to watch - despite slick processes, it still boils down to the performance and gullibility of individual agents.<br\n",
      "SENTENCE : /><br\n",
      "SENTENCE : />Keifer Sutherland and Eva Longoria, top TV stars of today from 24 and Desperate Housewives, get relegated into support roles as the Secret Service investigators who are looking into Garrison's probable involvement in the assassination plot, and at times seem to have lept off the pages of CSI with their forensics skills.\n",
      "SENTENCE : The beautiful couple had chemistry that could have resembled X-Files' Fox Mulder and Dana Scully, but alas these two had very little to do here.\n",
      "SENTENCE : We know the reason why they're in the movie, and that is to get their fans into the theatres.\n",
      "SENTENCE : Also, Longoria's role seemed unable to shake off her sexy-mama Gabrielle, and here, has her in fairly low cut blouses (Sutherland actually tells her to cover up) and tight pants (ogle-fest for fellow agents).<br\n",
      "SENTENCE : /><br\n",
      "SENTENCE : />Nonetheless, it's still a pretty interesting look into the lives of probably the most highly charged and tense protection detail in the world, and the typical threats that they face daily, including the following up on every nutcase's threat on the life of the most powerful man in the world.\n",
      "SENTENCE : It's a decent suspense and investigative thriller, with enough subplots to keep you entertained.\n",
      "SENTENCE : But one thing though, like most ending action sequences, this one has a big enough loophole for you to fly a jumbo jet through.\n",
      "i : 1\n",
      "SENTENCE : Working-class romantic drama from director Martin Ritt is as unbelievable as they come, yet there are moments of pleasure due mostly to the charisma of stars Jane Fonda and Robert De Niro (both terrific).\n",
      "SENTENCE : She's a widow who can't move on, he's illiterate and a closet-inventor--you can probably guess the rest.\n",
      "SENTENCE : Adaptation of Pat Barker's novel \"Union Street\" (a better title!) is so laid-back\n",
      "SENTENCE : it verges on bland, and\n",
      "SENTENCE : the film's editing is a mess, but it's still pleasant; a rosy-hued blue-collar fantasy.\n",
      "SENTENCE : There are no overtures to serious issues (even the illiteracy angle is just a plot-tool for the ensuing love story) and no real fireworks, though the characters are intentionally a bit colorless and the leads are toned down to an interesting degree.\n",
      "SENTENCE : The finale is pure fluff--and cynics will find it difficult to swallow--though these two characters deserve a happy ending and the picture wouldn't really be satisfying any other way.\n",
      "SENTENCE : *\n",
      "SENTENCE : *\n",
      "SENTENCE : * from\n",
      "SENTENCE : ***\n",
      "SENTENCE : *\n",
      "i : 2\n",
      "SENTENCE : A Christmas\n",
      "SENTENCE : Together actually came before my time, but I've been raised on John Denver and the songs from this special\n",
      "SENTENCE : were always my family's Christmas music.\n",
      "SENTENCE : For years we had a crackling cassette made from a record that meant it was Christmas.\n",
      "SENTENCE : A few years ago, I was finally able to track down a video of it on Ebay, so after listening to all the music for some 21 years, I got to see John and the Muppets in action for myself.\n",
      "SENTENCE : If you ever get the chance, it's a lot of fun--great music, heart-warming and cheesy.\n",
      "SENTENCE : It's also interesting to see the 70's versions of the Muppets and compare them to their newer versions today.\n",
      "SENTENCE : I believe Denver actually took some heat for doing a show like this--I guess normally performers don't compromise their images by doing sing-a-longs with the Muppets,\n",
      "SENTENCE : but I'm glad he did.\n",
      "SENTENCE : Even if you can't track down the video, the soundtrack is worth it too.\n",
      "SENTENCE : It has some Muppified traditional favorites, but also some original Denver tunes as well.\n"
     ]
    },
    {
     "data": {
      "image/png": "[encoded data removed]",
      "text/plain": [
       "<matplotlib.figure.Figure at 0x7f638cb52198>"
      ]
     },
     "metadata": {},
     "output_type": "display_data"
    }
   ],
   "source": [
    "'''\n",
    "Sentence length histogram\n",
    "error: doc input string cannot succeed 1 million characters\n",
    "problem: non-edited opinion text can have long and publish unaccepted sentence structures\n",
    "'''\n",
    "\n",
    "# read_files = glob.glob(\"/home/luluvyd/corpus/aclImdb/train/pos/*.txt\")\n",
    "read_files = glob.glob(directory + '*.txt')\n",
    "\n",
    "counter = Counter('')\n",
    "i = 0\n",
    "\n",
    "for infile in read_files:\n",
    "    print('i : ' + str(i))\n",
    "    with open(infile, 'r', errors='replace') as f:\n",
    "        text = f.read()\n",
    "        doc = nlp(text)\n",
    "        counter += analyzeSentence(doc) \n",
    "        i += 1\n",
    "        \n",
    "        \n",
    "plt.figure(num=None, figsize=(20, 6), dpi=80, facecolor='w', edgecolor='k')\n",
    "labels, values = rankCounter(counter)\n",
    "indexes = np.arange(len(labels))\n",
    "width = 1\n",
    "plt.bar(indexes, values, width)\n",
    "plt.xticks(indexes + width * 0.5, labels)\n",
    "plt.show()"
   ]
  },
  {
   "cell_type": "code",
   "execution_count": 23,
   "metadata": {
    "collapsed": false
   },
   "outputs": [
    {
     "name": "stdout",
     "output_type": "stream",
     "text": [
      "i : 0\n",
      "i : 1\n",
      "i : 2\n",
      "average word lengths is : 4.118343195266272\n"
     ]
    },
    {
     "data": {
      "image/png": "[encoded data removed]",
      "text/plain": [
       "<matplotlib.figure.Figure at 0x7f637f211c50>"
      ]
     },
     "metadata": {},
     "output_type": "display_data"
    },
    {
     "data": {
      "text/plain": [
       "Counter({1: 9,\n",
       "         2: 2,\n",
       "         3: 1,\n",
       "         6: 2,\n",
       "         7: 2,\n",
       "         8: 1,\n",
       "         16: 1,\n",
       "         17: 3,\n",
       "         18: 1,\n",
       "         21: 2,\n",
       "         22: 2,\n",
       "         23: 2,\n",
       "         25: 1,\n",
       "         26: 1,\n",
       "         27: 1,\n",
       "         30: 2,\n",
       "         31: 2,\n",
       "         34: 1,\n",
       "         35: 2,\n",
       "         38: 1,\n",
       "         40: 1,\n",
       "         44: 1,\n",
       "         45: 1,\n",
       "         47: 1,\n",
       "         48: 1,\n",
       "         56: 1,\n",
       "         57: 1,\n",
       "         68: 1})"
      ]
     },
     "execution_count": 23,
     "metadata": {},
     "output_type": "execute_result"
    }
   ],
   "source": [
    "'''\n",
    "Word lengths histogram \n",
    "error: doc input string cannot succeed 1 million characters\n",
    "'''\n",
    "\n",
    "# read_files = glob.glob(\"/home/luluvyd/corpus/aclImdb/train/pos/*.txt\")\n",
    "read_files = glob.glob(directory + '*.txt')\n",
    "\n",
    "counterWord = Counter('')\n",
    "i = 0\n",
    "\n",
    "for infile in read_files:\n",
    "    print('i : ' + str(i))\n",
    "    with open(infile, 'r', errors='replace') as f:\n",
    "        text = f.read()\n",
    "        doc = nlp(text)\n",
    "        counterWord += analyzeWordLength(doc) \n",
    "        i += 1\n",
    "\n",
    "mean = sum([k*v for k, v in counterWord.items()]) / sumCounter(counterWord)\n",
    "print('average word lengths is : ' + str(mean))\n",
    "\n",
    "plt.figure(num=None, figsize=(20, 6), dpi=80, facecolor='w', edgecolor='k')\n",
    "labels, values = rankCounter(counterWord)\n",
    "indexes = np.arange(len(labels))\n",
    "width = 1\n",
    "plt.bar(indexes, values, width)\n",
    "plt.xticks(indexes + width * 0.5, labels)\n",
    "plt.show()\n",
    "\n",
    "counter"
   ]
  },
  {
   "cell_type": "code",
   "execution_count": 24,
   "metadata": {
    "collapsed": false
   },
   "outputs": [
    {
     "name": "stdout",
     "output_type": "stream",
     "text": [
      "i : 0\n",
      "i : 1\n",
      "i : 2\n",
      "percent of puncutation symbol is : 12.52465483234714\n"
     ]
    },
    {
     "data": {
      "image/png": "[encoded data removed]",
      "text/plain": [
       "<matplotlib.figure.Figure at 0x7f637f214080>"
      ]
     },
     "metadata": {},
     "output_type": "display_data"
    }
   ],
   "source": [
    "'''\n",
    "Punctuation histogram\n",
    "Percentage of punctuation out of total number of words\n",
    "'''\n",
    "\n",
    "# read_files = glob.glob(\"/home/luluvyd/corpus/aclImdb/train/pos/*.txt\")\n",
    "read_files = glob.glob(directory + '*.txt')\n",
    "\n",
    "counterPun = Counter('')\n",
    "i = 0\n",
    "\n",
    "for infile in read_files:\n",
    "    print('i : ' + str(i))\n",
    "    with open(infile, 'r', errors='replace') as f:\n",
    "        text = f.read()\n",
    "        doc = nlp(text)\n",
    "        counterPun += analyzePunctuation(doc) \n",
    "        i += 1\n",
    "pert = sumCounter(counterPun) / sumCounter(counterWord)*100\n",
    "print('percent of puncutation symbol is : ' + str(pert))\n",
    "        \n",
    "plt.figure(num=None, figsize=(20, 6), dpi=80, facecolor='w', edgecolor='k')\n",
    "labels, values = rankCounter(counterPun)\n",
    "indexes = np.arange(len(labels))\n",
    "width = 1\n",
    "plt.bar(indexes, values, width)\n",
    "plt.xticks(indexes + width * 0.5, labels)\n",
    "plt.show()"
   ]
  },
  {
   "cell_type": "code",
   "execution_count": 25,
   "metadata": {
    "collapsed": false
   },
   "outputs": [
    {
     "name": "stdout",
     "output_type": "stream",
     "text": [
      "i : 0\n",
      "i : 1\n",
      "i : 2\n",
      "Counter({'it': 12, 'i': 6, 'you': 5, 'his': 5, 'their': 5, 'who': 4, 'he': 3, 'her': 3, 'they': 3, 'them': 2, 'my': 2, 'we': 2, 'themselves': 1, 'its': 1, 'myself': 1, 'what': 1, 'she': 1})\n"
     ]
    },
    {
     "data": {
      "image/png": "[encoded data removed]",
      "text/plain": [
       "<matplotlib.figure.Figure at 0x7f637ed53ac8>"
      ]
     },
     "metadata": {},
     "output_type": "display_data"
    }
   ],
   "source": [
    "'''\n",
    "Punctuation histogram\n",
    "Percentage of punctuation out of total number of words\n",
    "'''\n",
    "read_files = glob.glob(directory + '*.txt')\n",
    "\n",
    "counterPron = Counter('')\n",
    "i = 0\n",
    "\n",
    "for infile in read_files:\n",
    "    print('i : ' + str(i))\n",
    "    with open(infile, 'r', errors='replace') as f:\n",
    "        text = f.read()\n",
    "        doc = nlp(text)\n",
    "        counterPron += analyzePronoun(doc) \n",
    "        i += 1\n",
    "    \n",
    "print(counterPron)\n",
    "plt.figure(num=None, figsize=(20, 6), dpi=80, facecolor='w', edgecolor='k')\n",
    "labels, values = rankCounter(counterPron)\n",
    "indexes = np.arange(len(labels))\n",
    "width = 1\n",
    "plt.bar(indexes, values, width)\n",
    "plt.xticks(indexes + width * 0.5, labels)\n",
    "plt.show()"
   ]
  },
  {
   "cell_type": "code",
   "execution_count": 26,
   "metadata": {
    "collapsed": false
   },
   "outputs": [
    {
     "name": "stdout",
     "output_type": "stream",
     "text": [
      "i : 0\n",
      "i : 1\n",
      "i : 2\n",
      "Counter({'it': 12, 'i': 6, 'you': 5, 'his': 5, 'their': 5, 'who': 4, 'he': 3, 'her': 3, 'they': 3, 'them': 2, 'my': 2, 'we': 2, 'themselves': 1, 'its': 1, 'myself': 1, 'what': 1, 'she': 1})\n"
     ]
    },
    {
     "data": {
      "image/png": "[encoded data removed]",
      "text/plain": [
       "<matplotlib.figure.Figure at 0x7f637ed47940>"
      ]
     },
     "metadata": {},
     "output_type": "display_data"
    }
   ],
   "source": [
    "'''\n",
    "Pronoun, personal histogram\n",
    "Percentage of punctuation out of total number of words\n",
    "'''\n",
    "read_files = glob.glob(directory + '*.txt')\n",
    "\n",
    "counterPronPRP = Counter('')\n",
    "i = 0\n",
    "\n",
    "for infile in read_files:\n",
    "    print('i : ' + str(i))\n",
    "    with open(infile, 'r', errors='replace') as f:\n",
    "        text = f.read()\n",
    "        doc = nlp(text)\n",
    "        counterPronPRP += analyzePronounPRP(doc) \n",
    "        i += 1\n",
    "    \n",
    "print(counterPron)\n",
    "plt.figure(num=None, figsize=(20, 6), dpi=80, facecolor='w', edgecolor='k')\n",
    "labels, values = rankCounter(counterPronPRP)\n",
    "indexes = np.arange(len(labels))\n",
    "width = 1\n",
    "plt.bar(indexes, values, width)\n",
    "plt.xticks(indexes + width * 0.5, labels)\n",
    "plt.show()"
   ]
  },
  {
   "cell_type": "code",
   "execution_count": 27,
   "metadata": {
    "collapsed": false
   },
   "outputs": [
    {
     "name": "stdout",
     "output_type": "stream",
     "text": [
      "i : 0\n",
      "i : 1\n",
      "i : 2\n",
      "Counter({'their': 5, 'his': 5, 'my': 2, 'her': 1, 'its': 1})\n"
     ]
    },
    {
     "data": {
      "image/png": "[encoded data removed]",
      "text/plain": [
       "<matplotlib.figure.Figure at 0x7f638b167da0>"
      ]
     },
     "metadata": {},
     "output_type": "display_data"
    }
   ],
   "source": [
    "'''\n",
    "pronoun, possessive histogram\n",
    "Percentage of punctuation out of total number of words\n",
    "'''\n",
    "read_files = glob.glob(directory + '*.txt')\n",
    "\n",
    "counterPronPRPD = Counter('')\n",
    "i = 0\n",
    "\n",
    "for infile in read_files:\n",
    "    print('i : ' + str(i))\n",
    "    with open(infile, 'r', errors='replace') as f:\n",
    "        text = f.read()\n",
    "        doc = nlp(text)\n",
    "        counterPronPRPD += analyzePronounPRPD(doc) \n",
    "        i += 1\n",
    "    \n",
    "print(counterPronPRPD)\n",
    "plt.figure(num=None, figsize=(20, 6), dpi=80, facecolor='w', edgecolor='k')\n",
    "labels, values = rankCounter(counterPronPRPD)\n",
    "indexes = np.arange(len(labels))\n",
    "width = 1\n",
    "plt.bar(indexes, values, width)\n",
    "plt.xticks(indexes + width * 0.5, labels)\n",
    "plt.show()"
   ]
  },
  {
   "cell_type": "code",
   "execution_count": 28,
   "metadata": {
    "collapsed": false
   },
   "outputs": [
    {
     "name": "stdout",
     "output_type": "stream",
     "text": [
      "i : 0\n",
      "i : 1\n",
      "i : 2\n",
      "Counter({'who': 4, 'what': 1})\n"
     ]
    },
    {
     "data": {
      "image/png": "[encoded data removed]",
      "text/plain": [
       "<matplotlib.figure.Figure at 0x7f638b1786d8>"
      ]
     },
     "metadata": {},
     "output_type": "display_data"
    }
   ],
   "source": [
    "'''\n",
    "pronoun, possessive histogram\n",
    "Percentage of punctuation out of total number of words\n",
    "'''\n",
    "read_files = glob.glob(directory + '*.txt')\n",
    "\n",
    "counterPronWP = Counter('')\n",
    "i = 0\n",
    "\n",
    "for infile in read_files:\n",
    "    print('i : ' + str(i))\n",
    "    with open(infile, 'r', errors='replace') as f:\n",
    "        text = f.read()\n",
    "        doc = nlp(text)\n",
    "        counterPronWP += analyzePronounWP(doc) \n",
    "        i += 1\n",
    "    \n",
    "print(counterPronWP)\n",
    "plt.figure(num=None, figsize=(20, 6), dpi=80, facecolor='w', edgecolor='k')\n",
    "labels, values = rankCounter(counterPronWP)\n",
    "indexes = np.arange(len(labels))\n",
    "width = 1\n",
    "plt.bar(indexes, values, width)\n",
    "plt.xticks(indexes + width * 0.5, labels)\n",
    "plt.show()"
   ]
  },
  {
   "cell_type": "code",
   "execution_count": 29,
   "metadata": {
    "collapsed": false
   },
   "outputs": [
    {
     "name": "stdout",
     "output_type": "stream",
     "text": [
      "i : 0\n",
      "i : 1\n",
      "i : 2\n",
      "Counter()\n"
     ]
    }
   ],
   "source": [
    "'''\n",
    "wh-pronoun, possessive histogram\n",
    "Percentage of punctuation out of total number of words\n",
    "'''\n",
    "read_files = glob.glob(directory + '*.txt')\n",
    "\n",
    "counterPronWPD = Counter('')\n",
    "i = 0\n",
    "\n",
    "for infile in read_files:\n",
    "    print('i : ' + str(i))\n",
    "    with open(infile, 'r', errors='replace') as f:\n",
    "        text = f.read()\n",
    "        doc = nlp(text)\n",
    "        counterPronWPD += analyzePronounWPD(doc) \n",
    "        i += 1\n",
    "    \n",
    "print(counterPronWPD)\n",
    "plt.figure(num=None, figsize=(20, 6), dpi=80, facecolor='w', edgecolor='k')\n",
    "labels, values = rankCounter(counterPronWPD)\n",
    "if labels and values:\n",
    "    indexes = np.arange(len(labels))\n",
    "    width = 1\n",
    "    plt.bar(indexes, values, width)\n",
    "    plt.xticks(indexes + width * 0.5, labels)\n",
    "    plt.show()"
   ]
  },
  {
   "cell_type": "code",
   "execution_count": 30,
   "metadata": {
    "collapsed": false
   },
   "outputs": [
    {
     "name": "stdout",
     "output_type": "stream",
     "text": [
      "i : 0\n",
      "i : 1\n",
      "i : 2\n",
      "Counter({'PRP': 38, 'PRP$': 14, 'WP': 5})\n"
     ]
    },
    {
     "data": {
      "text/plain": [
       "<matplotlib.figure.Figure at 0x7f638b21a828>"
      ]
     },
     "metadata": {},
     "output_type": "display_data"
    },
    {
     "data": {
      "image/png": "[encoded data removed]",
      "text/plain": [
       "<matplotlib.figure.Figure at 0x7f638b20e940>"
      ]
     },
     "metadata": {},
     "output_type": "display_data"
    }
   ],
   "source": [
    "'''\n",
    "4 pronoun categories histogram\n",
    "Percentage of punctuation out of total number of words\n",
    "'''\n",
    "read_files = glob.glob(directory + '*.txt')\n",
    "\n",
    "counterPronCat = Counter('')\n",
    "i = 0\n",
    "\n",
    "for infile in read_files:\n",
    "    print('i : ' + str(i))\n",
    "    with open(infile, 'r', errors='replace') as f:\n",
    "        text = f.read()\n",
    "        doc = nlp(text)\n",
    "        counterPronCat += analyzePronounCategories(doc) \n",
    "        i += 1\n",
    "    \n",
    "print(counterPronCat)\n",
    "plt.figure(num=None, figsize=(20, 6), dpi=80, facecolor='w', edgecolor='k')\n",
    "labels, values = rankCounter(counterPronCat)\n",
    "indexes = np.arange(len(labels))\n",
    "width = 1\n",
    "plt.bar(indexes, values, width)\n",
    "plt.xticks(indexes + width * 0.5, labels)\n",
    "plt.show()"
   ]
  },
  {
   "cell_type": "code",
   "execution_count": 31,
   "metadata": {
    "collapsed": false
   },
   "outputs": [
    {
     "name": "stdout",
     "output_type": "stream",
     "text": [
      "i : 0\n",
      "i : 1\n",
      "i : 2\n",
      "Counter({'be': 32, 'have': 12, 'do': 6, 'get': 5, 'take': 4, 'seem': 2, 'make': 2, 'look': 2, 'age': 2, 'will': 2, 'track': 2, 'see': 2, 'guess': 2, 'come': 2, 'turn': 2, 'find': 1, 'assassinate': 1, 'keep': 1, 'share': 1, 'satisfy': 1, 'mean': 1, 'fly': 1, 'train': 1, 'entertain': 1, 'become': 1, 'prefer': 1, 'deserve': 1, 'cover': 1, 'run': 1, 'wait': 1, 'swallow': 1, 'raise': 1, 'believe': 1, 'lay': 1, 'relegate': 1, 'implicate': 1, 'put': 1, 'move': 1, 'could': 1, 'watch': 1, 'rely': 1, 'tone': 1, 'listen': 1, 'feature': 1, 'shake': 1, 'resemble': 1, 'lept': 1, 'know': 1, 'end': 1, 'tell': 1, 'sing': 1, 'can': 1, 'follow': 1, 'face': 1, 'ala': 1, 'compare': 1, 'hunt': 1, 'ensue': 1, 'compromise': 1, 'verge': 1, 'fame': 1, 'outwit': 1, 'include': 1, 'suffer': 1, 'boil': 1})\n"
     ]
    },
    {
     "data": {
      "image/png": "[encoded data removed]",
      "text/plain": [
       "<matplotlib.figure.Figure at 0x7f638544b668>"
      ]
     },
     "metadata": {},
     "output_type": "display_data"
    }
   ],
   "source": [
    "'''\n",
    "Verb root words histogram\n",
    "'''\n",
    "read_files = glob.glob(directory + '*.txt')\n",
    "\n",
    "counterVerbRoot = Counter('')\n",
    "i = 0\n",
    "\n",
    "for infile in read_files:\n",
    "    print('i : ' + str(i))\n",
    "    with open(infile, 'r', errors='replace') as f:\n",
    "        text = f.read()\n",
    "        doc = nlp(text)\n",
    "        counterVerbRoot += analyzeVerb(doc) \n",
    "        i += 1\n",
    "    \n",
    "print(counterVerbRoot)\n",
    "plt.figure(num=None, figsize=(20, 6), dpi=80, facecolor='w', edgecolor='k')\n",
    "labels, values = rankCounter(counterVerbRoot)\n",
    "indexes = np.arange(len(labels))\n",
    "width = 1\n",
    "plt.bar(indexes, values, width)\n",
    "plt.xticks(indexes + width * 0.5, labels)\n",
    "plt.show()"
   ]
  },
  {
   "cell_type": "code",
   "execution_count": 5,
   "metadata": {
    "collapsed": false
   },
   "outputs": [
    {
     "name": "stdout",
     "output_type": "stream",
     "text": [
      "i : 0\n",
      "i : 1\n",
      "i : 2\n",
      "Counter({'garrison': 3, 'action': 2, 'special': 2, 'bland': 1, 'director': 1, 'assassinate': 1, 'failure': 1, 'mess': 1, 'rest': 1, 'powerful': 1, 'lack': 1, 'reason': 1, 'love': 1, 'desperate': 1, 'sing': 1, 'sentinel': 1, 'title': 1, 'happy': 1, 'pleasant': 1, 'fairly': 1, 'including': 1, 'share': 1})\n"
     ]
    },
    {
     "data": {
      "image/png": "[encoded data removed]",
      "text/plain": [
       "<matplotlib.figure.Figure at 0x7f7be698fa58>"
      ]
     },
     "metadata": {},
     "output_type": "display_data"
    }
   ],
   "source": [
    "'''\n",
    "Emotion words histogram\n",
    "'''\n",
    "directory = '/home/luluvyd/corpus/aclImdb/sample/'\n",
    "read_files = glob.glob(directory + '*.txt')\n",
    "\n",
    "emos = loadEmotionWords('/home/luluvyd/corpus/NRC-Emotion-Lexicon-v0.92/Generated-EmotionWords.txt')\n",
    "counterEmos = Counter('')\n",
    "i = 0\n",
    "\n",
    "for infile in read_files:\n",
    "    print('i : ' + str(i))\n",
    "    with open(infile, 'r', errors='replace') as f:\n",
    "        text = f.read()\n",
    "        doc = nlp(text)\n",
    "        counterEmos += analyzeEmotionWords(doc, emos) \n",
    "        i += 1\n",
    "    \n",
    "print(counterEmos)\n",
    "plt.figure(num=None, figsize=(20, 6), dpi=80, facecolor='w', edgecolor='k')\n",
    "labels, values = rankCounter(counterEmos)\n",
    "indexes = np.arange(len(labels))\n",
    "width = 1\n",
    "plt.bar(indexes, values, width)\n",
    "plt.xticks(indexes + width * 0.5, labels)\n",
    "plt.show()"
   ]
  },
  {
   "cell_type": "code",
   "execution_count": 8,
   "metadata": {
    "collapsed": false
   },
   "outputs": [
    {
     "name": "stdout",
     "output_type": "stream",
     "text": [
      "i : 0\n",
      "i : 10000\n",
      "Counter({'good': 7586, 'love': 4238, 'director': 1969, 'bad': 1884, 'action': 1762, 'perfect': 1220, 'star': 1127, 'enjoy': 1117, 'main': 1038, 'special': 997, 'black': 986, 'full': 984, 'shot': 903, 'mother': 876, 'friend': 815, 'lost': 795, 'production': 775, 'reason': 773, 'rest': 773, 'case': 711, 'late': 709, 'art': 708, 'evil': 647, 'wrong': 642, 'sex': 627, 'including': 621, 'musical': 619, 'title': 614, 'hit': 613, 'score': 606, 'happy': 584, 'expect': 570, 'leave': 551, 'superb': 550, 'usual': 532, 'violence': 519, 'famous': 483, 'powerful': 474, 'cool': 465, 'unique': 464, 'interest': 463, 'dance': 458, 'level': 458, 'words': 423, 'god': 422, 'romance': 417, 'deal': 413, 'sweet': 411, 'female': 401, 'fall': 389, 'present': 380, 'truth': 378, 'subject': 375, 'word': 367, 'doubt': 362, 'solid': 360, 'lack': 357, 'interested': 352, 'adventure': 348, 'hate': 341, 'cold': 336, 'rating': 329, 'spirit': 327, 'effective': 327, 'intelligent': 324, 'die': 318, 'copy': 314, 'reading': 308, 'frank': 304, 'escape': 303, 'cute': 301, 'master': 298, 'genius': 297, 'doctor': 292, 'weird': 292, 'fairly': 289, 'public': 287, 'agree': 285, 'silly': 283, 'forward': 279, 'save': 275, 'tough': 275, 'stupid': 270, 'innocent': 269, 'cry': 268, 'force': 264, 'honest': 263, 'respect': 257, 'wild': 257, 'charm': 252, 'credit': 248, 'pay': 243, 'justice': 243, 'remarkable': 239, 'share': 229, 'inspired': 227, 'impossible': 223, 'cult': 220, 'pick': 219, 'bizarre': 219, 'presence': 215, 'treat': 214, 'lose': 211, 'sky': 208, 'green': 208, 'dirty': 207, 'hidden': 206, 'climax': 205, 'quiet': 203, 'information': 202, 'lord': 201, 'fair': 201, 'monster': 201, 'falling': 200, 'struggle': 199, 'annoying': 198, 'stone': 196, 'freedom': 195, 'professional': 194, 'superior': 194, 'academy': 193, 'chase': 192, 'land': 192, 'pain': 185, 'negative': 185, 'gang': 185, 'passion': 185, 'unexpected': 184, 'artistic': 183, 'impression': 179, 'hurt': 175, 'content': 175, 'ridiculous': 172, 'humanity': 171, 'explain': 170, 'strength': 169, 'pull': 167, 'shock': 167, 'pilot': 167, 'continue': 166, 'received': 165, 'awful': 165, 'wanting': 159, 'winner': 159, 'grace': 156, 'don': 155, 'accident': 154, 'absolute': 154, 'pleasant': 153, 'fate': 153, 'sing': 153, 'horrible': 152, 'conflict': 151, 'desperate': 150, 'partner': 149, 'cage': 148, 'count': 148, 'loss': 148, 'faith': 147, 'grant': 147, 'constant': 146, 'officer': 146, 'study': 145, 'shoot': 144, 'extraordinary': 144, 'fell': 143, 'sympathetic': 142, 'heroine': 141, 'broken': 141, 'influence': 140, 'marry': 138, 'nightmare': 136, 'dull': 136, 'leader': 135, 'fits': 135, 'wit': 134, 'center': 133, 'intelligence': 133, 'legendary': 132, 'kick': 130, 'classics': 130, 'blind': 129, 'jump': 128, 'formula': 126, 'friendly': 126, 'peace': 125, 'majority': 124, 'trash': 124, 'angel': 123, 'sea': 123, 'birth': 120, 'spoil': 120, 'prove': 120, 'relief': 119, 'alien': 118, 'balance': 118, 'model': 117, 'safe': 116, 'complicated': 115, 'prime': 115, 'bound': 115, 'creature': 115, 'rough': 115, 'essential': 115, 'calls': 115, 'greater': 115, 'ensemble': 114, 'ancient': 114, 'faithful': 113, 'standing': 112, 'vote': 111, 'revolution': 110, 'thief': 110, 'fool': 108, 'carol': 106, 'committed': 105, 'fake': 105, 'desert': 104, 'facts': 103, 'honor': 103, 'structure': 101, 'challenge': 101, 'danger': 100, 'fault': 100, 'splendid': 100, 'noble': 100, 'pet': 100, 'experienced': 100, 'proper': 99, 'deadly': 99, 'rescue': 98, 'waste': 97, 'mess': 97, 'task': 97, 'unfortunate': 97, 'enjoying': 97, 'reporter': 96, 'buck': 96, 'status': 95, 'depression': 95, 'crash': 94, 'notable': 94, 'join': 94, 'porn': 93, 'thrilling': 93, 'sun': 93, 'importance': 93, 'achieve': 93, 'crisis': 93, 'praise': 93, 'lacking': 92, 'intellectual': 91, 'amazingly': 91, 'teens': 91, 'routine': 91, 'delivery': 90, 'torn': 90, 'achievement': 90, 'abuse': 89, 'heavily': 89, 'cutting': 89, 'torture': 88, 'redemption': 88, 'darkness': 87, 'sin': 87, 'punch': 87, 'tribute': 87, 'disappointing': 87, 'mob': 86, 'vivid': 86, 'trick': 86, 'suffer': 85, 'modesty': 85, 'blob': 84, 'sympathy': 84, 'ruin': 84, 'hanging': 84, 'flow': 84, 'serve': 84, 'gain': 83, 'triumph': 83, 'storm': 83, 'gift': 83, 'lie': 83, 'guard': 83, 'neighbor': 83, 'fat': 82, 'ignore': 81, 'ken': 81, 'lower': 81, 'glory': 80, 'crude': 80, 'promise': 79, 'failure': 79, 'drinking': 79, 'tender': 79, 'din': 78, 'contact': 78, 'attraction': 78, 'vacation': 78, 'wear': 78, 'guide': 77, 'bother': 77, 'stellar': 77, 'kudos': 77, 'highest': 76, 'flaw': 76, 'horrors': 75, 'quote': 75, 'providing': 75, 'adorable': 75, 'corruption': 74, 'excuse': 74, 'dislike': 74, 'accused': 72, 'bomb': 72, 'birthday': 71, 'destroyed': 71, 'propaganda': 71, 'poorly': 70, 'discovery': 70, 'row': 70, 'split': 70, 'wealth': 69, 'substance': 68, 'strip': 68, 'march': 68, 'endless': 67, 'dawn': 67, 'intimate': 67, 'weight': 67, 'worry': 66, 'drunken': 66, 'colonel': 66, 'defeat': 66, 'samurai': 66, 'worried': 66, 'intrigue': 66, 'versus': 64, 'upset': 64, 'savage': 64, 'traveling': 63, 'confidence': 63, 'execution': 62, 'mate': 62, 'stark': 62, 'remarkably': 61, 'demon': 61, 'mistress': 61, 'advanced': 61, 'planning': 61, 'rage': 61, 'gross': 61, 'homage': 60, 'contrary': 60, 'sentinel': 60, 'hysterical': 60, 'thrill': 60, 'critic': 60, 'smiling': 60, 'absence': 59, 'celebrity': 59, 'complexity': 59, 'performer': 59, 'ease': 59, 'honesty': 59, 'despair': 59, 'bonus': 59, 'lesbian': 58, 'twin': 58, 'succeed': 58, 'calm': 57, 'humble': 57, 'polished': 57, 'originality': 57, 'liking': 57, 'strike': 57, 'craft': 57, 'aid': 57, 'difficulties': 56, 'represented': 56, 'curse': 56, 'corrupt': 56, 'grave': 55, 'unpredictable': 55, 'fancy': 55, 'comfort': 55, 'garden': 55, 'bland': 54, 'bang': 54, 'disgusting': 54, 'straightforward': 52, 'argument': 52, 'stress': 52, 'servant': 51, 'explosion': 51, 'vice': 51, 'nurse': 51, 'sincere': 51, 'rhythm': 51, 'foul': 51, 'nervous': 51, 'unfold': 50, 'bite': 50, 'shed': 50, 'acceptance': 50, 'farce': 50, 'precious': 49, 'prisoner': 49, 'rubbish': 49, 'butt': 49, 'furious': 49, 'bore': 48, 'exquisite': 48, 'confident': 48, 'examination': 48, 'romp': 48, 'offensive': 48, 'isolated': 48, 'brutality': 48, 'pressure': 47, 'demand': 47, 'difficulty': 47, 'producing': 47, 'departure': 47, 'cream': 46, 'bloom': 46, 'hire': 46, 'practice': 46, 'superficial': 46, 'greatness': 46, 'deceased': 46, 'childish': 45, 'chorus': 45, 'divine': 45, 'stiff': 45, 'terrorist': 44, 'doom': 44, 'corpse': 44, 'gag': 44, 'failing': 44, 'champion': 44, 'prey': 44, 'riot': 44, 'mighty': 44, 'cheer': 44, 'exchange': 43, 'expedition': 43, 'lavish': 43, 'impress': 43, 'pirate': 43, 'idiot': 43, 'eager': 43, 'resident': 43, 'phantom': 43, 'benefit': 42, 'peck': 42, 'betrayal': 42, 'burn': 42, 'arrogant': 42, 'iron': 42, 'objective': 42, 'advance': 42, 'enchanting': 42, 'horribly': 41, 'refused': 41, 'communicate': 41, 'crack': 41, 'determination': 41, 'conviction': 41, 'bogus': 41, 'blast': 40, 'labor': 40, 'embrace': 40, 'injured': 40, 'resources': 40, 'fleet': 40, 'parade': 40, 'bully': 40, 'shoulder': 40, 'harm': 40, 'endure': 39, 'deliberate': 39, 'clash': 39, 'aspiring': 39, 'disorder': 38, 'credited': 38, 'tower': 38, 'neurotic': 38, 'grotesque': 38, 'modest': 37, 'symbolic': 37, 'salvation': 37, 'slap': 37, 'absorbed': 37, 'inspire': 36, 'praised': 36, 'fade': 36, 'pretending': 36, 'dashing': 36, 'vertigo': 36, 'growth': 36, 'damage': 36, 'fascination': 36, 'wound': 36, 'profession': 35, 'organized': 35, 'wreck': 35, 'distress': 35, 'dreadful': 35, 'sentence': 35, 'mortal': 35, 'biblical': 35, 'homosexuality': 35, 'encourage': 34, 'rejected': 34, 'hippie': 34, 'recognizable': 34, 'embarrassing': 34, 'seasoned': 34, 'confess': 34, 'staring': 34, 'sneak': 34, 'hollow': 33, 'evolution': 33, 'swear': 33, 'helpful': 33, 'rear': 33, 'absent': 33, 'deny': 33, 'expectation': 32, 'destroying': 32, 'hoot': 32, 'celebrated': 32, 'spectacle': 32, 'defense': 32, 'patience': 32, 'empathy': 32, 'belt': 31, 'haunt': 31, 'elite': 31, 'receiving': 31, 'stroke': 31, 'hardened': 31, 'comprehend': 30, 'dust': 30, 'debate': 30, 'error': 30, 'gap': 30, 'collapse': 30, 'refuse': 29, 'rugged': 29, 'dedication': 29, 'fury': 29, 'polish': 29, 'weary': 29, 'admiration': 29, 'sloppy': 29, 'cleaning': 29, 'jarring': 29, 'array': 28, 'cunning': 28, 'advise': 28, 'rod': 28, 'foundation': 28, 'disastrous': 28, 'tax': 28, 'slip': 28, 'confined': 28, 'supremacy': 28, 'suspicion': 28, 'courtesy': 28, 'regal': 28, 'marked': 28, 'epitome': 28, 'aura': 27, 'bias': 27, 'earnest': 27, 'restraint': 27, 'glowing': 27, 'idol': 27, 'fierce': 27, 'interior': 27, 'defending': 27, 'complement': 27, 'destination': 27, 'fanatic': 27, 'breakfast': 27, 'vanity': 26, 'alcoholism': 26, 'efficient': 26, 'abandon': 26, 'license': 26, 'buzz': 26, 'sensational': 26, 'caricature': 26, 'outlaw': 26, 'shell': 26, 'whip': 26, 'tenderness': 26, 'liberty': 26, 'bonds': 26, 'disliked': 26, 'republic': 26, 'revival': 25, 'admirer': 25, 'grudge': 25, 'bounty': 25, 'dubious': 25, 'pervert': 25, 'suck': 25, 'assistance': 25, 'cheering': 25, 'unexplained': 25, 'compassionate': 25, 'uncertain': 25, 'uninteresting': 24, 'spree': 24, 'sour': 24, 'hostile': 24, 'verge': 24, 'grounded': 24, 'scandal': 24, 'distinction': 24, 'somber': 24, 'senseless': 24, 'hopeful': 24, 'pound': 24, 'jam': 24, 'bless': 24, 'irrelevant': 24, 'neglect': 23, 'astonishingly': 23, 'kindness': 23, 'convention': 23, 'foolish': 23, 'fulfill': 23, 'associate': 23, 'skilled': 23, 'denying': 23, 'intact': 23, 'crook': 23, 'raging': 23, 'anxiety': 23, 'pornography': 23, 'possess': 23, 'overbearing': 22, 'cigarette': 22, 'familiarity': 22, 'radiant': 22, 'resistance': 22, 'communism': 22, 'virtue': 22, 'shrink': 22, 'fraud': 22, 'partnership': 22, 'discipline': 22, 'denied': 22, 'opposition': 22, 'applause': 22, 'gaining': 22, 'handy': 22, 'civilized': 22, 'ally': 21, 'cocaine': 21, 'injury': 21, 'phony': 21, 'contribute': 21, 'instrumental': 21, 'seduction': 21, 'mannered': 21, 'spice': 21, 'decline': 21, 'protecting': 21, 'attacking': 21, 'quaint': 21, 'palsy': 21, 'drawback': 21, 'progression': 21, 'inheritance': 21, 'oppressive': 21, 'subjected': 21, 'brawl': 21, 'aristocratic': 21, 'distracted': 21, 'recreation': 21, 'hug': 21, 'puppy': 20, 'bargain': 20, 'council': 20, 'harmony': 20, 'welcomed': 20, 'worthless': 20, 'organization': 20, 'celebrating': 20, 'sunk': 20, 'armor': 20, 'disgust': 20, 'sorely': 20, 'illusion': 20, 'horizon': 20, 'crypt': 20, 'uncertainty': 20, 'grumpy': 20, 'outlandish': 20, 'lurking': 19, 'incorrect': 19, 'retirement': 19, 'pioneer': 19, 'chairman': 19, 'bum': 19, 'idiotic': 19, 'fearing': 19, 'rigid': 19, 'downfall': 19, 'heroism': 19, 'boo': 19, 'honorable': 19, 'remove': 19, 'democracy': 19, 'tramp': 19, 'rejection': 19, 'stumble': 18, 'glaring': 18, 'adultery': 18, 'sting': 18, 'persistent': 18, 'irrational': 18, 'dire': 18, 'grandeur': 18, 'addresses': 18, 'undying': 18, 'illustrate': 18, 'hesitation': 18, 'rational': 18, 'intervention': 18, 'revive': 18, 'rave': 18, 'glow': 18, 'consummate': 18, 'despise': 18, 'battlefield': 18, 'worm': 18, 'gossip': 18, 'smitten': 18, 'revolt': 17, 'crushing': 17, 'unlucky': 17, 'pad': 17, 'timely': 17, 'disregard': 17, 'tempest': 17, 'travesty': 17, 'measured': 17, 'busted': 17, 'bastard': 17, 'shattered': 16, 'medal': 16, 'dumps': 16, 'luxury': 16, 'verve': 16, 'bureaucracy': 16, 'visionary': 16, 'refusal': 16, 'merciless': 16, 'rooted': 16, 'assembly': 16, 'pinnacle': 16, 'decency': 16, 'anchor': 16, 'moderate': 16, 'domination': 16, 'seal': 16, 'sacrifices': 16, 'tiresome': 16, 'cuckoo': 16, 'fuss': 16, 'alluring': 16, 'rubble': 15, 'rambling': 15, 'epidemic': 15, 'stranded': 15, 'tangled': 15, 'income': 15, 'alarm': 15, 'delayed': 15, 'bout': 15, 'nonsensical': 15, 'supporter': 15, 'timid': 15, 'countess': 15, 'volunteer': 15, 'lump': 15, 'stud': 15, 'heal': 15, 'stalk': 15, 'progressive': 15, 'unquestionably': 15, 'hurting': 15, 'showy': 14, 'tripping': 14, 'hush': 14, 'poisoned': 14, 'guise': 14, 'unity': 14, 'royalty': 14, 'confuse': 14, 'trophy': 14, 'protector': 14, 'serene': 14, 'purity': 14, 'aloof': 14, 'pregnancy': 14, 'perennial': 14, 'reject': 14, 'agreement': 14, 'murky': 14, 'bickering': 14, 'candid': 14, 'lackluster': 14, 'reconciliation': 14, 'enforcement': 14, 'rabid': 14, 'discrimination': 14, 'saber': 14, 'prospect': 13, 'render': 13, 'pose': 13, 'hail': 13, 'levy': 13, 'coolness': 13, 'irons': 13, 'harvest': 13, 'satanic': 13, 'aggression': 13, 'interference': 13, 'gloss': 13, 'justification': 13, 'irresponsible': 13, 'numb': 13, 'perplexed': 13, 'stab': 13, 'respite': 13, 'unscrupulous': 13, 'porno': 13, 'privileged': 13, 'nefarious': 13, 'raving': 13, 'famine': 13, 'distressed': 13, 'indelible': 13, 'decay': 13, 'sore': 13, 'poke': 13, 'bait': 13, 'salute': 13, 'ram': 13, 'completing': 12, 'splendor': 12, 'merge': 12, 'serpent': 12, 'exuberance': 12, 'misunderstanding': 12, 'assurance': 12, 'tolerate': 12, 'recovery': 12, 'advent': 12, 'mercenary': 12, 'imitated': 12, 'sap': 12, 'moronic': 12, 'humility': 12, 'dispute': 12, 'inaccurate': 12, 'worship': 12, 'shoddy': 12, 'conceit': 12, 'crusade': 12, 'bender': 12, 'exile': 12, 'erratic': 12, 'apologize': 12, 'resigned': 12, 'endowed': 12, 'helplessness': 12, 'fidelity': 12, 'grit': 12, 'bitterness': 11, 'sturdy': 11, 'crowning': 11, 'voluptuous': 11, 'delusional': 11, 'unsatisfied': 11, 'concluding': 11, 'rail': 11, 'brotherhood': 11, 'extinct': 11, 'spelling': 11, 'decrepit': 11, 'pretense': 11, 'distortion': 11, 'enable': 11, 'proposition': 11, 'joking': 11, 'outrage': 11, 'pillow': 11, 'prohibition': 11, 'reserve': 11, 'smack': 11, 'everlasting': 11, 'educate': 11, 'unsavory': 11, 'symphony': 11, 'patron': 11, 'fashionable': 11, 'endeavor': 10, 'overthrow': 10, 'acquire': 10, 'premises': 10, 'wimpy': 10, 'removal': 10, 'humiliating': 10, 'construct': 10, 'diagnosis': 10, 'pretensions': 10, 'infinite': 10, 'moron': 10, 'antithesis': 10, 'chore': 10, 'renegade': 10, 'manifested': 10, 'contradict': 10, 'omen': 10, 'speculation': 10, 'pollution': 10, 'disillusionment': 10, 'boast': 10, 'limp': 10, 'reverence': 10, 'glimmer': 10, 'preserve': 10, 'rapture': 10, 'evergreen': 10, 'drown': 10, 'threaten': 10, 'entangled': 10, 'mutant': 10, 'trendy': 10, 'garish': 10, 'detention': 10, 'glorify': 10, 'ovation': 10, 'assassinate': 10, 'convert': 10, 'whirlwind': 10, 'whim': 10, 'incompetent': 10, 'flirt': 10, 'breakup': 9, 'afflicted': 9, 'captivate': 9, 'oddity': 9, 'boil': 9, 'kindred': 9, 'dismay': 9, 'riddled': 9, 'attest': 9, 'fussy': 9, 'forgiving': 9, 'rekindle': 9, 'barrier': 9, 'crusty': 9, 'choke': 9, 'woefully': 9, 'paraphrase': 9, 'cruelly': 9, 'dazed': 9, 'organic': 9, 'qualifying': 9, 'sensuality': 9, 'violation': 9, 'unforgiving': 9, 'practiced': 9, 'withstand': 9, 'barred': 9, 'tease': 9, 'horrid': 9, 'drone': 9, 'superiority': 9, 'defiance': 9, 'suppress': 9, 'slate': 9, 'prominence': 9, 'excite': 9, 'grieve': 9, 'glib': 9, 'complication': 9, 'garrison': 9, 'rack': 9, 'contaminated': 9, 'inconsequential': 9, 'dictatorship': 9, 'abandonment': 9, 'forewarned': 8, 'incompetence': 8, 'tribulation': 8, 'excruciating': 8, 'orgasm': 8, 'chivalry': 8, 'siren': 8, 'crank': 8, 'casualty': 8, 'clashing': 8, 'soil': 8, 'unacceptable': 8, 'cripple': 8, 'warp': 8, 'cooperation': 8, 'swelling': 8, 'aristocracy': 8, 'frolic': 8, 'oasis': 8, 'dissolution': 8, 'strut': 8, 'aimless': 8, 'lapse': 8, 'endangered': 8, 'untrue': 8, 'beam': 8, 'stint': 8, 'customer': 8, 'vanished': 8, 'uninitiated': 8, 'victimized': 8, 'embroiled': 8, 'cradle': 8, 'fraught': 8, 'curl': 8, 'conceal': 8, 'disturbance': 8, 'plentiful': 8, 'retribution': 8, 'grate': 8, 'accompaniment': 8, 'dummy': 8, 'revere': 8, 'virtuous': 8, 'unfulfilled': 8, 'animosity': 8, 'hasty': 8, 'wages': 8, 'shabby': 8, 'detect': 7, 'birthplace': 7, 'counselor': 7, 'evade': 7, 'restrain': 7, 'motherhood': 7, 'rejoice': 7, 'bothering': 7, 'breach': 7, 'craftsman': 7, 'boisterous': 7, 'tantalizing': 7, 'adverse': 7, 'trepidation': 7, 'elimination': 7, 'earnestly': 7, 'tumble': 7, 'oppose': 7, 'ardent': 7, 'litter': 7, 'pine': 7, 'atonement': 7, 'zeal': 7, 'deceive': 7, 'deceived': 7, 'gospel': 7, 'shiver': 7, 'grasping': 7, 'sullen': 7, 'heighten': 7, 'cooperate': 7, 'enthusiast': 7, 'irritation': 7, 'symmetry': 7, 'persistence': 7, 'exaggerate': 7, 'reactionary': 7, 'oversight': 7, 'debacle': 7, 'subversion': 7, 'depressive': 7, 'gaunt': 7, 'venomous': 7, 'dashed': 7, 'fee': 7, 'collision': 7, 'correction': 6, 'dun': 6, 'mockery': 6, 'starved': 6, 'detection': 6, 'selfishness': 6, 'unwavering': 6, 'antagonistic': 6, 'piles': 6, 'uninterested': 6, 'mediocrity': 6, 'deterioration': 6, 'magnificence': 6, 'outdo': 6, 'intrusion': 6, 'keystone': 6, 'dictionary': 6, 'incisive': 6, 'patronizing': 6, 'overjoyed': 6, 'desolation': 6, 'dependency': 6, 'infinity': 6, 'slug': 6, 'generosity': 6, 'abduction': 6, 'bigoted': 6, 'playhouse': 6, 'tact': 6, 'completion': 6, 'excluding': 6, 'inflation': 6, 'disparity': 6, 'powerless': 6, 'nursery': 6, 'sage': 6, 'fraternal': 6, 'oak': 6, 'unsatisfactory': 6, 'ravenous': 6, 'fervor': 6, 'exceed': 6, 'complicate': 6, 'prevail': 6, 'savor': 6, 'admiral': 6, 'lace': 6, 'pungent': 5, 'unwelcome': 5, 'creditable': 5, 'cathartic': 5, 'unprotected': 5, 'bluff': 5, 'resistant': 5, 'thrift': 5, 'languid': 5, 'frigid': 5, 'leukemia': 5, 'unbiased': 5, 'overpaid': 5, 'deluge': 5, 'ministry': 5, 'soak': 5, 'dogged': 5, 'banished': 5, 'racket': 5, 'mite': 5, 'enlighten': 5, 'refinement': 5, 'abomination': 5, 'organize': 5, 'patter': 5, 'chemist': 5, 'babble': 5, 'wince': 5, 'unrequited': 5, 'growling': 5, 'defect': 5, 'noose': 5, 'stereotyped': 5, 'restriction': 5, 'auspicious': 5, 'stationary': 5, 'obtuse': 5, 'eagerness': 5, 'specter': 5, 'delinquency': 5, 'lurk': 5, 'favorable': 5, 'instruction': 5, 'offhand': 5, 'unsettled': 5, 'erroneous': 5, 'stifled': 5, 'swastika': 5, 'skewed': 5, 'resign': 5, 'tumor': 5, 'inadequate': 5, 'madden': 5, 'equilibrium': 5, 'fudge': 5, 'coronation': 5, 'infallible': 5, 'margin': 5, 'pained': 5, 'dementia': 5, 'conscientious': 5, 'tenacious': 5, 'creaking': 5, 'perish': 5, 'resignation': 4, 'scrambling': 4, 'dismemberment': 4, 'shrunk': 4, 'hazard': 4, 'instruct': 4, 'babbling': 4, 'slaughtering': 4, 'resisting': 4, 'concealed': 4, 'fainting': 4, 'indecision': 4, 'apathetic': 4, 'unbroken': 4, 'shortcoming': 4, 'smuggler': 4, 'setback': 4, 'defenseless': 4, 'aptitude': 4, 'decayed': 4, 'steadfast': 4, 'snide': 4, 'respecting': 4, 'mutilated': 4, 'unscathed': 4, 'prestige': 4, 'innocuous': 4, 'blush': 4, 'smelling': 4, 'openness': 4, 'loom': 4, 'emulate': 4, 'plunge': 4, 'blunder': 4, 'mislead': 4, 'pledge': 4, 'blessings': 4, 'gent': 4, 'derision': 4, 'manufacturer': 4, 'default': 4, 'anaconda': 4, 'pastime': 4, 'weariness': 4, 'hiss': 4, 'untold': 4, 'yawn': 4, 'wrench': 4, 'surrendering': 4, 'undermined': 4, 'nurture': 4, 'cushion': 4, 'vindicated': 4, 'opinionated': 4, 'dictatorial': 4, 'paralysis': 4, 'dependence': 4, 'stain': 4, 'distasteful': 4, 'absolution': 4, 'withdraw': 4, 'notables': 4, 'agonizing': 4, 'sluggish': 4, 'cheesecake': 4, 'authorized': 4, 'unimpressed': 4, 'martyrdom': 4, 'sermon': 4, 'payback': 4, 'apprehension': 4, 'shambles': 4, 'gallant': 4, 'atone': 4, 'clouded': 3, 'humbug': 3, 'exhaust': 3, 'beggar': 3, 'picket': 3, 'hurrah': 3, 'precinct': 3, 'dreadfully': 3, 'contemptible': 3, 'annihilated': 3, 'deceiving': 3, 'desiring': 3, 'sponge': 3, 'gall': 3, 'undo': 3, 'tickle': 3, 'denounce': 3, 'spasm': 3, 'elect': 3, 'weeds': 3, 'ascent': 3, 'wane': 3, 'prosecute': 3, 'pessimism': 3, 'checklist': 3, 'disagreeing': 3, 'goblin': 3, 'growl': 3, 'inconsiderate': 3, 'bark': 3, 'tranquil': 3, 'compliance': 3, 'disregarded': 3, 'passivity': 3, 'remiss': 3, 'asshole': 3, 'vomiting': 3, 'discord': 3, 'raptors': 3, 'intolerant': 3, 'hindrance': 3, 'soulmate': 3, 'doldrums': 3, 'aloha': 3, 'neglecting': 3, 'imperfection': 3, 'renewal': 3, 'throttle': 3, 'burglary': 3, 'authoritative': 3, 'ballot': 3, 'disqualified': 3, 'feverish': 3, 'kitten': 3, 'dispel': 3, 'manly': 3, 'redress': 3, 'fleece': 3, 'dwarfed': 3, 'barbarism': 3, 'bribe': 3, 'affiliated': 3, 'sobriety': 3, 'acquiring': 3, 'atom': 3, 'unyielding': 3, 'corrupting': 3, 'flounder': 3, 'viper': 3, 'tarnish': 3, 'plumb': 3, 'vigilance': 3, 'monstrosity': 3, 'marrow': 3, 'subdue': 3, 'tenacity': 3, 'covenant': 3, 'absentee': 3, 'labored': 3, 'discretion': 3, 'chattering': 3, 'adder': 3, 'campaigning': 3, 'consternation': 3, 'attractiveness': 3, 'denunciation': 3, 'venerable': 3, 'incendiary': 3, 'nap': 3, 'conjuring': 3, 'provocation': 3, 'contributor': 3, 'instinctive': 3, 'mishap': 3, 'snarling': 3, 'acrobat': 3, 'ineffective': 3, 'underpaid': 3, 'fumble': 3, 'remedy': 3, 'severity': 2, 'reciprocate': 2, 'subjugation': 2, 'rout': 2, 'readiness': 2, 'barricade': 2, 'partisan': 2, 'diversified': 2, 'misrepresentation': 2, 'deficiency': 2, 'forgery': 2, 'crunch': 2, 'hobo': 2, 'standstill': 2, 'cramp': 2, 'implacable': 2, 'trembling': 2, 'disable': 2, 'usurped': 2, 'disorganized': 2, 'stamina': 2, 'accommodation': 2, 'tumult': 2, 'inert': 2, 'discards': 2, 'symmetrical': 2, 'battery': 2, 'lawful': 2, 'blighted': 2, 'lurch': 2, 'unequivocally': 2, 'unpublished': 2, 'grated': 2, 'dole': 2, 'irrevocable': 2, 'discriminate': 2, 'impotence': 2, 'frayed': 2, 'moderator': 2, 'bilingual': 2, 'scaffold': 2, 'adrift': 2, 'egregious': 2, 'bigot': 2, 'muddle': 2, 'mediation': 2, 'discharge': 2, 'sweetie': 2, 'fatality': 2, 'transgression': 2, 'accord': 2, 'sisterhood': 2, 'genial': 2, 'extricate': 2, 'entanglement': 2, 'discourage': 2, 'encyclopedia': 2, 'impervious': 2, 'snags': 2, 'frown': 2, 'enliven': 2, 'goodwill': 2, 'constraint': 2, 'perk': 2, 'sonorous': 2, 'repress': 2, 'laudable': 2, 'naturalist': 2, 'responsive': 2, 'junta': 2, 'forefathers': 2, 'masochism': 2, 'connoisseur': 2, 'pique': 2, 'segregated': 2, 'outcry': 2, 'austerity': 2, 'concussion': 2, 'torpedo': 2, 'buffet': 2, 'esthetic': 2, 'plagiarism': 2, 'vigor': 2, 'plush': 2, 'orderly': 2, 'consecration': 2, 'homesick': 2, 'leeway': 2, 'rust': 2, 'endowment': 2, 'precedence': 2, 'choral': 2, 'glare': 2, 'waffle': 2, 'infraction': 2, 'asserting': 2, 'relaxation': 2, 'defender': 2, 'minimize': 2, 'aggressor': 2, 'aiding': 2, 'undecided': 2, 'relieving': 2, 'inaction': 2, 'luxuriant': 2, 'commonwealth': 2, 'deactivate': 2, 'eavesdropping': 2, 'enforce': 2, 'expatriate': 2, 'exterminate': 2, 'spectral': 2, 'halting': 2, 'affliction': 2, 'valor': 2, 'revulsion': 2, 'agility': 2, 'abolish': 2, 'betterment': 2, 'hangman': 2, 'stripe': 2, 'approving': 2, 'maternal': 2, 'bailiff': 2, 'damper': 2, 'regretting': 2, 'tutelage': 2, 'elated': 1, 'accuser': 1, 'gallantry': 1, 'devotional': 1, 'conflagration': 1, 'caries': 1, 'urchin': 1, 'demonstrative': 1, 'boycott': 1, 'delegate': 1, 'mimicry': 1, 'shelved': 1, 'pessimist': 1, 'profuse': 1, 'rabies': 1, 'fecal': 1, 'peculiarities': 1, 'blower': 1, 'flap': 1, 'ejaculation': 1, 'standoff': 1, 'oracle': 1, 'enmity': 1, 'odor': 1, 'thoroughbred': 1, 'flagrant': 1, 'penetration': 1, 'reinforcement': 1, 'cooperating': 1, 'irregular': 1, 'startle': 1, 'falter': 1, 'endow': 1, 'cultivate': 1, 'agitation': 1, 'fuming': 1, 'slur': 1, 'sublimation': 1, 'pickle': 1, 'banshee': 1, 'retract': 1, 'clearance': 1, 'retort': 1, 'profusion': 1, 'blowout': 1, 'advocacy': 1, 'rejuvenated': 1, 'repudiation': 1, 'aberration': 1, 'ply': 1, 'elevation': 1, 'prudence': 1, 'abort': 1, 'groundwork': 1, 'languish': 1, 'infiltration': 1, 'inactivity': 1, 'bitterly': 1, 'quack': 1, 'lordship': 1, 'splinter': 1, 'balm': 1, 'dabbling': 1, 'nul': 1, 'dishonor': 1, 'depreciation': 1, 'deletion': 1, 'immaturity': 1, 'misrepresent': 1, 'battled': 1, 'flinch': 1, 'maggot': 1, 'opiate': 1, 'incase': 1, 'foresight': 1, 'restful': 1, 'wireless': 1, 'obliterated': 1, 'dispersion': 1, 'disparage': 1, 'unprofitable': 1, 'vegetative': 1, 'aberrant': 1, 'lash': 1, 'alabaster': 1, 'rejuvenate': 1, 'inconsistency': 1, 'fret': 1, 'buzzed': 1, 'ordination': 1, 'fume': 1, 'procure': 1, 'ordained': 1, 'wrangling': 1, 'adaptable': 1, 'anathema': 1, 'timidity': 1, 'assent': 1, 'scrumptious': 1, 'winnings': 1, 'unsustainable': 1, 'feces': 1, 'overpriced': 1, 'apache': 1, 'bummer': 1, 'quell': 1, 'firearms': 1, 'synchronize': 1, 'inadmissible': 1, 'expel': 1, 'weakened': 1, 'expedient': 1, 'smoothness': 1, 'exacerbate': 1, 'remission': 1, 'taint': 1, 'hemorrhage': 1, 'imperfectly': 1, 'muzzle': 1, 'balk': 1, 'solidity': 1, 'spotless': 1, 'graciously': 1, 'dolphin': 1, 'soiled': 1, 'deformity': 1, 'fleshy': 1, 'discolored': 1, 'cutters': 1, 'blemish': 1, 'glide': 1, 'accredited': 1, 'quiver': 1, 'inequitable': 1, 'onerous': 1, 'specie': 1, 'injunction': 1, 'regularity': 1, 'uninfected': 1, 'calculator': 1, 'impropriety': 1, 'acknowledgment': 1, 'emaciated': 1, 'thump': 1, 'incompleteness': 1, 'perplexity': 1, 'dislocated': 1, 'godly': 1, 'renounce': 1, 'blot': 1, 'constancy': 1, 'stools': 1, 'quicksilver': 1, 'deadlock': 1, 'reaffirm': 1, 'windfall': 1, 'autocratic': 1, 'gaby': 1, 'jargon': 1, 'advisable': 1, 'boilerplate': 1, 'apostle': 1})\n"
     ]
    },
    {
     "data": {
      "image/png": "[encoded data removed]",
      "text/plain": [
       "<matplotlib.figure.Figure at 0x7f7be699bf98>"
      ]
     },
     "metadata": {},
     "output_type": "display_data"
    }
   ],
   "source": [
    "'''\n",
    "Emotion words histogram\n",
    "'''\n",
    "directory = '/home/luluvyd/corpus/aclImdb/train/pos/'\n",
    "read_files = glob.glob(directory + '*.txt')\n",
    "\n",
    "counterEmos = Counter('')\n",
    "i = 0\n",
    "\n",
    "for infile in read_files:\n",
    "    with open(infile, 'r', errors='replace') as f:\n",
    "        text = f.read()\n",
    "        doc = nlp(text)\n",
    "        counterEmos += analyzeEmotionWords(doc, emos) \n",
    "        if (i % 5000 == 0): \n",
    "            print('i : ' + str(i))  \n",
    "        i += 1\n",
    "    \n",
    "print(counterEmos)\n",
    "plt.figure(num=None, figsize=(20, 6), dpi=80, facecolor='w', edgecolor='k')\n",
    "labels, values = rankCounter(counterEmos)\n",
    "indexes = np.arange(len(labels))\n",
    "width = 1\n",
    "plt.bar(indexes, values, width)\n",
    "plt.xticks(indexes + width * 0.5, labels)\n",
    "plt.show()"
   ]
  },
  {
   "cell_type": "code",
   "execution_count": null,
   "metadata": {
    "collapsed": true
   },
   "outputs": [],
   "source": []
  }
 ],
 "metadata": {
  "anaconda-cloud": {},
  "kernelspec": {
   "display_name": "Python [conda env:anaconda3]",
   "language": "python",
   "name": "conda-env-anaconda3-py"
  },
  "language_info": {
   "codemirror_mode": {
    "name": "ipython",
    "version": 3
   },
   "file_extension": ".py",
   "mimetype": "text/x-python",
   "name": "python",
   "nbconvert_exporter": "python",
   "pygments_lexer": "ipython3",
   "version": "3.5.2"
  }
 },
 "nbformat": 4,
 "nbformat_minor": 1
}
