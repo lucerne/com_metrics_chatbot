{
 "cells": [
  {
   "cell_type": "code",
   "execution_count": 42,
   "metadata": {},
   "outputs": [
    {
     "name": "stdout",
     "output_type": "stream",
     "text": [
      "The autoreload extension is already loaded. To reload it, use:\n",
      "  %reload_ext autoreload\n"
     ]
    }
   ],
   "source": [
    "%load_ext autoreload\n",
    "%autoreload 2\n",
    "\n",
    "import spacy\n",
    "import numpy as np\n",
    "import matplotlib.pyplot as plt\n",
    "import os\n",
    "import glob\n",
    "import re\n",
    "from collections import Counter\n",
    "import numpy as np\n",
    "import matplotlib.pyplot as plt\n",
    "import json\n",
    "\n",
    "import os\n",
    "import sys\n",
    "module_path = os.path.abspath(os.path.join('..'))\n",
    "if module_path not in sys.path:\n",
    "    sys.path.append(module_path)\n",
    "\n",
    "from analysis_code.analyze_corpus import *"
   ]
  },
  {
   "cell_type": "code",
   "execution_count": 2,
   "metadata": {},
   "outputs": [],
   "source": [
    "plt.rcParams.update({'font.size': 11})\n",
    "barwidth = 0.8"
   ]
  },
  {
   "cell_type": "code",
   "execution_count": 107,
   "metadata": {},
   "outputs": [],
   "source": [
    "# Positive training dataset\n",
    "posTrainDir = '/home/dashi/lulu/corpus/aclImdb/train/pos/'\n",
    "# Negative training dataset\n",
    "negTrainDir = '/home/dashi/lulu/corpus/aclImdb/train/neg/'\n",
    "exampleDir = '/home/dashi/lulu/corpus/aclImdb/sample/'\n",
    "filename = '/home/dashi/lulu/corpus/aclImdb/sample/99_8.txt'\n",
    "# Positive test dataset\n",
    "posTestDir = '/home/dashi/lulu/corpus/aclImdb/test/pos/'\n",
    "# Negative test dataset\n",
    "negTestDir = '/home/dashi/lulu/corpus/aclImdb/test/neg/'"
   ]
  },
  {
   "cell_type": "code",
   "execution_count": 4,
   "metadata": {},
   "outputs": [],
   "source": [
    "nlp = spacy.load('en_core_web_md')"
   ]
  },
  {
   "cell_type": "code",
   "execution_count": 5,
   "metadata": {},
   "outputs": [],
   "source": [
    "emos = loadEmotionWords('/home/dashi/lulu/corpus/NRC-Emotion-Lexicon-v0.92/Generated-EmotionWords.txt')"
   ]
  },
  {
   "cell_type": "code",
   "execution_count": 7,
   "metadata": {},
   "outputs": [
    {
     "name": "stdout",
     "output_type": "stream",
     "text": [
      "Counter({'DET': 3, 'AUX': 2, 'NOUN': 2, 'PUNCT': 2, 'ADJ': 1, 'ADV': 1})\n"
     ]
    }
   ],
   "source": [
    "parsed_text = 'This is an awesome sentence. Where is the cat?'\n",
    "doc = nlp(parsed_text)\n",
    "counter = analyzePOS(doc)\n",
    "print(counter)"
   ]
  },
  {
   "cell_type": "code",
   "execution_count": 4,
   "metadata": {},
   "outputs": [],
   "source": [
    "filename = '/home/dashi/lulu/examples/data/example_out.json'\n",
    "with open(filename, 'w+') as f:\n",
    "    json.dump(counter, f)"
   ]
  },
  {
   "cell_type": "code",
   "execution_count": 5,
   "metadata": {},
   "outputs": [
    {
     "name": "stdout",
     "output_type": "stream",
     "text": [
      "SENTENCE : This is an awesome sentence.\n",
      "SENTENCE : Where is the cat?\n",
      "Counter({5: 1, 6: 1})\n"
     ]
    }
   ],
   "source": [
    "parsed_text = 'This is an awesome sentence. Where is the cat?'\n",
    "doc = nlp(parsed_text)\n",
    "counter = analyzeSentence(doc)\n",
    "print(counter)"
   ]
  },
  {
   "cell_type": "code",
   "execution_count": 6,
   "metadata": {},
   "outputs": [
    {
     "name": "stdout",
     "output_type": "stream",
     "text": [
      "Counter({2: 3, 1: 2, 3: 2, 4: 1, 5: 1, 7: 1, 8: 1})\n"
     ]
    }
   ],
   "source": [
    "parsed_text = 'This is an awesome sentence. Where is the cat?'\n",
    "doc = nlp(parsed_text)\n",
    "counter = analyzeWordLength(doc)\n",
    "print(counter)"
   ]
  },
  {
   "cell_type": "code",
   "execution_count": 7,
   "metadata": {},
   "outputs": [
    {
     "name": "stdout",
     "output_type": "stream",
     "text": [
      "Counter({'?': 1, '.': 1})\n"
     ]
    }
   ],
   "source": [
    "parsed_text = 'This is an awesome sentence. Where is the cat?'\n",
    "doc = nlp(parsed_text)\n",
    "counter = analyzePunctuation(doc)\n",
    "print(counter)"
   ]
  },
  {
   "cell_type": "code",
   "execution_count": 8,
   "metadata": {},
   "outputs": [
    {
     "name": "stdout",
     "output_type": "stream",
     "text": [
      "0.18181818181818182\n"
     ]
    }
   ],
   "source": [
    "parsed_text = 'This is an awesome sentence. Where is the cat?'\n",
    "doc = nlp(parsed_text)\n",
    "counterPos = analyzePOS(doc)\n",
    "counterPunc = analyzePunctuation(doc)\n",
    "print(sumCounter(counterPunc) / sumCounter(counterPos)) "
   ]
  },
  {
   "cell_type": "code",
   "execution_count": 9,
   "metadata": {},
   "outputs": [
    {
     "name": "stdout",
     "output_type": "stream",
     "text": [
      "Counter({'it': 2, 'what': 1, 'who': 1, 'him': 1, 'their': 1, 'my': 1})\n"
     ]
    }
   ],
   "source": [
    "parsed_text = 'This is an awesome sentence. My is better. Their food is worse. It is it. Who is good? What is in him?'\n",
    "doc = nlp(parsed_text)\n",
    "counterPunc = analyzePronoun(doc)\n",
    "print(counterPunc) "
   ]
  },
  {
   "cell_type": "code",
   "execution_count": 10,
   "metadata": {},
   "outputs": [
    {
     "name": "stdout",
     "output_type": "stream",
     "text": [
      "Counter({'it': 2, 'him': 1})\n"
     ]
    }
   ],
   "source": [
    "parsed_text = 'This is an awesome sentence. My is better. Their food is worse. It is it. Who is good? What is in him?'\n",
    "doc = nlp(parsed_text)\n",
    "counterPRP = analyzePronounPRP(doc)\n",
    "print(counterPRP) "
   ]
  },
  {
   "cell_type": "code",
   "execution_count": 11,
   "metadata": {},
   "outputs": [
    {
     "name": "stdout",
     "output_type": "stream",
     "text": [
      "Counter({'their': 1, 'my': 1})\n"
     ]
    }
   ],
   "source": [
    "parsed_text = 'This is an awesome sentence. My is better. Their food is worse. It is it. Who is good? What is in him?'\n",
    "doc = nlp(parsed_text)\n",
    "counterPRPD = analyzePronounPRPD(doc)\n",
    "print(counterPRPD) "
   ]
  },
  {
   "cell_type": "code",
   "execution_count": 12,
   "metadata": {},
   "outputs": [
    {
     "name": "stdout",
     "output_type": "stream",
     "text": [
      "Counter({'what': 1, 'who': 1})\n"
     ]
    }
   ],
   "source": [
    "parsed_text = 'This is an awesome sentence. My is better. Their food is worse. It is it. Who is good? What is in him?'\n",
    "doc = nlp(parsed_text)\n",
    "counterPWP = analyzePronounWP(doc)\n",
    "print(counterPWP) "
   ]
  },
  {
   "cell_type": "code",
   "execution_count": 13,
   "metadata": {},
   "outputs": [
    {
     "name": "stdout",
     "output_type": "stream",
     "text": [
      "Counter()\n"
     ]
    }
   ],
   "source": [
    "parsed_text = 'This is an awesome sentence. My is better. Their food is worse. It is it. Who is good? What is in him?'\n",
    "doc = nlp(parsed_text)\n",
    "counterPWPD = analyzePronounWPD(doc)\n",
    "print(counterPWPD) "
   ]
  },
  {
   "cell_type": "code",
   "execution_count": 14,
   "metadata": {},
   "outputs": [
    {
     "name": "stdout",
     "output_type": "stream",
     "text": [
      "Counter({'PRP': 3, 'PRP$': 2, 'WP': 2})\n"
     ]
    }
   ],
   "source": [
    "parsed_text = 'This is an awesome sentence. My is better. Their food is worse. It is it. Who is good? What is in him?'\n",
    "doc = nlp(parsed_text)\n",
    "counterPCat = analyzePronounCategories(doc)\n",
    "print(counterPCat) "
   ]
  },
  {
   "cell_type": "code",
   "execution_count": 15,
   "metadata": {},
   "outputs": [
    {
     "name": "stdout",
     "output_type": "stream",
     "text": [
      "Counter({'be': 2, 'rain': 1, 'run': 1})\n"
     ]
    }
   ],
   "source": [
    "parsed_text = 'This is an awesome sentence. I am running. It rains.'\n",
    "doc = nlp(parsed_text)\n",
    "counterVerb = analyzeVerb(doc)\n",
    "print(counterVerb) "
   ]
  },
  {
   "cell_type": "code",
   "execution_count": 5,
   "metadata": {},
   "outputs": [
    {
     "data": {
      "text/plain": [
       "Counter({'! good': 1, '! sentence': 1})"
      ]
     },
     "execution_count": 5,
     "metadata": {},
     "output_type": "execute_result"
    }
   ],
   "source": [
    "parsed_text = 'This is not a good sentence. I am running. It rains.'\n",
    "doc = nlp(parsed_text)\n",
    "analyzeEmotionWords(doc, emos)\n",
    "# counterEmo = analyzeEmotionWords(doc, emos)\n",
    "# print(counterEmo) "
   ]
  },
  {
   "cell_type": "code",
   "execution_count": 16,
   "metadata": {},
   "outputs": [
    {
     "data": {
      "image/png": "[encoded data removed]",
      "text/plain": [
       "<matplotlib.figure.Figure at 0x7f637f1da0b8>"
      ]
     },
     "metadata": {},
     "output_type": "display_data"
    }
   ],
   "source": [
    "labels, values = rankCounter(counter)\n",
    "indexes = np.arange(len(labels))\n",
    "width = 1\n",
    "plt.bar(indexes, values, width)\n",
    "plt.xticks(indexes + width * 0.5, labels)\n",
    "plt.show()"
   ]
  },
  {
   "cell_type": "code",
   "execution_count": 17,
   "metadata": {},
   "outputs": [
    {
     "data": {
      "image/png": "[encoded data removed]",
      "text/plain": [
       "<matplotlib.figure.Figure at 0x7f637f1fb128>"
      ]
     },
     "metadata": {},
     "output_type": "display_data"
    }
   ],
   "source": [
    "labels, values = rankCounter(counter)\n",
    "indexes = np.arange(len(labels))\n",
    "width = 1\n",
    "plt.bar(indexes, values, width)\n",
    "plt.xticks(indexes + width * 0.5, labels)\n",
    "plt.show()"
   ]
  },
  {
   "cell_type": "code",
   "execution_count": 18,
   "metadata": {},
   "outputs": [
    {
     "data": {
      "image/png": "[encoded data removed]",
      "text/plain": [
       "<matplotlib.figure.Figure at 0x7f638d82c208>"
      ]
     },
     "metadata": {},
     "output_type": "display_data"
    }
   ],
   "source": [
    "if __name__ == \"__main__\":  \n",
    "    with open(filename, 'r') as f:\n",
    "        text = f.read()\n",
    "        nlp = spacy.load('en_core_web_md')\n",
    "        doc = nlp(text)\n",
    "        counter = analyzePOS(doc)\n",
    "        \n",
    "        plt.figure(num=None, figsize=(20, 6), dpi=80, facecolor='w', edgecolor='k')\n",
    "\n",
    "        labels, values = rankCounter(counter)\n",
    "        indexes = np.arange(len(labels))\n",
    "        width = 1\n",
    "        plt.bar(indexes, values, width)\n",
    "        plt.xticks(indexes + width * 0.5, labels)\n",
    "        plt.show()\n",
    "    f.close()\n",
    "                \n"
   ]
  },
  {
   "cell_type": "code",
   "execution_count": 21,
   "metadata": {},
   "outputs": [
    {
     "name": "stdout",
     "output_type": "stream",
     "text": [
      "i : 0\n",
      "i : 1\n",
      "i : 2\n"
     ]
    },
    {
     "data": {
      "image/png": "[encoded data removed]",
      "text/plain": [
       "<matplotlib.figure.Figure at 0x7f637f1b38d0>"
      ]
     },
     "metadata": {},
     "output_type": "display_data"
    }
   ],
   "source": [
    "'''\n",
    "POS histogram\n",
    "error: doc input string cannot succeed 1 million characters\n",
    "problem: iterating over text is too slow, parallelize\n",
    "'''\n",
    "\n",
    "# read_files = glob.glob(\"/home/luluvyd/corpus/aclImdb/train/pos/*.txt\")\n",
    "read_files = glob.glob(directory + '*.txt')\n",
    "\n",
    "counter = Counter('')\n",
    "i = 0\n",
    "\n",
    "for infile in read_files:\n",
    "    print('i : ' + str(i))\n",
    "    with open(infile, 'r', errors='replace') as f:\n",
    "        text = f.read()\n",
    "        doc = nlp(text)\n",
    "        counter = analyzePOS(doc)\n",
    "        i += 1\n",
    "        \n",
    "        \n",
    "plt.figure(num=None, figsize=(20, 6), dpi=80, facecolor='w', edgecolor='k')\n",
    "labels, values = rankCounter(counter)\n",
    "indexes = np.arange(len(labels))\n",
    "width = 1\n",
    "plt.bar(indexes, values, width)\n",
    "plt.xticks(indexes + width * 0.5, labels)\n",
    "plt.show()"
   ]
  },
  {
   "cell_type": "code",
   "execution_count": 22,
   "metadata": {},
   "outputs": [
    {
     "name": "stdout",
     "output_type": "stream",
     "text": [
      "i : 0\n",
      "SENTENCE : At first glance, this film looks like the Keifer Sutherland series 24 for the big screen.\n",
      "SENTENCE : With the focus on a plot to assassinate the President of the United States, a race against time, and plenty of Secret Service agents, the agency under the spotlight in The Sentinel.<br\n",
      "SENTENCE : /><br\n",
      "SENTENCE : />But\n",
      "SENTENCE : wait, the protagonist turns out to be Michael Douglas' character Pete Garrison instead, a veteran Secret Service agent famed for taking the bullet for Reagan in 1981.\n",
      "SENTENCE : The SS agents are specially trained to \"take the bullet\", which is what makes them special - who in the right mind will put themselves in the line of a bullet and a target?\n",
      "SENTENCE : But Garrison gets implicated in the assassination plot, and has to run for his life while at the same time doing his bit of investigations into the plot.\n",
      "SENTENCE : All this because of his failure in a polygraph test, due to his adulterous banging of the First Lady (Kim Basinger).\n",
      "SENTENCE : Tsk.<br\n",
      "SENTENCE : /><br\n",
      "SENTENCE : />There are shades of Clint Eastwood's\n",
      "SENTENCE : In the Line of Fire.\n",
      "SENTENCE : Both featured aging actors, and aging veteran has-been heroes with a bit of a historical reference, who took the bullet in their respective tours of duty.\n",
      "SENTENCE : While Eastwood's movie has a more enigmatic villain in John Malkovich, The Sentinel suffered from its lack of a central strong villain, preferring to share the assassination responsibility amongst many forgettable ex-KGB villains, and the mole within the Presidential Detail.\n",
      "SENTENCE : With Douglas on the run from the law, he becomes similar to Dr. Richard Kimble of The Fugitive, hunting the proverbial one-armed man while at the same time, relying on his smarts to outwit fellow agents, which turned out to be quite interesting to watch - despite slick processes, it still boils down to the performance and gullibility of individual agents.<br\n",
      "SENTENCE : /><br\n",
      "SENTENCE : />Keifer Sutherland and Eva Longoria, top TV stars of today from 24 and Desperate Housewives, get relegated into support roles as the Secret Service investigators who are looking into Garrison's probable involvement in the assassination plot, and at times seem to have lept off the pages of CSI with their forensics skills.\n",
      "SENTENCE : The beautiful couple had chemistry that could have resembled X-Files' Fox Mulder and Dana Scully, but alas these two had very little to do here.\n",
      "SENTENCE : We know the reason why they're in the movie, and that is to get their fans into the theatres.\n",
      "SENTENCE : Also, Longoria's role seemed unable to shake off her sexy-mama Gabrielle, and here, has her in fairly low cut blouses (Sutherland actually tells her to cover up) and tight pants (ogle-fest for fellow agents).<br\n",
      "SENTENCE : /><br\n",
      "SENTENCE : />Nonetheless, it's still a pretty interesting look into the lives of probably the most highly charged and tense protection detail in the world, and the typical threats that they face daily, including the following up on every nutcase's threat on the life of the most powerful man in the world.\n",
      "SENTENCE : It's a decent suspense and investigative thriller, with enough subplots to keep you entertained.\n",
      "SENTENCE : But one thing though, like most ending action sequences, this one has a big enough loophole for you to fly a jumbo jet through.\n",
      "i : 1\n",
      "SENTENCE : Working-class romantic drama from director Martin Ritt is as unbelievable as they come, yet there are moments of pleasure due mostly to the charisma of stars Jane Fonda and Robert De Niro (both terrific).\n",
      "SENTENCE : She's a widow who can't move on, he's illiterate and a closet-inventor--you can probably guess the rest.\n",
      "SENTENCE : Adaptation of Pat Barker's novel \"Union Street\" (a better title!) is so laid-back\n",
      "SENTENCE : it verges on bland, and\n",
      "SENTENCE : the film's editing is a mess, but it's still pleasant; a rosy-hued blue-collar fantasy.\n",
      "SENTENCE : There are no overtures to serious issues (even the illiteracy angle is just a plot-tool for the ensuing love story) and no real fireworks, though the characters are intentionally a bit colorless and the leads are toned down to an interesting degree.\n",
      "SENTENCE : The finale is pure fluff--and cynics will find it difficult to swallow--though these two characters deserve a happy ending and the picture wouldn't really be satisfying any other way.\n",
      "SENTENCE : *\n",
      "SENTENCE : *\n",
      "SENTENCE : * from\n",
      "SENTENCE : ***\n",
      "SENTENCE : *\n",
      "i : 2\n",
      "SENTENCE : A Christmas\n",
      "SENTENCE : Together actually came before my time, but I've been raised on John Denver and the songs from this special\n",
      "SENTENCE : were always my family's Christmas music.\n",
      "SENTENCE : For years we had a crackling cassette made from a record that meant it was Christmas.\n",
      "SENTENCE : A few years ago, I was finally able to track down a video of it on Ebay, so after listening to all the music for some 21 years, I got to see John and the Muppets in action for myself.\n",
      "SENTENCE : If you ever get the chance, it's a lot of fun--great music, heart-warming and cheesy.\n",
      "SENTENCE : It's also interesting to see the 70's versions of the Muppets and compare them to their newer versions today.\n",
      "SENTENCE : I believe Denver actually took some heat for doing a show like this--I guess normally performers don't compromise their images by doing sing-a-longs with the Muppets,\n",
      "SENTENCE : but I'm glad he did.\n",
      "SENTENCE : Even if you can't track down the video, the soundtrack is worth it too.\n",
      "SENTENCE : It has some Muppified traditional favorites, but also some original Denver tunes as well.\n"
     ]
    },
    {
     "data": {
      "image/png": "[encoded data removed]",
      "text/plain": [
       "<matplotlib.figure.Figure at 0x7f638cb52198>"
      ]
     },
     "metadata": {},
     "output_type": "display_data"
    }
   ],
   "source": [
    "'''\n",
    "Sentence length histogram\n",
    "error: doc input string cannot succeed 1 million characters\n",
    "problem: non-edited opinion text can have long and publish unaccepted sentence structures\n",
    "'''\n",
    "\n",
    "# read_files = glob.glob(\"/home/luluvyd/corpus/aclImdb/train/pos/*.txt\")\n",
    "read_files = glob.glob(directory + '*.txt')\n",
    "\n",
    "counter = Counter('')\n",
    "i = 0\n",
    "\n",
    "for infile in read_files:\n",
    "    print('i : ' + str(i))\n",
    "    with open(infile, 'r', errors='replace') as f:\n",
    "        text = f.read()\n",
    "        doc = nlp(text)\n",
    "        counter += analyzeSentence(doc) \n",
    "        i += 1\n",
    "        \n",
    "        \n",
    "plt.figure(num=None, figsize=(20, 6), dpi=80, facecolor='w', edgecolor='k')\n",
    "labels, values = rankCounter(counter)\n",
    "indexes = np.arange(len(labels))\n",
    "width = 1\n",
    "plt.bar(indexes, values, width)\n",
    "plt.xticks(indexes + width * 0.5, labels)\n",
    "plt.show()"
   ]
  },
  {
   "cell_type": "code",
   "execution_count": 23,
   "metadata": {},
   "outputs": [
    {
     "name": "stdout",
     "output_type": "stream",
     "text": [
      "i : 0\n",
      "i : 1\n",
      "i : 2\n",
      "average word lengths is : 4.118343195266272\n"
     ]
    },
    {
     "data": {
      "image/png": "[encoded data removed]",
      "text/plain": [
       "<matplotlib.figure.Figure at 0x7f637f211c50>"
      ]
     },
     "metadata": {},
     "output_type": "display_data"
    },
    {
     "data": {
      "text/plain": [
       "Counter({1: 9,\n",
       "         2: 2,\n",
       "         3: 1,\n",
       "         6: 2,\n",
       "         7: 2,\n",
       "         8: 1,\n",
       "         16: 1,\n",
       "         17: 3,\n",
       "         18: 1,\n",
       "         21: 2,\n",
       "         22: 2,\n",
       "         23: 2,\n",
       "         25: 1,\n",
       "         26: 1,\n",
       "         27: 1,\n",
       "         30: 2,\n",
       "         31: 2,\n",
       "         34: 1,\n",
       "         35: 2,\n",
       "         38: 1,\n",
       "         40: 1,\n",
       "         44: 1,\n",
       "         45: 1,\n",
       "         47: 1,\n",
       "         48: 1,\n",
       "         56: 1,\n",
       "         57: 1,\n",
       "         68: 1})"
      ]
     },
     "execution_count": 23,
     "metadata": {},
     "output_type": "execute_result"
    }
   ],
   "source": [
    "'''\n",
    "Word lengths histogram \n",
    "error: doc input string cannot succeed 1 million characters\n",
    "'''\n",
    "\n",
    "# read_files = glob.glob(\"/home/luluvyd/corpus/aclImdb/train/pos/*.txt\")\n",
    "read_files = glob.glob(directory + '*.txt')\n",
    "\n",
    "counterWord = Counter('')\n",
    "i = 0\n",
    "\n",
    "for infile in read_files:\n",
    "    print('i : ' + str(i))\n",
    "    with open(infile, 'r', errors='replace') as f:\n",
    "        text = f.read()\n",
    "        doc = nlp(text)\n",
    "        counterWord += analyzeWordLength(doc) \n",
    "        i += 1\n",
    "\n",
    "mean = sum([k*v for k, v in counterWord.items()]) / sumCounter(counterWord)\n",
    "print('average word lengths is : ' + str(mean))\n",
    "\n",
    "plt.figure(num=None, figsize=(20, 6), dpi=80, facecolor='w', edgecolor='k')\n",
    "labels, values = rankCounter(counterWord)\n",
    "indexes = np.arange(len(labels))\n",
    "width = 1\n",
    "plt.bar(indexes, values, width)\n",
    "plt.xticks(indexes + width * 0.5, labels)\n",
    "plt.show()\n",
    "\n",
    "counter"
   ]
  },
  {
   "cell_type": "code",
   "execution_count": 24,
   "metadata": {},
   "outputs": [
    {
     "name": "stdout",
     "output_type": "stream",
     "text": [
      "i : 0\n",
      "i : 1\n",
      "i : 2\n",
      "percent of puncutation symbol is : 12.52465483234714\n"
     ]
    },
    {
     "data": {
      "image/png": "[encoded data removed]",
      "text/plain": [
       "<matplotlib.figure.Figure at 0x7f637f214080>"
      ]
     },
     "metadata": {},
     "output_type": "display_data"
    }
   ],
   "source": [
    "'''\n",
    "Punctuation histogram\n",
    "Percentage of punctuation out of total number of words\n",
    "'''\n",
    "\n",
    "# read_files = glob.glob(\"/home/luluvyd/corpus/aclImdb/train/pos/*.txt\")\n",
    "read_files = glob.glob(directory + '*.txt')\n",
    "\n",
    "counterPun = Counter('')\n",
    "i = 0\n",
    "\n",
    "for infile in read_files:\n",
    "    print('i : ' + str(i))\n",
    "    with open(infile, 'r', errors='replace') as f:\n",
    "        text = f.read()\n",
    "        doc = nlp(text)\n",
    "        counterPun += analyzePunctuation(doc) \n",
    "        i += 1\n",
    "pert = sumCounter(counterPun) / sumCounter(counterWord)*100\n",
    "print('percent of puncutation symbol is : ' + str(pert))\n",
    "        \n",
    "plt.figure(num=None, figsize=(20, 6), dpi=80, facecolor='w', edgecolor='k')\n",
    "labels, values = rankCounter(counterPun)\n",
    "indexes = np.arange(len(labels))\n",
    "width = 1\n",
    "plt.bar(indexes, values, width)\n",
    "plt.xticks(indexes + width * 0.5, labels)\n",
    "plt.show()"
   ]
  },
  {
   "cell_type": "code",
   "execution_count": 169,
   "metadata": {},
   "outputs": [
    {
     "data": {
      "image/png": "[encoded data removed]",
      "text/plain": [
       "<Figure size 1600x480 with 1 Axes>"
      ]
     },
     "metadata": {},
     "output_type": "display_data"
    }
   ],
   "source": [
    "'''\n",
    "Pronoun histogram\n",
    "Percentage of punctuation out of total number of words\n",
    "'''\n",
    "read_files = glob.glob(posTrainDir + '*.txt')\n",
    "counterPron = Counter('') \n",
    "\n",
    "for infile in read_files: \n",
    "    with open(infile, 'r', errors='replace') as f:\n",
    "        text = f.read()\n",
    "        doc = nlp(text)\n",
    "        counterPron += analyzePronoun(doc)  \n",
    "\n",
    "plt.figure(num=None, figsize=(20, 6), dpi=80, facecolor='w', edgecolor='k')\n",
    "labels, values = rankCounter(counterPron)\n",
    "indexes = np.arange(len(labels)) \n",
    "plt.bar(indexes, values, barwidth)\n",
    "plt.xticks(indexes + barwidth * 0.5, labels)\n",
    "plt.show()"
   ]
  },
  {
   "cell_type": "code",
   "execution_count": 171,
   "metadata": {},
   "outputs": [
    {
     "data": {
      "image/png": "[encoded data removed]",
      "text/plain": [
       "<Figure size 1600x480 with 1 Axes>"
      ]
     },
     "metadata": {},
     "output_type": "display_data"
    }
   ],
   "source": [
    "plt.figure(num=None, figsize=(20, 6), dpi=80, facecolor='w', edgecolor='k')\n",
    "labels, values = rankCounter(counterPron)\n",
    "values = np.array(values)*1.0/sum(counterPron.values())\n",
    "indexes = np.arange(len(labels)) \n",
    "plt.bar(indexes, values, barwidth)\n",
    "plt.xticks(indexes + barwidth * 0.5, labels)\n",
    "plt.show()"
   ]
  },
  {
   "cell_type": "code",
   "execution_count": 172,
   "metadata": {},
   "outputs": [
    {
     "data": {
      "image/png": "[encoded data removed]",
      "text/plain": [
       "<Figure size 1600x480 with 1 Axes>"
      ]
     },
     "metadata": {},
     "output_type": "display_data"
    }
   ],
   "source": [
    "N = len(read_files)\n",
    "counterPosPronIdf = invDocFreq(counterPron, N)\n",
    "plt.figure(num=None, figsize=(20, 6), dpi=80, facecolor='w', edgecolor='k')\n",
    "result = {k: v for k, v in sorted(counterPosPronIdf.items(), key=lambda item: item[1])}\n",
    "labels = list(result.keys())[:20]\n",
    "values = list(result.values())[:20]\n",
    "indexes = np.arange(len(labels)) \n",
    "plt.bar(indexes, values, barwidth)\n",
    "plt.xticks(indexes + width * 0.5, labels)\n",
    "plt.show()"
   ]
  },
  {
   "cell_type": "code",
   "execution_count": 173,
   "metadata": {},
   "outputs": [],
   "source": [
    "'''\n",
    "Pronoun histogram\n",
    "Percentage of punctuation out of total number of words\n",
    "'''\n",
    "read_files = glob.glob(negTrainDir + '*.txt')\n",
    "counterNegPron = Counter('') \n",
    "\n",
    "for infile in read_files: \n",
    "    with open(infile, 'r', errors='replace') as f:\n",
    "        text = f.read()\n",
    "        doc = nlp(text)\n",
    "        counterNegPron += analyzePronoun(doc)  "
   ]
  },
  {
   "cell_type": "code",
   "execution_count": 174,
   "metadata": {},
   "outputs": [
    {
     "data": {
      "image/png": "[encoded data removed]",
      "text/plain": [
       "<Figure size 1600x480 with 1 Axes>"
      ]
     },
     "metadata": {},
     "output_type": "display_data"
    }
   ],
   "source": [
    "plt.figure(num=None, figsize=(20, 6), dpi=80, facecolor='w', edgecolor='k')\n",
    "labels, values = rankCounter(counterNegPron)\n",
    "values = np.array(values)*1.0/sum(counterNegPron.values())\n",
    "indexes = np.arange(len(labels)) \n",
    "plt.bar(indexes, values, barwidth)\n",
    "plt.xticks(indexes + barwidth * 0.5, labels)\n",
    "plt.show()"
   ]
  },
  {
   "cell_type": "code",
   "execution_count": 175,
   "metadata": {},
   "outputs": [
    {
     "data": {
      "image/png": "[encoded data removed]",
      "text/plain": [
       "<Figure size 1600x480 with 1 Axes>"
      ]
     },
     "metadata": {},
     "output_type": "display_data"
    }
   ],
   "source": [
    "N = len(read_files)\n",
    "counterNegPronIdf = invDocFreq(counterNegPron, N)\n",
    "plt.figure(num=None, figsize=(20, 6), dpi=80, facecolor='w', edgecolor='k')\n",
    "result = {k: v for k, v in sorted(counterNegPronIdf.items(), key=lambda item: item[1])}\n",
    "labels = list(result.keys())[:20]\n",
    "values = list(result.values())[:20]\n",
    "indexes = np.arange(len(labels)) \n",
    "plt.bar(indexes, values, barwidth)\n",
    "plt.xticks(indexes + width * 0.5, labels)\n",
    "plt.show()"
   ]
  },
  {
   "cell_type": "code",
   "execution_count": null,
   "metadata": {},
   "outputs": [],
   "source": [
    "'''\n",
    "Pronoun histogram\n",
    "Percentage of punctuation out of total number of words\n",
    "'''\n",
    "read_files = glob.glob(negTrainDir + '*.txt')\n",
    "counterPron = Counter('') \n",
    "\n",
    "for infile in read_files: \n",
    "    with open(infile, 'r', errors='replace') as f:\n",
    "        text = f.read()\n",
    "        doc = nlp(text)\n",
    "        counterPron += analyzePronoun(doc)  \n",
    "\n",
    "plt.figure(num=None, figsize=(20, 6), dpi=80, facecolor='w', edgecolor='k')\n",
    "labels, values = rankCounter(counterPron)\n",
    "indexes = np.arange(len(labels)) \n",
    "plt.bar(indexes, values, barwidth)\n",
    "plt.xticks(indexes + barwidth * 0.5, labels)\n",
    "plt.show()"
   ]
  },
  {
   "cell_type": "code",
   "execution_count": 26,
   "metadata": {},
   "outputs": [
    {
     "name": "stdout",
     "output_type": "stream",
     "text": [
      "i : 0\n",
      "i : 1\n",
      "i : 2\n",
      "Counter({'it': 12, 'i': 6, 'you': 5, 'his': 5, 'their': 5, 'who': 4, 'he': 3, 'her': 3, 'they': 3, 'them': 2, 'my': 2, 'we': 2, 'themselves': 1, 'its': 1, 'myself': 1, 'what': 1, 'she': 1})\n"
     ]
    },
    {
     "data": {
      "image/png": "[encoded data removed]",
      "text/plain": [
       "<matplotlib.figure.Figure at 0x7f637ed47940>"
      ]
     },
     "metadata": {},
     "output_type": "display_data"
    }
   ],
   "source": [
    "'''\n",
    "Pronoun, personal histogram\n",
    "Percentage of punctuation out of total number of words\n",
    "'''\n",
    "read_files = glob.glob(posTrainDir + '*.txt')\n",
    "counterPronPRP = Counter('') \n",
    "\n",
    "for infile in read_files: \n",
    "    with open(infile, 'r', errors='replace') as f:\n",
    "        text = f.read()\n",
    "        doc = nlp(text)\n",
    "        counterPronPRP += analyzePronounPRP(doc)  \n",
    "        \n",
    "plt.figure(num=None, figsize=(20, 6), dpi=80, facecolor='w', edgecolor='k')\n",
    "labels, values = rankCounter(counterPronPRP)\n",
    "indexes = np.arange(len(labels)) \n",
    "plt.bar(indexes, values, barwidth)\n",
    "plt.xticks(indexes + barwidth * 0.5, labels)\n",
    "plt.show()"
   ]
  },
  {
   "cell_type": "code",
   "execution_count": 27,
   "metadata": {},
   "outputs": [
    {
     "name": "stdout",
     "output_type": "stream",
     "text": [
      "i : 0\n",
      "i : 1\n",
      "i : 2\n",
      "Counter({'their': 5, 'his': 5, 'my': 2, 'her': 1, 'its': 1})\n"
     ]
    },
    {
     "data": {
      "image/png": "[encoded data removed]",
      "text/plain": [
       "<matplotlib.figure.Figure at 0x7f638b167da0>"
      ]
     },
     "metadata": {},
     "output_type": "display_data"
    }
   ],
   "source": [
    "'''\n",
    "pronoun, possessive histogram\n",
    "Percentage of punctuation out of total number of words\n",
    "'''\n",
    "read_files = glob.glob(directory + '*.txt')\n",
    "counterPronPRPD = Counter('') \n",
    "\n",
    "for infile in read_files: \n",
    "    with open(infile, 'r', errors='replace') as f:\n",
    "        text = f.read()\n",
    "        doc = nlp(text)\n",
    "        counterPronPRPD += analyzePronounPRPD(doc)  \n",
    "     \n",
    "plt.figure(num=None, figsize=(20, 6), dpi=80, facecolor='w', edgecolor='k')\n",
    "labels, values = rankCounter(counterPronPRPD)\n",
    "indexes = np.arange(len(labels))\n",
    "width = 1\n",
    "plt.bar(indexes, values, width)\n",
    "plt.xticks(indexes + width * 0.5, labels)\n",
    "plt.show()"
   ]
  },
  {
   "cell_type": "code",
   "execution_count": 28,
   "metadata": {},
   "outputs": [
    {
     "name": "stdout",
     "output_type": "stream",
     "text": [
      "i : 0\n",
      "i : 1\n",
      "i : 2\n",
      "Counter({'who': 4, 'what': 1})\n"
     ]
    },
    {
     "data": {
      "image/png": "[encoded data removed]",
      "text/plain": [
       "<matplotlib.figure.Figure at 0x7f638b1786d8>"
      ]
     },
     "metadata": {},
     "output_type": "display_data"
    }
   ],
   "source": [
    "'''\n",
    "pronoun, possessive histogram\n",
    "Percentage of punctuation out of total number of words\n",
    "'''\n",
    "read_files = glob.glob(directory + '*.txt')\n",
    "\n",
    "counterPronWP = Counter('')\n",
    "i = 0\n",
    "\n",
    "for infile in read_files:\n",
    "    print('i : ' + str(i))\n",
    "    with open(infile, 'r', errors='replace') as f:\n",
    "        text = f.read()\n",
    "        doc = nlp(text)\n",
    "        counterPronWP += analyzePronounWP(doc) \n",
    "        i += 1\n",
    "    \n",
    "print(counterPronWP)\n",
    "plt.figure(num=None, figsize=(20, 6), dpi=80, facecolor='w', edgecolor='k')\n",
    "labels, values = rankCounter(counterPronWP)\n",
    "indexes = np.arange(len(labels))\n",
    "width = 1\n",
    "plt.bar(indexes, values, width)\n",
    "plt.xticks(indexes + width * 0.5, labels)\n",
    "plt.show()"
   ]
  },
  {
   "cell_type": "code",
   "execution_count": 29,
   "metadata": {},
   "outputs": [
    {
     "name": "stdout",
     "output_type": "stream",
     "text": [
      "i : 0\n",
      "i : 1\n",
      "i : 2\n",
      "Counter()\n"
     ]
    }
   ],
   "source": [
    "'''\n",
    "wh-pronoun, possessive histogram\n",
    "Percentage of punctuation out of total number of words\n",
    "'''\n",
    "read_files = glob.glob(directory + '*.txt')\n",
    "\n",
    "counterPronWPD = Counter('')\n",
    "i = 0\n",
    "\n",
    "for infile in read_files:\n",
    "    print('i : ' + str(i))\n",
    "    with open(infile, 'r', errors='replace') as f:\n",
    "        text = f.read()\n",
    "        doc = nlp(text)\n",
    "        counterPronWPD += analyzePronounWPD(doc) \n",
    "        i += 1\n",
    "    \n",
    "print(counterPronWPD)\n",
    "plt.figure(num=None, figsize=(20, 6), dpi=80, facecolor='w', edgecolor='k')\n",
    "labels, values = rankCounter(counterPronWPD)\n",
    "if labels and values:\n",
    "    indexes = np.arange(len(labels))\n",
    "    width = 1\n",
    "    plt.bar(indexes, values, width)\n",
    "    plt.xticks(indexes + width * 0.5, labels)\n",
    "    plt.show()"
   ]
  },
  {
   "cell_type": "code",
   "execution_count": 30,
   "metadata": {},
   "outputs": [
    {
     "name": "stdout",
     "output_type": "stream",
     "text": [
      "i : 0\n",
      "i : 1\n",
      "i : 2\n",
      "Counter({'PRP': 38, 'PRP$': 14, 'WP': 5})\n"
     ]
    },
    {
     "data": {
      "text/plain": [
       "<matplotlib.figure.Figure at 0x7f638b21a828>"
      ]
     },
     "metadata": {},
     "output_type": "display_data"
    },
    {
     "data": {
      "image/png": "[encoded data removed]",
      "text/plain": [
       "<matplotlib.figure.Figure at 0x7f638b20e940>"
      ]
     },
     "metadata": {},
     "output_type": "display_data"
    }
   ],
   "source": [
    "'''\n",
    "4 pronoun categories histogram\n",
    "Percentage of punctuation out of total number of words\n",
    "'''\n",
    "read_files = glob.glob(directory + '*.txt')\n",
    "\n",
    "counterPronCat = Counter('')\n",
    "i = 0\n",
    "\n",
    "for infile in read_files:\n",
    "    print('i : ' + str(i))\n",
    "    with open(infile, 'r', errors='replace') as f:\n",
    "        text = f.read()\n",
    "        doc = nlp(text)\n",
    "        counterPronCat += analyzePronounCategories(doc) \n",
    "        i += 1\n",
    "    \n",
    "print(counterPronCat)\n",
    "plt.figure(num=None, figsize=(20, 6), dpi=80, facecolor='w', edgecolor='k')\n",
    "labels, values = rankCounter(counterPronCat)\n",
    "indexes = np.arange(len(labels))\n",
    "width = 1\n",
    "plt.bar(indexes, values, width)\n",
    "plt.xticks(indexes + width * 0.5, labels)\n",
    "plt.show()"
   ]
  },
  {
   "cell_type": "code",
   "execution_count": 31,
   "metadata": {},
   "outputs": [
    {
     "name": "stdout",
     "output_type": "stream",
     "text": [
      "i : 0\n",
      "i : 1\n",
      "i : 2\n",
      "Counter({'be': 32, 'have': 12, 'do': 6, 'get': 5, 'take': 4, 'seem': 2, 'make': 2, 'look': 2, 'age': 2, 'will': 2, 'track': 2, 'see': 2, 'guess': 2, 'come': 2, 'turn': 2, 'find': 1, 'assassinate': 1, 'keep': 1, 'share': 1, 'satisfy': 1, 'mean': 1, 'fly': 1, 'train': 1, 'entertain': 1, 'become': 1, 'prefer': 1, 'deserve': 1, 'cover': 1, 'run': 1, 'wait': 1, 'swallow': 1, 'raise': 1, 'believe': 1, 'lay': 1, 'relegate': 1, 'implicate': 1, 'put': 1, 'move': 1, 'could': 1, 'watch': 1, 'rely': 1, 'tone': 1, 'listen': 1, 'feature': 1, 'shake': 1, 'resemble': 1, 'lept': 1, 'know': 1, 'end': 1, 'tell': 1, 'sing': 1, 'can': 1, 'follow': 1, 'face': 1, 'ala': 1, 'compare': 1, 'hunt': 1, 'ensue': 1, 'compromise': 1, 'verge': 1, 'fame': 1, 'outwit': 1, 'include': 1, 'suffer': 1, 'boil': 1})\n"
     ]
    },
    {
     "data": {
      "image/png": "[encoded data removed]",
      "text/plain": [
       "<matplotlib.figure.Figure at 0x7f638544b668>"
      ]
     },
     "metadata": {},
     "output_type": "display_data"
    }
   ],
   "source": [
    "'''\n",
    "Verb root words histogram\n",
    "'''\n",
    "read_files = glob.glob(directory + '*.txt')\n",
    "\n",
    "counterVerbRoot = Counter('')\n",
    "i = 0\n",
    "\n",
    "for infile in read_files:\n",
    "    print('i : ' + str(i))\n",
    "    with open(infile, 'r', errors='replace') as f:\n",
    "        text = f.read()\n",
    "        doc = nlp(text)\n",
    "        counterVerbRoot += analyzeVerb(doc) \n",
    "        i += 1\n",
    "    \n",
    "print(counterVerbRoot)\n",
    "plt.figure(num=None, figsize=(20, 6), dpi=80, facecolor='w', edgecolor='k')\n",
    "labels, values = rankCounter(counterVerbRoot)\n",
    "indexes = np.arange(len(labels))\n",
    "width = 1\n",
    "plt.bar(indexes, values, width)\n",
    "plt.xticks(indexes + width * 0.5, labels)\n",
    "plt.show()"
   ]
  },
  {
   "cell_type": "code",
   "execution_count": 142,
   "metadata": {},
   "outputs": [
    {
     "ename": "TypeError",
     "evalue": "object of type 'int' has no len()",
     "output_type": "error",
     "traceback": [
      "\u001b[0;31m---------------------------------------------------------------------------\u001b[0m",
      "\u001b[0;31mTypeError\u001b[0m                                 Traceback (most recent call last)",
      "\u001b[0;32m<ipython-input-142-56d59b3fbec4>\u001b[0m in \u001b[0;36m<module>\u001b[0;34m\u001b[0m\n\u001b[1;32m     31\u001b[0m \u001b[0;34m\u001b[0m\u001b[0m\n\u001b[1;32m     32\u001b[0m \u001b[0mplt\u001b[0m\u001b[0;34m.\u001b[0m\u001b[0mfigure\u001b[0m\u001b[0;34m(\u001b[0m\u001b[0mnum\u001b[0m\u001b[0;34m=\u001b[0m\u001b[0;32mNone\u001b[0m\u001b[0;34m,\u001b[0m \u001b[0mfigsize\u001b[0m\u001b[0;34m=\u001b[0m\u001b[0;34m(\u001b[0m\u001b[0;36m20\u001b[0m\u001b[0;34m,\u001b[0m \u001b[0;36m6\u001b[0m\u001b[0;34m)\u001b[0m\u001b[0;34m,\u001b[0m \u001b[0mdpi\u001b[0m\u001b[0;34m=\u001b[0m\u001b[0;36m80\u001b[0m\u001b[0;34m,\u001b[0m \u001b[0mfacecolor\u001b[0m\u001b[0;34m=\u001b[0m\u001b[0;34m'w'\u001b[0m\u001b[0;34m,\u001b[0m \u001b[0medgecolor\u001b[0m\u001b[0;34m=\u001b[0m\u001b[0;34m'k'\u001b[0m\u001b[0;34m)\u001b[0m\u001b[0;34m\u001b[0m\u001b[0;34m\u001b[0m\u001b[0m\n\u001b[0;32m---> 33\u001b[0;31m \u001b[0mlabels\u001b[0m\u001b[0;34m,\u001b[0m \u001b[0mvalues\u001b[0m \u001b[0;34m=\u001b[0m \u001b[0mrankCounter\u001b[0m\u001b[0;34m(\u001b[0m\u001b[0mCounterAct\u001b[0m\u001b[0;34m[\u001b[0m\u001b[0;36m0\u001b[0m\u001b[0;34m]\u001b[0m\u001b[0;34m)\u001b[0m\u001b[0;34m\u001b[0m\u001b[0;34m\u001b[0m\u001b[0m\n\u001b[0m\u001b[1;32m     34\u001b[0m \u001b[0mindexes\u001b[0m \u001b[0;34m=\u001b[0m \u001b[0mnp\u001b[0m\u001b[0;34m.\u001b[0m\u001b[0marange\u001b[0m\u001b[0;34m(\u001b[0m\u001b[0mlen\u001b[0m\u001b[0;34m(\u001b[0m\u001b[0mlabels\u001b[0m\u001b[0;34m)\u001b[0m\u001b[0;34m)\u001b[0m\u001b[0;34m\u001b[0m\u001b[0;34m\u001b[0m\u001b[0m\n\u001b[1;32m     35\u001b[0m \u001b[0mwidth\u001b[0m \u001b[0;34m=\u001b[0m \u001b[0;36m1\u001b[0m\u001b[0;34m\u001b[0m\u001b[0;34m\u001b[0m\u001b[0m\n",
      "\u001b[0;32m~/lulu/com_metrics_chatbot/code/analysis_code/analyze_corpus.py\u001b[0m in \u001b[0;36mrankCounter\u001b[0;34m(counter)\u001b[0m\n\u001b[1;32m    106\u001b[0m     \u001b[0mparameter\u001b[0m \u001b[0;34m:\u001b[0m \u001b[0mcounter\u001b[0m \u001b[0mof\u001b[0m \u001b[0man\u001b[0m \u001b[0marticle\u001b[0m \u001b[0mby\u001b[0m \u001b[0ma\u001b[0m \u001b[0msingle\u001b[0m \u001b[0mauthor\u001b[0m\u001b[0;34m\u001b[0m\u001b[0;34m\u001b[0m\u001b[0m\n\u001b[1;32m    107\u001b[0m     '''\n\u001b[0;32m--> 108\u001b[0;31m     \u001b[0;32mif\u001b[0m \u001b[0mlen\u001b[0m\u001b[0;34m(\u001b[0m\u001b[0mcounter\u001b[0m\u001b[0;34m)\u001b[0m \u001b[0;34m==\u001b[0m \u001b[0;36m0\u001b[0m\u001b[0;34m:\u001b[0m\u001b[0;34m\u001b[0m\u001b[0;34m\u001b[0m\u001b[0m\n\u001b[0m\u001b[1;32m    109\u001b[0m         \u001b[0;32mreturn\u001b[0m \u001b[0;32mNone\u001b[0m\u001b[0;34m,\u001b[0m \u001b[0;32mNone\u001b[0m\u001b[0;34m\u001b[0m\u001b[0;34m\u001b[0m\u001b[0m\n\u001b[1;32m    110\u001b[0m     \u001b[0;32melse\u001b[0m\u001b[0;34m:\u001b[0m\u001b[0;34m\u001b[0m\u001b[0;34m\u001b[0m\u001b[0m\n",
      "\u001b[0;31mTypeError\u001b[0m: object of type 'int' has no len()"
     ]
    },
    {
     "data": {
      "text/plain": [
       "<Figure size 1600x480 with 0 Axes>"
      ]
     },
     "metadata": {},
     "output_type": "display_data"
    }
   ],
   "source": [
    "'''\n",
    "Verb category histogram\n",
    "'''\n",
    "read_files = glob.glob(posTrainDir + '*.txt')\n",
    "\n",
    "i = 0\n",
    "countersPosAct = []\n",
    "countersPosLink = []\n",
    "countersPosHelp = [] \n",
    "countersPosHM = []\n",
    "\n",
    "szPosAct = []\n",
    "szPosLink = []\n",
    "szPosHelp = []\n",
    "szPosHM = []\n",
    "\n",
    "for infile in read_files:\n",
    "    with open(infile, 'r', errors='replace') as f:\n",
    "        text = f.read()\n",
    "        doc = nlp(text)\n",
    "        a, b, c, d = analyzeVerbs(doc) \n",
    "        countersPosAct.append(a)\n",
    "        countersPosLink.append(b) \n",
    "        countersPosHelp.append(c) \n",
    "        countersPosHM.append(d) \n",
    "        \n",
    "        szPosAct.append(sum(a.values()))\n",
    "        szPosLink.append(sum(b.values()))\n",
    "        szPosHelp.append(sum(c.values()))\n",
    "        szPosHM.append(sum(d.values()))\n",
    "        \n",
    "plt.figure(num=None, figsize=(20, 6), dpi=80, facecolor='w', edgecolor='k')\n",
    "labels, values = rankCounter(CounterAct[0])\n",
    "indexes = np.arange(len(labels))\n",
    "width = 1\n",
    "plt.bar(indexes, values, width)\n",
    "plt.xticks(indexes + width * 0.5, labels)\n",
    "plt.show()\n",
    "\n",
    "plt.figure(num=None, figsize=(20, 6), dpi=80, facecolor='w', edgecolor='k')\n",
    "labels, values = rankCounter(CounterLink[0])\n",
    "indexes = np.arange(len(labels))\n",
    "width = 1\n",
    "plt.bar(indexes, values, width)\n",
    "plt.xticks(indexes + width * 0.5, labels)\n",
    "plt.show()\n",
    "\n",
    "plt.figure(num=None, figsize=(20, 6), dpi=80, facecolor='w', edgecolor='k')\n",
    "labels, values = rankCounter(CounterHelp[0])\n",
    "indexes = np.arange(len(labels))\n",
    "width = 1\n",
    "plt.bar(indexes, values, width)\n",
    "plt.xticks(indexes + width * 0.5, labels)\n",
    "plt.show()"
   ]
  },
  {
   "cell_type": "code",
   "execution_count": 167,
   "metadata": {},
   "outputs": [
    {
     "data": {
      "image/png": "[encoded data removed]",
      "text/plain": [
       "<Figure size 320x240 with 1 Axes>"
      ]
     },
     "metadata": {},
     "output_type": "display_data"
    }
   ],
   "source": [
    "x = np.array([sum(np.array(szPosAct)), sum(np.array(szPosLink)), sum(np.array(szPosHelp))])\n",
    "# values = x\n",
    "values = x*1.0/sum(x)\n",
    "labels = [\"action\", \"linking\", \"helping\"]\n",
    "indexes = np.arange(len(labels))\n",
    "plt.figure(num=None, figsize=(4, 3), dpi=80, facecolor='w', edgecolor='k') \n",
    "plt.bar(indexes, values, barwidth)\n",
    "plt.xticks(indexes + barwidth * 0.1, labels)\n",
    "plt.show()"
   ]
  },
  {
   "cell_type": "code",
   "execution_count": 139,
   "metadata": {},
   "outputs": [],
   "source": [
    "'''\n",
    "Verb category histogram\n",
    "'''\n",
    "read_files = glob.glob(negTrainDir + '*.txt')\n",
    "\n",
    "i = 0\n",
    "countersNegAct = []\n",
    "countersNegLink = []\n",
    "countersNegHelp = [] \n",
    "countersNegHM = []\n",
    "\n",
    "szNegAct = []\n",
    "szNegLink = []\n",
    "szNegHelp = []\n",
    "szNegHM = []\n",
    "\n",
    "for infile in read_files:\n",
    "    with open(infile, 'r', errors='replace') as f:\n",
    "        text = f.read()\n",
    "        doc = nlp(text)\n",
    "        a, b, c, d = analyzeVerbs(doc) \n",
    "        countersNegAct.append(a)\n",
    "        countersNegLink.append(b) \n",
    "        countersNegHelp.append(c) \n",
    "        countersNegHM.append(d) \n",
    "        \n",
    "        szNegAct.append(sum(a.values()))\n",
    "        szNegLink.append(sum(b.values()))\n",
    "        szNegHelp.append(sum(c.values()))\n",
    "        szNegHM.append(sum(d.values()))"
   ]
  },
  {
   "cell_type": "code",
   "execution_count": 140,
   "metadata": {},
   "outputs": [
    {
     "name": "stdout",
     "output_type": "stream",
     "text": [
      "196599\n",
      "106061\n",
      "49452\n"
     ]
    }
   ],
   "source": [
    "print(sum(np.array(szNegAct)))\n",
    "print(sum(np.array(szNegLink)))\n",
    "print(sum(np.array(szNegHelp)))"
   ]
  },
  {
   "cell_type": "code",
   "execution_count": 97,
   "metadata": {},
   "outputs": [
    {
     "name": "stdout",
     "output_type": "stream",
     "text": [
      "Counter()\n"
     ]
    }
   ],
   "source": [
    "print(countersNegHelp[0])"
   ]
  },
  {
   "cell_type": "code",
   "execution_count": 165,
   "metadata": {},
   "outputs": [
    {
     "data": {
      "image/png": "[encoded data removed]",
      "text/plain": [
       "<Figure size 320x240 with 1 Axes>"
      ]
     },
     "metadata": {},
     "output_type": "display_data"
    }
   ],
   "source": [
    "x = np.array([sum(np.array(szNegAct)), sum(np.array(szNegLink)), sum(np.array(szNegHelp))])\n",
    "# values = x\n",
    "values = x*1.0/sum(x)\n",
    "labels = [\"action\", \"linking\", \"helping\"]\n",
    "indexes = np.arange(len(labels))\n",
    "plt.figure(num=None, figsize=(4, 3), dpi=80, facecolor='w', edgecolor='k') \n",
    "plt.bar(indexes, values, barwidth)\n",
    "plt.xticks(indexes + barwidth * 0.1, labels)\n",
    "plt.show()"
   ]
  },
  {
   "cell_type": "code",
   "execution_count": 161,
   "metadata": {},
   "outputs": [],
   "source": [
    "x = np.array([sum(abs(np.array(szNegAct)-np.array(szPosAct))), sum(abs(np.array(szNegLink)-np.array(szPosLink))), sum(abs(np.array(szNegHelp)-np.array(szPosHelp)))])"
   ]
  },
  {
   "cell_type": "code",
   "execution_count": 164,
   "metadata": {},
   "outputs": [
    {
     "data": {
      "image/png": "[encoded data removed]",
      "text/plain": [
       "<Figure size 320x240 with 1 Axes>"
      ]
     },
     "metadata": {},
     "output_type": "display_data"
    }
   ],
   "source": [
    "x = np.array([sum(abs(np.array(szNegAct)-np.array(szPosAct))), sum(abs(np.array(szNegLink)-np.array(szPosLink))), sum(abs(np.array(szNegHelp)-np.array(szPosHelp)))])\n",
    "values = x\n",
    "labels = [\"action\", \"linking\", \"helping\"]\n",
    "indexes = np.arange(len(labels))\n",
    "plt.figure(num=None, figsize=(4, 3), dpi=80, facecolor='w', edgecolor='k') \n",
    "plt.bar(indexes, values, barwidth)\n",
    "plt.xticks(indexes + barwidth * 0.1, labels)\n",
    "plt.show()"
   ]
  },
  {
   "cell_type": "code",
   "execution_count": 168,
   "metadata": {},
   "outputs": [
    {
     "data": {
      "image/png": "[encoded data removed]",
      "text/plain": [
       "<Figure size 320x240 with 1 Axes>"
      ]
     },
     "metadata": {},
     "output_type": "display_data"
    }
   ],
   "source": [
    "x = np.array([abs(sum(np.array(szNegAct))-sum(np.array(szPosAct))), abs(sum(np.array(szNegLink))-sum(np.array(szPosLink))), abs(sum(np.array(szNegHelp))-sum(np.array(szPosHelp)))])\n",
    "values = x\n",
    "labels = [\"action\", \"linking\", \"helping\"]\n",
    "indexes = np.arange(len(labels))\n",
    "plt.figure(num=None, figsize=(4, 3), dpi=80, facecolor='w', edgecolor='k') \n",
    "plt.bar(indexes, values, barwidth)\n",
    "plt.xticks(indexes + barwidth * 0.1, labels)\n",
    "plt.show()"
   ]
  },
  {
   "cell_type": "code",
   "execution_count": 136,
   "metadata": {},
   "outputs": [],
   "source": [
    "'''\n",
    "Verb category histogram\n",
    "'''\n",
    "read_files = glob.glob(exampleDir + '*.txt')\n",
    "\n",
    "i = 0\n",
    "countersAct = []\n",
    "countersLink = []\n",
    "countersHelp = [] \n",
    "countersHM = []\n",
    "\n",
    "szAct = []\n",
    "szLink = []\n",
    "szHelp = []\n",
    "szHM = []\n",
    "\n",
    "for infile in read_files:\n",
    "    with open(infile, 'r', errors='replace') as f:\n",
    "        text = f.read()\n",
    "        doc = nlp(text)\n",
    "        a, b, c, d = analyzeVerbs(doc) \n",
    "        countersAct.append(a)\n",
    "        countersLink.append(b) \n",
    "        countersHelp.append(c) \n",
    "        countersHM.append(d) \n",
    "        \n",
    "        szAct.append(sum(a.values()))\n",
    "        szLink.append(sum(b.values()))\n",
    "        szHelp.append(sum(c.values()))\n",
    "        szHM.append(sum(d.values()))"
   ]
  },
  {
   "cell_type": "code",
   "execution_count": 138,
   "metadata": {},
   "outputs": [
    {
     "data": {
      "image/png": "[encoded data removed]",
      "text/plain": [
       "<Figure size 320x240 with 1 Axes>"
      ]
     },
     "metadata": {},
     "output_type": "display_data"
    }
   ],
   "source": [
    "x = np.array([sum(np.array(szAct)), sum(np.array(szLink)), sum(np.array(szHelp))])\n",
    "values = x*1.0/sum(x)\n",
    "labels = [\"action\", \"linking\", \"helping\"]\n",
    "indexes = np.arange(len(labels))\n",
    "plt.figure(num=None, figsize=(4, 3), dpi=80, facecolor='w', edgecolor='k') \n",
    "plt.bar(indexes, values, barwidth)\n",
    "plt.xticks(indexes + barwidth * 0.1, labels)\n",
    "plt.show()"
   ]
  },
  {
   "cell_type": "code",
   "execution_count": 135,
   "metadata": {},
   "outputs": [
    {
     "name": "stdout",
     "output_type": "stream",
     "text": [
      "come ['together', 'actually']\n",
      "raise ['-PRON-', 'have', 'be']\n",
      "make []\n",
      "mean ['that']\n",
      "track ['to']\n",
      "listen []\n",
      "get ['after', ',', '-PRON-']\n",
      "see ['to']\n",
      "get ['if', '-PRON-', 'ever']\n",
      "see ['to']\n",
      "compare []\n",
      "believe ['-PRON-']\n",
      "take ['Denver', 'actually']\n",
      "do []\n",
      "guess ['-PRON-']\n",
      "compromise ['normally', 'performer', 'do', 'not']\n",
      "do []\n",
      "sing []\n",
      "can []\n",
      "track ['even', 'if', '-PRON-', 'can', 'not']\n",
      "Counter({'get': 2, 'see': 2, 'come': 1, 'mean': 1, 'track': 1, 'believe': 1, 'take': 1, 'guess': 1, 'compromise': 1})\n",
      "Counter({'be': 4})\n",
      "Counter({'be': 1, 'can': 1})\n",
      "Counter({'raise': 1, 'track': 1})\n",
      "11\n",
      "4\n",
      "2\n",
      "2\n"
     ]
    }
   ],
   "source": [
    "with open(filename, 'r', errors='replace') as f:\n",
    "    text = f.read()\n",
    "    doc = nlp(text)\n",
    "    a, b, c, d = analyzeVerbs(doc) \n",
    "    \n",
    "    print(a)\n",
    "    print(b)\n",
    "    print(c)\n",
    "    print(d) \n",
    "        \n",
    "    print(sum(a.values()))\n",
    "    print(sum(b.values()))\n",
    "    print(sum(c.values()))\n",
    "    print(sum(d.values()))"
   ]
  },
  {
   "cell_type": "code",
   "execution_count": 5,
   "metadata": {},
   "outputs": [
    {
     "name": "stdout",
     "output_type": "stream",
     "text": [
      "i : 0\n",
      "i : 1\n",
      "i : 2\n",
      "Counter({'Garrison': 3, 'special': 2, 'action': 2, 'sing': 1, 'assassinate': 1, 'failure': 1, 'Sentinel': 1, 'lack': 1, 'share': 1, 'desperate': 1, 'reason': 1, 'fairly': 1, 'include': 1, 'powerful': 1, 'director': 1, 'rest': 1, 'title': 1, 'bland': 1, 'mess': 1, 'pleasant': 1, 'love': 1, 'happy': 1})\n"
     ]
    },
    {
     "data": {
      "image/png": "[encoded data removed]",
      "text/plain": [
       "<Figure size 1600x480 with 1 Axes>"
      ]
     },
     "metadata": {},
     "output_type": "display_data"
    }
   ],
   "source": [
    "'''\n",
    "Emotion words histogram\n",
    "''' \n",
    "read_files = glob.glob(exampleDir + '*.txt')\n",
    "\n",
    "emos = loadEmotionWords('/home/dashi/lulu/corpus/NRC-Emotion-Lexicon-v0.92/Generated-EmotionWords.txt')\n",
    "counterEmos = Counter('')\n",
    "i = 0\n",
    "\n",
    "for infile in read_files:\n",
    "    print('i : ' + str(i))\n",
    "    with open(infile, 'r', errors='replace') as f:\n",
    "        text = f.read()\n",
    "        doc = nlp(text)\n",
    "        counterEmos += analyzeEmotionWords(doc, emos) \n",
    "        i += 1\n",
    "    \n",
    "print(counterEmos)\n",
    "plt.figure(num=None, figsize=(20, 6), dpi=80, facecolor='w', edgecolor='k')\n",
    "labels, values = rankCounter(counterEmos)\n",
    "indexes = np.arange(len(labels))\n",
    "width = 1\n",
    "plt.bar(indexes, values, width)\n",
    "plt.xticks(indexes + width * 0.5, labels)\n",
    "plt.show()"
   ]
  },
  {
   "cell_type": "code",
   "execution_count": 8,
   "metadata": {},
   "outputs": [
    {
     "name": "stdout",
     "output_type": "stream",
     "text": [
      "i : 0\n",
      "i : 5000\n",
      "i : 10000\n",
      "Counter({'good': 6899, 'love': 3886, 'director': 1597, 'action': 1570, 'bad': 1566, 'enjoy': 1114, 'perfect': 1082, 'main': 961, 'special': 878, 'full': 839, 'lose': 777, 'mother': 755, 'star': 746, 'friend': 739, 'black': 722, 'rest': 721, 'word': 710, 'reason': 702, 'production': 701, 'fall': 682, 'late': 654, 'case': 622, 'art': 616, 'shoot': 607, '! good': 604, 'hit': 574, 'title': 568, 'evil': 567, 'score': 564, 'include': 563, 'musical': 558, 'sex': 555, 'wrong': 554, 'superb': 517, 'happy': 508, 'expect': 505, 'leave': 486, 'usual': 481, 'violence': 467, 'powerful': 444, 'famous': 434, 'cool': 434, 'unique': 433, 'interest': 423, 'level': 406, 'lack': 394, 'dance': 385, 'female': 368, 'romance': 363, 'deal': 360, 'subject': 354, 'doubt': 351, 'sweet': 349, 'present': 335, 'truth': 334, 'solid': 334, 'shot': 324, 'hate': 315, 'God': 312, 'effective': 311, 'interested': 310, 'adventure': 307, 'intelligent': 301, 'Star': 299, 'copy': 298, 'rating': 296, '! bad': 282, 'cute': 281, 'die': 280, 'genius': 276, 'escape': 273, 'fairly': 270, 'weird': 266, 'Frank': 265, 'forward': 264, 'silly': 264, 'tough': 261, 'save': 258, 'credit': 256, 'agree': 256, 'innocent': 252, 'Director': 250, 'read': 250, 'honest': 248, 'stupid': 246, 'public': 245, 'cold': 241, 'inspire': 240, 'charm': 235, 'spirit': 234, 'respect': 233, 'cry': 225, 'remarkable': 225, '! love': 216, 'pay': 215, 'force': 210, 'bizarre': 207, 'share': 202, 'pick': 198, 'cult': 198, 'climax': 196, 'treat': 193, 'presence': 193, 'master': 193, 'doctor': 192, 'impossible': 192, 'struggle': 188, 'justice': 187, 'quiet': 187, 'Black': 182, 'receive': 181, 'information': 181, 'superior': 180, 'professional': 177, 'wild': 174, 'unexpected': 173, 'annoying': 173, 'passion': 170, 'monster': 170, 'fair': 168, 'gang': 168, 'pain': 168, 'impression': 167, '! action': 163, 'negative': 163, 'land': 161, 'ridiculous': 160, 'freedom': 158, 'artistic': 158, 'strength': 155, 'awful': 153, 'explain': 153, 'pull': 149, 'pilot': 149, 'continue': 148, 'humanity': 147, 'content': 147, 'chase': 146, 'accident': 144, 'shock': 143, 'constant': 141, 'desperate': 140, 'conflict': 140, 'want': 138, 'absolute': 138, 'loss': 138, 'horrible': 137, 'Don': 137, 'Lord': 137, 'partner': 137, 'faith': 136, 'Academy': 135, 'sing': 135, 'extraordinary': 133, 'pleasant': 131, 'heroine': 130, 'fit': 129, 'Love': 129, 'fate': 129, 'Stone': 129, 'study': 128, 'influence': 128, 'hurt': 128, 'leader': 127, 'sympathetic': 125, 'wit': 125, 'dull': 123, 'marry': 122, '! director': 120, 'legendary': 120, 'winner': 120, 'Green': 120, 'majority': 120, 'Grant': 119, 'blind': 119, 'formula': 117, 'jump': 116, 'officer': 115, 'kick': 115, 'classic': 114, 'Sky': 114, 'relief': 114, 'praise': 113, 'friendly': 112, 'call': 112, 'balance': 112, 'model': 111, '! perfect': 111, '! lose': 111, 'ensemble': 110, 'safe': 109, 'trash': 108, 'dirty': 108, 'essential': 107, 'rough': 106, 'prove': 106, 'great': 106, 'count': 105, 'intelligence': 105, 'vote': 104, 'center': 103, 'grace': 101, 'peace': 101, 'complicated': 100, 'birth': 100, 'ancient': 99, '! special': 99, 'Carol': 99, '! enjoy': 98, 'destroy': 98, 'creature': 97, 'faithful': 95, 'fake': 95, 'splendid': 95, 'spoil': 94, 'structure': 94, 'gain': 94, 'unfortunate': 93, 'difficulty': 93, 'mess': 93, 'fact': 92, 'challenge': 92, 'reporter': 91, 'amazingly': 90, 'desert': 90, 'notable': 90, 'dislike': 90, 'thief': 89, 'prime': 87, 'proper': 86, 'porn': 86, 'stand': 86, 'teen': 86, 'task': 86, 'danger': 86, 'rescue': 86, '! wrong': 86, 'join': 85, 'importance': 85, 'tribute': 85, 'hide': 85, 'Master': 85, 'Cage': 83, 'vivid': 83, 'achieve': 83, 'deadly': 83, 'torture': 82, 'status': 82, 'nightmare': 82, 'alien': 82, 'intellectual': 82, 'abuse': 82, 'commit': 82, 'Doctor': 82, 'delivery': 81, 'routine': 81, 'disappointing': 81, 'revolution': 81, 'darkness': 80, 'bind': 80, 'Dirty': 80, 'flow': 80, 'heavily': 80, 'Good': 80, '! case': 79, 'sky': 79, 'waste': 78, 'crisis': 78, 'gift': 78, 'achievement': 77, 'god': 77, 'serve': 77, 'kudo': 76, '! full': 76, 'sympathy': 76, 'vacation': 76, 'trick': 76, 'Ken': 76, 'ruin': 75, '! word': 75, 'Buck': 75, '! shoot': 75, 'neighbor': 75, 'honor': 75, 'lie': 74, 'wear': 74, 'suffer': 74, 'thrill': 73, 'triumph': 73, 'fault': 73, 'Cold': 72, 'mob': 72, 'crash': 72, 'tender': 72, 'guard': 72, 'failure': 71, 'stellar': 71, '! reason': 71, 'Mother': 71, 'ignore': 71, 'break': 70, 'tear': 70, 'adorable': 70, 'corruption': 70, 'punch': 70, 'promise': 70, 'bother': 70, 'flaw': 69, 'accuse': 69, 'rage': 69, 'redemption': 69, 'worry': 68, 'refuse': 68, 'thrilling': 68, 'attraction': 67, 'quote': 67, 'green': 67, 'crude': 67, 'hang': 67, 'Din': 67, 'Modesty': 67, 'Full': 67, 'noble': 66, 'wealth': 66, 'excuse': 66, 'propaganda': 66, 'poorly': 66, 'fat': 65, '! expect': 65, 'contact': 65, 'horror': 65, 'high': 65, 'split': 64, 'intrigue': 64, 'provide': 64, 'intimate': 63, '! black': 63, 'weight': 63, 'experience': 63, 'birthday': 62, 'defeat': 62, 'cheer': 62, 'sun': 62, 'Wild': 62, 'hidden': 61, 'discovery': 61, 'bomb': 61, 'remarkably': 61, '! sex': 61, 'glory': 60, 'upset': 60, 'confidence': 60, 'low': 60, 'pet': 60, 'substance': 59, 'hysterical': 59, 'row': 59, '! main': 59, 'angel': 59, 'stone': 59, 'strip': 58, 'Lost': 58, '! include': 58, 'complexity': 58, 'sea': 58, 'homage': 57, 'Angel': 57, 'endless': 57, 'stark': 57, 'ease': 56, 'lesbian': 56, 'gross': 56, 'deny': 56, '! leave': 56, 'contrary': 56, 'performer': 56, '! art': 55, 'bonus': 55, 'succeed': 55, 'travel': 55, 'despair': 54, '! production': 54, 'mate': 54, 'celebrity': 54, 'honesty': 54, 'drunken': 54, 'humble': 54, 'absence': 53, 'bland': 53, 'represent': 53, 'calm': 53, 'aid': 53, 'Spirit': 53, 'execution': 53, 'practice': 52, 'storm': 52, 'depression': 52, 'originality': 52, 'versus': 52, 'Fool': 52, 'curse': 51, 'cage': 51, 'unpredictable': 51, 'corrupt': 51, '! rest': 51, '! musical': 50, 'guide': 50, 'Dawn': 50, 'cut': 50, 'Nightmare': 50, 'advance': 50, 'nervous': 50, 'craft': 49, 'fancy': 49, 'polished': 49, 'comfort': 49, '! level': 49, 'smile': 49, 'disgusting': 48, 'argument': 48, 'straightforward': 48, 'stress': 48, 'acceptance': 48, 'servant': 48, 'Colonel': 48, '! violence': 48, '! happy': 47, 'Grace': 47, 'unfold': 47, 'bang': 47, 'foul': 47, 'strike': 47, 'plan': 47, 'sincere': 47, '! evil': 47, 'lord': 46, '! usual': 46, '! deal': 46, '! star': 46, 'exquisite': 46, 'explosion': 45, '! fall': 45, 'farce': 45, 'lost': 45, '! mother': 45, 'advanced': 45, 'rhythm': 45, 'critic': 44, 'precious': 44, 'departure': 44, 'mistress': 44, 'brutality': 44, 'hire': 44, 'Hurt': 43, 'romp': 43, 'Dance': 43, 'Sin': 43, '! late': 43, 'rubbish': 43, '! interest': 43, 'worried': 43, 'shed': 43, 'Sweet': 42, '! subject': 42, 'greatness': 42, 'lavish': 42, 'Sentinel': 42, 'pressure': 42, 'examination': 42, 'demand': 42, 'superficial': 41, 'confident': 41, 'nurse': 41, 'riot': 41, 'reject': 41, 'expedition': 41, '! friend': 41, 'butt': 40, '! famous': 40, 'gag': 40, 'prey': 40, 'broken': 40, 'childish': 40, 'grave': 40, '! score': 39, '! present': 39, 'Sea': 39, '! lack': 39, 'resource': 39, 'crack': 39, 'offensive': 39, 'enchanting': 39, 'benefit': 39, 'demon': 39, 'labor': 39, 'drinking': 39, '! interested': 39, 'Blob': 39, '! title': 39, 'sin': 39, 'idiot': 39, 'burn': 38, 'twin': 38, 'Bloom': 38, 'March': 38, 'eager': 38, 'clash': 38, 'fool': 38, 'exchange': 38, 'fail': 38, 'Depression': 38, 'produce': 38, 'pirate': 38, 'objective': 38, 'betrayal': 38, 'cream': 38, 'shoulder': 38, '! truth': 37, 'chorus': 37, 'prisoner': 37, 'grotesque': 37, 'horribly': 37, 'determination': 37, 'conviction': 37, '! hit': 37, 'terrorist': 37, 'harm': 37, 'samurai': 36, 'fascination': 36, 'Hidden': 36, 'corpse': 36, 'blast': 36, 'reading': 36, 'arrogant': 35, 'dreadful': 35, 'neurotic': 35, 'cutting': 35, 'deliberate': 35, 'blob': 35, 'impress': 35, 'drink': 35, '! shot': 35, 'bully': 35, 'Bad': 35, 'absorb': 35, 'Art': 35, 'sentence': 34, 'modest': 34, 'slap': 34, 'profession': 34, 'dashing': 34, 'celebrate': 34, 'endure': 34, 'Friend': 34, 'encourage': 34, 'divine': 34, 'communicate': 33, 'stiff': 33, 'embrace': 33, 'distress': 33, 'Force': 33, 'confess': 33, 'Pet': 33, 'wreck': 33, 'deceased': 33, 'disorder': 33, 'resident': 33, 'doom': 32, '! romance': 32, 'sneak': 32, 'fade': 32, 'savage': 32, 'vice': 32, 'Chase': 32, 'homosexuality': 32, 'Evil': 32, 'Noble': 32, 'Vertigo': 32, 'recognizable': 31, 'evolution': 31, 'hoot': 31, 'symbolic': 31, '! die': 31, 'growth': 31, '! female': 31, 'pretend': 31, 'swear': 31, 'embarrassing': 31, 'Peck': 31, 'Winner': 30, 'mighty': 30, 'haunt': 30, 'spectacle': 30, 'Justice': 30, '! unique': 30, '! powerful': 30, 'bore': 30, 'empathy': 30, '! agree': 29, 'sloppy': 29, 'belt': 29, 'damage': 29, 'absent': 29, 'isolated': 29, 'glow': 29, 'Count': 29, 'collapse': 29, 'helpful': 29, 'biblical': 29, '! credit': 29, 'patience': 29, 'hippie': 29, 'experienced': 29, 'academy': 28, 'organize': 28, 'stroke': 28, '! spirit': 28, 'furious': 28, 'Happy': 28, 'like': 28, 'suspicion': 28, '! respect': 28, 'weary': 28, 'Sun': 28, '! dance': 28, 'disastrous': 28, 'aspire': 28, 'array': 28, 'error': 28, 'expectation': 28, 'debate': 27, '! impossible': 27, 'dedication': 27, '! share': 27, 'dust': 27, 'Savage': 27, 'Action': 27, '! fault': 27, 'elite': 27, 'frank': 26, 'efficient': 26, 'wound': 26, 'tenderness': 26, 'garden': 26, '! God': 26, 'Perfect': 26, '! content': 26, '! hate': 26, '! spoil': 26, 'rugged': 26, 'defense': 26, '! pay': 26, 'tax': 26, 'champion': 26, 'mortal': 26, 'defend': 26, 'mark': 26, 'admiration': 26, 'tower': 26, 'Honor': 25, 'interior': 25, 'bias': 25, 'cunning': 25, 'Garden': 25, 'fierce': 25, 'polish': 25, 'slip': 25, 'neglect': 25, 'Samurai': 25, 'Storm': 25, 'injure': 25, 'license': 25, 'epitome': 25, 'alcoholism': 25, 'gap': 25, 'caricature': 25, 'unexplained': 25, 'Fleet': 25, 'advise': 25, 'salvation': 25, 'hopeful': 24, 'aura': 24, 'revival': 24, 'shrink': 24, 'sensational': 24, 'confine': 24, 'dubious': 24, 'complement': 24, '! artistic': 24, '! superb': 24, 'stare': 24, '! solid': 24, 'Phantom': 24, 'courtesy': 24, 'lurk': 24, 'Alien': 24, 'jarring': 24, 'abandon': 24, 'Freedom': 24, 'whip': 24, 'senseless': 23, 'bond': 23, 'seasoned': 23, '! stupid': 23, 'hostile': 23, 'earnest': 23, 'sour': 23, 'irrelevant': 23, 'Prime': 23, 'restraint': 23, 'liking': 23, '! intelligent': 23, 'comprehend': 23, 'fanatic': 23, 'compassionate': 23, 'rear': 23, 'rave': 22, 'iron': 22, 'astonishingly': 22, 'verge': 22, 'kindness': 22, 'assistance': 22, '! presence': 22, '! Academy': 22, 'somber': 22, 'uncertain': 22, 'spree': 22, 'associate': 22, 'Adventure': 22, 'familiarity': 22, 'suck': 22, 'applause': 22, '! negative': 22, 'admirer': 22, 'bite': 22, 'partnership': 22, 'pornography': 22, 'bounty': 22, 'overbearing': 21, 'oppressive': 21, '! pleasant': 21, 'distinction': 21, '! justice': 21, 'pound': 21, 'protect': 21, 'injury': 21, 'foolish': 21, 'brawl': 21, 'disgust': 21, 'Iron': 21, 'Romance': 21, '! information': 21, 'Land': 21, 'Public': 21, '! humanity': 21, 'anxiety': 21, 'Officer': 21, 'inheritance': 21, '! public': 21, 'skilled': 21, 'ground': 21, '! escape': 21, 'quaint': 20, '! cool': 20, 'drawback': 20, 'discipline': 20, '! pick': 20, 'cigarette': 20, 'mannered': 20, 'fraud': 20, 'aristocratic': 20, 'bless': 20, 'Bogus': 20, 'intact': 20, 'uncertainty': 20, '! genius': 20, 'contribute': 20, 'scandal': 20, 'progression': 20, 'radiant': 20, 'crook': 20, '! inspire': 20, '! force': 20, 'puppy': 20, '! fate': 20, '! read': 20, 'Rod': 20, 'clean': 20, 'Bite': 20, 'Cry': 20, 'sorely': 20, 'Guide': 20, 'opposition': 20, 'destination': 20, 'palsy': 19, 'outlandish': 19, 'resistance': 19, 'Production': 19, 'grant': 19, 'bum': 19, 'bargain': 19, 'fulfill': 19, 'foundation': 19, 'uninteresting': 19, 'recreation': 19, 'harden': 19, 'decline': 19, '! want': 19, 'hug': 19, '! intelligence': 19, 'welcome': 19, 'spice': 19, 'attack': 19, 'worthless': 19, 'instrumental': 19, '! fairly': 19, '! cold': 19, 'parade': 19, 'Republic': 19, '! weird': 19, 'disregard': 19, 'cocaine': 19, 'honorable': 19, 'Revolution': 19, 'outlaw': 19, 'convention': 19, 'heroism': 18, 'democracy': 18, '! fair': 18, 'stumble': 18, 'illusion': 18, '! pull': 18, 'organization': 18, 'intervention': 18, '! continue': 18, 'harmony': 18, 'Regal': 18, '! rating': 18, 'civilized': 18, 'communism': 18, 'grandeur': 18, 'march': 18, 'Furious': 18, '! Star': 18, '! cute': 18, 'Parade': 18, 'rejection': 18, 'pioneer': 18, 'jam': 18, 'standing': 18, 'STAR': 18, 'Demon': 18, 'sink': 18, '! sweet': 18, 'isolate': 18, '! deny': 18, 'shell': 18, 'retirement': 18, 'pad': 17, 'remove': 17, 'revolt': 17, 'phony': 17, '! adventure': 17, 'rigid': 17, 'persistent': 17, 'revive': 17, '! waste': 17, '! sympathetic': 17, 'smitten': 17, 'handy': 17, 'hesitation': 17, 'dire': 17, 'virtue': 17, '! faithful': 17, '! annoying': 17, 'illustrate': 17, 'Crash': 17, 'worm': 17, '! shock': 17, '! cult': 17, 'bust': 17, 'buck': 17, '! save': 17, '! explain': 17, '! innocent': 17, 'armor': 17, 'distract': 17, '! hurt': 17, 'unlucky': 17, '! pain': 17, 'Monster': 17, 'despise': 16, 'visionary': 16, 'refusal': 16, 'consummate': 16, 'resign': 16, 'gossip': 16, 'verve': 16, 'Bound': 16, 'bogus': 16, '! copy': 16, '! worry': 16, 'luxury': 16, '! doctor': 16, '! study': 16, 'Broken': 16, 'liberty': 16, 'Center': 16, 'colonel': 16, 'rational': 16, 'pervert': 16, 'possess': 16, 'address': 16, 'Special': 16, 'lacking': 16, 'incorrect': 16, '! effective': 16, 'Supremacy': 16, '! bind': 16, 'timely': 15, 'moderate': 15, 'volunteer': 15, 'idiotic': 15, 'Twin': 15, 'root': 15, 'bureaucracy': 15, '! silly': 15, 'irrational': 15, 'merciless': 15, 'tramp': 15, 'fear': 15, 'Main': 15, 'Vice': 15, 'grumpy': 15, 'undying': 15, 'fury': 15, '! receive': 15, 'downfall': 15, 'measure': 15, '! cry': 15, '! horrible': 15, '! sing': 15, 'Thief': 15, 'dump': 15, 'adultery': 15, 'sacrifice': 15, 'strand': 15, '! absolute': 15, 'unquestionably': 15, 'stalk': 15, 'travesty': 15, 'bastard': 14, 'decay': 14, 'Vanity': 14, 'Fair': 14, 'idol': 14, '! hide': 14, 'modesty': 14, 'complicate': 14, 'Hollow': 14, 'Mistress': 14, 'aloof': 14, 'sting': 14, 'timid': 14, 'pinnacle': 14, 'Tempest': 14, 'breakfast': 14, 'lackluster': 14, 'income': 14, '! bother': 14, 'horizon': 14, 'crush': 14, 'Champion': 14, 'stud': 14, 'Grudge': 14, 'SEA': 14, '! birth': 14, 'seduction': 14, 'supporter': 14, 'murky': 14, 'fuss': 14, '! strength': 14, 'poison': 14, 'trophy': 14, 'domination': 14, '! critic': 14, '! remarkable': 14, '! forward': 14, 'Buzz': 14, '! prove': 14, '! praise': 14, 'epidemic': 14, 'don': 14, 'council': 14, 'candid': 13, 'glaring': 13, 'porno': 13, 'tiresome': 13, 'guise': 13, 'sore': 13, '! marry': 13, 'interference': 13, 'reconciliation': 13, '! tough': 13, 'deceive': 13, 'anchor': 13, '! wild': 13, 'Levy': 13, 'perennial': 13, 'alluring': 13, 'poke': 13, 'lump': 13, '! quiet': 13, 'irresponsible': 13, 'dawn': 13, 'decency': 13, 'committed': 13, 'glowing': 13, '! proper': 13, 'assembly': 13, 'battlefield': 13, '! status': 13, '! honest': 13, 'respite': 13, 'prospect': 13, 'acquire': 13, 'unscrupulous': 13, 'heal': 13, 'serene': 13, 'enforcement': 13, 'coolness': 13, 'celebrated': 12, 'mercenary': 12, 'seal': 12, 'alarm': 12, 'delay': 12, 'humility': 12, 'render': 12, '! crude': 12, 'rabid': 12, 'pregnancy': 12, 'rubble': 12, 'nefarious': 12, 'royalty': 12, '! partner': 12, '! bizarre': 12, '! chase': 12, '! impression': 12, 'Desert': 12, 'helplessness': 12, 'famine': 12, '! awful': 12, '! dull': 12, '! Lord': 12, '! master': 12, 'purity': 12, 'nonsensical': 12, '! professional': 12, 'chairman': 12, '! dirty': 12, 'inaccurate': 12, 'discrimination': 12, 'bout': 12, 'unity': 12, '! kick': 12, 'indelible': 12, '! pilot': 12, 'conceal': 12, 'gloss': 12, '! Frank': 12, 'Mighty': 12, 'merge': 12, '! suffer': 11, 'decrepit': 11, 'hail': 11, 'complete': 11, 'numb': 11, 'exuberance': 11, 'Drunken': 11, 'salute': 11, 'recovery': 11, 'erratic': 11, 'shatter': 11, 'conceit': 11, 'smack': 11, '! peace': 11, 'stab': 11, 'Gang': 11, 'voluptuous': 11, 'trip': 11, '! danger': 11, 'Countess': 11, '! count': 11, 'privileged': 11, '! doubt': 11, '! passion': 11, 'splendor': 11, 'Breakfast': 11, 'rail': 11, '! friendly': 11, 'Idol': 11, 'progressive': 11, 'Sex': 11, '! Black': 11, '! provide': 11, 'crusade': 11, 'hardened': 11, 'Creature': 11, '! center': 11, 'hollow': 11, '! fact': 11, '! treat': 11, '! gain': 11, '! conflict': 11, 'enable': 11, 'Crypt': 11, 'justification': 11, 'fleet': 11, 'shoddy': 11, '! legendary': 11, 'exile': 11, 'advent': 11, 'Fury': 11, '! monster': 11, '! ridiculous': 11, '! extraordinary': 10, 'buzz': 10, 'Case': 10, 'dispute': 10, 'misunderstanding': 10, 'flirt': 10, 'assurance': 10, 'whim': 10, 'everlasting': 10, 'outrage': 10, 'organized': 10, '! jump': 10, 'showy': 10, '! loss': 10, 'pose': 10, 'sturdy': 10, '! achieve': 10, 'reserve': 10, 'incompetent': 10, 'distressed': 10, 'Boo': 10, 'Cool': 10, '! classic': 10, 'bear': 10, 'Resident': 10, 'apologize': 10, 'crowning': 10, 'decease': 10, 'moron': 10, 'pretension': 10, '! task': 10, '! superior': 10, 'manifest': 10, 'renegade': 10, 'extinct': 10, 'fidelity': 10, '! difficulty': 10, 'ovation': 10, '! unexpected': 10, 'Punch': 10, 'Row': 10, 'Grave': 10, 'Escape': 10, 'delusional': 10, 'proposition': 10, 'Ally': 10, 'rate': 10, 'unsavory': 10, '! charm': 10, 'aggression': 10, 'patron': 10, '! freedom': 10, 'imitate': 10, 'sap': 10, '! struggle': 10, 'Musical': 10, 'medal': 10, 'grit': 10, 'vanity': 10, 'rapture': 10, '! desperate': 10, 'bitterness': 10, 'wimpy': 10, 'rambling': 10, 'Redemption': 10, 'phantom': 10, 'disillusionment': 10, 'confuse': 10, '! dislike': 10, 'assassinate': 10, '! ignore': 10, 'Peace': 10, 'endow': 10, 'hush': 10, '! tear': 10, 'drown': 10, 'Tower': 10, 'supremacy': 10, 'Ancient': 10, 'afflict': 9, 'construct': 9, 'limp': 9, '! commit': 9, 'fashionable': 9, 'Glory': 9, '! substance': 9, 'superiority': 9, 'breakup': 9, 'ally': 9, 'hanging': 9, 'pretense': 9, 'harvest': 9, '! routine': 9, 'Omen': 9, 'tolerate': 9, 'defiance': 9, 'wind': 9, 'educate': 9, '! trash': 9, '! contact': 9, '! fool': 9, '! heroine': 9, 'rekindle': 9, '! execution': 9, 'speculation': 9, '! Green': 9, 'convert': 9, 'dismay': 9, 'fussy': 9, 'worship': 9, 'GREEN': 9, 'reverence': 9, '! offensive': 9, 'preserve': 9, 'dictatorship': 9, '! challenge': 9, 'Late': 9, 'peck': 9, 'Nurse': 9, 'barrier': 9, 'contradict': 9, 'Famous': 9, 'season': 9, 'glimmer': 9, '! faith': 9, 'premise': 9, 'bickering': 9, 'garish': 9, 'detention': 9, 'paraphrase': 9, 'inconsequential': 9, 'woefully': 9, 'Doom': 9, '! produce': 9, 'Leave': 9, '! join': 9, 'threaten': 9, 'removal': 9, '! ruin': 9, 'Garrison': 9, '! thrilling': 9, 'regal': 9, '! break': 9, '! intellectual': 9, 'abandonment': 9, '! lie': 9, 'grate': 9, 'endeavor': 9, '! triumph': 9, '! heavily': 9, 'Salvation': 9, 'choke': 9, 'planning': 9, 'cruelly': 9, 'tease': 9, '! influence': 9, 'antithesis': 8, 'BLOB': 8, 'drone': 8, '! academy': 8, '! formula': 8, 'Fat': 8, 'Superb': 8, 'sentinel': 8, 'incompetence': 8, 'babble': 8, 'virtuous': 8, '! failure': 8, 'Deadly': 8, '! stare': 8, 'cooperate': 8, '! essential': 8, 'Rear': 8, 'complication': 8, '! communicate': 8, 'pollution': 8, 'captivate': 8, 'dummy': 8, 'attest': 8, '! officer': 8, 'violation': 8, 'dissolution': 8, 'protector': 8, 'crusty': 8, 'unsatisfied': 8, 'oddity': 8, 'cooperation': 8, '! cage': 8, 'entangle': 8, 'Treat': 8, 'excruciating': 8, 'victimize': 8, '! notable': 8, 'Guard': 8, '! bore': 8, '! wit': 8, 'crank': 8, 'frolic': 8, '! excuse': 8, 'injured': 8, 'lapse': 8, 'riddle': 8, '! quote': 8, '! Fool': 8, 'organic': 8, 'distortion': 8, 'Intelligence': 8, '! Grant': 8, 'pillow': 8, 'mutant': 8, 'retribution': 8, '! land': 8, 'Birthday': 8, '! fake': 8, 'strut': 8, 'Pervert': 8, '! great': 8, 'overthrow': 8, 'satanic': 8, 'rod': 8, 'disturbance': 8, 'stint': 8, '! impress': 8, 'whirlwind': 8, 'moronic': 8, 'Prisoner': 8, 'Crisis': 8, 'boil': 8, '! glory': 8, 'Mob': 8, 'forewarn': 8, 'horrid': 8, 'cripple': 8, 'rack': 8, 'Bender': 8, 'swell': 8, 'wage': 8, 'bar': 8, 'serpent': 8, 'Irons': 8, 'aimless': 8, 'infinite': 8, 'boast': 8, 'Ram': 8, '! climax': 8, 'agreement': 7, 'curl': 7, 'sensuality': 7, '! creature': 7, '! neighbor': 7, '! complicated': 7, 'fraught': 7, 'annoy': 7, 'withstand': 7, 'collision': 7, 'rejoice': 7, 'sullen': 7, 'conclude': 7, 'oversight': 7, 'venomous': 7, 'joke': 7, 'bait': 7, 'Weird': 7, '! serve': 7, 'symphony': 7, 'aristocracy': 7, 'earnestly': 7, 'plentiful': 7, 'uninitiated': 7, 'Bomb': 7, '! porn': 7, 'unforgiving': 7, 'subversion': 7, 'unacceptable': 7, '! importance': 7, '! arrogant': 7, 'trendy': 7, 'shiver': 7, '! sympathy': 7, 'spelling': 7, 'Evergreen': 7, 'crypt': 7, 'glare': 7, 'debacle': 7, 'Rescue': 7, 'perplexed': 7, '! structure': 7, 'tumble': 7, '! alien': 7, '! Spirit': 7, '! low': 7, 'beam': 7, 'growl': 7, 'litter': 7, 'cuckoo': 7, '! achievement': 7, 'motherhood': 7, 'boo': 7, 'heighten': 7, 'breach': 7, 'grudge': 7, 'Shock': 7, 'lower': 7, '! comprehend': 7, 'Charm': 7, 'dash': 7, 'boisterous': 7, '! fat': 7, 'prominence': 7, 'tribulation': 7, '! rough': 7, 'animosity': 7, '! Stone': 7, 'customer': 7, 'adverse': 7, 'oppose': 7, 'Foundation': 7, 'shabby': 7, 'oasis': 7, 'Cuckoo': 7, 'trepidation': 7, '! reject': 7, '! flaw': 7, '! promise': 7, '! punch': 7, '! vote': 7, 'hasty': 7, '! stiff': 7, '! winner': 7, 'chore': 7, 'craftsman': 7, 'vanish': 7, 'siren': 7, 'Divine': 7, 'SENTINEL': 7, 'tangle': 7, '! confident': 7, 'embroil': 7, 'orgasm': 7, 'Mortal': 7, 'enthusiast': 7, '! safe': 7, '! deadly': 6, 'Truth': 6, '! leader': 6, 'deterioration': 6, 'suppress': 6, '! gang': 6, '! rubbish': 6, 'slate': 6, '! mate': 6, 'generosity': 6, 'casualty': 6, 'powerless': 6, '! possess': 6, 'glib': 6, '! accident': 6, '! broken': 6, '! polish': 6, 'depressive': 6, '! abuse': 6, '! rage': 6, 'counselor': 6, 'persistence': 6, 'pile': 6, '! hidden': 6, '! guide': 6, 'detection': 6, 'LOVE': 6, 'ravenous': 6, 'grieve': 6, 'irritation': 6, 'excite': 6, '! embrace': 6, 'incisive': 6, '! absence': 6, 'cleaning': 6, '! butt': 6, 'Lower': 6, '! Dirty': 6, 'Shell': 6, 'Brotherhood': 6, 'BLACK': 6, 'Pilot': 6, '! stellar': 6, 'intrusion': 6, 'soil': 6, '! crisis': 6, 'dependency': 6, 'mediocrity': 6, 'selfishness': 6, 'Horrors': 6, 'qualifying': 6, 'CRY': 6, 'chivalry': 6, 'completion': 6, '! cheer': 6, 'HOLLOW': 6, '! March': 6, 'saber': 6, '! balance': 6, '! redemption': 6, 'Classics': 6, 'disparity': 6, 'nursery': 6, 'correction': 6, '! fit': 6, 'Bait': 6, 'unwavering': 6, 'Versus': 6, 'glorify': 6, 'inflation': 6, 'GOD': 6, '! strike': 6, '! smile': 6, 'evade': 6, 'Chairman': 6, 'LOST': 6, '! revolution': 6, 'perplex': 6, 'Present': 6, 'Title': 6, 'aspiring': 6, 'ardent': 6, 'birthplace': 6, 'endanger': 6, 'fee': 6, 'raving': 6, 'Chorus': 6, '! outlaw': 6, 'reactionary': 6, 'desolation': 6, '! damage': 6, '! Sky': 6, 'Trick': 6, 'antagonistic': 6, 'abduction': 6, 'Torn': 6, 'accompaniment': 6, 'Saber': 6, 'uninterested': 6, 'Achievement': 6, '! shed': 6, 'untrue': 6, 'republic': 6, 'Medal': 6, '! injure': 6, 'refinement': 5, 'Seduction': 5, '! plan': 5, 'SPIRIT': 5, 'eagerness': 5, 'patronizing': 5, 'Madden': 5, 'dictionary': 5, 'tact': 5, '! high': 5, 'chemist': 5, 'Grumpy': 5, '! rescue': 5, 'Blind': 5, 'unsatisfactory': 5, 'bloom': 5, '! aid': 5, 'deluge': 5, 'Cult': 5, '! Master': 5, '! craft': 5, '! attraction': 5, '! pet': 5, 'contaminate': 5, 'Darkness': 5, 'erroneous': 5, 'Trash': 5, '! superficial': 5, 'tumor': 5, '! despair': 5, 'sage': 5, 'Die': 5, 'Admiral': 5, 'grasp': 5, 'lace': 5, 'Attraction': 5, '! storm': 5, 'Keystone': 5, 'detect': 5, 'tantalizing': 5, 'Diagnosis': 5, 'bicker': 5, 'bluff': 5, '! originality': 5, '! Lost': 5, '! teen': 5, '! romp': 5, '! sky': 5, 'favorable': 5, 'patter': 5, 'savor': 5, 'Hanging': 5, 'obtuse': 5, 'tenacious': 5, 'exclude': 5, '! experienced': 5, '! honesty': 5, 'fraternal': 5, 'thrift': 5, '! demand': 5, '! celebrate': 5, 'fervor': 5, '! comfort': 5, 'conscientious': 5, 'restrain': 5, 'stereotyped': 5, '! Cage': 5, '! split': 5, 'specter': 5, '! symbolic': 5, '! prime': 5, 'exceed': 5, '! adorable': 5, 'exaggerate': 5, 'humiliating': 5, '! sea': 5, '! torture': 5, 'elimination': 5, '! endure': 5, '! Phantom': 5, 'Shot': 5, 'creditable': 5, 'Delivery': 5, '! Din': 5, 'Council': 5, 'prohibition': 5, 'magnificence': 5, '! advanced': 5, 'stationary': 5, 'soak': 5, '! liberty': 5, '! virtue': 5, '! Sea': 5, '! explosion': 5, 'Endless': 5, 'creak': 5, 'unrequited': 5, '! stand': 5, 'unwelcome': 5, 'Prohibition': 5, '! corrupt': 5, '! grace': 5, 'tangled': 5, '! splendid': 5, 'outdo': 5, 'gaunt': 5, '! curse': 5, 'ramble': 5, '! Mother': 5, '! growth': 5, 'CAROL': 5, 'Stiff': 5, '! fancy': 5, '! ancient': 5, 'Cream': 5, 'prevail': 5, '! like': 5, '! thief': 5, 'equilibrium': 5, 'daze': 5, 'languid': 5, '! pressure': 5, 'Symmetry': 5, '! endless': 5, 'defect': 5, 'Playhouse': 5, '! childish': 5, 'abomination': 5, '! argument': 4, 'mockery': 4, 'unprotected': 4, 'kindred': 4, 'auspicious': 4, 'Liberty': 4, '! Hidden': 4, '! absent': 4, 'Accident': 4, '! strip': 4, '! uninteresting': 4, 'unbiased': 4, '! lord': 4, '! objective': 4, 'offhand': 4, 'paralysis': 4, 'Usual': 4, 'warp': 4, 'dun': 4, 'aptitude': 4, 'plunge': 4, 'forgiving': 4, '! constant': 4, '! polished': 4, '! sincere': 4, '! crash': 4, 'dismemberment': 4, 'Contact': 4, '! fulfill': 4, '! foul': 4, 'opinionated': 4, 'infallible': 4, 'cradle': 4, '! relief': 4, '! handy': 4, '! moronic': 4, 'skewed': 4, 'Harvest': 4, 'Passion': 4, 'unimpressed': 4, 'smiling': 4, 'unbroken': 4, 'resistant': 4, 'Horizon': 4, '! ensemble': 4, 'unfulfille': 4, '! brutality': 4, 'dependence': 4, 'enlighten': 4, 'SKY': 4, 'distracted': 4, '! phony': 4, 'pledge': 4, 'gallant': 4, 'Strip': 4, 'Battlefield': 4, 'Agreement': 4, '! weight': 4, '! exchange': 4, '! destination': 4, 'distasteful': 4, 'Eager': 4, 'margin': 4, '! mob': 4, '! farce': 4, 'atonement': 4, 'Biblical': 4, 'leukemia': 4, 'slug': 4, 'delinquency': 4, 'Corpse': 4, 'inadequate': 4, '! wear': 4, 'humiliate': 4, '! destroy': 4, '! discovery': 4, 'Convention': 4, '! glorify': 4, '! versus': 4, '! worried': 4, 'swastika': 4, '! showy': 4, 'nurture': 4, 'Word': 4, '! deceive': 4, 'sluggish': 4, '! tender': 4, 'indecision': 4, 'unsettled': 4, '! idiotic': 4, '! clash': 4, '! prey': 4, 'diagnosis': 4, 'instruct': 4, '! intimate': 4, 'Deal': 4, '! rhythm': 4, 'Discovery': 4, '! Cold': 4, 'pastime': 4, '! straightforward': 4, 'mite': 4, 'atone': 4, '! fail': 4, 'restriction': 4, '! expectation': 4, 'frigid': 4, '! conviction': 4, 'Fudge': 4, '! contrary': 4, '! propaganda': 4, 'Silly': 4, 'din': 4, 'ministry': 4, 'Impossible': 4, 'resist': 4, 'starve': 4, 'countess': 4, 'zeal': 4, '! horribly': 4, '! trick': 4, 'Pine': 4, '! greatness': 4, 'Anaconda': 4, '! confuse': 4, '! Angel': 4, 'dogged': 4, 'overjoyed': 4, '! Wild': 4, '! pretend': 4, 'banish': 4, 'undermine': 4, '! demon': 4, 'Hush': 4, 'cheesecake': 4, 'traveling': 4, '! mess': 4, '! calm': 4, 'pained': 4, '! restraint': 4, '! disgusting': 4, 'Jam': 4, '! gag': 4, 'martyrdom': 4, 'Pirate': 4, '! aspire': 4, 'dementia': 4, '! terrorist': 4, 'cushion': 4, 'highest': 4, '! reporter': 4, 'blessing': 4, '! examination': 4, 'scramble': 4, 'revere': 4, 'sermon': 4, 'setback': 4, '! fade': 4, 'Violence': 4, '! precious': 4, 'unscathed': 4, 'Protector': 4, '! helpful': 4, '! unpredictable': 4, 'pungent': 4, '! upset': 4, '! delivery': 4, 'Kindred': 4, 'forgive': 4, 'bender': 4, 'smell': 4, '! determination': 4, '! bite': 4, 'perish': 4, 'gent': 4, 'apathetic': 4, 'WILD': 4, 'Strike': 4, '! courtesy': 4, 'smuggler': 4, 'noose': 4, 'loom': 4, '! majority': 4, 'Oak': 4, '! defeat': 4, 'hazard': 4, '! betrayal': 4, '! blind': 4, '! blast': 4, 'instruction': 4, 'Satanic': 4, 'Cradle': 4, 'Symphony': 4, 'Fate': 4, '! nonsensical': 3, 'innocuous': 3, 'payback': 3, 'Professional': 3, 'MARCH': 3, 'imperfection': 3, 'disappoint': 3, 'fleece': 3, '! pillow': 3, '! trendy': 3, 'provocation': 3, 'acrobat': 3, 'Aloha': 3, '! Grace': 3, '! march': 3, '! rave': 3, 'doldrum': 3, 'unfulfilled': 3, '! idiot': 3, '! patience': 3, 'wince': 3, 'Celebrity': 3, 'denunciation': 3, '! Grudge': 3, 'MASTER': 3, '! Redemption': 3, 'atom': 3, 'mutilate': 3, 'Anchor': 3, '! practice': 3, '! chore': 3, 'renewal': 3, 'Destination': 3, '! armor': 3, '! disorder': 3, 'Serpent': 3, '! suppress': 3, '! suck': 3, '! ease': 3, 'Clash': 3, 'hindrance': 3, 'qualify': 3, 'denying': 3, 'shattered': 3, '! pound': 3, '! Special': 3, 'remiss': 3, 'burglary': 3, 'Solid': 3, 'Score': 3, '! infinity': 3, 'Revere': 3, 'vigilance': 3, 'remedy': 3, 'default': 3, 'apprehension': 3, '! Justice': 3, 'beggar': 3, 'dictatorial': 3, 'subdue': 3, '! Sentinel': 3, 'emulate': 3, 'overpaid': 3, 'concluding': 3, '! Ken': 3, 'nap': 3, 'kitten': 3, 'pessimism': 3, '! nightmare': 3, '! humble': 3, 'attractiveness': 3, '! bomb': 3, 'Covenant': 3, 'bribe': 3, 'resignation': 3, 'pine': 3, 'humbug': 3, 'shortcoming': 3, '! jarring': 3, 'openness': 3, '! embarrassing': 3, '! distinction': 3, 'Tramp': 3, 'mishap': 3, 'desire': 3, 'Bounty': 3, '! Twin': 3, '! lost': 3, 'withdraw': 3, '! debate': 3, 'cathartic': 3, 'tenacity': 3, 'instinctive': 3, '! assistance': 3, '! hippie': 3, '! thrill': 3, 'Bless': 3, '! departure': 3, '! excite': 3, '! doom': 3, '! incorrect': 3, '! gross': 3, 'blunder': 3, '! Buck': 3, 'dreadfully': 3, 'authoritative': 3, '! Glory': 3, 'contemptible': 3, '! complement': 3, 'snarl': 3, 'underpaid': 3, '! irrational': 3, '! gap': 3, '! unfortunate': 3, '! adultery': 3, 'sobriety': 3, '! Ram': 3, 'compliance': 3, '! uncertain': 3, '! succeed': 3, 'venerable': 3, 'Craft': 3, 'steadfast': 3, '! unfold': 3, 'DIE': 3, 'Gospel': 3, '! defense': 3, '! confine': 3, 'tickle': 3, '! aggression': 3, '! performer': 3, 'Birth': 3, 'Wrong': 3, '! stress': 3, 'Warp': 3, '! vivid': 3, '! disappointing': 3, 'Quiet': 3, '! confidence': 3, '! experience': 3, 'agonizing': 3, 'marrow': 3, '! slip': 3, 'Friendly': 3, 'corrupting': 3, '! Revolution': 3, 'Kick': 3, 'Seal': 3, '! model': 3, '! wealth': 3, 'PHANTOM': 3, 'GOOD': 3, 'discord': 3, 'torn': 3, 'manly': 3, 'Defense': 3, '! epitome': 3, 'vomiting': 3, 'yawn': 3, 'Butt': 3, '! Late': 3, '! pose': 3, 'Humanity': 3, 'derision': 3, '! represent': 3, 'discretion': 3, 'Influence': 3, 'annihilate': 3, '! aura': 3, '! stark': 3, '! fleet': 3, '! tiresome': 3, 'racket': 3, 'Gift': 3, 'absentee': 3, '! champion': 3, '! rubble': 3, '! civilized': 3, '! Divine': 3, 'RATING': 3, '! Peace': 3, '! corpse': 3, '! zeal': 3, '! homosexuality': 3, '! tolerate': 3, 'stifled': 3, 'Danger': 3, '! call': 3, '! dust': 3, 'Terrorist': 3, 'gospel': 3, 'precinct': 3, 'elect': 3, 'blush': 3, '! green': 3, 'unyielding': 3, '! deliberate': 3, 'ALIEN': 3, 'Tender': 3, 'Sing': 3, '! Main': 3, 'asshole': 3, '! tangle': 3, '! mistress': 3, 'Distress': 3, 'incendiary': 3, '! fanatic': 3, 'Bang': 3, '! neurotic': 3, '! recognizable': 3, '! bang': 3, '! riot': 3, '! benefit': 3, '! depression': 3, '! hang': 3, '! bigoted': 3, '! cream': 3, '! corruption': 3, '! Good': 3, 'inspired': 3, 'feverish': 3, '! stroke': 3, 'Coronation': 3, 'BITE': 3, '! standing': 3, 'disagree': 3, 'mislead': 3, '! poorly': 3, 'wane': 3, 'exhaust': 3, 'Raging': 3, 'Superior': 3, 'passivity': 3, '! homage': 3, 'Rage': 3, 'Level': 3, 'ascent': 3, '! scandal': 3, '! accuse': 3, '! grave': 3, 'Model': 3, 'surrender': 3, 'conjure': 3, 'BIRTH': 3, 'undo': 3, 'Bully': 3, 'stain': 3, '! guard': 3, 'flounder': 3, 'viper': 3, '! advise': 3, 'tranquil': 3, 'bigoted': 3, '! drink': 3, '! admirer': 3, '! intact': 3, '! alarm': 3, '! travel': 3, '! admiration': 3, 'chatter': 3, 'redress': 3, '! modest': 3, '! servant': 3, '! flow': 3, 'sponge': 3, 'dazed': 3, 'SAVAGE': 3, '! Count': 3, 'dwarf': 2, 'authorize': 2, '! accompaniment': 2, 'discard': 2, 'orderly': 2, '! opposition': 2, 'luxuriant': 2, '! Furious': 2, 'precedence': 2, '! cuckoo': 2, 'ineffective': 2, '! spelling': 2, '! joke': 2, '! snide': 2, '! crush': 2, 'GRAVE': 2, '! fury': 2, '! Monster': 2, 'raptors': 2, 'picket': 2, 'egregious': 2, 'jar': 2, 'symmetrical': 2, 'wrench': 2, '! god': 2, 'bark': 2, 'aggressor': 2, 'goodwill': 2, '! organization': 2, 'spasm': 2, 'DON': 2, '! SEA': 2, '! BLACK': 2, '! idol': 2, 'misrepresentation': 2, '! rugged': 2, '! honor': 2, 'masochism': 2, 'choral': 2, '! lesbian': 2, '! expedition': 2, 'stifle': 2, '! gossip': 2, 'Fell': 2, '! Vice': 2, 'standstill': 2, '! fierce': 2, 'naturalist': 2, 'dispel': 2, '! Alien': 2, '! iron': 2, 'bigot': 2, '! cut': 2, '! brotherhood': 2, 'crunch': 2, 'readiness': 2, 'disable': 2, '! tax': 2, 'contributor': 2, '! garden': 2, 'vindicate': 2, '! deceased': 2, 'barbarism': 2, 'laudable': 2, '! Communism': 2, '! Professional': 2, '! restrain': 2, '! shatter': 2, 'bilingual': 2, '! cathartic': 2, '! prestige': 2, 'relieve': 2, '! Officer': 2, '! Dawn': 2, '! pregnancy': 2, 'ken': 2, 'Weeds': 2, '! Strip': 2, 'infinity': 2, 'TREAT': 2, 'sonorous': 2, '! glow': 2, '! heal': 2, '! Modesty': 2, 'endowed': 2, '! boast': 2, '! fear': 2, '! celebrity': 2, 'deactivate': 2, '! Center': 2, 'endangered': 2, 'cramp': 2, 'sisterhood': 2, 'LORD': 2, 'outcry': 2, '! elite': 2, 'hurrah': 2, 'misunderstand': 2, 'usurped': 2, '! discrimination': 2, 'ACTION': 2, 'bound': 2, 'homesick': 2, '! Hurt': 2, 'leeway': 2, 'FREEDOM': 2, '! fraud': 2, 'Contaminated': 2, 'hiss': 2, 'defenseless': 2, 'Heroine': 2, 'grounded': 2, 'unforgive': 2, 'Jump': 2, '! manufacturer': 2, '! savage': 2, 'fume': 2, '! hire': 2, '! mighty': 2, 'measured': 2, 'Stark': 2, '! sensuality': 2, '! Samurai': 2, '! salvation': 2, 'slaughter': 2, '! somber': 2, '! assurance': 2, '! intolerant': 2, 'extricate': 2, 'revulsion': 2, 'SUN': 2, 'ram': 2, '! imitate': 2, '! burn': 2, '! bonus': 2, '! apologize': 2, 'forefather': 2, '! numb': 2, '! gift': 2, '! evolution': 2, 'Pay': 2, '! sneak': 2, '! prominence': 2, '! Peck': 2, 'oak': 2, 'blight': 2, 'Waste': 2, 'frown': 2, 'Gaunt': 2, 'monstrosity': 2, '! crack': 2, 'barricade': 2, 'Bout': 2, '! Fat': 2, 'disqualify': 2, '! Winner': 2, 'enchant': 2, 'betterment': 2, 'entanglement': 2, 'lawful': 2, '! samurai': 2, '! prisoner': 2, 'snag': 2, '! slate': 2, 'soulmate': 2, '! foolish': 2, 'Downfall': 2, '! Depression': 2, 'overpay': 2, 'Goblin': 2, '! timely': 2, '! swear': 2, '! exquisite': 2, 'affiliate': 2, '! earnest': 2, '! Doctor': 2, '! bully': 2, 'adrift': 2, 'Rhythm': 2, 'consecration': 2, '! foundation': 2, '! reading': 2, 'absolution': 2, 'prestige': 2, '! overthrow': 2, '! detect': 2, 'discourage': 2, '! glib': 2, 'Hippie': 2, 'shamble': 2, 'responsive': 2, '! soil': 2, 'Polish': 2, 'Disorder': 2, '! empathy': 2, '! resistance': 2, '! bond': 2, '! modesty': 2, '! spree': 2, 'undecided': 2, 'Elite': 2, 'maternal': 2, '! travesty': 2, '! consummate': 2, '! rigid': 2, 'Dun': 2, 'genial': 2, 'evergreen': 2, 'connoisseur': 2, '! despise': 2, '! infinite': 2, 'snide': 2, 'unpublished': 2, 'fumble': 2, 'Rabid': 2, '! shell': 2, '! Deal': 2, 'ballot': 2, '! supremacy': 2, '! lump': 2, 'minimize': 2, 'coronation': 2, 'Honest': 2, '! eager': 2, 'enliven': 2, 'regret': 2, 'unequivocally': 2, 'torpedo': 2, 'Decency': 2, '! untrue': 2, 'assert': 2, '! jam': 2, 'privilege': 2, 'starved': 2, '! dedication': 2, 'dole': 2, 'damper': 2, 'implacable': 2, '! ste': 2, '! unity': 2, '! sin': 2, '! horror': 2, '! plagiarism': 2, 'inaction': 2, 'impotence': 2, 'subjugation': 2, '! sink': 2, '! downfall': 2, '! pollution': 2, 'Cute': 2, 'moderator': 2, '! belt': 2, '! agreement': 2, '! alluring': 2, 'untold': 2, '! Deadly': 2, 'DIN': 2, 'hobo': 2, '! educate': 2, '! Land': 2, '! Full': 2, '! bias': 2, '! Parade': 2, '! Crypt': 2, 'Adder': 2, 'junta': 2, '! recreation': 2, '! justification': 2, 'exterminate': 2, 'Burn': 2, '! twin': 2, 'Gap': 2, 'plumb': 2, 'Marry': 2, 'UNTOLD': 2, '! Carol': 2, 'grasping': 2, 'Assembly': 2, 'forgery': 2, 'Fake': 2, '! verge': 2, '! wreck': 2, 'defender': 2, '! distortion': 2, 'Examination': 2, 'Encyclopedia': 2, 'vindicated': 2, '! instrumental': 2, 'campaigning': 2, 'transgression': 2, '! tribute': 2, 'Grieve': 2, 'partisan': 2, 'manufacturer': 2, '! wince': 2, '! radiant': 2, '! vice': 2, '! slap': 2, 'failing': 2, 'joking': 2, '! cunning': 2, '! pretense': 2, 'weariness': 2, '! protector': 2, 'vigor': 2, '! abandon': 2, 'JUSTICE': 2, 'relaxation': 2, '! refuse': 2, 'fainting': 2, 'inert': 2, '! noble': 2, 'throttle': 2, '! angel': 2, 'concussion': 2, 'rejuvenate': 2, 'eavesdrop': 2, 'fearing': 2, 'Undying': 2, 'tutelage': 2, 'BOGUS': 2, 'sweetie': 2, 'Content': 2, '! defenseless': 2, 'Promise': 2, '! Chase': 2, 'inconsiderate': 2, 'Progressive': 2, 'constraint': 2, '! antithesis': 2, '! domination': 2, 'Crook': 2, '! seduction': 2, 'Faith': 2, 'gall': 2, 'brotherhood': 2, 'ADVENTURE': 2, 'segregated': 2, '! ally': 2, '! shamble': 2, 'COOL': 2, '! labor': 2, '! vanity': 2, 'delayed': 2, '! Blob': 2, '! mockery': 2, '! remove': 2, 'Communism': 2, '! breakfast': 2, 'Critic': 2, 'spectral': 2, '! worship': 2, 'irrevocable': 2, '! sensational': 2, 'checklist': 2, 'repress': 2, '! Sin': 2, 'Bonus': 2, '! Buzz': 2, '! sap': 2, '! exaggerate': 2, 'mediation': 2, 'bailiff': 2, '! interior': 2, 'Atonement': 2, '! distressed': 2, '! intrigue': 2, 'muddle': 2, 'severity': 2, '! progressive': 2, '! salute': 2, '! advance': 2, '! Vertigo': 2, '! Love': 2, '! spectacle': 2, 'Hiss': 2, 'accommodation': 2, '! dispute': 2, 'valor': 2, 'infraction': 2, 'Bastard': 2, '! rear': 2, '! Chorus': 2, 'Female': 2, 'deficiency': 2, '! harm': 2, 'consternation': 2, '! saber': 2, 'accord': 2, '! organize': 2, 'discriminate': 2, 'rust': 2, '! bloom': 2, '! address': 2, 'denounce': 2, '! absorb': 2, '! shoulder': 2, 'disorganized': 2, 'prosecute': 2, '! Mob': 2, 'tarnish': 2, 'BOO': 2, 'staring': 2, 'plush': 2, '! compassionate': 2, 'battery': 2, 'wanting': 2, 'VERTIGO': 2, '! fashionable': 2, '! rational': 2, '! mortal': 2, 'Rough': 2, '! withstand': 2, 'ART': 2, 'Palsy': 2, 'Lordship': 1, 'Stress': 1, '! disqualify': 1, 'CRISIS': 1, '! furious': 1, '! Atonement': 1, 'maggot': 1, 'agitation': 1, '! gloss': 1, '! whirlwind': 1, '! speculation': 1, '! Honor': 1, 'Absolute': 1, '! spasm': 1, 'riddled': 1, '! nurse': 1, '! dashing': 1, 'playhouse': 1, 'YAWN': 1, '! bureaucracy': 1, 'austerity': 1, '! serpent': 1, '! overjoyed': 1, 'Illusion': 1, 'FORCE': 1, '! sting': 1, '! tramp': 1, 'FAIR': 1, 'Unfortunate': 1, 'advocacy': 1, 'misrepresent': 1, '! keystone': 1, '! haunt': 1, '! boil': 1, 'PARADE': 1, 'Whirlwind': 1, 'Tough': 1, '! pirate': 1, 'Wrench': 1, '! bastard': 1, 'hangman': 1, '! esthetic': 1, '! contributor': 1, '! resignation': 1, '! Leader': 1, '! Trash': 1, 'clashing': 1, '! Thief': 1, 'waffle': 1, 'Neighbor': 1, '! diagnosis': 1, '! Biblical': 1, '! rack': 1, '! organic': 1, 'HORRORS': 1, 'Kudos': 1, 'firearm': 1, '! construct': 1, 'PERFECT': 1, 'STONE': 1, 'weed': 1, 'Struggle': 1, '! emulate': 1, '! denying': 1, '! fray': 1, '! anathema': 1, '! caricature': 1, 'demonstrative': 1, 'Apache': 1, '! Bonds': 1, '! perish': 1, 'Slug': 1, '! ground': 1, '! revere': 1, 'fece': 1, 'buffet': 1, '! animosity': 1, '! PET': 1, 'timidity': 1, 'Ministry': 1, '! mislead': 1, '! buzz': 1, 'Cutting': 1, 'Dictionary': 1, 'jargon': 1, 'quell': 1, '! banish': 1, '! praised': 1, 'MATE': 1, 'spotless': 1, '! plentiful': 1, '! Bite': 1, '! neglect': 1, 'Pinnacle': 1, 'babbling': 1, '! dire': 1, '! Storm': 1, 'campaign': 1, '! mark': 1, '! Fall': 1, 'irons': 1, '! render': 1, '! income': 1, '! CRY': 1, '! reconciliation': 1, '! Brotherhood': 1, '! Intelligence': 1, 'Shed': 1, '! heroism': 1, 'groundwork': 1, 'tempest': 1, 'SUPERB': 1, '! fatality': 1, '! forgiving': 1, '! amazingly': 1, 'Hug': 1, 'Buffet': 1, '! stain': 1, '! siren': 1, '! enlighten': 1, '! exclude': 1, 'Fidelity': 1, 'godly': 1, '! reactionary': 1, 'Wit': 1, 'Deliberate': 1, 'unexpecte': 1, '! fraught': 1, 'bummer': 1, 'tremble': 1, '! sacrifice': 1, '! shoddy': 1, '! limp': 1, '! contaminate': 1, '! unsatisfactory': 1, 'clouded': 1, 'disparage': 1, 'devotional': 1, 'unsustainable': 1, '! Versus': 1, 'admiral': 1, '! threaten': 1, 'Recovery': 1, '! irritation': 1, '! enforcement': 1, 'Symbolic': 1, 'impropriety': 1, '! humiliating': 1, 'skille': 1, 'Rapture': 1, '! grotesque': 1, '! oddity': 1, 'Ballot': 1, '! stool': 1, '! exuberance': 1, 'Damage': 1, 'lash': 1, '! vacation': 1, 'Harmony': 1, 'cutter': 1, 'RAGING': 1, 'Drone': 1, '! beam': 1, '! cigarette': 1, 'Worship': 1, '! inconsiderate': 1, 'quiver': 1, 'fatality': 1, '! unprotected': 1, '! collapse': 1, '! birthday': 1, '! grieve': 1, '! Tempest': 1, 'Farce': 1, '! outdo': 1, '! Regal': 1, 'Perk': 1, 'reciprocate': 1, '! Crash': 1, 'Propaganda': 1, '! steadfast': 1, '! worthless': 1, 'quack': 1, 'Cleaning': 1, 'Acceptance': 1, 'discolor': 1, 'accredit': 1, '! offhand': 1, 'dabble': 1, '! apprehension': 1, '! Salvation': 1, '! impervious': 1, '! cutting': 1, 'horrors': 1, '! pique': 1, 'RACKET': 1, 'AGREEMENT': 1, 'dispersion': 1, 'rout': 1, 'affliction': 1, '! anxiety': 1, '! chivalry': 1, 'dwarfed': 1, 'Everlasting': 1, 'peculiarity': 1, '! overbearing': 1, '! Importance': 1, '! convert': 1, 'wearines': 1, 'Crusade': 1, '! battlefield': 1, '! instruction': 1, 'Glow': 1, 'Apostle': 1, 'patronize': 1, '! DAWN': 1, 'Rating': 1, 'Glib': 1, 'cloud': 1, '! consternation': 1, '! Dementia': 1, 'pretending': 1, 'overjoy': 1, 'Deadlock': 1, '! Adder': 1, 'mimicry': 1, '! Patron': 1, '! fidelity': 1, '! quicksilver': 1, '! bitterly': 1, '! bitterness': 1, 'calculator': 1, 'tumult': 1, '! kindred': 1, 'Oasis': 1, '! mannered': 1, 'pessimist': 1, 'Slate': 1, 'diversified': 1, '! progression': 1, 'Gall': 1, '! unacceptable': 1, '! profession': 1, '! diversified': 1, '! enchanting': 1, '! specie': 1, 'fell': 1, 'Legendary': 1, '! approve': 1, '! seasoned': 1, '! Gross': 1, 'foresight': 1, 'alabaster': 1, '! fee': 1, 'barred': 1, 'standoff': 1, '! monstrosity': 1, '! tribulation': 1, '! Cool': 1, '! candid': 1, '! disregard': 1, 'expel': 1, 'glide': 1, 'Mutant': 1, '! sturdy': 1, 'opiate': 1, 'Hurrah': 1, 'Chivalry': 1, '! perennial': 1, '! famine': 1, '! quaint': 1, 'shelve': 1, 'ordain': 1, 'Sage': 1, 'Gross': 1, 'Reserve': 1, '! mutant': 1, 'unprofitable': 1, 'depreciation': 1, 'falling': 1, 'Labor': 1, '! kindness': 1, '! horizon': 1, 'Lurch': 1, 'taint': 1, 'REVOLUTION': 1, 'SEAL': 1, 'Advance': 1, '! faint': 1, '! affiliate': 1, 'clearance': 1, 'regularity': 1, 'raptor': 1, 'Comfort': 1, '! wrench': 1, 'Authorized': 1, '! isolate': 1, 'authorized': 1, '! dump': 1, '! chairman': 1, '! council': 1, '! biblical': 1, 'esthetic': 1, '! infallible': 1, '! Happy': 1, 'flagrant': 1, 'Unique': 1, '! outrage': 1, 'SWEET': 1, '! Corpse': 1, '! Drinking': 1, '! frank': 1, 'endowment': 1, 'imperfectly': 1, '! resource': 1, 'pickle': 1, 'flap': 1, 'flinch': 1, 'splinter': 1, '! unfulfilled': 1, 'remission': 1, '! outlandish': 1, 'onerous': 1, 'Casualty': 1, 'perk': 1, '! Pet': 1, '! Cry': 1, '! Freedom': 1, '! Blind': 1, 'Routine': 1, '! rate': 1, 'slaughtering': 1, '! violation': 1, '! agility': 1, 'Pick': 1, 'BANG': 1, '! don': 1, '! tarnish': 1, '! enforce': 1, '! restriction': 1, 'Scandal': 1, '! endow': 1, '! Liberty': 1, 'unsatisfie': 1, '! complexity': 1, '! thump': 1, '! tantalize': 1, '! grant': 1, '! rout': 1, '! Elimination': 1, 'Elimination': 1, '! Whip': 1, '! dash': 1, 'enforce': 1, 'Embrace': 1, '! Truth': 1, 'Infinity': 1, 'Waffle': 1, 'Slap': 1, '! uninitiated': 1, 'thoroughbred': 1, 'Grit': 1, 'incompleteness': 1, 'Praise': 1, '! aristocratic': 1, '! contradict': 1, 'inconsistency': 1, 'wireless': 1, '! abolish': 1, 'SAMURAI': 1, '! hail': 1, 'Margin': 1, 'DIRTY': 1, '! elevation': 1, 'BAD': 1, 'boycott': 1, 'stamina': 1, '! Stripe': 1, '! tower': 1, '! vanish': 1, 'tantalize': 1, 'Ridiculous': 1, 'Formula': 1, 'symmetry': 1, 'cunne': 1, 'Lace': 1, 'Earnest': 1, '! Earnest': 1, 'decayed': 1, '! hesitation': 1, '! spice': 1, '! extinct': 1, '! drinking': 1, 'SYMPATHY': 1, '! Colonel': 1, '! Fudge': 1, '! attack': 1, '! welcome': 1, '! Director': 1, '! pervert': 1, '! Savage': 1, 'Stupid': 1, '! dictatorial': 1, '! discipline': 1, 'blowout': 1, '! nefarious': 1, '! drawback': 1, '! inadequate': 1, 'solidity': 1, '! Satanic': 1, 'cheering': 1, 'Affliction': 1, '! senseless': 1, 'blemish': 1, 'NIGHTMARE': 1, '! orgasm': 1, 'startle': 1, '! grudge': 1, 'advisable': 1, 'SIN': 1, '! decayed': 1, 'retort': 1, '! moderate': 1, 'wrangling': 1, '! Drunken': 1, '! Champion': 1, '! scaffold': 1, 'scaffold': 1, '! Superior': 1, '! prohibition': 1, '! Marry': 1, 'winning': 1, '! smitten': 1, '! casualty': 1, '! complication': 1, '! stamina': 1, '! resign': 1, '! mite': 1, '! bogus': 1, '! soulmate': 1, '! license': 1, 'Smiling': 1, 'confined': 1, 'Handy': 1, 'halting': 1, '! dispel': 1, 'Absolution': 1, '! hug': 1, '! bound': 1, 'ATTRACTION': 1, '! aberration': 1, 'Crude': 1, 'Clouded': 1, '! retirement': 1, 'Hasty': 1, '! guise': 1, '! annoy': 1, 'skew': 1, '! dogged': 1, '! persistence': 1, '! discharge': 1, '! wound': 1, 'muzzle': 1, 'TEMPEST': 1, '! fuss': 1, '! Discovery': 1, 'tripping': 1, 'Crusty': 1, 'Plumb': 1, '! checklist': 1, '! acknowledgment': 1, '! profusion': 1, '! default': 1, 'Corruption': 1, '! error': 1, '! Lower': 1, 'deletion': 1, 'SPECIAL': 1, 'Stab': 1, '! innocuous': 1, 'AID': 1, '! expatriate': 1, '! reciprocate': 1, 'Words': 1, 'nul': 1, 'immaturity': 1, 'expedient': 1, '! merciless': 1, 'faint': 1, '! Bark': 1, 'Explosion': 1, 'retract': 1, 'DANCE': 1, 'CAGE': 1, 'bogu': 1, '! BOGUS': 1, 'Hangman': 1, '! persistent': 1, '! reverence': 1, 'Dolphin': 1, '! spell': 1, '! confess': 1, 'Extraordinary': 1, 'banshee': 1, 'obliterated': 1, 'graciously': 1, '! exceed': 1, '! tripping': 1, '! aristocracy': 1, 'Task': 1, 'aberrant': 1, 'approve': 1, 'smoothness': 1, '! torn': 1, 'reinforcement': 1, '! skilled': 1, 'marked': 1, '! endeavor': 1, '! contribute': 1, 'penetration': 1, '! Royalty': 1, '! unsatisfie': 1, '! weary': 1, '! disgust': 1, '! illusion': 1, '! grate': 1, '! Usual': 1, '! complete': 1, 'soiled': 1, '! Bomb': 1, '! trip': 1, 'FURY': 1, 'Reporter': 1, '! Fleet': 1, '! Dance': 1, 'abort': 1, 'emaciated': 1, '! purity': 1, 'ply': 1, 'cultivate': 1, '! Gospel': 1, '! warp': 1, 'deformity': 1, 'delegate': 1, '! Prisoner': 1, 'DIRECTOR': 1, '! tumult': 1, 'raging': 1, '! evade': 1, '! irrelevant': 1, 'Enjoy': 1, '! symmetry': 1, 'dislocate': 1, 'Racket': 1, '! POORLY': 1, '! Friend': 1, 'dishonor': 1, 'balm': 1, 'posses': 1, 'FUSS': 1, 'Genius': 1, 'Horrible': 1, '! Row': 1, 'MONSTER': 1, '! delay': 1, 'Stud': 1, '! PHANTOM': 1, 'gallantry': 1, '! odor': 1, 'Credit': 1, 'Error': 1, '! delusional': 1, '! unsavory': 1, 'Climax': 1, '! prevail': 1, 'Flow': 1, '! denounce': 1, 'procure': 1, 'ejaculation': 1, 'Epidemic': 1, 'halt': 1, 'agonize': 1, 'MUSICAL': 1, 'Dull': 1, 'r': 1, '! highest': 1, '! Sweet': 1, 'Spice': 1, 'Pleasant': 1, '! illustrate': 1, '! swastika': 1, 'Highest': 1, '! noose': 1, 'Prudence': 1, '! acceptance': 1, '! absolution': 1, '! fumble': 1, 'pique': 1, 'DARKNESS': 1, '! unsatisfied': 1, '! divine': 1, 'Artistic': 1, 'Scrumptious': 1, '! fleshy': 1, '! premise': 1, 'Pain': 1, 'Harm': 1, '! grit': 1, '! alcoholism': 1, '! frigid': 1, 'mutilated': 1, '! openness': 1, 'Proposition': 1, '! blush': 1, 'FOOL': 1, 'autocratic': 1, 'injunction': 1, '! shortcoming': 1, 'VERSUS': 1, 'profuse': 1, 'Advent': 1, 'Detention': 1, 'Boilerplate': 1, 'Oracle': 1, '! unbiased': 1, '! democracy': 1, '! sentence': 1, 'uninfected': 1, '! revive': 1, '! preserve': 1, 'unintereste': 1, '! hysterical': 1, 'infiltration': 1, '! delinquency': 1, 'spell': 1, '! Romance': 1, 'inadmissible': 1, 'Stripe': 1, '! withdraw': 1, 'Purity': 1, 'commonwealth': 1, '! Hit': 1, 'impervious': 1, 'COLONEL': 1, 'Whip': 1, 'destroying': 1, 'GUIDE': 1, '! SUN': 1, 'Worm': 1, '! stab': 1, '! Bloom': 1, '! season': 1, '! harmony': 1, '! decease': 1, '! Don': 1, 'Payback': 1, '! exacerbate': 1, '! entangle': 1, 'accuser': 1, '! sour': 1, 'fret': 1, '! barbarism': 1, 'contaminated': 1, 'urchin': 1, '! bargain': 1, '! exile': 1, 'Aspiring': 1, '! pungent': 1, '! bland': 1, 'WORD': 1, 'Forward': 1, '! derision': 1, 'attacking': 1, '! pornography': 1, 'overpriced': 1, 'Study': 1, '! attest': 1, 'blower': 1, 'Constant': 1, '! root': 1, 'undye': 1, '! decay': 1, 'Torture': 1, '! timid': 1, '! cleaning': 1, '! Bout': 1, '! desert': 1, '! ineffective': 1, 'surrendering': 1, 'Traveling': 1, 'synchronize': 1, '! dawn': 1, 'Hostile': 1, 'languish': 1, '! crook': 1, '! curl': 1, 'enmity': 1, 'Blunder': 1, '! nervous': 1, 'Commonwealth': 1, 'Precious': 1, '! indelible': 1, 'DEAL': 1, '! slug': 1, '! weariness': 1, '! fervor': 1, 'weaken': 1, 'discharge': 1, 'inequitable': 1, 'ANGEL': 1, '! pinnacle': 1, '! committed': 1, 'Faithful': 1, 'fray': 1, '! Irons': 1, '! Desert': 1, '! pioneer': 1, '! crowning': 1, 'inactivity': 1, '! lavish': 1, 'TRASH': 1, 'adaptable': 1, '! royalty': 1, '! austerity': 1, 'Sting': 1, '! birthplace': 1, 'expatriate': 1, '! slaughter': 1, '! supporter': 1, 'vegetative': 1, 'Abuse': 1, '! fraternal': 1, 'allure': 1, '! astonishingly': 1, 'lurch': 1, '! Horizon': 1, 'slur': 1, 'Revival': 1, '! Evergreen': 1, 'unsettle': 1, 'Fanatic': 1, '! decline': 1, 'Civilized': 1, 'Leukemia': 1, 'Worry': 1, 'reaffirm': 1, 'hemorrhage': 1, 'Injured': 1, '! liking': 1, '! defend': 1, 'Anxiety': 1, 'falter': 1, 'Shrink': 1, '! balk': 1, '! Clash': 1, 'Resistance': 1, '! dubious': 1, 'omen': 1, 'Counselor': 1, '! assembly': 1, 'labored': 1, '! serene': 1, '! dazed': 1, 'DECLINE': 1, '! Tower': 1, 'Cigarette': 1, 'Hail': 1, 'elated': 1, '! LOST': 1, '! Hollow': 1, 'rugge': 1, 'Split': 1, '! Production': 1, 'sublimation': 1, 'Vacation': 1, 'battle': 1, 'fecal': 1, 'Cocaine': 1, '! removal': 1, 'growling': 1, '! resistant': 1, 'Greater': 1, '! Goblin': 1, '! carie': 1, '! rejection': 1, 'Assent': 1, '! celebrated': 1, 'blot': 1, 'entangled': 1, 'Idiot': 1, '! GARDEN': 1, 'GARDEN': 1, 'crushing': 1, 'repudiation': 1, '! prosecute': 1, 'Leader': 1, '! captivate': 1, '! Relief': 1, 'Endowment': 1, 'restful': 1, '! magnificence': 1, 'CENTER': 1, '! picket': 1, '! shrink': 1, 'Mate': 1, 'perplexity': 1, '! throttle': 1, 'Ardent': 1, '! clean': 1, 'trembling': 1, 'Discipline': 1, '! garish': 1, '! auspicious': 1, '! associate': 1, 'Splendor': 1, '! savor': 1, 'Outlaw': 1, 'EVIL': 1, '! cocaine': 1, 'enjoying': 1, '! conclude': 1, '! customer': 1, '! tact': 1, '! PRISONER': 1, 'Fancy': 1, 'rabie': 1, '! Exchange': 1, 'incase': 1, 'Wound': 1, '! erratic': 1, '! glimmer': 1, 'conflagration': 1, '! depressive': 1, 'abolish': 1, 'bles': 1, 'agility': 1, 'renounce': 1, '! darkness': 1, 'Hit': 1, '! shabby': 1, 'Distortion': 1, 'intolerant': 1, '! hollow': 1, 'windfall': 1, 'irregular': 1, '! embroil': 1, 'BUCK': 1, 'RAGE': 1, 'ordination': 1, 'constancy': 1, '! conceit': 1, '! harden': 1, 'Gaby': 1, 'Triumph': 1, '! horrid': 1, 'Shoot': 1, '! decency': 1, '! republic': 1, '! hoot': 1})\n"
     ]
    }
   ],
   "source": [
    "'''\n",
    "Emotion words histogram\n",
    "'''\n",
    "read_files = glob.glob(posTrainDir + '*.txt')\n",
    "\n",
    "counterPosEmos = Counter('')\n",
    "i = 0\n",
    "\n",
    "for infile in read_files:\n",
    "    with open(infile, 'r', errors='replace') as f:\n",
    "        text = f.read()\n",
    "        doc = nlp(text)\n",
    "        counterPosEmos += analyzeEmotionWords(doc, emos) \n",
    "        if (i % 5000 == 0): \n",
    "            print('i : ' + str(i))  \n",
    "        i += 1\n",
    "    \n",
    "print(counterPosEmos)"
   ]
  },
  {
   "cell_type": "code",
   "execution_count": 20,
   "metadata": {},
   "outputs": [],
   "source": [
    "N = len(read_files)\n",
    "counterPosEmosIdf = invDocFreq(counterPosEmos, N)"
   ]
  },
  {
   "cell_type": "code",
   "execution_count": 14,
   "metadata": {},
   "outputs": [
    {
     "name": "stdout",
     "output_type": "stream",
     "text": [
      "i : 0\n",
      "i : 5000\n",
      "i : 10000\n"
     ]
    }
   ],
   "source": [
    "read_files = glob.glob(posTrainDir + '*.txt')\n",
    "\n",
    "i = 0\n",
    "totPosWords = 0\n",
    "\n",
    "for infile in read_files:\n",
    "    with open(infile, 'r', errors='replace') as f:\n",
    "        totPosWords += totalWords(f) \n",
    "        if (i % 5000 == 0): \n",
    "            print('i : ' + str(i))  \n",
    "        i += 1  "
   ]
  },
  {
   "cell_type": "code",
   "execution_count": 32,
   "metadata": {},
   "outputs": [
    {
     "data": {
      "text/plain": [
       "12500"
      ]
     },
     "execution_count": 32,
     "metadata": {},
     "output_type": "execute_result"
    }
   ],
   "source": [
    "N"
   ]
  },
  {
   "cell_type": "code",
   "execution_count": 17,
   "metadata": {},
   "outputs": [
    {
     "data": {
      "image/png": "[encoded data removed]",
      "text/plain": [
       "<Figure size 1600x480 with 1 Axes>"
      ]
     },
     "metadata": {},
     "output_type": "display_data"
    }
   ],
   "source": [
    "plt.figure(num=None, figsize=(20, 6), dpi=80, facecolor='w', edgecolor='k')\n",
    "labels, values = rankCounter(counterPosEmos)\n",
    "values = [v*1.0/totPosWords for v in values]\n",
    "indexes = np.arange(len(labels)) \n",
    "plt.bar(indexes, values, barwidth)\n",
    "plt.xticks(indexes + width * 0.5, labels)\n",
    "plt.show()"
   ]
  },
  {
   "cell_type": "code",
   "execution_count": 30,
   "metadata": {},
   "outputs": [
    {
     "data": {
      "image/png": "[encoded data removed]",
      "text/plain": [
       "<Figure size 1600x480 with 1 Axes>"
      ]
     },
     "metadata": {},
     "output_type": "display_data"
    }
   ],
   "source": [
    "N = len(read_files)\n",
    "counterPosEmosIdf = invDocFreq(counterPosEmos, N)\n",
    "plt.figure(num=None, figsize=(20, 6), dpi=80, facecolor='w', edgecolor='k')\n",
    "result = {k: v for k, v in sorted(counterPosEmosIdf.items(), key=lambda item: item[1])}\n",
    "labels = list(result.keys())[:20]\n",
    "values = list(result.values())[:20]\n",
    "indexes = np.arange(len(labels)) \n",
    "plt.bar(indexes, values, barwidth)\n",
    "plt.xticks(indexes + width * 0.5, labels)\n",
    "plt.show()"
   ]
  },
  {
   "cell_type": "code",
   "execution_count": 29,
   "metadata": {},
   "outputs": [
    {
     "data": {
      "text/plain": [
       "[0.5942072327050417,\n",
       " 1.1680909924381693,\n",
       " 2.0569757969641724,\n",
       " 2.074016285034771,\n",
       " 2.0765656809343715,\n",
       " 2.4168742393961735,\n",
       " 2.445993676289402,\n",
       " 2.564469472624686,\n",
       " 2.6546990256052156,\n",
       " 2.700082031453033,\n",
       " 2.7767573991120007,\n",
       " 2.8054425471108595,\n",
       " 2.817418738157575,\n",
       " 2.8268337370921772,\n",
       " 2.8500747011316276,\n",
       " 2.8514587843975665,\n",
       " 2.866811493487152,\n",
       " 2.878127031479728,\n",
       " 2.879550519264581,\n",
       " 2.9069890637196023,\n",
       " 2.9488486876551407,\n",
       " 2.9989374045029393,\n",
       " 3.008614899385005,\n",
       " 3.0233090413242256,\n",
       " 3.028255465259551,\n",
       " 3.079113882493042,\n",
       " 3.0896034891640616,\n",
       " 3.091362504569241,\n",
       " 3.0966581921439515,\n",
       " 3.0984296717923336,\n",
       " 3.1073344501352933,\n",
       " 3.11271562903981,\n",
       " 3.114515809543958,\n",
       " 3.1835086810309097,\n",
       " 3.20103590673987,\n",
       " 3.206947254002927,\n",
       " 3.2452198002078028,\n",
       " 3.2555398092397922,\n",
       " 3.2850156273727458,\n",
       " 3.3354096411241523,\n",
       " 3.358137892201708,\n",
       " 3.358137892201708,\n",
       " 3.3604393891899877,\n",
       " 3.3837504680584347,\n",
       " 3.4246707378477974,\n",
       " 3.454598158389271,\n",
       " 3.477646553825562,\n",
       " 3.5226872792498654,\n",
       " 3.536330055653652,\n",
       " 3.5446059649575115,\n",
       " 3.5613661338149765,\n",
       " 3.569852747692295,\n",
       " 3.575550768806933,\n",
       " 3.6163727633271883,\n",
       " 3.619353391465326,\n",
       " 3.619353391465326,\n",
       " 3.649658740960655,\n",
       " 3.6777417097034806,\n",
       " 3.6872807327502395,\n",
       " 3.69048073548091,\n",
       " 3.6936910111111585,\n",
       " 3.703384140316818,\n",
       " 3.7230569059155227,\n",
       " 3.7297014486341915,\n",
       " 3.733040349899706,\n",
       " 3.739751784487693,\n",
       " 3.7880370256471547,\n",
       " 3.791576852352279,\n",
       " 3.7951292539566466,\n",
       " 3.809466417103054,\n",
       " 3.8203558169023224,\n",
       " 3.8313651024106914,\n",
       " 3.8462352648901432,\n",
       " 3.8499876145086933,\n",
       " 3.8537540973041704,\n",
       " 3.8537540973041704,\n",
       " 3.8651394195292954,\n",
       " 3.8766558615908546,\n",
       " 3.884407838395173,\n",
       " 3.884407838395173,\n",
       " 3.900094434562872,\n",
       " 3.9080309841586085,\n",
       " 3.9080309841586085,\n",
       " 3.916031026825685,\n",
       " 3.9240955866624154,\n",
       " 3.9281523873580295,\n",
       " 3.944546197133706,\n",
       " 3.9486869897997376,\n",
       " 3.9696521182647824,\n",
       " 3.9738984091462335,\n",
       " 3.978162807932691,\n",
       " 4.012948924018106,\n",
       " 4.012948924018106,\n",
       " 4.053586569749933,\n",
       " 4.058205515606227,\n",
       " 4.081625789814326,\n",
       " 4.0959458435890745,\n",
       " 4.120277944248605,\n",
       " 4.1401790985659,\n",
       " 4.1401790985659,\n",
       " 4.150280194552404,\n",
       " 4.165625764227064,\n",
       " 4.165625764227064,\n",
       " 4.165625764227064,\n",
       " 4.170793734385507,\n",
       " 4.170793734385507,\n",
       " 4.19173690823075,\n",
       " 4.197041960460443,\n",
       " 4.197041960460443,\n",
       " 4.223997770448972,\n",
       " 4.229477236213597,\n",
       " 4.229477236213597,\n",
       " 4.234986892024567,\n",
       " 4.251700372998307,\n",
       " 4.268697949366879,\n",
       " 4.274428624075863,\n",
       " 4.274428624075863,\n",
       " 4.291820366787733,\n",
       " 4.291820366787733,\n",
       " 4.303585208367319,\n",
       " 4.303585208367319,\n",
       " 4.303585208367319,\n",
       " 4.309519943887134,\n",
       " 4.333617495466194,\n",
       " 4.333617495466194,\n",
       " 4.345887588058009,\n",
       " 4.352079558305929,\n",
       " 4.364579721070161,\n",
       " 4.364579721070161,\n",
       " 4.383627916040855,\n",
       " 4.396531320876764,\n",
       " 4.396531320876764,\n",
       " 4.422848629194137,\n",
       " 4.422848629194137,\n",
       " 4.429537617344933,\n",
       " 4.436271649526278,\n",
       " 4.436271649526278,\n",
       " 4.443051336511656,\n",
       " 4.456750180869818,\n",
       " 4.463670623714392,\n",
       " 4.477656865689132,\n",
       " 4.484724032912224,\n",
       " 4.484724032912224,\n",
       " 4.499009990159701,\n",
       " 4.499009990159701,\n",
       " 4.499009990159701,\n",
       " 4.506230238133187,\n",
       " 4.506230238133187,\n",
       " 4.506230238133187,\n",
       " 4.506230238133187,\n",
       " 4.513502997462267,\n",
       " 4.52082903755434,\n",
       " 4.52082903755434,\n",
       " 4.535644123339481,\n",
       " 4.550682000704022,\n",
       " 4.558286600089241,\n",
       " 4.56594947283481,\n",
       " 4.56594947283481,\n",
       " 4.56594947283481,\n",
       " 4.56594947283481,\n",
       " 4.5736715189287205,\n",
       " 4.5736715189287205,\n",
       " 4.5736715189287205,\n",
       " 4.5814536593707755,\n",
       " 4.5972020163389145,\n",
       " 4.5972020163389145,\n",
       " 4.613202357685355,\n",
       " 4.621299567917975,\n",
       " 4.637693377693651,\n",
       " 4.637693377693651,\n",
       " 4.637693377693651,\n",
       " 4.637693377693651,\n",
       " 4.637693377693651,\n",
       " 4.645992180508347,\n",
       " 4.645992180508347,\n",
       " 4.662799298824727,\n",
       " 4.671309988492636,\n",
       " 4.679893732184028,\n",
       " 4.679893732184028,\n",
       " 4.688551794927142,\n",
       " 4.688551794927142,\n",
       " 4.688551794927142,\n",
       " 4.697285474895897,\n",
       " 4.706096104578052,\n",
       " 4.706096104578052,\n",
       " 4.706096104578052,\n",
       " 4.714985051995298,\n",
       " 4.714985051995298,\n",
       " 4.714985051995298,\n",
       " 4.7239537219780585,\n",
       " 4.733003557497976,\n",
       " 4.742136041061249,\n",
       " 4.742136041061249,\n",
       " 4.7513526961661725,\n",
       " 4.760655088828487,\n",
       " 4.760655088828487,\n",
       " 4.760655088828487,\n",
       " 4.7700448291783255,\n",
       " 4.7700448291783255,\n",
       " 4.779523573132869,\n",
       " 4.78909302414902,\n",
       " 4.808511110006122,\n",
       " 4.808511110006122,\n",
       " 4.818363406449133,\n",
       " 4.818363406449133,\n",
       " 4.8283137373023015,\n",
       " 4.8283137373023015,\n",
       " 4.8283137373023015,\n",
       " 4.838364073155803,\n",
       " 4.838364073155803,\n",
       " 4.848516444619821,\n",
       " 4.869135731822556,\n",
       " 4.869135731822556,\n",
       " 4.869135731822556,\n",
       " 4.879607031689852,\n",
       " 4.879607031689852,\n",
       " 4.879607031689852,\n",
       " 4.890189141020389,\n",
       " 4.890189141020389,\n",
       " 4.890189141020389,\n",
       " 4.900884430137136,\n",
       " 4.900884430137136,\n",
       " 4.911695346241352,\n",
       " 4.922624416773543,\n",
       " 4.922624416773543,\n",
       " 4.922624416773543,\n",
       " 4.922624416773543,\n",
       " 4.933674252960127,\n",
       " 4.956147108812186,\n",
       " 4.967575804635809,\n",
       " 4.967575804635809,\n",
       " 4.967575804635809,\n",
       " 4.967575804635809,\n",
       " 4.967575804635809,\n",
       " 4.967575804635809,\n",
       " 4.967575804635809,\n",
       " 4.967575804635809,\n",
       " 4.979136627036885,\n",
       " 4.979136627036885,\n",
       " 4.979136627036885,\n",
       " 4.979136627036885,\n",
       " 4.979136627036885,\n",
       " 5.002667124447079,\n",
       " 5.002667124447079,\n",
       " 5.002667124447079,\n",
       " 5.002667124447079,\n",
       " 5.014643315493794,\n",
       " 5.014643315493794,\n",
       " 5.014643315493794,\n",
       " 5.014643315493794,\n",
       " 5.014643315493794,\n",
       " 5.014643315493794,\n",
       " 5.014643315493794,\n",
       " 5.014643315493794,\n",
       " 5.026764676026139,\n",
       " 5.026764676026139,\n",
       " 5.026764676026139,\n",
       " 5.026764676026139,\n",
       " 5.039034768617953,\n",
       " 5.039034768617953,\n",
       " 5.039034768617953,\n",
       " 5.039034768617953,\n",
       " 5.039034768617953,\n",
       " 5.039034768617953,\n",
       " 5.051457288616511,\n",
       " 5.051457288616511,\n",
       " 5.064036070823371,\n",
       " 5.064036070823371,\n",
       " 5.064036070823371,\n",
       " 5.076775096600801,\n",
       " 5.076775096600801,\n",
       " 5.076775096600801,\n",
       " 5.089678501436708,\n",
       " 5.089678501436708,\n",
       " 5.089678501436708,\n",
       " 5.089678501436708,\n",
       " 5.089678501436708,\n",
       " 5.089678501436708,\n",
       " 5.102750583004061,\n",
       " 5.102750583004061,\n",
       " 5.102750583004061,\n",
       " 5.102750583004061,\n",
       " 5.102750583004061,\n",
       " 5.102750583004061,\n",
       " 5.115995809754082,\n",
       " 5.115995809754082,\n",
       " 5.115995809754082,\n",
       " 5.129418830086222,\n",
       " 5.129418830086222,\n",
       " 5.129418830086222,\n",
       " 5.1430244821420015,\n",
       " 5.1430244821420015,\n",
       " 5.1430244821420015,\n",
       " 5.1430244821420015,\n",
       " 5.1430244821420015,\n",
       " 5.156817804274337,\n",
       " 5.156817804274337,\n",
       " 5.156817804274337,\n",
       " 5.156817804274337,\n",
       " 5.156817804274337,\n",
       " 5.170804046249077,\n",
       " 5.170804046249077,\n",
       " 5.170804046249077,\n",
       " 5.170804046249077,\n",
       " 5.170804046249077,\n",
       " 5.170804046249077,\n",
       " 5.170804046249077,\n",
       " 5.184988681241034,\n",
       " 5.184988681241034,\n",
       " 5.184988681241034,\n",
       " 5.184988681241034,\n",
       " 5.199377418693133,\n",
       " 5.199377418693133,\n",
       " 5.199377418693133,\n",
       " 5.2139762181142855,\n",
       " 5.2139762181142855,\n",
       " 5.2139762181142855,\n",
       " 5.2139762181142855,\n",
       " 5.2139762181142855,\n",
       " 5.2139762181142855,\n",
       " 5.2139762181142855,\n",
       " 5.2139762181142855,\n",
       " 5.228791303899427,\n",
       " 5.228791303899427,\n",
       " 5.228791303899427,\n",
       " 5.228791303899427,\n",
       " 5.228791303899427,\n",
       " 5.243829181263967,\n",
       " 5.243829181263967,\n",
       " 5.243829181263967,\n",
       " 5.243829181263967,\n",
       " 5.243829181263967,\n",
       " 5.259096653394756,\n",
       " 5.259096653394756,\n",
       " 5.259096653394756,\n",
       " 5.274600839930721,\n",
       " 5.274600839930721,\n",
       " 5.274600839930721,\n",
       " 5.274600839930721,\n",
       " 5.29034919689886,\n",
       " 5.29034919689886,\n",
       " 5.29034919689886,\n",
       " 5.29034919689886,\n",
       " 5.29034919689886,\n",
       " 5.306349538245301,\n",
       " 5.306349538245301,\n",
       " 5.306349538245301,\n",
       " 5.306349538245301,\n",
       " 5.306349538245301,\n",
       " 5.322610059117081,\n",
       " 5.322610059117081,\n",
       " 5.322610059117081,\n",
       " 5.322610059117081,\n",
       " 5.322610059117081,\n",
       " 5.339139361068292,\n",
       " 5.339139361068292,\n",
       " 5.339139361068292,\n",
       " 5.339139361068292,\n",
       " 5.339139361068292,\n",
       " 5.339139361068292,\n",
       " 5.355946479384673,\n",
       " 5.355946479384673,\n",
       " 5.355946479384673,\n",
       " 5.355946479384673,\n",
       " 5.355946479384673,\n",
       " 5.373040912743973,\n",
       " 5.373040912743973,\n",
       " 5.373040912743973,\n",
       " 5.373040912743973,\n",
       " 5.390432655455842,\n",
       " 5.390432655455842,\n",
       " 5.390432655455842,\n",
       " 5.390432655455842,\n",
       " 5.390432655455842,\n",
       " 5.390432655455842,\n",
       " 5.390432655455842,\n",
       " 5.408132232555244,\n",
       " 5.408132232555244,\n",
       " 5.408132232555244,\n",
       " 5.408132232555244,\n",
       " 5.426150738057921,\n",
       " 5.426150738057921,\n",
       " 5.426150738057921,\n",
       " 5.426150738057921,\n",
       " 5.426150738057921,\n",
       " 5.426150738057921,\n",
       " 5.426150738057921,\n",
       " 5.444499876726118,\n",
       " 5.444499876726118,\n",
       " 5.444499876726118,\n",
       " 5.444499876726118,\n",
       " 5.444499876726118,\n",
       " 5.444499876726118,\n",
       " 5.444499876726118,\n",
       " 5.463192009738271,\n",
       " 5.463192009738271,\n",
       " 5.463192009738271,\n",
       " 5.463192009738271,\n",
       " 5.463192009738271,\n",
       " 5.463192009738271,\n",
       " 5.482240204708965,\n",
       " 5.482240204708965,\n",
       " 5.482240204708965,\n",
       " 5.482240204708965,\n",
       " 5.482240204708965,\n",
       " 5.501658290566067,\n",
       " 5.501658290566067,\n",
       " 5.501658290566067,\n",
       " 5.501658290566067,\n",
       " 5.501658290566067,\n",
       " 5.501658290566067,\n",
       " 5.501658290566067,\n",
       " 5.521460917862246,\n",
       " 5.521460917862246,\n",
       " 5.521460917862246,\n",
       " 5.521460917862246,\n",
       " 5.521460917862246,\n",
       " 5.521460917862246,\n",
       " 5.5416636251797655,\n",
       " 5.5416636251797655,\n",
       " 5.5416636251797655,\n",
       " 5.5416636251797655,\n",
       " 5.5416636251797655,\n",
       " 5.5416636251797655,\n",
       " 5.5416636251797655,\n",
       " 5.5416636251797655,\n",
       " 5.562282912382502,\n",
       " 5.562282912382502,\n",
       " 5.562282912382502,\n",
       " 5.562282912382502,\n",
       " 5.562282912382502,\n",
       " 5.562282912382502,\n",
       " 5.562282912382502,\n",
       " 5.562282912382502,\n",
       " 5.562282912382502,\n",
       " 5.583336321580334,\n",
       " 5.583336321580334,\n",
       " 5.583336321580334,\n",
       " 5.583336321580334,\n",
       " 5.583336321580334,\n",
       " 5.604842526801297,\n",
       " 5.604842526801297,\n",
       " 5.604842526801297,\n",
       " 5.604842526801297,\n",
       " 5.604842526801297,\n",
       " 5.604842526801297,\n",
       " 5.604842526801297,\n",
       " 5.626821433520073,\n",
       " 5.626821433520073,\n",
       " 5.626821433520073,\n",
       " 5.626821433520073,\n",
       " 5.626821433520073,\n",
       " 5.626821433520073,\n",
       " 5.649294289372131,\n",
       " 5.649294289372131,\n",
       " 5.649294289372131,\n",
       " 5.649294289372131,\n",
       " 5.649294289372131,\n",
       " 5.649294289372131,\n",
       " 5.649294289372131,\n",
       " 5.649294289372131,\n",
       " 5.649294289372131,\n",
       " 5.6722838075968305,\n",
       " 5.6722838075968305,\n",
       " 5.6722838075968305,\n",
       " 5.6722838075968305,\n",
       " 5.6722838075968305,\n",
       " 5.6722838075968305,\n",
       " 5.6722838075968305,\n",
       " 5.6722838075968305,\n",
       " 5.6958143050070245,\n",
       " 5.6958143050070245,\n",
       " 5.6958143050070245,\n",
       " 5.6958143050070245,\n",
       " 5.6958143050070245,\n",
       " 5.6958143050070245,\n",
       " 5.6958143050070245,\n",
       " 5.7199118565860845,\n",
       " 5.7199118565860845,\n",
       " 5.7199118565860845,\n",
       " 5.7199118565860845,\n",
       " 5.7199118565860845,\n",
       " 5.7199118565860845,\n",
       " 5.7199118565860845,\n",
       " 5.744604469176457,\n",
       " 5.744604469176457,\n",
       " 5.744604469176457,\n",
       " 5.744604469176457,\n",
       " 5.744604469176457,\n",
       " 5.744604469176457,\n",
       " 5.744604469176457,\n",
       " 5.744604469176457,\n",
       " 5.744604469176457,\n",
       " 5.744604469176457,\n",
       " 5.744604469176457,\n",
       " 5.744604469176457,\n",
       " 5.744604469176457,\n",
       " 5.744604469176457,\n",
       " 5.744604469176457,\n",
       " 5.744604469176457,\n",
       " 5.744604469176457,\n",
       " 5.769922277160746,\n",
       " 5.769922277160746,\n",
       " 5.769922277160746,\n",
       " 5.769922277160746,\n",
       " 5.769922277160746,\n",
       " 5.769922277160746,\n",
       " 5.769922277160746,\n",
       " 5.769922277160746,\n",
       " 5.769922277160746,\n",
       " 5.769922277160746,\n",
       " 5.769922277160746,\n",
       " 5.769922277160746,\n",
       " 5.769922277160746,\n",
       " 5.769922277160746,\n",
       " 5.769922277160746,\n",
       " 5.769922277160746,\n",
       " 5.795897763564007,\n",
       " 5.795897763564007,\n",
       " 5.795897763564007,\n",
       " 5.795897763564007,\n",
       " 5.795897763564007,\n",
       " 5.795897763564007,\n",
       " 5.795897763564007,\n",
       " 5.795897763564007,\n",
       " 5.795897763564007,\n",
       " 5.795897763564007,\n",
       " 5.822566010646168,\n",
       " 5.822566010646168,\n",
       " 5.822566010646168,\n",
       " 5.822566010646168,\n",
       " 5.822566010646168,\n",
       " 5.822566010646168,\n",
       " 5.8499649848342825,\n",
       " 5.8499649848342825,\n",
       " 5.8499649848342825,\n",
       " 5.8499649848342825,\n",
       " 5.8499649848342825,\n",
       " 5.8499649848342825,\n",
       " 5.8499649848342825,\n",
       " 5.8499649848342825,\n",
       " 5.8499649848342825,\n",
       " 5.8499649848342825,\n",
       " 5.8499649848342825,\n",
       " 5.8499649848342825,\n",
       " 5.8499649848342825,\n",
       " 5.8781358618009785,\n",
       " 5.8781358618009785,\n",
       " 5.8781358618009785,\n",
       " 5.8781358618009785,\n",
       " 5.8781358618009785,\n",
       " 5.8781358618009785,\n",
       " 5.8781358618009785,\n",
       " 5.8781358618009785,\n",
       " 5.8781358618009785,\n",
       " 5.8781358618009785,\n",
       " 5.907123398674231,\n",
       " 5.907123398674231,\n",
       " 5.907123398674231,\n",
       " 5.907123398674231,\n",
       " 5.907123398674231,\n",
       " 5.907123398674231,\n",
       " 5.907123398674231,\n",
       " 5.907123398674231,\n",
       " 5.907123398674231,\n",
       " 5.907123398674231,\n",
       " 5.907123398674231,\n",
       " 5.936976361823913,\n",
       " 5.936976361823913,\n",
       " 5.936976361823913,\n",
       " 5.936976361823913,\n",
       " 5.936976361823913,\n",
       " 5.936976361823913,\n",
       " 5.936976361823913,\n",
       " 5.936976361823913,\n",
       " 5.936976361823913,\n",
       " 5.936976361823913,\n",
       " 5.936976361823913,\n",
       " 5.967748020490666,\n",
       " 5.967748020490666,\n",
       " 5.967748020490666,\n",
       " 5.967748020490666,\n",
       " 5.967748020490666,\n",
       " 5.967748020490666,\n",
       " 5.967748020490666,\n",
       " 5.967748020490666,\n",
       " 5.967748020490666,\n",
       " 5.967748020490666,\n",
       " 5.967748020490666,\n",
       " 5.999496718805246,\n",
       " 5.999496718805246,\n",
       " 5.999496718805246,\n",
       " 5.999496718805246,\n",
       " 5.999496718805246,\n",
       " 5.999496718805246,\n",
       " 5.999496718805246,\n",
       " 5.999496718805246,\n",
       " 5.999496718805246,\n",
       " 6.032286541628237,\n",
       " 6.032286541628237,\n",
       " 6.032286541628237,\n",
       " 6.032286541628237,\n",
       " 6.032286541628237,\n",
       " 6.032286541628237,\n",
       " 6.032286541628237,\n",
       " 6.032286541628237,\n",
       " 6.032286541628237,\n",
       " 6.032286541628237,\n",
       " 6.032286541628237,\n",
       " 6.032286541628237,\n",
       " 6.032286541628237,\n",
       " 6.032286541628237,\n",
       " 6.032286541628237,\n",
       " 6.066188093303919,\n",
       " 6.066188093303919,\n",
       " 6.066188093303919,\n",
       " 6.066188093303919,\n",
       " 6.066188093303919,\n",
       " 6.066188093303919,\n",
       " 6.066188093303919,\n",
       " 6.066188093303919,\n",
       " 6.066188093303919,\n",
       " 6.066188093303919,\n",
       " 6.066188093303919,\n",
       " 6.066188093303919,\n",
       " 6.066188093303919,\n",
       " 6.066188093303919,\n",
       " 6.066188093303919,\n",
       " 6.066188093303919,\n",
       " 6.066188093303919,\n",
       " 6.101279413115188,\n",
       " 6.101279413115188,\n",
       " 6.101279413115188,\n",
       " 6.101279413115188,\n",
       " 6.101279413115188,\n",
       " 6.101279413115188,\n",
       " 6.101279413115188,\n",
       " 6.101279413115188,\n",
       " 6.101279413115188,\n",
       " 6.137647057286063,\n",
       " 6.137647057286063,\n",
       " 6.137647057286063,\n",
       " 6.137647057286063,\n",
       " 6.137647057286063,\n",
       " 6.137647057286063,\n",
       " 6.137647057286063,\n",
       " 6.137647057286063,\n",
       " 6.137647057286063,\n",
       " 6.137647057286063,\n",
       " 6.137647057286063,\n",
       " 6.137647057286063,\n",
       " 6.137647057286063,\n",
       " 6.137647057286063,\n",
       " 6.137647057286063,\n",
       " 6.137647057286063,\n",
       " 6.137647057286063,\n",
       " 6.137647057286063,\n",
       " 6.137647057286063,\n",
       " 6.137647057286063,\n",
       " 6.175387385268911,\n",
       " 6.175387385268911,\n",
       " 6.175387385268911,\n",
       " 6.175387385268911,\n",
       " 6.175387385268911,\n",
       " 6.175387385268911,\n",
       " 6.175387385268911,\n",
       " 6.175387385268911,\n",
       " 6.175387385268911,\n",
       " 6.175387385268911,\n",
       " 6.175387385268911,\n",
       " 6.175387385268911,\n",
       " 6.175387385268911,\n",
       " 6.175387385268911,\n",
       " 6.175387385268911,\n",
       " 6.175387385268911,\n",
       " 6.175387385268911,\n",
       " 6.175387385268911,\n",
       " 6.175387385268911,\n",
       " 6.175387385268911,\n",
       " 6.175387385268911,\n",
       " 6.214608098422191,\n",
       " 6.214608098422191,\n",
       " 6.214608098422191,\n",
       " 6.214608098422191,\n",
       " 6.214608098422191,\n",
       " 6.214608098422191,\n",
       " 6.214608098422191,\n",
       " 6.214608098422191,\n",
       " 6.214608098422191,\n",
       " 6.214608098422191,\n",
       " 6.214608098422191,\n",
       " 6.214608098422191,\n",
       " 6.214608098422191,\n",
       " 6.214608098422191,\n",
       " 6.214608098422191,\n",
       " 6.214608098422191,\n",
       " 6.214608098422191,\n",
       " 6.214608098422191,\n",
       " 6.214608098422191,\n",
       " 6.214608098422191,\n",
       " 6.255430092942447,\n",
       " 6.255430092942447,\n",
       " 6.255430092942447,\n",
       " 6.255430092942447,\n",
       " 6.255430092942447,\n",
       " 6.255430092942447,\n",
       " 6.255430092942447,\n",
       " 6.255430092942447,\n",
       " 6.255430092942447,\n",
       " 6.255430092942447,\n",
       " 6.255430092942447,\n",
       " 6.255430092942447,\n",
       " 6.255430092942447,\n",
       " 6.255430092942447,\n",
       " 6.255430092942447,\n",
       " 6.255430092942447,\n",
       " 6.297989707361243,\n",
       " 6.297989707361243,\n",
       " 6.297989707361243,\n",
       " 6.297989707361243,\n",
       " 6.297989707361243,\n",
       " 6.297989707361243,\n",
       " 6.297989707361243,\n",
       " 6.297989707361243,\n",
       " 6.297989707361243,\n",
       " 6.297989707361243,\n",
       " 6.297989707361243,\n",
       " 6.297989707361243,\n",
       " 6.297989707361243,\n",
       " 6.297989707361243,\n",
       " 6.297989707361243,\n",
       " 6.297989707361243,\n",
       " 6.297989707361243,\n",
       " 6.297989707361243,\n",
       " 6.297989707361243,\n",
       " 6.297989707361243,\n",
       " 6.297989707361243,\n",
       " 6.297989707361243,\n",
       " 6.342441469932076,\n",
       " 6.342441469932076,\n",
       " 6.342441469932076,\n",
       " 6.342441469932076,\n",
       " 6.342441469932076,\n",
       " 6.342441469932076,\n",
       " 6.342441469932076,\n",
       " 6.342441469932076,\n",
       " 6.342441469932076,\n",
       " 6.342441469932076,\n",
       " 6.342441469932076,\n",
       " 6.342441469932076,\n",
       " 6.342441469932076,\n",
       " 6.342441469932076,\n",
       " 6.342441469932076,\n",
       " 6.342441469932076,\n",
       " 6.342441469932076,\n",
       " 6.342441469932076,\n",
       " 6.342441469932076,\n",
       " 6.342441469932076,\n",
       " 6.342441469932076,\n",
       " 6.342441469932076,\n",
       " 6.342441469932076,\n",
       " 6.342441469932076,\n",
       " 6.388961485566969,\n",
       " 6.388961485566969,\n",
       " 6.388961485566969,\n",
       " 6.388961485566969,\n",
       " 6.388961485566969,\n",
       " 6.388961485566969,\n",
       " 6.388961485566969,\n",
       " 6.388961485566969,\n",
       " 6.388961485566969,\n",
       " 6.388961485566969,\n",
       " 6.388961485566969,\n",
       " 6.388961485566969,\n",
       " 6.388961485566969,\n",
       " 6.388961485566969,\n",
       " 6.388961485566969,\n",
       " 6.388961485566969,\n",
       " 6.388961485566969,\n",
       " 6.388961485566969,\n",
       " 6.388961485566969,\n",
       " 6.388961485566969,\n",
       " 6.388961485566969,\n",
       " 6.388961485566969,\n",
       " 6.388961485566969,\n",
       " 6.388961485566969,\n",
       " 6.388961485566969,\n",
       " 6.388961485566969,\n",
       " 6.388961485566969,\n",
       " 6.388961485566969,\n",
       " 6.388961485566969,\n",
       " 6.388961485566969,\n",
       " 6.388961485566969,\n",
       " 6.388961485566969,\n",
       " 6.437751649736401,\n",
       " 6.437751649736401,\n",
       " 6.437751649736401,\n",
       " 6.437751649736401,\n",
       " 6.437751649736401,\n",
       " 6.437751649736401,\n",
       " 6.437751649736401,\n",
       " 6.437751649736401,\n",
       " 6.437751649736401,\n",
       " 6.437751649736401,\n",
       " 6.437751649736401,\n",
       " 6.437751649736401,\n",
       " 6.437751649736401,\n",
       " 6.437751649736401,\n",
       " 6.437751649736401,\n",
       " 6.437751649736401,\n",
       " 6.437751649736401,\n",
       " 6.437751649736401,\n",
       " 6.437751649736401,\n",
       " 6.437751649736401,\n",
       " 6.437751649736401,\n",
       " 6.437751649736401,\n",
       " 6.437751649736401,\n",
       " 6.437751649736401,\n",
       " 6.437751649736401,\n",
       " 6.437751649736401,\n",
       " 6.437751649736401,\n",
       " 6.437751649736401,\n",
       " 6.437751649736401,\n",
       " 6.437751649736401,\n",
       " 6.437751649736401,\n",
       " 6.437751649736401,\n",
       " 6.489044944123952,\n",
       " 6.489044944123952,\n",
       " 6.489044944123952,\n",
       " 6.489044944123952,\n",
       " 6.489044944123952,\n",
       " 6.489044944123952,\n",
       " 6.489044944123952,\n",
       " 6.489044944123952,\n",
       " 6.489044944123952,\n",
       " 6.489044944123952,\n",
       " 6.489044944123952,\n",
       " 6.489044944123952,\n",
       " 6.489044944123952,\n",
       " 6.489044944123952,\n",
       " 6.489044944123952,\n",
       " 6.489044944123952,\n",
       " 6.489044944123952,\n",
       " 6.489044944123952,\n",
       " 6.489044944123952,\n",
       " 6.489044944123952,\n",
       " 6.489044944123952,\n",
       " 6.489044944123952,\n",
       " 6.489044944123952,\n",
       " 6.489044944123952,\n",
       " 6.489044944123952,\n",
       " 6.489044944123952,\n",
       " 6.489044944123952,\n",
       " 6.489044944123952,\n",
       " 6.489044944123952,\n",
       " 6.489044944123952,\n",
       " 6.489044944123952,\n",
       " 6.489044944123952,\n",
       " 6.543112165394228,\n",
       " 6.543112165394228,\n",
       " 6.543112165394228,\n",
       " 6.543112165394228,\n",
       " 6.543112165394228,\n",
       " 6.543112165394228,\n",
       " 6.543112165394228,\n",
       " 6.543112165394228,\n",
       " 6.543112165394228,\n",
       " 6.543112165394228,\n",
       " 6.543112165394228,\n",
       " 6.543112165394228,\n",
       " 6.543112165394228,\n",
       " 6.543112165394228,\n",
       " 6.543112165394228,\n",
       " 6.543112165394228,\n",
       " 6.543112165394228,\n",
       " 6.543112165394228,\n",
       " 6.543112165394228,\n",
       " 6.543112165394228,\n",
       " 6.543112165394228,\n",
       " 6.543112165394228,\n",
       " 6.543112165394228,\n",
       " 6.543112165394228,\n",
       " 6.543112165394228,\n",
       " 6.543112165394228,\n",
       " 6.543112165394228,\n",
       " 6.543112165394228,\n",
       " 6.543112165394228,\n",
       " 6.543112165394228,\n",
       " 6.543112165394228,\n",
       " 6.543112165394228,\n",
       " 6.543112165394228,\n",
       " 6.600270579234176,\n",
       " 6.600270579234176,\n",
       " 6.600270579234176,\n",
       " 6.600270579234176,\n",
       " 6.600270579234176,\n",
       " 6.600270579234176,\n",
       " 6.600270579234176,\n",
       " 6.600270579234176,\n",
       " 6.600270579234176,\n",
       " 6.600270579234176,\n",
       " 6.600270579234176,\n",
       " 6.600270579234176,\n",
       " 6.600270579234176,\n",
       " 6.600270579234176,\n",
       " 6.600270579234176,\n",
       " 6.600270579234176,\n",
       " 6.600270579234176,\n",
       " 6.600270579234176,\n",
       " 6.600270579234176,\n",
       " 6.600270579234176,\n",
       " 6.600270579234176,\n",
       " 6.600270579234176,\n",
       " 6.600270579234176,\n",
       " 6.600270579234176,\n",
       " 6.600270579234176,\n",
       " 6.600270579234176,\n",
       " 6.600270579234176,\n",
       " 6.600270579234176,\n",
       " 6.660895201050611,\n",
       " 6.660895201050611,\n",
       " 6.660895201050611,\n",
       " 6.660895201050611,\n",
       " 6.660895201050611,\n",
       " 6.660895201050611,\n",
       " 6.660895201050611,\n",
       " 6.660895201050611,\n",
       " 6.660895201050611,\n",
       " 6.660895201050611,\n",
       " 6.660895201050611,\n",
       " 6.660895201050611,\n",
       " 6.660895201050611,\n",
       " 6.660895201050611,\n",
       " 6.660895201050611,\n",
       " 6.660895201050611,\n",
       " 6.660895201050611,\n",
       " 6.660895201050611,\n",
       " 6.660895201050611,\n",
       " 6.660895201050611,\n",
       " 6.660895201050611,\n",
       " 6.660895201050611,\n",
       " 6.660895201050611,\n",
       " 6.660895201050611,\n",
       " 6.660895201050611,\n",
       " 6.660895201050611,\n",
       " 6.660895201050611,\n",
       " 6.660895201050611,\n",
       " 6.660895201050611,\n",
       " 6.660895201050611,\n",
       " 6.660895201050611,\n",
       " 6.660895201050611,\n",
       " 6.725433722188183,\n",
       " 6.725433722188183,\n",
       " 6.725433722188183,\n",
       " 6.725433722188183,\n",
       " 6.725433722188183,\n",
       " 6.725433722188183,\n",
       " 6.725433722188183,\n",
       " 6.725433722188183,\n",
       " 6.725433722188183,\n",
       " 6.725433722188183,\n",
       " 6.725433722188183,\n",
       " 6.725433722188183,\n",
       " 6.725433722188183,\n",
       " 6.725433722188183,\n",
       " 6.725433722188183,\n",
       " 6.725433722188183,\n",
       " 6.725433722188183,\n",
       " 6.725433722188183,\n",
       " 6.725433722188183,\n",
       " 6.725433722188183,\n",
       " 6.725433722188183,\n",
       " 6.725433722188183,\n",
       " 6.725433722188183,\n",
       " 6.725433722188183,\n",
       " 6.725433722188183,\n",
       " 6.725433722188183,\n",
       " 6.725433722188183,\n",
       " 6.725433722188183,\n",
       " 6.725433722188183,\n",
       " 6.725433722188183,\n",
       " 6.725433722188183,\n",
       " 6.725433722188183,\n",
       " 6.725433722188183,\n",
       " 6.725433722188183,\n",
       " 6.725433722188183,\n",
       " 6.725433722188183,\n",
       " 6.725433722188183,\n",
       " 6.725433722188183,\n",
       " 6.725433722188183,\n",
       " 6.725433722188183,\n",
       " 6.725433722188183,\n",
       " 6.725433722188183,\n",
       " 6.725433722188183,\n",
       " 6.794426593675134,\n",
       " 6.794426593675134,\n",
       " 6.794426593675134,\n",
       " 6.794426593675134,\n",
       " 6.794426593675134,\n",
       " 6.794426593675134,\n",
       " ...]"
      ]
     },
     "execution_count": 29,
     "metadata": {},
     "output_type": "execute_result"
    }
   ],
   "source": [
    "list(result.values())"
   ]
  },
  {
   "cell_type": "code",
   "execution_count": 6,
   "metadata": {},
   "outputs": [
    {
     "name": "stdout",
     "output_type": "stream",
     "text": [
      "i : 0\n",
      "i : 5000\n",
      "i : 10000\n",
      "Counter({'bad': 6466, 'good': 6388, 'director': 2031, 'love': 1893, 'reason': 1396, 'awful': 1389, 'action': 1382, 'stupid': 1275, 'waste': 1177, 'main': 1146, 'wrong': 990, 'sex': 955, 'rest': 954, 'special': 940, 'horrible': 938, 'production': 903, 'word': 900, 'shoot': 895, '! good': 874, 'black': 761, 'lack': 758, 'title': 731, '! bad': 715, 'ridiculous': 714, 'annoying': 710, 'full': 685, 'case': 681, 'lose': 680, 'fall': 679, 'evil': 659, 'star': 657, 'enjoy': 657, 'save': 613, 'dull': 601, 'poorly': 600, 'friend': 577, 'silly': 539, 'mother': 534, 'expect': 512, 'female': 501, 'interest': 500, 'leave': 490, 'violence': 475, 'mess': 471, 'art': 469, 'rating': 438, 'hit': 437, 'late': 429, 'cool': 421, 'hate': 417, 'die': 414, 'level': 410, 'God': 404, 'usual': 393, 'monster': 377, 'score': 372, 'doubt': 371, 'include': 360, 'shot': 359, 'subject': 343, 'fake': 336, 'weird': 330, 'trash': 329, 'pay': 328, 'musical': 328, 'forward': 326, 'perfect': 312, 'read': 310, 'excuse': 302, 'disappointing': 297, 'happy': 297, 'credit': 293, 'god': 279, 'bother': 278, 'fairly': 271, 'deal': 270, 'truth': 267, 'bizarre': 264, 'agree': 259, 'interested': 259, 'doctor': 256, 'famous': 250, 'cute': 248, 'explain': 247, 'dance': 247, 'copy': 242, 'impossible': 240, 'public': 236, 'porn': 236, 'cult': 232, 'respect': 223, 'romance': 222, 'pick': 213, 'fair': 206, 'present': 205, 'impression': 203, 'escape': 200, 'Star': 198, 'honest': 197, 'gang': 195, 'creature': 195, 'bland': 193, 'rubbish': 193, 'Black': 192, 'intelligent': 189, 'shock': 186, 'dreadful': 184, 'torture': 181, 'cold': 181, 'alien': 179, 'tough': 179, 'climax': 178, 'absolute': 177, 'pain': 176, 'chase': 174, 'presence': 168, 'force': 168, '! waste': 168, 'Director': 164, 'intelligence': 163, 'horribly': 161, 'embarrassing': 160, 'count': 159, 'fat': 159, 'jump': 158, 'content': 157, 'desperate': 157, 'negative': 155, 'Don': 155, 'destroy': 154, 'disgusting': 153, 'pull': 151, 'accident': 149, 'uninteresting': 149, 'effective': 147, 'endless': 146, 'hurt': 146, 'failure': 144, 'spirit': 144, 'bomb': 142, 'unique': 141, 'call': 139, 'heroine': 137, 'constant': 136, 'suck': 136, 'genius': 135, 'offensive': 135, 'artistic': 133, 'land': 132, 'green': 132, '! action': 132, 'adventure': 131, 'lesbian': 130, 'substance': 130, 'charm': 130, 'prove': 129, 'idiot': 127, 'innocent': 127, 'sweet': 126, '! director': 125, 'powerful': 123, 'continue': 123, 'receive': 123, 'solid': 122, 'kick': 122, 'promise': 121, 'Frank': 121, 'share': 120, 'want': 120, 'desert': 120, 'professional': 120, 'Love': 118, 'pilot': 118, 'struggle': 118, 'blind': 116, 'execution': 116, 'inspire': 116, 'grace': 115, 'dislike': 115, 'idiotic': 114, 'officer': 114, 'partner': 114, '! special': 114, 'proper': 113, 'propaganda': 112, '! love': 112, 'relief': 111, '! save': 111, 'majority': 110, 'model': 110, 'hang': 110, 'grave': 109, 'formula': 109, 'ancient': 109, 'reporter': 109, 'stand': 108, 'information': 107, 'loss': 106, 'bore': 106, 'sing': 105, '! shoot': 105, 'cry': 105, 'rescue': 105, 'conflict': 105, 'master': 104, 'dirty': 104, '! wrong': 104, '! reason': 103, 'faith': 102, 'praise': 102, 'fault': 102, 'superior': 102, 'ruin': 101, 'justice': 100, 'fact': 100, 'wear': 100, '! case': 99, 'horrid': 99, 'leader': 99, 'low': 98, 'routine': 98, 'unfortunate': 98, 'wild': 98, 'safe': 98, '! awful': 97, 'teen': 97, 'originality': 97, 'vote': 97, 'sympathy': 97, 'crude': 97, 'Lord': 97, 'humanity': 96, 'structure': 96, '! stupid': 95, 'danger': 95, 'sea': 95, 'study': 94, '! lack': 94, 'gross': 94, 'demon': 93, 'Stone': 93, 'dire': 92, 'worthless': 91, 'superb': 91, 'wit': 91, 'passion': 91, 'abuse': 89, 'heavily': 89, 'ignore': 88, 'Grant': 86, 'gag': 86, 'upset': 85, 'crash': 85, 'suffer': 83, '! word': 83, 'fool': 83, 'stiff': 83, 'delivery': 81, 'sloppy': 81, 'Nightmare': 81, 'marry': 80, 'treat': 79, 'wreck': 79, 'slap': 79, '! lose': 78, 'fate': 77, 'porno': 77, 'swear': 77, 'serve': 77, 'intellectual': 76, 'deadly': 76, 'quiet': 76, 'corrupt': 76, 'hire': 75, 'center': 75, 'classic': 75, '! expect': 74, '! fall': 74, 'amazingly': 74, 'darkness': 74, 'commit': 73, 'hide': 73, 'burn': 73, 'punch': 73, 'Academy': 72, 'nightmare': 72, 'sympathetic': 72, 'status': 71, 'incompetent': 71, 'senseless': 71, 'worry': 71, 'prime': 71, 'curse': 70, '! sex': 70, 'trick': 70, 'rave': 70, '! horrible': 70, 'fit': 70, 'cut': 70, 'join': 70, 'refuse': 69, 'achieve': 68, 'strength': 68, 'tiresome': 68, 'notable': 67, 'guard': 66, 'break': 66, 'succeed': 66, 'homage': 66, 'butt': 66, 'birth': 66, 'spoil': 66, 'task': 66, 'Cage': 66, 'childish': 65, 'mob': 65, 'corpse': 65, 'pleasant': 65, 'lie': 65, 'precious': 65, 'moronic': 64, 'nonsensical': 64, '! production': 63, 'split': 63, '! level': 63, 'cage': 63, '! evil': 62, 'crack': 62, '! main': 61, '! enjoy': 61, 'strip': 61, 'farce': 61, 'strike': 61, 'Omen': 61, 'weight': 60, 'contact': 60, 'quote': 60, 'argument': 60, 'flaw': 59, 'reject': 59, '! rest': 59, 'damage': 59, 'lackluster': 59, '! include': 58, 'advise': 58, 'friendly': 58, 'gain': 58, 'superficial': 58, 'rough': 58, 'rage': 58, 'fail': 58, '! violence': 58, 'remarkable': 58, 'flow': 58, 'peace': 57, 'Wild': 57, 'bargain': 57, 'experience': 56, 'sentence': 56, 'practice': 56, 'travesty': 56, 'bind': 55, 'absence': 55, '! black': 55, 'benefit': 55, '! dull': 55, 'fancy': 55, '! bother': 55, '! leave': 54, 'sun': 54, 'mate': 54, 'advance': 54, 'influence': 54, 'explosion': 54, 'phony': 54, '! full': 54, 'foul': 54, 'terrorist': 54, 'birthday': 54, 'legendary': 54, 'neighbor': 54, 'impress': 53, 'bite': 53, 'shoddy': 53, 'storm': 53, 'complicated': 52, 'Lost': 52, '! title': 52, 'faithful': 52, 'Doctor': 52, 'twin': 52, 'stone': 51, 'attraction': 51, 'endure': 51, 'pretend': 51, 'Good': 51, 'drink': 51, 'Chase': 51, 'unexpected': 50, 'tear': 50, 'challenge': 50, 'arrogant': 50, 'nurse': 50, 'great': 50, 'sky': 50, 'hysterical': 50, 'Sky': 49, 'stare': 49, 'Green': 49, '! annoying': 49, 'winner': 49, 'critic': 49, 'irrelevant': 49, '! art': 49, 'Angel': 48, '! ridiculous': 48, 'Hurt': 48, 'produce': 48, 'Alien': 48, 'Evil': 48, 'Force': 48, 'vacation': 47, 'eager': 47, 'aid': 46, 'thrilling': 46, 'empathy': 46, 'craft': 46, '! interest': 46, 'Dawn': 46, 'accuse': 46, 'absent': 46, 'thrill': 46, 'noble': 46, 'pet': 46, 'row': 45, 'drunken': 45, 'inaccurate': 45, 'tribute': 44, 'confess': 44, 'hollow': 44, 'patience': 44, 'gift': 44, '! mother': 44, 'sneak': 44, 'dust': 44, 'Spirit': 44, 'sin': 43, 'sorely': 43, '! shot': 43, 'nervous': 43, 'angel': 43, 'resource': 43, 'hippie': 43, '! star': 43, 'remove': 43, 'essential': 42, 'yawn': 42, 'revolution': 42, 'honor': 42, 'buck': 42, 'unexplained': 42, 'excruciating': 41, 'horror': 41, '! poorly': 41, 'Bad': 41, 'redemption': 41, 'contrary': 41, 'defense': 41, 'remarkably': 40, 'glory': 40, 'cutting': 40, '! silly': 40, 'plan': 40, 'intrigue': 40, 'strand': 40, 'wound': 40, 'lost': 39, 'crisis': 39, 'stereotyped': 39, 'performer': 39, 'balance': 39, '! excuse': 39, 'bang': 39, 'moron': 39, 'hidden': 38, 'fascination': 38, 'represent': 38, 'mutant': 38, 'worried': 38, 'Grace': 38, 'ease': 38, 'garden': 38, 'freedom': 37, '! female': 37, 'expedition': 37, 'thief': 37, 'defeat': 37, 'Monster': 37, 'drinking': 37, 'wealth': 36, 'difficulty': 36, 'broken': 36, 'provide': 36, '! forward': 36, 'encourage': 36, 'blast': 36, 'chorus': 36, 'honesty': 36, 'Ken': 36, 'cheer': 36, 'exchange': 35, 'celebrity': 35, 'disastrous': 35, '! pay': 35, 'shoulder': 35, 'harm': 35, 'stress': 34, 'guide': 34, 'deny': 34, 'demand': 34, 'murky': 34, 'grotesque': 34, 'Mother': 34, 'importance': 34, 'dubious': 34, 'caricature': 34, 'pad': 34, 'fade': 34, 'versus': 34, 'spree': 34, 'travel': 34, 'Savage': 34, '! fault': 33, 'foolish': 33, 'isolated': 33, 'disgust': 33, 'objective': 33, 'abomination': 33, 'Rod': 33, 'lord': 33, '! mess': 33, 'humble': 33, 'buzz': 33, 'decline': 33, 'attack': 33, 'kudo': 33, 'pressure': 32, 'Full': 32, '! trash': 32, 'debate': 32, 'Justice': 32, 'sincere': 32, 'pose': 32, 'lurk': 32, '! happy': 32, 'Fury': 32, 'recognizable': 31, 'vice': 31, 'glow': 31, 'incorrect': 31, 'Samurai': 31, 'bonus': 31, 'experienced': 30, 'Buck': 30, 'Phantom': 30, 'absorb': 30, 'glowing': 30, 'shell': 30, 'labor': 30, 'possess': 30, 'Faith': 30, 'woefully': 30, '! subject': 30, '! famous': 30, 'brutality': 30, 'skilled': 30, 'rational': 29, 'tax': 29, 'monstrosity': 29, 'error': 29, '! cool': 29, 'slug': 29, 'discovery': 29, 'earnest': 29, 'confidence': 29, '! interested': 29, '! monster': 29, 'parade': 29, 'prey': 29, '! truth': 29, 'Master': 29, 'puppy': 29, 'Sea': 28, 'mockery': 28, 'Colonel': 28, 'iron': 28, '! late': 28, 'conviction': 28, 'deceased': 28, 'contribute': 28, 'ensemble': 28, 'Cold': 28, 'symbolic': 28, '! die': 28, 'jarring': 28, '! musical': 27, 'bounty': 27, 'mediocrity': 27, 'dreadfully': 27, '! usual': 27, 'resident': 27, 'achievement': 27, '! explain': 27, '! God': 27, 'cream': 27, 'disregard': 27, 'Iron': 27, 'despise': 27, 'reading': 27, 'belt': 27, 'calm': 27, 'Modesty': 27, 'riot': 26, 'rear': 26, 'high': 26, 'mannered': 26, 'Ally': 26, 'helpful': 26, 'examination': 26, 'Carol': 26, 'academy': 26, 'shed': 26, 'pound': 26, 'elite': 26, 'incompetence': 26, 'aspire': 26, 'complexity': 25, 'limp': 25, 'trendy': 25, 'samurai': 25, 'romp': 25, 'fanatic': 25, '! fair': 25, 'adorable': 25, 'slip': 25, '! rating': 25, '! spoil': 25, 'stumble': 25, 'injury': 25, '! hate': 25, 'cigarette': 25, 'outlandish': 25, 'betrayal': 25, 'profession': 25, 'glaring': 25, 'rack': 25, 'biblical': 25, 'celebrate': 25, 'prisoner': 25, 'Special': 24, 'greatness': 24, '! friend': 24, 'Grudge': 24, 'expectation': 24, 'overbearing': 24, '! content': 24, 'communicate': 24, 'intact': 24, 'Cool': 24, 'neurotic': 24, 'evolution': 24, 'worship': 24, 'Vacation': 24, 'Land': 24, 'revolt': 24, 'GOD': 24, 'depression': 24, '! pull': 24, 'doom': 24, 'confuse': 24, 'Hollow': 24, 'stab': 24, 'cocaine': 24, 'justification': 24, 'alarm': 24, 'resistance': 24, 'bully': 24, 'Happy': 24, 'extraordinary': 23, 'organize': 23, 'polish': 23, 'triumph': 23, '! agree': 23, '! score': 23, 'tolerate': 23, 'disorder': 23, '! fake': 23, 'abandon': 23, 'smile': 23, 'lacking': 23, 'mighty': 23, 'sacrifice': 23, 'Count': 23, 'Peck': 23, '! respect': 23, '! offensive': 23, 'Action': 23, 'ineffective': 22, 'acquire': 22, 'luxury': 22, '! justice': 22, 'weary': 22, 'unfold': 22, 'premise': 22, '! read': 22, 'modest': 22, 'intimate': 22, 'shamble': 22, 'spice': 22, 'despair': 22, 'furious': 22, 'convention': 22, 'pornography': 22, 'stroke': 22, 'champion': 22, 'corruption': 22, 'Sun': 22, 'bait': 22, 'splendid': 22, 'shrink': 22, 'distasteful': 22, 'apologize': 21, '! intelligence': 21, 'spectacle': 21, '! cult': 21, 'vanity': 21, '! intelligent': 21, 'quaint': 21, '! fairly': 21, 'advanced': 21, 'progression': 21, 'untrue': 21, 'like': 21, 'Revolution': 21, 'rapture': 21, 'foundation': 21, 'conceal': 21, 'Sin': 21, 'Perfect': 21, 'unpredictable': 20, 'Fate': 20, 'hostile': 20, 'suspicion': 20, 'homosexuality': 20, 'outrage': 20, '! cute': 20, 'chore': 20, 'tease': 20, 'decency': 20, 'poke': 20, 'servant': 20, '! public': 20, 'babble': 20, '! hit': 20, 'vivid': 20, 'spelling': 20, 'stellar': 20, 'sour': 20, 'growth': 20, '! shock': 20, 'straightforward': 20, 'aimless': 20, 'lower': 20, '! hurt': 20, '! inspire': 20, 'Broken': 20, 'organization': 20, 'revival': 20, 'bogus': 20, 'blob': 20, 'satanic': 20, 'sink': 20, '! artistic': 19, '! porn': 19, '! weird': 19, 'sore': 19, 'March': 19, 'fuss': 19, '! present': 19, 'fraud': 19, 'distract': 19, '! presence': 19, 'discipline': 19, '! bland': 19, 'rambling': 19, 'confident': 19, '! deal': 19, 'rate': 19, 'gap': 19, 'armor': 19, 'downfall': 19, 'Gang': 19, 'Darkness': 19, '! perfect': 19, 'Levy': 19, 'mistress': 19, 'Dance': 19, 'polished': 19, 'worm': 19, 'savage': 19, 'Ram': 19, 'array': 18, '! effective': 18, '! credit': 18, 'bias': 18, 'joke': 18, 'interior': 18, 'Romance': 18, 'verge': 18, '! disappointing': 18, 'inconsequential': 18, 'fury': 18, 'clean': 18, 'irrational': 18, 'injure': 18, 'retirement': 18, 'comfort': 17, '! force': 17, 'admirer': 17, 'comprehend': 17, 'Fat': 17, '! dreadful': 17, '! information': 17, '! impression': 17, 'dashing': 17, '! impossible': 17, 'mark': 17, 'courtesy': 17, 'grudge': 17, 'associate': 17, 'nap': 17, 'grant': 17, 'adultery': 17, '! climax': 17, 'debacle': 17, 'render': 17, 'embrace': 17, 'neglect': 17, 'smack': 17, 'distress': 17, 'confine': 17, 'assistance': 17, 'bout': 17, 'irresponsible': 17, 'Blob': 17, 'bigoted': 16, '! innocent': 16, '! rescue': 16, '! propaganda': 16, 'Art': 16, 'acceptance': 16, 'conceit': 16, 'Demon': 16, '! endless': 16, 'illustrate': 16, 'planning': 16, 'rhythm': 16, '! succeed': 16, 'bastard': 16, 'Mighty': 16, 'unscathed': 16, '! unique': 16, 'unlucky': 16, 'distinction': 16, 'isolate': 16, '! want': 16, '! prove': 16, '! ruin': 16, 'breakfast': 16, 'Glory': 16, 'license': 16, 'Cradle': 16, 'boo': 16, 'opposition': 15, 'liking': 15, 'exquisite': 15, 'seasoned': 15, '! tough': 15, 'drown': 15, 'sluggish': 15, 'organic': 15, 'uncertain': 15, 'agonizing': 15, '! cold': 15, 'Republic': 15, 'unsatisfied': 15, 'stalk': 15, 'clash': 15, '! escape': 15, '! continue': 15, 'favorable': 15, 'hoot': 15, '! proper': 15, 'Sweet': 15, 'Nurse': 15, 'destination': 15, 'Fool': 15, 'bear': 15, 'tender': 15, 'choke': 15, '! faith': 14, 'tower': 14, '! professional': 14, 'departure': 14, '! romance': 14, 'bitterly': 14, 'mutilate': 14, 'plentiful': 14, 'salvation': 14, 'haunt': 14, 'Center': 14, 'revive': 14, '! loss': 14, 'endeavor': 14, 'bless': 14, 'pirate': 14, 'Battlefield': 14, 'aggression': 14, 'deceive': 14, 'ramble': 14, 'renegade': 14, '! solid': 14, 'defend': 14, '! flow': 14, '! joke': 14, 'jam': 14, 'threaten': 14, 'humiliating': 14, 'rabid': 14, 'pretension': 14, 'sap': 14, 'prospect': 14, 'protect': 14, 'annoy': 14, 'tramp': 14, 'idol': 14, '! charm': 14, '! doubt': 14, 'wimpy': 14, 'applause': 14, 'virtue': 14, '! copy': 13, '! wild': 13, 'welcome': 13, 'boast': 13, 'inert': 13, 'stark': 13, '! honest': 13, 'pollution': 13, 'whip': 13, 'lump': 13, 'illusion': 13, 'Honor': 13, 'seduction': 13, 'stud': 13, 'erratic': 13, 'astonishingly': 13, '! pick': 13, '! destroy': 13, '! chase': 13, 'heal': 13, 'Deadly': 13, '! worry': 13, 'hug': 13, '! torture': 13, 'preserve': 13, 'mortal': 13, '! share': 13, 'grumpy': 13, 'don': 13, 'undermine': 13, '! rubbish': 13, 'inadequate': 13, 'oddity': 13, '! failure': 13, '! spirit': 13, '! pleasant': 13, 'seal': 13, 'Twin': 13, 'deliberate': 13, 'fee': 13, 'emulate': 13, '! fact': 13, 'epitome': 13, '! crash': 12, 'handy': 12, 'sullen': 12, 'restraint': 12, '! Black': 12, '! creature': 12, 'Guide': 12, 'march': 12, '! bizarre': 12, 'democracy': 12, 'drone': 12, 'anxiety': 12, '! absolute': 12, 'fulfill': 12, 'honorable': 12, 'Curse': 12, 'address': 12, 'flirt': 12, 'oppressive': 12, '! god': 12, 'assembly': 12, '! deny': 12, '! thrilling': 12, 'exorcism': 12, 'Pet': 12, '! worthless': 12, 'soil': 12, 'nepotism': 12, 'Keystone': 12, 'boil': 12, 'fecal': 12, 'hesitation': 12, '! critic': 12, 'Revolt': 12, 'dummy': 12, '! pain': 12, 'construct': 12, '! challenge': 12, 'fierce': 12, 'frank': 12, 'growl': 12, 'rigid': 12, 'scandal': 12, 'Breakfast': 12, 'root': 12, 'Fair': 12, 'snarl': 11, 'wind': 11, 'HORRIBLE': 11, 'Public': 11, '! dislike': 11, 'enforcement': 11, '! idiotic': 11, 'embarrass': 11, 'alcoholism': 11, '! influence': 11, 'guise': 11, 'vanish': 11, '! receive': 11, 'ally': 11, 'unintereste': 11, '! promise': 11, 'Weird': 11, 'progressive': 11, 'riddle': 11, 'Discovery': 11, '! gang': 11, '! produce': 11, 'forgiving': 11, 'Chorus': 11, '! lie': 11, '! achieve': 11, 'Crypt': 11, 'irritation': 11, 'harvest': 11, 'Idol': 11, 'Chairman': 11, '! advance': 11, 'battery': 11, 'dawn': 11, 'pinnacle': 11, '! unfortunate': 11, '! abuse': 11, 'Corpse': 11, '! desperate': 11, '! superior': 11, 'crush': 11, 'Bloom': 11, 'Sentinel': 11, 'cleaning': 11, 'lavish': 11, 'hopeful': 11, 'RATING': 11, 'ram': 11, 'banish': 11, 'pile': 11, 'bum': 11, '! kick': 11, 'pregnancy': 11, 'shatter': 11, 'Doom': 11, '! substance': 11, '! embarrassing': 11, 'rod': 11, 'smitten': 11, '! jump': 11, 'Storm': 11, '! fat': 11, '! gross': 11, 'Bait': 11, 'Gross': 11, '! Love': 10, 'cunning': 10, 'pretense': 10, 'admiration': 10, 'ardent': 10, 'communism': 10, 'retribution': 10, 'gospel': 10, '! horribly': 10, '! uninteresting': 10, 'garish': 10, 'Strip': 10, '! bomb': 10, '! fate': 10, 'gall': 10, 'shabby': 10, 'glib': 10, 'hail': 10, 'rabie': 10, '! stress': 10, 'standing': 10, 'efficient': 10, 'egregious': 10, 'Dirty': 10, '! sympathy': 10, 'grate': 10, '! gain': 10, '! execution': 10, 'muddle': 10, 'apathetic': 10, 'manly': 10, '! low': 10, 'decay': 10, 'pervert': 10, 'fear': 10, '! hide': 10, 'Main': 10, 'sensational': 10, 'Tower': 10, 'compassionate': 10, 'kindness': 10, '! originality': 10, 'Passion': 10, 'decrepit': 10, 'misrepresentation': 10, '! stand': 10, '! desert': 10, 'income': 10, '! lesbian': 10, 'lapse': 10, 'recreation': 10, 'vomit': 10, 'harden': 10, 'inconsistency': 10, 'Resident': 10, 'Satanic': 10, '! disgusting': 10, '! dire': 9, '! burn': 9, 'glare': 9, 'anchor': 9, 'failing': 9, 'enthusiast': 9, 'harmony': 9, '! adventure': 9, 'selfishness': 9, 'mislead': 9, '! like': 9, 'Adventure': 9, 'Crisis': 9, '! count': 9, 'dedication': 9, 'paraphrase': 9, 'outlaw': 9, '! sentence': 9, '! formula': 9, '! sympathetic': 9, 'Prisoner': 9, 'delusional': 9, '! punch': 9, 'bickering': 9, 'innocuous': 9, 'inheritance': 9, 'dictatorship': 9, 'hanging': 9, 'Cry': 9, 'starve': 9, 'misunderstanding': 9, 'crusty': 9, '! negative': 9, 'domination': 9, 'scrub': 9, '! intellectual': 9, 'ALIEN': 9, 'Boo': 9, '! shoddy': 9, 'flush': 9, 'Tempest': 9, 'Garden': 9, 'epidemic': 9, 'bust': 9, 'frigid': 9, 'crank': 9, 'reactionary': 9, 'gossip': 9, 'kitten': 9, 'convert': 9, '! fit': 9, 'barrier': 9, '! dance': 9, 'siren': 9, '! deadly': 9, 'cradle': 9, 'Furious': 9, 'Officer': 9, '! delivery': 9, 'Spice': 9, '! honor': 9, '! unexpected': 9, 'glorify': 9, 'powerless': 9, 'dash': 9, 'Desert': 9, 'Prime': 9, 'dictionary': 9, 'alluring': 8, 'horizon': 8, 'collapse': 8, 'Vice': 8, '! superb': 8, '! grave': 8, '! suck': 8, 'ground': 8, '! suffer': 8, '! land': 8, '! wreck': 8, '! safe': 8, '! routine': 8, 'Blind': 8, 'overthrow': 8, 'dismemberment': 8, '! struggle': 8, '! conflict': 8, 'educate': 8, 'fece': 8, 'sponge': 8, 'aura': 8, '! powerful': 8, 'reconciliation': 8, 'perennial': 8, 'cathartic': 8, '! stare': 8, '! bore': 8, 'phantom': 8, '! wit': 8, 'nursery': 8, 'distracted': 8, 'dump': 8, 'dismay': 8, '! contribute': 8, '! constant': 8, 'heroism': 8, 'patronizing': 8, 'liberty': 8, '! idiot': 8, '! faithful': 8, '! sea': 8, 'unscrupulous': 8, '! classic': 8, 'Elite': 8, 'sensuality': 8, 'consummate': 8, 'Classics': 8, 'organized': 8, 'coolness': 8, '! genius': 8, 'unbiased': 8, 'plagiarism': 8, 'Creature': 8, 'measure': 8, '! grace': 8, 'detention': 8, '! dirty': 8, 'prevail': 8, 'trip': 8, '! alien': 8, 'Dust': 8, 'Sex': 8, 'privileged': 8, 'fashionable': 8, 'volunteer': 8, 'Word': 8, 'proposition': 8, 'STAR': 8, 'jargon': 8, 'bond': 8, 'BAD': 8, '! Nightmare': 8, '! Frank': 8, 'numb': 8, 'Fidelity': 8, 'virtuous': 8, 'Peace': 8, 'Spelling': 8, 'Guard': 8, '! officer': 8, 'afflict': 7, 'wince': 7, '! study': 7, '! crude': 7, '! heroine': 7, '! weight': 7, 'determination': 7, 'unquestionably': 7, 'Communism': 7, '! relief': 7, 'superiority': 7, '! provide': 7, '! fail': 7, 'Winner': 7, '! ancient': 7, '! sing': 7, 'payback': 7, 'waffle': 7, '! mutant': 7, '! great': 7, 'Hit': 7, 'agreement': 7, 'timid': 7, 'colonel': 7, 'patron': 7, 'complicate': 7, 'blush': 7, '! danger': 7, 'brawl': 7, '! Full': 7, 'reserve': 7, 'prestige': 7, 'Attraction': 7, '! break': 7, '! endure': 7, 'asshole': 7, 'somber': 7, 'nefarious': 7, '! Star': 7, '! cage': 7, 'medal': 7, '! precious': 7, '! doctor': 7, 'sermon': 7, 'mishap': 7, 'conclude': 7, '! demon': 7, 'Porn': 7, 'Irons': 7, 'bitterness': 7, '! contact': 7, 'victimize': 7, '! leader': 7, '! humanity': 7, '! arrogant': 7, 'poison': 7, 'Rage': 7, 'fleet': 7, 'cooperation': 7, 'Untold': 7, '! sweet': 7, 'collision': 7, '! darkness': 7, '! wear': 7, 'unsatisfactory': 7, 'suppress': 7, 'plush': 7, 'Defense': 7, 'tribulation': 7, 'aloof': 7, 'Pine': 7, '! contrary': 7, 'crowning': 7, 'default': 7, 'connoisseur': 7, 'strut': 7, 'withstand': 7, '! aspire': 7, 'visionary': 7, 'trophy': 7, 'Model': 7, '! amazingly': 7, '! trick': 7, 'supporter': 7, 'wrench': 7, 'Violence': 7, 'battlefield': 7, 'fidelity': 7, '! row': 7, 'Salvation': 7, 'cripple': 7, 'Production': 7, 'removal': 7, 'forewarn': 7, 'decease': 7, '! curse': 7, '! commit': 7, 'Grave': 7, 'casualty': 7, 'stint': 7, 'uninterested': 7, 'firearm': 7, 'familiarity': 7, '! nightmare': 7, 'whim': 7, 'ravenous': 7, 'Choke': 7, 'protector': 7, 'Shot': 7, 'Smother': 7, 'Standing': 7, '! teen': 7, '! irrelevant': 7, 'YAWN': 7, 'divine': 6, '! partner': 6, '! hire': 6, 'Row': 6, 'Trash': 6, 'Musical': 6, 'Cult': 6, 'Deal': 6, 'moderate': 6, '! status': 6, '! impress': 6, 'scavenger': 6, 'verve': 6, 'SAVAGE': 6, 'interference': 6, 'abandonment': 6, 'deterioration': 6, '! hollow': 6, 'ART': 6, 'hasty': 6, 'unimpressed': 6, 'instruction': 6, 'committed': 6, 'Pillow': 6, 'cooperate': 6, '! treat': 6, 'gloss': 6, 'perplexed': 6, '! cut': 6, '! damage': 6, 'enable': 6, 'crypt': 6, '! fancy': 6, 'Torture': 6, 'exaggerate': 6, '! travesty': 6, 'council': 6, 'Demand': 6, 'defenseless': 6, 'predilection': 6, '! drunken': 6, 'celebrated': 6, 'slaughter': 6, 'obliterate': 6, 'MASTER': 6, 'bar': 6, '! moronic': 6, 'unacceptable': 6, 'Absolute': 6, 'patter': 6, 'glimmer': 6, 'humility': 6, 'endow': 6, '! reject': 6, '! pretend': 6, 'DOOM': 6, 'mutilated': 6, 'unsavory': 6, 'dementia': 6, '! cry': 6, '! winner': 6, 'grandeur': 6, '! senseless': 6, 'mercenary': 6, 'voluptuous': 6, '! hang': 6, 'crook': 6, '! praise': 6, 'adrift': 6, 'litter': 6, 'perk': 6, 'intervention': 6, 'Shock': 6, '! hidden': 6, '! structure': 6, '! horrid': 6, '! serve': 6, '! difficulty': 6, '! importance': 6, 'Tramp': 6, 'Kitten': 6, 'exceed': 6, 'authoritative': 6, 'Marrow': 6, '! nurse': 6, '! center': 6, 'aristocratic': 6, 'labored': 6, '! comprehend': 6, '! sun': 6, 'rejection': 6, '! prime': 6, '! bite': 6, 'contradict': 6, 'derision': 6, 'Anchor': 6, 'pine': 6, 'Tough': 6, 'noose': 6, 'racket': 6, '! tiresome': 6, 'salute': 6, 'assassinate': 6, 'Flounder': 6, 'Redemption': 6, 'Crash': 6, 'creditable': 5, 'provocation': 5, 'tangled': 5, '! Lord': 5, 'savor': 5, 'discourage': 5, 'counselor': 5, 'Cigarette': 5, 'Gospel': 5, 'languid': 5, '! superficial': 5, '! birth': 5, '! strike': 5, 'pained': 5, 'Convention': 5, '! encourage': 5, '! tribute': 5, '! accident': 5, 'hush': 5, '! thrill': 5, '! hippie': 5, 'trepidation': 5, 'tickle': 5, 'dazed': 5, 'unwavering': 5, 'affiliate': 5, 'Impossible': 5, 'bender': 5, '! mediocrity': 5, '! acceptance': 5, 'breakup': 5, 'affront': 5, 'swell': 5, 'Present': 5, '! split': 5, 'fell': 5, 'contaminate': 5, 'resign': 5, 'Bastard': 5, 'cuckoo': 5, 'Warp': 5, '! master': 5, '! polish': 5, '! exclude': 5, 'Die': 5, '! childish': 5, 'venerable': 5, 'customer': 5, 'muzzle': 5, '! drink': 5, 'evade': 5, 'uninitiated': 5, '! remarkable': 5, '! moron': 5, 'abduction': 5, '! Lost': 5, 'cheesecake': 5, 'Hazard': 5, '! rave': 5, '! legendary': 5, '! ease': 5, '! phony': 5, '! sloppy': 5, 'distortion': 5, 'diagnosis': 5, 'masochism': 5, 'instrumental': 5, 'DAWN': 5, 'correction': 5, 'heighten': 5, 'affliction': 5, 'Bomb': 5, 'sting': 5, 'weaken': 5, 'Strike': 5, 'serpent': 5, 'Escape': 5, 'flounder': 5, 'grit': 5, 'helplessness': 5, '! Omen': 5, '! belt': 5, '! comfort': 5, 'lurch': 5, '! homage': 5, 'aptitude': 5, '! Evil': 5, '! gag': 5, 'fraught': 5, '! celebrity': 5, '! passion': 5, '! departure': 5, '! pet': 5, 'dependence': 5, '! slap': 5, 'bicker': 5, 'Versus': 5, '! dust': 5, '! friendly': 5, 'dispute': 5, 'Anaconda': 5, 'denying': 5, 'skewed': 5, 'inspired': 5, '! Stone': 5, 'margin': 5, '! glaring': 5, 'Rave': 5, '! chorus': 5, '! guard': 5, 'outdo': 5, 'Rescue': 5, '! Happy': 5, '! irresponsible': 5, 'drawback': 5, 'Porno': 5, 'refusal': 5, '! bargain': 5, 'Bang': 5, 'dogged': 5, '! crisis': 5, 'Divine': 5, 'hiss': 5, 'starved': 5, 'intrusion': 5, 'venomous': 5, 'Stupid': 5, '! prisoner': 4, '! possess': 4, '! liking': 4, '! rapture': 4, '! Republic': 4, '! humble': 4, '! fascination': 4, 'Accused': 4, '! essential': 4, 'agonize': 4, 'conserve': 4, 'injured': 4, 'Mutant': 4, '! performer': 4, '! confuse': 4, '! triumph': 4, 'bribe': 4, 'Foul': 4, '! tolerate': 4, 'Clash': 4, '! butt': 4, 'pioneer': 4, '! stellar': 4, 'Oracle': 4, 'checklist': 4, 'season': 4, 'boycott': 4, 'LOST': 4, '! Bad': 4, 'shelve': 4, 'crusade': 4, '! remove': 4, 'contemptible': 4, 'ministry': 4, 'whirlwind': 4, 'Marry': 4, 'frolic': 4, 'Case': 4, 'splendor': 4, 'flap': 4, 'hardened': 4, 'politic': 4, 'beggar': 4, 'Freedom': 4, 'Danger': 4, 'guzzle': 4, 'Depression': 4, 'royalty': 4, 'dun': 4, 'revise': 4, '! task': 4, 'stain': 4, 'tenderness': 4, '! rage': 4, 'bummer': 4, '! Monster': 4, 'enliven': 4, 'groundwork': 4, 'Mob': 4, 'unwelcome': 4, '! greatness': 4, 'Lesbian': 4, 'untold': 4, '! advise': 4, 'infinity': 4, '! marry': 4, 'merciless': 4, 'undecided': 4, 'rugged': 4, 'consternation': 4, '! Grant': 4, '! sneak': 4, 'Faithful': 4, '! Academy': 4, 'saber': 4, 'Fairly': 4, '! polished': 4, '! defense': 4, 'taint': 4, '! Don': 4, 'pledge': 4, '! examination': 4, '! complexity': 4, 'Admiral': 4, '! helpful': 4, 'Bully': 4, 'Council': 4, 'Garrison': 4, '! attraction': 4, '! homosexuality': 4, 'antithesis': 4, '! call': 4, 'unfulfilled': 4, '! fool': 4, 'orgasm': 4, 'infinite': 4, '! shed': 4, 'Yawn': 4, '! rational': 4, 'offhand': 4, 'Seduction': 4, 'respite': 4, '! enlighten': 4, '! incompetent': 4, 'excite': 4, 'Awful': 4, 'joking': 4, '! glimmer': 4, 'plunge': 4, 'grasp': 4, 'hobo': 4, 'unity': 4, '! erratic': 4, 'chemist': 4, 'elimination': 4, '! vanity': 4, 'tumor': 4, 'depressive': 4, '! Cage': 4, 'perish': 4, '! explosion': 4, '! Wild': 4, '! plan': 4, 'orderly': 4, 'defiance': 4, '! excite': 4, 'SUN': 4, 'enforce': 4, 'Encyclopedia': 4, 'Parade': 4, 'LORD': 4, '! growth': 4, 'persistent': 4, '! Master': 4, 'torn': 4, 'warp': 4, 'detect': 4, 'dissolution': 4, 'birthplace': 4, 'Treat': 4, 'Coronation': 4, '! model': 4, 'unrequited': 4, 'smuggler': 4, 'accompaniment': 4, 'ANGEL': 4, '! upset': 4, 'foresight': 4, '! vote': 4, 'supremacy': 4, '! disgust': 4, 'conscientious': 4, '! blind': 4, 'GREEN': 4, 'Shell': 4, 'Precinct': 4, 'oman': 4, '! empathy': 4, '! celebrate': 4, 'Contact': 4, 'shiver': 4, '! farce': 4, 'Buzz': 4, 'rekindle': 4, '! Creature': 4, 'WRONG': 4, 'Torn': 4, 'remedy': 4, '! harm': 4, '! garden': 4, '! pilot': 4, 'popularize': 4, 'Brotherhood': 4, '! Modesty': 4, 'Thief': 4, '! shabby': 4, 'Siren': 4, 'imitate': 4, '! bind': 4, '! spree': 4, 'modesty': 4, '! lackluster': 4, 'disinformation': 3, '! distract': 3, 'exhaust': 3, 'completion': 3, 'frown': 3, '! tear': 3, 'unsettled': 3, 'captivate': 3, 'genial': 3, 'Ministry': 3, 'Horizon': 3, 'urchin': 3, '! stiff': 3, '! crowning': 3, 'tenacity': 3, '! bounty': 3, '! threaten': 3, 'beam': 3, 'picket': 3, 'bigot': 3, 'hemorrhage': 3, 'Prey': 3, 'highest': 3, 'encyclopedia': 3, '! patience': 3, 'animosity': 3, 'BANG': 3, 'dabble': 3, 'Mortal': 3, 'sturdy': 3, 'clearance': 3, '! complicate': 3, '! neurotic': 3, 'discretion': 3, '! adultery': 3, '! straightforward': 3, 'showy': 3, 'refinement': 3, 'reaffirm': 3, 'demonstrative': 3, 'burglary': 3, 'entanglement': 3, 'apprehension': 3, '! gospel': 3, '! haunt': 3, '! smitten': 3, 'Comfort': 3, 'wage': 3, 'Crusade': 3, 'raving': 3, 'Hidden': 3, 'relieve': 3, '! humiliating': 3, '! reading': 3, '! outlaw': 3, 'flinch': 3, 'unprotected': 3, '! communicate': 3, '! flaw': 3, 'contaminated': 3, '! alluring': 3, 'concluding': 3, 'bloom': 3, 'recovery': 3, '! confidence': 3, 'Farce': 3, 'palsy': 3, 'Restraint': 3, '! objective': 3, 'vomiting': 3, '! sore': 3, '! stab': 3, '! resident': 3, 'inflation': 3, 'Friendly': 3, '! experience': 3, 'wireless': 3, '! deliberate': 3, 'torpedo': 3, '! vivid': 3, 'speculation': 3, '! revolt': 3, '! render': 3, '! parade': 3, 'obtuse': 3, 'snide': 3, 'expedient': 3, 'blessing': 3, 'Uncertainty': 3, 'Forward': 3, 'riddled': 3, 'Fancy': 3, 'dishonor': 3, '! illusion': 3, '! green': 3, 'magnificence': 3, '! Peck': 3, 'prick': 3, 'discrimination': 3, '! recognizable': 3, 'profuse': 3, '! pervert': 3, '! admiration': 3, 'throttle': 3, 'aristocracy': 3, 'chatter': 3, '! Revolution': 3, 'Destination': 3, 'Usual': 3, 'Quiet': 3, '! grotesque': 3, 'Waste': 3, '! refuse': 3, 'sage': 3, 'countess': 3, '! construct': 3, '! dreadfully': 3, 'impotence': 3, 'Foundation': 3, 'disqualify': 3, '! defeat': 3, 'Split': 3, 'NIGHTMARE': 3, 'Barricade': 3, '! pad': 3, '! fashionable': 3, 'timely': 3, 'subdue': 3, '! disregard': 3, 'disorganized': 3, 'blower': 3, 'plumb': 3, 'aspiring': 3, '! mate': 3, '! vanish': 3, '! corrupt': 3, 'exclude': 3, 'Pilot': 3, 'staccato': 3, 'partnership': 3, 'raptors': 3, '! abandon': 3, 'Liberty': 3, 'exile': 3, '! strength': 3, 'smell': 3, 'Tinsel': 3, 'tinsel': 3, '! horror': 3, 'Detention': 3, '! rough': 3, '! magnificence': 3, 'Unexpected': 3, 'revulsion': 3, '! hysterical': 3, '! complicated': 3, '! untrue': 3, 'leukemia': 3, 'Exorcism': 3, '! sky': 3, '! snide': 3, 'regal': 3, '! decency': 3, 'Sage': 3, '! demand': 3, 'Famous': 3, 'undo': 3, 'maggot': 3, 'pillow': 3, 'outcry': 3, 'embroil': 3, 'resistant': 3, 'fervor': 3, 'conjure': 3, '! unpredictable': 3, 'tarnish': 3, '! versus': 3, 'peck': 3, 'manifest': 3, '! Green': 3, '! argument': 3, 'opinionated': 3, 'delay': 3, 'Countess': 3, '! incorrect': 3, '! servant': 3, 'fungus': 3, 'pith': 3, '! breakfast': 3, '! grant': 3, '! distasteful': 3, 'banshee': 3, 'disturbance': 3, 'Formula': 3, '! discipline': 3, '! majority': 3, '! terrorist': 3, 'Ancient': 3, '! represent': 3, 'Evolution': 3, '! extraordinary': 3, '! democracy': 3, 'toil': 3, '! romp': 3, '! rabid': 3, 'Damage': 3, '! deceive': 3, 'fleshy': 3, 'halt': 3, 'rejoice': 3, 'forgive': 3, '! peace': 3, 'sentinel': 3, 'Professional': 3, '! inaccurate': 3, 'viper': 3, '! sap': 3, 'barricade': 3, '! lower': 3, 'famine': 3, 'irregular': 3, '! achievement': 3, 'extinct': 3, 'raptor': 3, 'DOCTOR': 3, 'winning': 3, 'abort': 3, 'Organization': 3, 'Birthday': 3, 'leeway': 3, 'annihilate': 3, 'instruct': 3, 'tangle': 3, 'Cutting': 3, 'purity': 3, 'crunch': 3, '! benefit': 3, 'entangle': 3, 'civilized': 3, '! Mother': 3, '! rear': 3, '! illustrate': 3, '! Doctor': 3, '! craft': 3, '! anxiety': 3, '! abomination': 3, 'intolerant': 3, 'Protector': 3, 'enlighten': 3, '! rejection': 3, 'cramp': 3, 'Save': 3, '! bang': 3, 'Oak': 3, '! debate': 3, '! ensemble': 3, 'slate': 3, 'nurture': 3, 'COLD': 3, 'curl': 3, 'cumbersome': 3, 'penetration': 3, '! ignore': 3, '! Fool': 3, 'oppose': 3, 'exuberance': 3, '! innocuous': 3, '! babble': 3, '! Special': 3, 'Champion': 3, '! riot': 3, 'fume': 3, 'generosity': 3, 'Fleet': 3, 'enchanting': 3, 'resist': 3, 'prohibition': 3, 'wane': 3, '! quote': 3, 'disillusionment': 3, 'Female': 3, '! noble': 3, '! Darkness': 3, 'slaughtering': 3, 'fumble': 3, '! Breakfast': 3, 'moderator': 3, '! Director': 3, '! join': 3, 'cruelly': 2, '! Cradle': 2, 'Friend': 2, '! outrage': 2, 'anathema': 2, 'dolphin': 2, 'rust': 2, '! heavily': 2, '! Battlefield': 2, '! adverse': 2, '! shell': 2, '! pornography': 2, 'violation': 2, 'Truth': 2, '! confess': 2, 'Cream': 2, 'snag': 2, '! strip': 2, 'Serpent': 2, 'swastika': 2, 'Deadlock': 2, 'Verve': 2, 'timidity': 2, 'Venerable': 2, '! broken': 2, 'Balk': 2, 'Sympathy': 2, '! nervous': 2, '! redemption': 2, '! Good': 2, '! plunge': 2, 'delayed': 2, 'marked': 2, '! mislead': 2, '! remarkably': 2, 'goodwill': 2, 'BLACK': 2, '! educate': 2, '! vacation': 2, 'Sneak': 2, 'assurance': 2, 'Bless': 2, 'lace': 2, 'BATTLEFIELD': 2, '! supporter': 2, 'everlasting': 2, 'atone': 2, 'blunder': 2, '! discovery': 2, '! impervious': 2, 'Facts': 2, 'disorganize': 2, 'overpaid': 2, '! Levy': 2, 'legalize': 2, 'contributor': 2, '! biblical': 2, 'unequivocally': 2, 'republic': 2, '! clash': 2, '! sink': 2, 'Hail': 2, '! limp': 2, 'zeal': 2, 'Craft': 2, 'creak': 2, '! assassinate': 2, '! corpse': 2, 'Organized': 2, '! undermine': 2, 'Partner': 2, 'edification': 2, '! measure': 2, 'admiral': 2, 'Dolphin': 2, 'omen': 2, '! tender': 2, '! stumble': 2, '! pose': 2, '! honesty': 2, 'Evergreen': 2, 'Annoying': 2, 'assert': 2, 'fussy': 2, 'incase': 2, '! barricade': 2, 'Pervert': 2, '! absent': 2, '! lord': 2, 'Biblical': 2, '! dubious': 2, '! distress': 2, 'Sponge': 2, '! worship': 2, 'feverish': 2, '! fuss': 2, 'delinquency': 2, '! genial': 2, 'acrobat': 2, 'blemish': 2, 'discard': 2, '! discrimination': 2, '! fade': 2, '! bitterness': 2, '! verge': 2, '! woefully': 2, '! inadequate': 2, 'weed': 2, '! Resident': 2, 'languish': 2, 'raging': 2, 'distressed': 2, 'adverse': 2, 'infiltration': 2, '! lost': 2, 'skew': 2, 'Horrors': 2, 'fainting': 2, 'standstill': 2, '! tax': 2, '! spectacle': 2, '! litter': 2, 'Score': 2, '! Hurt': 2, 'lax': 2, 'Silly': 2, '! travel': 2, 'daze': 2, 'restrain': 2, 'contentious': 2, 'overpriced': 2, '! desire': 2, '! nonsensical': 2, 'compliance': 2, 'startle': 2, '! glowing': 2, '! caricature': 2, '! acquire': 2, 'Level': 2, '! aristocratic': 2, '! shortcoming': 2, '! depressive': 2, 'accuser': 2, 'hydra': 2, 'garrison': 2, '! profession': 2, 'Worm': 2, 'patronize': 2, '! Gang': 2, 'flagrant': 2, '! mistress': 2, 'Reporter': 2, 'divinity': 2, 'detection': 2, 'pastime': 2, '! soil': 2, 'elect': 2, 'Delinquency': 2, 'atom': 2, '! chore': 2, 'grieve': 2, 'survey': 2, 'Artistic': 2, 'desolation': 2, 'Oasis': 2, 'Goblin': 2, 'uncertainty': 2, '! Dirty': 2, '! academy': 2, '! crank': 2, '! Classics': 2, '! unlucky': 2, 'Cuckoo': 2, '! confident': 2, 'cloud': 2, '! reporter': 2, 'absolution': 2, '! whip': 2, '! Bloom': 2, 'tantalizing': 2, 'ovation': 2, '! fume': 2, '! disorder': 2, 'FORCE': 2, 'BREAKFAST': 2, 'Bland': 2, 'Moderate': 2, '! conviction': 2, 'motherhood': 2, 'unfulfille': 2, 'babbling': 2, 'regret': 2, '! ALIEN': 2, 'enjoying': 2, '! emulate': 2, '! worried': 2, '! revival': 2, 'Cute': 2, '! bonus': 2, '! cream': 2, 'elated': 2, 'Propaganda': 2, '! captivate': 2, '! revolution': 2, '! derision': 2, '! virtue': 2, '! bribe': 2, 'balk': 2, '! angel': 2, 'Playhouse': 2, 'craftsman': 2, 'TRASH': 2, 'Words': 2, 'disappoint': 2, 'Fell': 2, 'Shoot': 2, '! storm': 2, 'staring': 2, 'Rear': 2, 'Crack': 2, 'maternal': 2, '! aura': 2, '! whim': 2, 'wanting': 2, '! balance': 2, '! drinking': 2, 'Conflict': 2, 'indelible': 2, 'overbear': 2, 'Contaminated': 2, '! stone': 2, 'acknowledgment': 2, 'Seal': 2, 'merge': 2, 'Earnest': 2, '! unsavory': 2, '! birthday': 2, '! satanic': 2, '! weary': 2, 'vindicate': 2, '! supremacy': 2, '! resource': 2, '! sensational': 2, 'compost': 2, '! symbolic': 2, 'glide': 2, 'Fake': 2, '! modest': 2, '! swear': 2, 'Symphony': 2, 'Dull': 2, '! Grace': 2, '! choke': 2, '! murky': 2, 'Mistress': 2, 'Busted': 2, 'Alarm': 2, 'rubble': 2, '! trophy': 2, 'choral': 2, '! Savage': 2, '! Keystone': 2, '! strand': 2, 'erroneous': 2, 'unfurnished': 2, '! guise': 2, '! organic': 2, 'smother': 2, 'Shed': 2, 'impervious': 2, 'gaunt': 2, '! porno': 2, 'Hanging': 2, '! wound': 2, 'carol': 2, 'soak': 2, '! justification': 2, '! jargon': 2, 'boisterous': 2, 'SEAL': 2, 'graciously': 2, 'Influence': 2, 'scrumptious': 2, 'stationary': 2, 'Splinter': 2, 'Bite': 2, 'disable': 2, 'deformity': 2, '! quiet': 2, 'insufficiency': 2, '! smile': 2, 'Late': 2, 'tumble': 2, 'quell': 2, 'discord': 2, '! stereotyped': 2, '! gift': 2, 'Stress': 2, '! cramp': 2, '! slate': 2, '! exorcism': 2, '! sin': 2, '! wind': 2, 'reverence': 2, 'synchronize': 2, 'pickle': 2, 'aggressor': 2, 'Extraordinary': 2, '! weed': 2, '! cheer': 2, 'SEX': 2, '! wealth': 2, 'Vanity': 2, 'Intelligence': 2, '! stud': 2, 'Sermon': 2, 'GARDEN': 2, 'Celebrity': 2, 'Crook': 2, 'weariness': 2, 'hangman': 2, '! glare': 2, 'LAX': 2, 'dexterity': 2, '! dispel': 2, '! endeavor': 2, '! coolness': 2, 'tenacious': 2, 'minimize': 2, '! Dawn': 2, '! error': 2, 'Rout': 2, '! reactionary': 2, 'bureaucracy': 2, 'splinter': 2, 'Regal': 2, '! root': 2, 'fray': 2, '! decline': 2, '! phantom': 2, 'infliction': 2, 'Harmony': 2, 'Rough': 2, 'Bluff': 2, '! glory': 2, 'LOVE': 2, 'valor': 2, '! earnest': 2, '! MASTER': 2, '! mortal': 2, '! evolution': 2, '! Phantom': 2, 'godly': 2, 'serene': 2, '! bastard': 2, 'Prestige': 2, 'Title': 2, 'SEA': 2, 'precinct': 2, '! sorely': 2, 'presentable': 2, '! convert': 2, 'growling': 2, '! unintereste': 2, 'Elimination': 2, '! organize': 2, '! aid': 2, 'cushion': 2, '! depression': 2, '! mockery': 2, 'Gossip': 2, '! conceit': 2, 'tether': 2, '! domination': 2, 'ply': 2, 'earnestly': 2, '! puppy': 2, 'Birth': 2, '! enthusiast': 2, '! manly': 2, 'Bound': 2, 'Punch': 2, 'complete': 2, 'untie': 2, 'setback': 2, 'chisel': 2, 'SPLIT': 2, 'relaxation': 2, 'absentee': 2, 'prominence': 2, 'doldrum': 2, 'complication': 2, 'regularity': 2, 'Gift': 2, '! dispute': 2, '! eager': 2, 'Rating': 2, 'FAT': 2, '! Force': 2, 'playhouse': 2, '! moderate': 2, 'dispel': 2, '! sour': 2, 'GRUDGE': 2, 'esthetic': 2, '! unexplained': 2, '! complete': 2, 'FURY': 2, '! patronizing': 2, '! Female': 1, '! plentiful': 1, 'GANG': 1, 'cyanide': 1, '! unsatisfied': 1, '! scrumptious': 1, '! ripen': 1, '! Fate': 1, '! staring': 1, 'prosecute': 1, '! tease': 1, 'WASTe': 1, '! despair': 1, 'transgression': 1, '! Brotherhood': 1, '! foundation': 1, '! collapse': 1, 'Hippie': 1, '! Evolution': 1, '! Share': 1, 'Majority': 1, '! intrusion': 1, '! crusade': 1, '! mutilate': 1, '! ejaculation': 1, '! expatriate': 1, 'roughness': 1, 'concussion': 1, 'forewarned': 1, 'Courtesy': 1, 'blot': 1, 'sonorous': 1, '! discriminate': 1, '! ardent': 1, '! mutilated': 1, 'slur': 1, '! admirer': 1, 'Dole': 1, 'SYMPATHY': 1, '! perplex': 1, '! Depression': 1, '! pungent': 1, '! detect': 1, '! pith': 1, 'oracle': 1, '! Hit': 1, 'fuming': 1, '! Blob': 1, 'IDIOT': 1, 'tact': 1, 'Pain': 1, 'Prohibition': 1, 'Hoot': 1, '! dementia': 1, 'Humanity': 1, 'partisan': 1, 'battle': 1, 'surveying': 1, 'punctuality': 1, '! resign': 1, '! demonstrative': 1, '! unfold': 1, '! beggar': 1, '! Ken': 1, '! dwarf': 1, '! Glide': 1, 'Drunken': 1, 'mutter': 1, '! injury': 1, 'Pleasant': 1, 'undying': 1, '! oppressive': 1, '! dictionary': 1, 'solvency': 1, 'betterment': 1, '! crush': 1, 'AWFUL': 1, '! rigid': 1, 'Climax': 1, '! Sweet': 1, 'pessimism': 1, '! enable': 1, 'barbarism': 1, 'disagree': 1, 'reinforcement': 1, '! crack': 1, 'HURT': 1, '! stalk': 1, 'standoff': 1, 'Beam': 1, '! Undying': 1, '! brotherhood': 1, '! snarl': 1, '! Chase': 1, 'neglecting': 1, 'elevation': 1, 'symmetrical': 1, 'Critic': 1, 'Error': 1, '! sturdy': 1, 'Godly': 1, '! intrigue': 1, 'Calm': 1, 'deluge': 1, 'Buffet': 1, '! skewed': 1, 'Medal': 1, '! Torn': 1, '! decay': 1, 'inconsiderate': 1, 'Vertigo': 1, 'Endless': 1, '! Sympathy': 1, 'STONE': 1, '! instruction': 1, 'Study': 1, 'Advent': 1, '! BROTHERHOOD': 1, '! alarm': 1, 'resignation': 1, 'humiliate': 1, 'measured': 1, 'Lower': 1, '! sensuality': 1, '! welcome': 1, 'COOL': 1, '! buzz': 1, '! fainting': 1, '! liberty': 1, 'Dummy': 1, 'MIGHTY': 1, 'smelling': 1, 'aberration': 1, 'Polish': 1, '! oddity': 1, '! Public': 1, 'apostle': 1, 'antibiotic': 1, '! interior': 1, 'austerity': 1, '! completion': 1, '! convention': 1, '! trepidation': 1, 'CONTACT': 1, 'oversight': 1, 'accord': 1, 'involution': 1, '! Land': 1, 'Rhythm': 1, '! drone': 1, 'misunderstand': 1, '! Barricade': 1, '! fell': 1, 'Atom': 1, '! debacle': 1, 'VALOR': 1, '! casualty': 1, '! pique': 1, '! ravenous': 1, '! suspicion': 1, '! Jam': 1, 'Hush': 1, 'misrepresent': 1, 'Stiff': 1, 'unyielding': 1, 'Terrorist': 1, '! glow': 1, '! bender': 1, 'Traveling': 1, '! Innocent': 1, '! glorify': 1, '! throttle': 1, 'Rapture': 1, 'brotherhood': 1, '! uncertainty': 1, '! expel': 1, '! mob': 1, '! spasm': 1, '! revulsion': 1, 'FAKE': 1, 'calculator': 1, '! nefarious': 1, '! advanced': 1, '! Alien': 1, '! Damage': 1, 'Tribute': 1, 'Genius': 1, '! outlandish': 1, 'adaptable': 1, '! license': 1, '! hostile': 1, '! precedence': 1, 'oak': 1, 'manufacturer': 1, 'traveling': 1, 'unscathe': 1, '! samurai': 1, 'endanger': 1, 'reparation': 1, 'Suck': 1, 'antagonistic': 1, '! resistance': 1, '! ROMANCE': 1, '! labor': 1, 'Dictionary': 1, '! Flounder': 1, '! distinction': 1, '! cutting': 1, '! jarring': 1, '! impotence': 1, 'thump': 1, 'Tender': 1, '! Chairman': 1, '! Fair': 1, 'Harvest': 1, 'Fall': 1, '! Hidden': 1, '! connoisseur': 1, 'Trick': 1, 'Oligarchy': 1, '! oversight': 1, 'candid': 1, 'Idiot': 1, '! shamble': 1, '! corruption': 1, 'bluff': 1, 'DIRECTOR': 1, 'Outlaw': 1, '! opinionated': 1, 'swelling': 1, 'clouded': 1, '! Fallow': 1, 'Fallow': 1, '! intact': 1, '! GOD': 1, 'incendiary': 1, 'Crude': 1, '! pregnancy': 1, '! bond': 1, '! efficient': 1, 'BOO': 1, '! Tease': 1, 'imperfectly': 1, '! Disorder': 1, '! hobo': 1, 'Proper': 1, '! revive': 1, 'BUCK': 1, 'Prudence': 1, '! Breach': 1, 'immaturity': 1, '! mimicry': 1, 'evasion': 1, '! pessimism': 1, '! conceal': 1, 'paralysis': 1, 'versu': 1, 'THIEF': 1, '! enliven': 1, '! gonorrhea': 1, 'discharge': 1, 'vagueness': 1, 'spasm': 1, '! defamation': 1, 'gros': 1, 'adulterate': 1, 'subversion': 1, '! grasp': 1, '! Pine': 1, 'discriminate': 1, 'Payback': 1, '! cigarette': 1, 'vertigo': 1, '! remedy': 1, '! accuse': 1, '! reserve': 1, '! isolate': 1, 'opportune': 1, 'equilibrium': 1, 'Promise': 1, '! notable': 1, 'unauthorized': 1, '! aristocracy': 1, 'mimicry': 1, '! plush': 1, '! unbiased': 1, 'tumour': 1, 'Barred': 1, 'sunk': 1, '! stain': 1, 'wrangling': 1, '! council': 1, 'specter': 1, '! Salvation': 1, 'blowout': 1, 'buffet': 1, '! Action': 1, '! sincere': 1, 'keystone': 1, 'including': 1, 'SENTINEL': 1, 'desire': 1, 'muss': 1, 'rabies': 1, 'evergreen': 1, '! dishonor': 1, 'cultivation': 1, '! protect': 1, 'kindred': 1, '! warp': 1, 'hive': 1, '! pile': 1, '! restraint': 1, 'excruciate': 1, '! bias': 1, 'Grieve': 1, 'Worship': 1, '! fece': 1, '! planning': 1, 'pretending': 1, '! forgiving': 1, 'withdraw': 1, '! frown': 1, 'unaccountable': 1, 'Quack': 1, '! horizon': 1, '! defender': 1, '! array': 1, 'Supremacy': 1, '! disastrous': 1, '! opposition': 1, '! BASTARD': 1, 'APACHE': 1, '! lavish': 1, '! republic': 1, '! attack': 1, '! Guard': 1, '! timely': 1, 'Lurch': 1, 'Gaunt': 1, 'perplex': 1, '! scramble': 1, '! flinch': 1, 'HOLLOW': 1, '! labored': 1, '! Cool': 1, '! Anaconda': 1, 'vigor': 1, '! Colonel': 1, '! yawn': 1, 'segregated': 1, '! smother': 1, 'License': 1, 'accommodation': 1, '! humbug': 1, '! glide': 1, 'Teens': 1, 'defender': 1, 'precedence': 1, 'Information': 1, 'covenant': 1, '! falter': 1, 'stamina': 1, 'Patron': 1, 'SWEET': 1, '! cleaning': 1, 'Pioneer': 1, '! luxury': 1, 'bark': 1, '! rubble': 1, '! divine': 1, '! lurk': 1, '! passivity': 1, 'ejaculation': 1, 'hindrance': 1, '! perish': 1, 'Ensemble': 1, 'hazard': 1, 'grounded': 1, 'Jubilee': 1, 'loom': 1, 'Eager': 1, '! Production': 1, '! busted': 1, '! exchange': 1, '! bogus': 1, 'pharmaceutical': 1, 'quack': 1, 'Fudge': 1, '! Fudge': 1, '! Storm': 1, '! aggression': 1, 'Weight': 1, '! Deadly': 1, 'Ardent': 1, 'favoritism': 1, 'falter': 1, 'CHOKE': 1, '! honorable': 1, '! tramp': 1, '! medal': 1, 'Rabies': 1, '! BAD': 1, '! bickering': 1, '! fulfill': 1, 'WINNER': 1, 'ripen': 1, 'amend': 1, '! boisterous': 1, '! DEPRESSION': 1, '! trip': 1, 'radiant': 1, 'BROKEN': 1, 'Slap': 1, 'Sting': 1, '! Center': 1, '! unprotected': 1, '! Hollow': 1, 'HUG': 1, 'Raptors': 1, 'DON': 1, '! homesick': 1, 'Kindred': 1, 'devastate': 1, '! Infinity': 1, '! confined': 1, '! Countess': 1, '! annoy': 1, '! Forward': 1, 'ballot': 1, 'MARCH': 1, 'POUND': 1, 'CUTE': 1, 'Wimpy': 1, '! grit': 1, '! quiver': 1, 'Accident': 1, '! instinctive': 1, '! outdo': 1, 'Triumph': 1, '! Pet': 1, '! Buck': 1, '! hoot': 1, 'clashing': 1, 'unforgive': 1, 'Saber': 1, 'Vigilance': 1, 'CAROL': 1, 'sisterhood': 1, 'Solid': 1, '! correction': 1, '! partisan': 1, 'Noble': 1, 'smiling': 1, '! Discovery': 1, 'WELCOMED': 1, 'rail': 1, 'SHOT': 1, '! Satanic': 1, '! balm': 1, 'Accord': 1, 'GUIDE': 1, 'FAITHFUL': 1, 'oasis': 1, '! Art': 1, '! specter': 1, '! violation': 1, 'deactivate': 1, 'Cutters': 1, '! betrayal': 1, 'spotless': 1, '! soulmate': 1, 'Distinction': 1, 'severity': 1, 'Beggar': 1, '! COLD': 1, '! siren': 1, '! Tender': 1, 'Interior': 1, 'GRACE': 1, 'exterminate': 1, '! seal': 1, 'Apache': 1, '! injure': 1, '! PET': 1, '! gloss': 1, '! cooperate': 1, 'fudge': 1, 'diversify': 1, 'shortcoming': 1, '! cunning': 1, '! premise': 1, 'Curl': 1, '! spice': 1, '! bait': 1, 'RACK': 1, '! Symphony': 1, '! practice': 1, '! unimpressed': 1, 'Wireless': 1, '! aloof': 1, '! conjure': 1, '! CHEERING': 1, 'HOMAGE': 1, 'fret': 1, 'balm': 1, '! rambling': 1, 'pungent': 1, 'agitation': 1, '! pine': 1, '! ste': 1, '! defiance': 1, '! boast': 1, '! tremble': 1, 'invalidity': 1, '! bitterly': 1, '! Evergreen': 1, 'ken': 1, '! Bang': 1, '! buck': 1, 'Mess': 1, '! powerless': 1, '! tower': 1, 'sweetie': 1, 'retract': 1, 'VERSUS': 1, '! strengthen': 1, 'unforgiving': 1, 'Tenacious': 1, 'Pick': 1, 'PATRON': 1, '! doom': 1, '! cocaine': 1, '! Row': 1, '! unwelcome': 1, 'Bother': 1, 'pique': 1, 'GRAVE': 1, 'Corruption': 1, 'lawful': 1, 'inaction': 1, 'Nepotism': 1, 'defamation': 1, '! languid': 1, '! Exorcism': 1, 'levy': 1, '! conclude': 1, '! ANGEL': 1, '! income': 1, 'jar': 1, '! worm': 1, '! salvation': 1, '! Liberty': 1, 'RUBBISH': 1, 'Bargain': 1, 'chairman': 1, '! Fat': 1, '! inspired': 1, '! MIGHTY': 1, 'Hive': 1, 'CURSE': 1, '! ABDUCTION': 1, 'restful': 1, 'fireproof': 1, 'coronation': 1, 'aberrant': 1, '! uninitiated': 1, '! foul': 1, '! Crash': 1, '! vice': 1, '! symphony': 1, 'Advanced': 1, 'ferment': 1, '! address': 1, '! epidemic': 1, '! Belt': 1, '! dashing': 1, '! corrective': 1, '! interference': 1, 'armament': 1, '! celebrated': 1, 'hurting': 1, '! Carol': 1, '! deceased': 1, '! Sea': 1, 'bound': 1, 'shortcome': 1, 'diversified': 1, 'exclusion': 1, 'Anxiety': 1, '! enchanting': 1, 'Practice': 1, '! entangle': 1, '! unacceptable': 1, 'luxuriant': 1, '! rekindle': 1, '! bummer': 1, '! renegade': 1, '! stationary': 1, 'repress': 1, 'PET': 1, '! Iron': 1, 'Proposition': 1, 'attest': 1, '! leeway': 1, 'humbug': 1, '! Sun': 1, '! fee': 1, 'relieving': 1, '! evergreen': 1, '! courtesy': 1, 'incense': 1, '! Dust': 1, '! restriction': 1, '! virtuous': 1, '! transgression': 1, 'defect': 1, '! regret': 1, '! slaughtering': 1, 'Gag': 1, '! absence': 1, '! battle': 1, '! adaptable': 1, 'scramble': 1, 'apache': 1, '! slip': 1, 'busted': 1, '! pirate': 1, '! sluggish': 1, 'Raging': 1, '! modesty': 1, '! foolish': 1, 'SLIP': 1, 'rugge': 1, '! recreation': 1, 'segregate': 1, 'Charm': 1, 'Diagnosis': 1, '! MUSICAL': 1, 'Stab': 1, 'stool': 1, '! distortion': 1, 'Assembly': 1, 'Rubbish': 1, 'thrift': 1, 'Endangered': 1, '! committed': 1, 'dependency': 1, '! Title': 1, 'chivalry': 1, 'Mislead': 1, '! agreement': 1, '! unquestionably': 1, 'unpublished': 1, '! mighty': 1, 'odor': 1, 'mortification': 1, 'Slip': 1, '! splinter': 1, '! maggot': 1, '! shrink': 1, '! savage': 1, 'Bark': 1, '! furious': 1, '! Pledge': 1, 'dole': 1, '! smoothness': 1, 'Pirate': 1, 'CRADLE': 1, '! shatter': 1, '! breakup': 1, 'VANITY': 1, 'FAIR': 1, '! famine': 1, '! chemist': 1, 'SKY': 1, '! epitome': 1, 'overpay': 1, '! crypt': 1, '! high': 1, 'GOd': 1, '! Count': 1, 'disparity': 1, 'VIOLENCE': 1, '! detection': 1, '! Crisis': 1, '! unity': 1, 'deficiency': 1, '! assembly': 1, '! dash': 1, '! wince': 1, '! irritation': 1, 'Hangman': 1, '! marrow': 1, 'IMPOSSIBLE': 1, 'Riot': 1, 'HIDDEN': 1, '! Grudge': 1, '! skilled': 1, '! inconsiderate': 1, '! grandeur': 1, 'attacking': 1, '! afflict': 1, 'LACE': 1, '! counselor': 1, 'fallow': 1, 'DIE': 1, 'DANGER': 1, 'beverage': 1, 'HANGING': 1, '! rust': 1, '! pretension': 1, 'Bonus': 1, 'REDEMPTION': 1, 'Adder': 1, 'Jump': 1, 'Copy': 1, 'Abuse': 1, 'auspicious': 1, 'autocratic': 1, '! Violence': 1, 'retort': 1, 'snags': 1, 'blight': 1, '! hive': 1, 'BOYCOTT': 1, '! crunch': 1, '! amenable': 1, 'stripe': 1, 'Revival': 1, '! pressure': 1, 'Greater': 1, 'passivity': 1, 'Everlasting': 1, 'approve': 1, 'Pound': 1, 'VERTIGO': 1, 'smoothness': 1, '! Drunken': 1, '! ramble': 1, 'Advocacy': 1, 'Atonement': 1, '! drown': 1, 'cultivate': 1, '! frank': 1, 'marrow': 1, 'spell': 1, '! Crypt': 1, '! infiltration': 1, 'Quicksilver': 1, 'Absolution': 1, 'responsive': 1, 'COUNTESS': 1, 'Monstrosity': 1, '! neighbor': 1, '! Influence': 1, '! aberration': 1, 'gregarious': 1, 'Collision': 1, '! poke': 1, 'Belt': 1, '! Mistress': 1, 'homesick': 1, '! Angel': 1, '! Rough': 1, 'Dire': 1, '! dump': 1, '! antithesis': 1, 'Moron': 1, '! splendid': 1, '! blast': 1, '! progressive': 1, 'ROMANCE': 1, 'DESERT': 1, '! garish': 1, 'Geranium': 1, '! Nurse': 1, '! expectation': 1, '! lacking': 1, 'GOOD': 1, 'husbandry': 1, 'Torpedo': 1, 'tempest': 1, '! Furious': 1, 'PRECINCT': 1, 'Impotence': 1, 'WRENCH': 1, '! erroneous': 1, 'Reading': 1, '! grudge': 1, '! absorb': 1, '! harmony': 1, '! suppress': 1, '! pound': 1, 'HATE': 1, '! prey': 1, '! Versus': 1, '! lump': 1, 'vigilance': 1, 'FOOL': 1, 'Sturdy': 1, 'Aid': 1, '! auspicious': 1, 'adjunct': 1, 'JAM': 1, '! showy': 1, 'theocratic': 1, 'dwarf': 1, '! mercenary': 1, 'Whip': 1, 'conflagration': 1, '! complement': 1, '! FORCE': 1, '! forewarn': 1, 'Puppy': 1, '! excruciating': 1, 'Splendor': 1, 'PERFECT': 1, '! torn': 1, 'Producing': 1, '! trendy': 1, '! twin': 1, '! Hanging': 1, '! collision': 1, 'tipsy': 1, '! Vacation': 1, '! Cold': 1, '! Dance': 1, '! martyrdom': 1, 'gaining': 1, 'Downfall': 1, 'Wrong': 1, '! FURY': 1, '! growl': 1, 'Stark': 1, '! contradict': 1, '! expedient': 1, '! handy': 1, 'Goodwill': 1, 'Honest': 1, 'ABSOLUTE': 1})\n"
     ]
    },
    {
     "ename": "NameError",
     "evalue": "name 'countNegTrain' is not defined",
     "output_type": "error",
     "traceback": [
      "\u001b[0;31m---------------------------------------------------------------------------\u001b[0m",
      "\u001b[0;31mNameError\u001b[0m                                 Traceback (most recent call last)",
      "\u001b[0;32m<ipython-input-6-70b7a8fb1d20>\u001b[0m in \u001b[0;36m<module>\u001b[0;34m\u001b[0m\n\u001b[1;32m     20\u001b[0m \u001b[0mlabels\u001b[0m\u001b[0;34m,\u001b[0m \u001b[0mvalues\u001b[0m \u001b[0;34m=\u001b[0m \u001b[0mrankCounter\u001b[0m\u001b[0;34m(\u001b[0m\u001b[0mcounterNegEmos\u001b[0m\u001b[0;34m)\u001b[0m\u001b[0;34m\u001b[0m\u001b[0;34m\u001b[0m\u001b[0m\n\u001b[1;32m     21\u001b[0m \u001b[0mindexes\u001b[0m \u001b[0;34m=\u001b[0m \u001b[0mnp\u001b[0m\u001b[0;34m.\u001b[0m\u001b[0marange\u001b[0m\u001b[0;34m(\u001b[0m\u001b[0mlen\u001b[0m\u001b[0;34m(\u001b[0m\u001b[0mlabels\u001b[0m\u001b[0;34m)\u001b[0m\u001b[0;34m)\u001b[0m\u001b[0;34m\u001b[0m\u001b[0;34m\u001b[0m\u001b[0m\n\u001b[0;32m---> 22\u001b[0;31m \u001b[0mvalues\u001b[0m \u001b[0;34m=\u001b[0m \u001b[0;34m[\u001b[0m\u001b[0mv\u001b[0m\u001b[0;34m*\u001b[0m\u001b[0;36m1.0\u001b[0m\u001b[0;34m/\u001b[0m\u001b[0mcountNegTrain\u001b[0m \u001b[0;32mfor\u001b[0m \u001b[0mv\u001b[0m \u001b[0;32min\u001b[0m \u001b[0mvalues\u001b[0m\u001b[0;34m]\u001b[0m\u001b[0;34m\u001b[0m\u001b[0;34m\u001b[0m\u001b[0m\n\u001b[0m\u001b[1;32m     23\u001b[0m \u001b[0mplt\u001b[0m\u001b[0;34m.\u001b[0m\u001b[0mbar\u001b[0m\u001b[0;34m(\u001b[0m\u001b[0mindexes\u001b[0m\u001b[0;34m,\u001b[0m \u001b[0mvalues\u001b[0m\u001b[0;34m,\u001b[0m \u001b[0mbarwidth\u001b[0m\u001b[0;34m)\u001b[0m\u001b[0;34m\u001b[0m\u001b[0;34m\u001b[0m\u001b[0m\n\u001b[1;32m     24\u001b[0m \u001b[0mplt\u001b[0m\u001b[0;34m.\u001b[0m\u001b[0mxticks\u001b[0m\u001b[0;34m(\u001b[0m\u001b[0mindexes\u001b[0m \u001b[0;34m+\u001b[0m \u001b[0mwidth\u001b[0m \u001b[0;34m*\u001b[0m \u001b[0;36m0.5\u001b[0m\u001b[0;34m,\u001b[0m \u001b[0mlabels\u001b[0m\u001b[0;34m)\u001b[0m\u001b[0;34m\u001b[0m\u001b[0;34m\u001b[0m\u001b[0m\n",
      "\u001b[0;32m<ipython-input-6-70b7a8fb1d20>\u001b[0m in \u001b[0;36m<listcomp>\u001b[0;34m(.0)\u001b[0m\n\u001b[1;32m     20\u001b[0m \u001b[0mlabels\u001b[0m\u001b[0;34m,\u001b[0m \u001b[0mvalues\u001b[0m \u001b[0;34m=\u001b[0m \u001b[0mrankCounter\u001b[0m\u001b[0;34m(\u001b[0m\u001b[0mcounterNegEmos\u001b[0m\u001b[0;34m)\u001b[0m\u001b[0;34m\u001b[0m\u001b[0;34m\u001b[0m\u001b[0m\n\u001b[1;32m     21\u001b[0m \u001b[0mindexes\u001b[0m \u001b[0;34m=\u001b[0m \u001b[0mnp\u001b[0m\u001b[0;34m.\u001b[0m\u001b[0marange\u001b[0m\u001b[0;34m(\u001b[0m\u001b[0mlen\u001b[0m\u001b[0;34m(\u001b[0m\u001b[0mlabels\u001b[0m\u001b[0;34m)\u001b[0m\u001b[0;34m)\u001b[0m\u001b[0;34m\u001b[0m\u001b[0;34m\u001b[0m\u001b[0m\n\u001b[0;32m---> 22\u001b[0;31m \u001b[0mvalues\u001b[0m \u001b[0;34m=\u001b[0m \u001b[0;34m[\u001b[0m\u001b[0mv\u001b[0m\u001b[0;34m*\u001b[0m\u001b[0;36m1.0\u001b[0m\u001b[0;34m/\u001b[0m\u001b[0mcountNegTrain\u001b[0m \u001b[0;32mfor\u001b[0m \u001b[0mv\u001b[0m \u001b[0;32min\u001b[0m \u001b[0mvalues\u001b[0m\u001b[0;34m]\u001b[0m\u001b[0;34m\u001b[0m\u001b[0;34m\u001b[0m\u001b[0m\n\u001b[0m\u001b[1;32m     23\u001b[0m \u001b[0mplt\u001b[0m\u001b[0;34m.\u001b[0m\u001b[0mbar\u001b[0m\u001b[0;34m(\u001b[0m\u001b[0mindexes\u001b[0m\u001b[0;34m,\u001b[0m \u001b[0mvalues\u001b[0m\u001b[0;34m,\u001b[0m \u001b[0mbarwidth\u001b[0m\u001b[0;34m)\u001b[0m\u001b[0;34m\u001b[0m\u001b[0;34m\u001b[0m\u001b[0m\n\u001b[1;32m     24\u001b[0m \u001b[0mplt\u001b[0m\u001b[0;34m.\u001b[0m\u001b[0mxticks\u001b[0m\u001b[0;34m(\u001b[0m\u001b[0mindexes\u001b[0m \u001b[0;34m+\u001b[0m \u001b[0mwidth\u001b[0m \u001b[0;34m*\u001b[0m \u001b[0;36m0.5\u001b[0m\u001b[0;34m,\u001b[0m \u001b[0mlabels\u001b[0m\u001b[0;34m)\u001b[0m\u001b[0;34m\u001b[0m\u001b[0;34m\u001b[0m\u001b[0m\n",
      "\u001b[0;31mNameError\u001b[0m: name 'countNegTrain' is not defined"
     ]
    },
    {
     "data": {
      "text/plain": [
       "<Figure size 1600x480 with 0 Axes>"
      ]
     },
     "metadata": {},
     "output_type": "display_data"
    }
   ],
   "source": [
    "'''\n",
    "Emotion words histogram\n",
    "'''\n",
    "read_files = glob.glob(negTrainDir + '*.txt')\n",
    "\n",
    "counterNegEmos = Counter('')\n",
    "i = 0\n",
    "\n",
    "for infile in read_files:\n",
    "    with open(infile, 'r', errors='replace') as f:\n",
    "        text = f.read()\n",
    "        doc = nlp(text)\n",
    "        counterNegEmos += analyzeEmotionWords(doc, emos) \n",
    "        if (i % 5000 == 0): \n",
    "            print('i : ' + str(i))  \n",
    "        i += 1\n",
    "    "
   ]
  },
  {
   "cell_type": "code",
   "execution_count": 8,
   "metadata": {},
   "outputs": [
    {
     "data": {
      "image/png": "[encoded data removed]",
      "text/plain": [
       "<Figure size 1600x480 with 1 Axes>"
      ]
     },
     "metadata": {},
     "output_type": "display_data"
    }
   ],
   "source": [
    "N = len(read_files)\n",
    "counterNegEmosIdf = invDocFreq(counterNegEmos, N)\n",
    "plt.figure(num=None, figsize=(20, 6), dpi=80, facecolor='w', edgecolor='k')\n",
    "result = {k: v for k, v in sorted(counterNegEmosIdf.items(), key=lambda item: item[1])}\n",
    "labels = list(result.keys())[:20]\n",
    "values = list(result.values())[:20]\n",
    "indexes = np.arange(len(labels)) \n",
    "plt.bar(indexes, values, barwidth)\n",
    "plt.xticks(indexes + barwidth * 0.5, labels)\n",
    "plt.show()"
   ]
  },
  {
   "cell_type": "code",
   "execution_count": 30,
   "metadata": {},
   "outputs": [
    {
     "data": {
      "image/png": "[encoded data removed]",
      "text/plain": [
       "<Figure size 1600x480 with 1 Axes>"
      ]
     },
     "metadata": {},
     "output_type": "display_data"
    }
   ],
   "source": [
    "plt.figure(num=None, figsize=(20, 6), dpi=80, facecolor='w', edgecolor='k')\n",
    "labels, values = rankCounter(counterNegEmos)\n",
    "indexes = np.arange(len(labels))\n",
    "values = [v*1.0/countNegTrain for v in values] \n",
    "plt.bar(indexes, values, barwidth)\n",
    "plt.xticks(indexes + width * 0.5, labels)\n",
    "plt.show()"
   ]
  },
  {
   "cell_type": "code",
   "execution_count": 24,
   "metadata": {},
   "outputs": [],
   "source": [
    "read_files = glob.glob(posTrainDir + '*.txt')\n",
    "countersPos, sizesPos = docTermFreq(read_files, emos)"
   ]
  },
  {
   "cell_type": "code",
   "execution_count": 29,
   "metadata": {},
   "outputs": [
    {
     "data": {
      "image/png": "[encoded data removed]",
      "text/plain": [
       "<Figure size 1600x480 with 1 Axes>"
      ]
     },
     "metadata": {},
     "output_type": "display_data"
    }
   ],
   "source": [
    "print(len(countersPos))\n",
    "print(len(sizesPos))\n",
    "\n",
    "plt.figure(num=None, figsize=(20, 6), dpi=80, facecolor='w', edgecolor='k')\n",
    "labels, values = rankCounter(countersPos[0])\n",
    "values = [v*1.0/sizesPos[0] for v in values]\n",
    "indexes = np.arange(len(labels)) \n",
    "plt.bar(indexes, values, barwidth)\n",
    "plt.xticks(indexes + barwidth * 0.5, labels)\n",
    "plt.show()"
   ]
  },
  {
   "cell_type": "code",
   "execution_count": 36,
   "metadata": {},
   "outputs": [],
   "source": [
    "tfsPos = termFreq(countersPos, sizesPos)"
   ]
  },
  {
   "cell_type": "code",
   "execution_count": 31,
   "metadata": {},
   "outputs": [],
   "source": [
    "counterPos, szPos = docFreq(countersPos)"
   ]
  },
  {
   "cell_type": "code",
   "execution_count": 32,
   "metadata": {},
   "outputs": [
    {
     "name": "stdout",
     "output_type": "stream",
     "text": [
      "12500\n"
     ]
    }
   ],
   "source": [
    "print(szPos)"
   ]
  },
  {
   "cell_type": "code",
   "execution_count": 33,
   "metadata": {},
   "outputs": [],
   "source": [
    "idfPos = invDocFreq(counterPos, szPos)"
   ]
  },
  {
   "cell_type": "code",
   "execution_count": 38,
   "metadata": {},
   "outputs": [],
   "source": [
    "tiPos = tfIdf(tfsPos, idfPos) "
   ]
  },
  {
   "cell_type": "code",
   "execution_count": 73,
   "metadata": {},
   "outputs": [
    {
     "name": "stdout",
     "output_type": "stream",
     "text": [
      "12500\n"
     ]
    },
    {
     "data": {
      "image/png": "[encoded data removed]",
      "text/plain": [
       "<Figure size 1600x480 with 1 Axes>"
      ]
     },
     "metadata": {},
     "output_type": "display_data"
    }
   ],
   "source": [
    "print(len(tiPos)) \n",
    "d = sortByValue(tiPos[0])\n",
    "plt.figure(num=None, figsize=(20, 6), dpi=80, facecolor='w', edgecolor='k')\n",
    "labels, values = list(d.keys())[:20], list(d.values())[:20]\n",
    "indexes = np.arange(len(labels)) \n",
    "plt.bar(indexes, values, barwidth)\n",
    "plt.xticks(indexes + barwidth * 0.5, labels)\n",
    "plt.show()"
   ]
  },
  {
   "cell_type": "code",
   "execution_count": 75,
   "metadata": {},
   "outputs": [
    {
     "data": {
      "text/plain": [
       "[0.015848411737350597,\n",
       " 0.014463614291079025,\n",
       " 0.013406723513478607,\n",
       " 0.013120417764408428,\n",
       " 0.012092057884733848,\n",
       " 0.012073509066607762,\n",
       " 0.01182630314757046,\n",
       " 0.01147825481100264,\n",
       " 0.010482431576478468,\n",
       " 0.009662359080192265,\n",
       " 0.00957989398130832,\n",
       " 0.004923366642841798,\n",
       " 0.0013077902758816477,\n",
       " 0.0,\n",
       " 0.0,\n",
       " 0.0,\n",
       " 0.0,\n",
       " 0.0,\n",
       " 0.0,\n",
       " 0.0]"
      ]
     },
     "execution_count": 75,
     "metadata": {},
     "output_type": "execute_result"
    }
   ],
   "source": [
    "values"
   ]
  },
  {
   "cell_type": "code",
   "execution_count": null,
   "metadata": {},
   "outputs": [],
   "source": [
    "analyzeVerbs"
   ]
  }
 ],
 "metadata": {
  "anaconda-cloud": {},
  "kernelspec": {
   "display_name": "Python 3",
   "language": "python",
   "name": "python3"
  },
  "language_info": {
   "codemirror_mode": {
    "name": "ipython",
    "version": 3
   },
   "file_extension": ".py",
   "mimetype": "text/x-python",
   "name": "python",
   "nbconvert_exporter": "python",
   "pygments_lexer": "ipython3",
   "version": "3.7.4"
  }
 },
 "nbformat": 4,
 "nbformat_minor": 1
}
