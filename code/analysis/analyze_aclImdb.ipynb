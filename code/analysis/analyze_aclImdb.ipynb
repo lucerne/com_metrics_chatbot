{
 "cells": [
  {
   "cell_type": "code",
   "execution_count": 1,
   "metadata": {},
   "outputs": [],
   "source": [
    "%load_ext autoreload\n",
    "%autoreload 2\n",
    "\n",
    "import spacy\n",
    "import numpy as np\n",
    "import matplotlib.pyplot as plt\n",
    "import os\n",
    "import glob\n",
    "import re\n",
    "from collections import Counter\n",
    "import numpy as np\n",
    "import matplotlib.pyplot as plt\n",
    "import json\n",
    "\n",
    "import os\n",
    "import sys\n",
    "module_path = os.path.abspath(os.path.join('..'))\n",
    "if module_path not in sys.path:\n",
    "    sys.path.append(module_path)\n",
    "\n",
    "from analysis_code.analyze_corpus import *"
   ]
  },
  {
   "cell_type": "code",
   "execution_count": 6,
   "metadata": {},
   "outputs": [],
   "source": [
    "plt.rcParams.update({'font.size': 15})\n",
    "barwidth = 0.8"
   ]
  },
  {
   "cell_type": "code",
   "execution_count": 110,
   "metadata": {},
   "outputs": [],
   "source": [
    "# Positive training dataset\n",
    "posTrainDir = '/home/dashi/lulu/corpus/aclImdb/train/pos/'\n",
    "# Negative training dataset\n",
    "negTrainDir = '/home/dashi/lulu/corpus/aclImdb/train/neg/'\n",
    "exampleDir = '/home/dashi/lulu/corpus/aclImdb/sample/'\n",
    "filename = '/home/dashi/lulu/corpus/aclImdb/sample/99_8.txt'\n",
    "# Positive test dataset\n",
    "posTestDir = '/home/dashi/lulu/corpus/aclImdb/test/pos/'\n",
    "# Negative test dataset\n",
    "negTestDir = '/home/dashi/lulu/corpus/aclImdb/test/neg/'\n",
    "# Each line has the following format:\n",
    "# <term>--<NearSynonyms><tab><AffectCategory><tab><AssociationFlag>\n",
    "WordSenseFile = '/home/dashi/lulu/corpus/NRC-Emotion-Lexicon-v0.92/NRC-Emotion-Lexicon-Senselevel-v0.92.txt' \n",
    "# stat file\n",
    "statPosEmosF =  '/home/dashi/lulu/com_metrics_chatbot/code/analysis/statPosEmosF.txt' \n",
    "statNegEmosF =  '/home/dashi/lulu/com_metrics_chatbot/code/analysis/statNegEmosF.txt' "
   ]
  },
  {
   "cell_type": "code",
   "execution_count": 4,
   "metadata": {},
   "outputs": [],
   "source": [
    "nlp = spacy.load('en_core_web_md')"
   ]
  },
  {
   "cell_type": "code",
   "execution_count": 5,
   "metadata": {},
   "outputs": [],
   "source": [
    "emos = loadEmotionWords('/home/dashi/lulu/corpus/NRC-Emotion-Lexicon-v0.92/Generated-EmotionWords.txt')"
   ]
  },
  {
   "cell_type": "code",
   "execution_count": 7,
   "metadata": {},
   "outputs": [
    {
     "name": "stdout",
     "output_type": "stream",
     "text": [
      "Counter({'DET': 3, 'AUX': 2, 'NOUN': 2, 'PUNCT': 2, 'ADJ': 1, 'ADV': 1})\n"
     ]
    }
   ],
   "source": [
    "parsed_text = 'This is an awesome sentence. Where is the cat?'\n",
    "doc = nlp(parsed_text)\n",
    "counter = analyzePOS(doc)\n",
    "print(counter)"
   ]
  },
  {
   "cell_type": "code",
   "execution_count": 4,
   "metadata": {},
   "outputs": [],
   "source": [
    "filename = '/home/dashi/lulu/examples/data/example_out.json'\n",
    "with open(filename, 'w+') as f:\n",
    "    json.dump(counter, f)"
   ]
  },
  {
   "cell_type": "code",
   "execution_count": 5,
   "metadata": {},
   "outputs": [
    {
     "name": "stdout",
     "output_type": "stream",
     "text": [
      "SENTENCE : This is an awesome sentence.\n",
      "SENTENCE : Where is the cat?\n",
      "Counter({5: 1, 6: 1})\n"
     ]
    }
   ],
   "source": [
    "parsed_text = 'This is an awesome sentence. Where is the cat?'\n",
    "doc = nlp(parsed_text)\n",
    "counter = analyzeSentence(doc)\n",
    "print(counter)"
   ]
  },
  {
   "cell_type": "code",
   "execution_count": 6,
   "metadata": {},
   "outputs": [
    {
     "name": "stdout",
     "output_type": "stream",
     "text": [
      "Counter({2: 3, 1: 2, 3: 2, 4: 1, 5: 1, 7: 1, 8: 1})\n"
     ]
    }
   ],
   "source": [
    "parsed_text = 'This is an awesome sentence. Where is the cat?'\n",
    "doc = nlp(parsed_text)\n",
    "counter = analyzeWordLength(doc)\n",
    "print(counter)"
   ]
  },
  {
   "cell_type": "code",
   "execution_count": 7,
   "metadata": {},
   "outputs": [
    {
     "name": "stdout",
     "output_type": "stream",
     "text": [
      "Counter({'?': 1, '.': 1})\n"
     ]
    }
   ],
   "source": [
    "parsed_text = 'This is an awesome sentence. Where is the cat?'\n",
    "doc = nlp(parsed_text)\n",
    "counter = analyzePunctuation(doc)\n",
    "print(counter)"
   ]
  },
  {
   "cell_type": "code",
   "execution_count": 8,
   "metadata": {},
   "outputs": [
    {
     "name": "stdout",
     "output_type": "stream",
     "text": [
      "0.18181818181818182\n"
     ]
    }
   ],
   "source": [
    "parsed_text = 'This is an awesome sentence. Where is the cat?'\n",
    "doc = nlp(parsed_text)\n",
    "counterPos = analyzePOS(doc)\n",
    "counterPunc = analyzePunctuation(doc)\n",
    "print(sumCounter(counterPunc) / sumCounter(counterPos)) "
   ]
  },
  {
   "cell_type": "code",
   "execution_count": 9,
   "metadata": {},
   "outputs": [
    {
     "name": "stdout",
     "output_type": "stream",
     "text": [
      "Counter({'it': 2, 'what': 1, 'who': 1, 'him': 1, 'their': 1, 'my': 1})\n"
     ]
    }
   ],
   "source": [
    "parsed_text = 'This is an awesome sentence. My is better. Their food is worse. It is it. Who is good? What is in him?'\n",
    "doc = nlp(parsed_text)\n",
    "counterPunc = analyzePronoun(doc)\n",
    "print(counterPunc) "
   ]
  },
  {
   "cell_type": "code",
   "execution_count": 10,
   "metadata": {},
   "outputs": [
    {
     "name": "stdout",
     "output_type": "stream",
     "text": [
      "Counter({'it': 2, 'him': 1})\n"
     ]
    }
   ],
   "source": [
    "parsed_text = 'This is an awesome sentence. My is better. Their food is worse. It is it. Who is good? What is in him?'\n",
    "doc = nlp(parsed_text)\n",
    "counterPRP = analyzePronounPRP(doc)\n",
    "print(counterPRP) "
   ]
  },
  {
   "cell_type": "code",
   "execution_count": 11,
   "metadata": {},
   "outputs": [
    {
     "name": "stdout",
     "output_type": "stream",
     "text": [
      "Counter({'their': 1, 'my': 1})\n"
     ]
    }
   ],
   "source": [
    "parsed_text = 'This is an awesome sentence. My is better. Their food is worse. It is it. Who is good? What is in him?'\n",
    "doc = nlp(parsed_text)\n",
    "counterPRPD = analyzePronounPRPD(doc)\n",
    "print(counterPRPD) "
   ]
  },
  {
   "cell_type": "code",
   "execution_count": 12,
   "metadata": {},
   "outputs": [
    {
     "name": "stdout",
     "output_type": "stream",
     "text": [
      "Counter({'what': 1, 'who': 1})\n"
     ]
    }
   ],
   "source": [
    "parsed_text = 'This is an awesome sentence. My is better. Their food is worse. It is it. Who is good? What is in him?'\n",
    "doc = nlp(parsed_text)\n",
    "counterPWP = analyzePronounWP(doc)\n",
    "print(counterPWP) "
   ]
  },
  {
   "cell_type": "code",
   "execution_count": 13,
   "metadata": {},
   "outputs": [
    {
     "name": "stdout",
     "output_type": "stream",
     "text": [
      "Counter()\n"
     ]
    }
   ],
   "source": [
    "parsed_text = 'This is an awesome sentence. My is better. Their food is worse. It is it. Who is good? What is in him?'\n",
    "doc = nlp(parsed_text)\n",
    "counterPWPD = analyzePronounWPD(doc)\n",
    "print(counterPWPD) "
   ]
  },
  {
   "cell_type": "code",
   "execution_count": 14,
   "metadata": {},
   "outputs": [
    {
     "name": "stdout",
     "output_type": "stream",
     "text": [
      "Counter({'PRP': 3, 'PRP$': 2, 'WP': 2})\n"
     ]
    }
   ],
   "source": [
    "parsed_text = 'This is an awesome sentence. My is better. Their food is worse. It is it. Who is good? What is in him?'\n",
    "doc = nlp(parsed_text)\n",
    "counterPCat = analyzePronounCategories(doc)\n",
    "print(counterPCat) "
   ]
  },
  {
   "cell_type": "code",
   "execution_count": 15,
   "metadata": {},
   "outputs": [
    {
     "name": "stdout",
     "output_type": "stream",
     "text": [
      "Counter({'be': 2, 'rain': 1, 'run': 1})\n"
     ]
    }
   ],
   "source": [
    "parsed_text = 'This is an awesome sentence. I am running. It rains.'\n",
    "doc = nlp(parsed_text)\n",
    "counterVerb = analyzeVerb(doc)\n",
    "print(counterVerb) "
   ]
  },
  {
   "cell_type": "code",
   "execution_count": 5,
   "metadata": {},
   "outputs": [
    {
     "data": {
      "text/plain": [
       "Counter({'! good': 1, '! sentence': 1})"
      ]
     },
     "execution_count": 5,
     "metadata": {},
     "output_type": "execute_result"
    }
   ],
   "source": [
    "parsed_text = 'This is not a good sentence. I am running. It rains.'\n",
    "doc = nlp(parsed_text)\n",
    "analyzeEmotionWords(doc, emos)\n",
    "# counterEmo = analyzeEmotionWords(doc, emos)\n",
    "# print(counterEmo) "
   ]
  },
  {
   "cell_type": "code",
   "execution_count": 16,
   "metadata": {},
   "outputs": [
    {
     "data": {
      "image/png": "[encoded data removed]",
      "text/plain": [
       "<matplotlib.figure.Figure at 0x7f637f1da0b8>"
      ]
     },
     "metadata": {},
     "output_type": "display_data"
    }
   ],
   "source": [
    "labels, values = rankCounter(counter)\n",
    "indexes = np.arange(len(labels))\n",
    "width = 1\n",
    "plt.bar(indexes, values, width)\n",
    "plt.xticks(indexes + width * 0.5, labels)\n",
    "plt.show()"
   ]
  },
  {
   "cell_type": "code",
   "execution_count": 17,
   "metadata": {},
   "outputs": [
    {
     "data": {
      "image/png": "[encoded data removed]",
      "text/plain": [
       "<matplotlib.figure.Figure at 0x7f637f1fb128>"
      ]
     },
     "metadata": {},
     "output_type": "display_data"
    }
   ],
   "source": [
    "labels, values = rankCounter(counter)\n",
    "indexes = np.arange(len(labels))\n",
    "width = 1\n",
    "plt.bar(indexes, values, width)\n",
    "plt.xticks(indexes + width * 0.5, labels)\n",
    "plt.show()"
   ]
  },
  {
   "cell_type": "code",
   "execution_count": 18,
   "metadata": {},
   "outputs": [
    {
     "data": {
      "image/png": "[encoded data removed]",
      "text/plain": [
       "<matplotlib.figure.Figure at 0x7f638d82c208>"
      ]
     },
     "metadata": {},
     "output_type": "display_data"
    }
   ],
   "source": [
    "if __name__ == \"__main__\":  \n",
    "    with open(filename, 'r') as f:\n",
    "        text = f.read()\n",
    "        nlp = spacy.load('en_core_web_md')\n",
    "        doc = nlp(text)\n",
    "        counter = analyzePOS(doc)\n",
    "        \n",
    "        plt.figure(num=None, figsize=(20, 6), dpi=80, facecolor='w', edgecolor='k')\n",
    "\n",
    "        labels, values = rankCounter(counter)\n",
    "        indexes = np.arange(len(labels))\n",
    "        width = 1\n",
    "        plt.bar(indexes, values, width)\n",
    "        plt.xticks(indexes + width * 0.5, labels)\n",
    "        plt.show()\n",
    "    f.close()\n",
    "                \n"
   ]
  },
  {
   "cell_type": "code",
   "execution_count": 7,
   "metadata": {},
   "outputs": [
    {
     "name": "stdout",
     "output_type": "stream",
     "text": [
      "i : 0\n",
      "i : 1\n",
      "i : 2\n"
     ]
    },
    {
     "data": {
      "image/png": "[encoded data removed]",
      "text/plain": [
       "<Figure size 1600x480 with 1 Axes>"
      ]
     },
     "metadata": {},
     "output_type": "display_data"
    }
   ],
   "source": [
    "'''\n",
    "POS histogram\n",
    "error: doc input string cannot succeed 1 million characters\n",
    "problem: iterating over text is too slow, parallelize\n",
    "'''\n",
    "\n",
    "# read_files = glob.glob(\"/home/luluvyd/corpus/aclImdb/train/pos/*.txt\")\n",
    "read_files = glob.glob(exampleDir + '*.txt')\n",
    "\n",
    "counter = Counter('')\n",
    "i = 0\n",
    "\n",
    "for infile in read_files:\n",
    "    print('i : ' + str(i))\n",
    "    with open(infile, 'r', errors='replace') as f:\n",
    "        text = f.read()\n",
    "        doc = nlp(text)\n",
    "        counter = analyzePOS(doc)\n",
    "        i += 1\n",
    "        \n",
    "        \n",
    "plt.figure(num=None, figsize=(20, 6), dpi=80, facecolor='w', edgecolor='k')\n",
    "labels, values = rankCounter(counter)\n",
    "indexes = np.arange(len(labels))\n",
    "plt.bar(indexes, values, barwidth)\n",
    "plt.xticks(indexes + barwidth * 0.5, labels)\n",
    "plt.show()"
   ]
  },
  {
   "cell_type": "code",
   "execution_count": 8,
   "metadata": {},
   "outputs": [
    {
     "name": "stdout",
     "output_type": "stream",
     "text": [
      "i : 0\n",
      "i : 1\n",
      "i : 2\n"
     ]
    },
    {
     "data": {
      "image/png": "[encoded data removed]",
      "text/plain": [
       "<Figure size 1600x480 with 1 Axes>"
      ]
     },
     "metadata": {},
     "output_type": "display_data"
    }
   ],
   "source": [
    "'''\n",
    "Sentence length histogram\n",
    "error: doc input string cannot succeed 1 million characters\n",
    "problem: non-edited opinion text can have long and publish unaccepted sentence structures\n",
    "'''\n",
    "\n",
    "# read_files = glob.glob(\"/home/luluvyd/corpus/aclImdb/train/pos/*.txt\")\n",
    "read_files = glob.glob(exampleDir + '*.txt')\n",
    "\n",
    "counter = Counter('')\n",
    "i = 0\n",
    "\n",
    "for infile in read_files:\n",
    "    print('i : ' + str(i))\n",
    "    with open(infile, 'r', errors='replace') as f:\n",
    "        text = f.read()\n",
    "        doc = nlp(text)\n",
    "        counter += analyzeSentence(doc) \n",
    "        i += 1\n",
    "        \n",
    "        \n",
    "plt.figure(num=None, figsize=(20, 6), dpi=80, facecolor='w', edgecolor='k')\n",
    "labels, values = rankCounter(counter)\n",
    "indexes = np.arange(len(labels)) \n",
    "plt.bar(indexes, values, barwidth)\n",
    "plt.xticks(indexes + barwidth * 0.5, labels)\n",
    "plt.show()"
   ]
  },
  {
   "cell_type": "code",
   "execution_count": 11,
   "metadata": {},
   "outputs": [
    {
     "name": "stdout",
     "output_type": "stream",
     "text": [
      "i : 0\n",
      "i : 1\n",
      "i : 2\n",
      "average word lengths is : 4.119211822660098\n"
     ]
    },
    {
     "data": {
      "image/png": "[encoded data removed]",
      "text/plain": [
       "<Figure size 1600x480 with 1 Axes>"
      ]
     },
     "metadata": {},
     "output_type": "display_data"
    }
   ],
   "source": [
    "'''\n",
    "Word lengths histogram \n",
    "error: doc input string cannot succeed 1 million characters\n",
    "'''\n",
    "\n",
    "# read_files = glob.glob(\"/home/luluvyd/corpus/aclImdb/train/pos/*.txt\")\n",
    "read_files = glob.glob(exampleDir + '*.txt')\n",
    "\n",
    "counterWord = Counter('')\n",
    "i = 0\n",
    "\n",
    "for infile in read_files:\n",
    "    print('i : ' + str(i))\n",
    "    with open(infile, 'r', errors='replace') as f:\n",
    "        text = f.read()\n",
    "        doc = nlp(text)\n",
    "        counterWord += analyzeWordLength(doc) \n",
    "        i += 1\n",
    "\n",
    "mean = sum([k*v for k, v in counterWord.items()]) / sumCounter(counterWord)\n",
    "print('average word lengths is : ' + str(mean))\n",
    "\n",
    "plt.figure(num=None, figsize=(20, 6), dpi=80, facecolor='w', edgecolor='k')\n",
    "labels, values = rankCounter(counterWord)\n",
    "indexes = np.arange(len(labels)) \n",
    "plt.bar(indexes, values, barwidth)\n",
    "plt.xticks(indexes + barwidth * 0.5, labels)\n",
    "plt.show()\n",
    " "
   ]
  },
  {
   "cell_type": "code",
   "execution_count": 15,
   "metadata": {},
   "outputs": [
    {
     "name": "stdout",
     "output_type": "stream",
     "text": [
      "i : 0\n",
      "i : 1\n",
      "i : 2\n",
      "percent of puncutation symbol is : 12.413793103448276\n"
     ]
    },
    {
     "data": {
      "image/png": "[encoded data removed]",
      "text/plain": [
       "<Figure size 1600x480 with 1 Axes>"
      ]
     },
     "metadata": {},
     "output_type": "display_data"
    }
   ],
   "source": [
    "'''\n",
    "Punctuation histogram\n",
    "Percentage of punctuation out of total number of words\n",
    "'''\n",
    "\n",
    "# read_files = glob.glob(\"/home/luluvyd/corpus/aclImdb/train/pos/*.txt\")\n",
    "read_files = glob.glob(exampleDir + '*.txt')\n",
    "\n",
    "counterPun = Counter('')\n",
    "i = 0\n",
    "\n",
    "for infile in read_files:\n",
    "    print('i : ' + str(i))\n",
    "    with open(infile, 'r', errors='replace') as f:\n",
    "        text = f.read()\n",
    "        doc = nlp(text)\n",
    "        counterPun += analyzePunctuation(doc) \n",
    "        i += 1\n",
    "pert = sumCounter(counterPun) / sumCounter(counterWord)*100\n",
    "print('percent of puncutation symbol is : ' + str(pert))\n",
    "        \n",
    "plt.figure(num=None, figsize=(20, 6), dpi=80, facecolor='w', edgecolor='k')\n",
    "labels, values = rankCounter(counterPun)\n",
    "indexes = np.arange(len(labels)) \n",
    "plt.bar(indexes[:10], values[:10], barwidth)\n",
    "plt.xticks(indexes[:10] + barwidth * 0.5, labels[:10])\n",
    "plt.show()"
   ]
  },
  {
   "cell_type": "code",
   "execution_count": 16,
   "metadata": {},
   "outputs": [],
   "source": [
    "'''\n",
    "Pronoun histogram\n",
    "Percentage of punctuation out of total number of words\n",
    "'''\n",
    "read_files = glob.glob(posTrainDir + '*.txt')\n",
    "counterPron = Counter('') \n",
    "\n",
    "for infile in read_files: \n",
    "    with open(infile, 'r', errors='replace') as f:\n",
    "        text = f.read()\n",
    "        doc = nlp(text)\n",
    "        counterPron += analyzePronoun(doc)  \n"
   ]
  },
  {
   "cell_type": "code",
   "execution_count": 21,
   "metadata": {},
   "outputs": [
    {
     "data": {
      "image/png": "[encoded data removed]",
      "text/plain": [
       "<Figure size 1600x480 with 1 Axes>"
      ]
     },
     "metadata": {},
     "output_type": "display_data"
    }
   ],
   "source": [
    "plt.figure(num=None, figsize=(20, 6), dpi=80, facecolor='w', edgecolor='k')\n",
    "labels, values = rankCounter(counterPron)\n",
    "values = np.array(values)*1.0/sum(counterPron.values())\n",
    "indexes = np.arange(len(labels)) \n",
    "plt.bar(indexes, values, barwidth)\n",
    "plt.xticks(indexes + barwidth * 0.5, labels)\n",
    "plt.savefig('acl_pos_pron.eps', format='eps')\n",
    "plt.show() "
   ]
  },
  {
   "cell_type": "code",
   "execution_count": 22,
   "metadata": {
    "scrolled": true
   },
   "outputs": [
    {
     "data": {
      "image/png": "[encoded data removed]",
      "text/plain": [
       "<Figure size 1600x480 with 1 Axes>"
      ]
     },
     "metadata": {},
     "output_type": "display_data"
    }
   ],
   "source": [
    "N = len(read_files)\n",
    "counterPosPronIdf = invDocFreq(counterPron, N)\n",
    "plt.figure(num=None, figsize=(20, 6), dpi=80, facecolor='w', edgecolor='k')\n",
    "result = {k: v for k, v in sorted(counterPosPronIdf.items(), key=lambda item: item[1])}\n",
    "labels = list(result.keys())[:20]\n",
    "values = list(result.values())[:20]\n",
    "indexes = np.arange(len(labels)) \n",
    "plt.bar(indexes, values, barwidth)\n",
    "plt.xticks(indexes + barwidth * 0.5, labels)\n",
    "plt.savefig('acl_pos_pron_idf.eps', format='eps')\n",
    "plt.show()"
   ]
  },
  {
   "cell_type": "code",
   "execution_count": 23,
   "metadata": {},
   "outputs": [],
   "source": [
    "'''\n",
    "Pronoun histogram\n",
    "Percentage of punctuation out of total number of words\n",
    "'''\n",
    "read_files = glob.glob(negTrainDir + '*.txt')\n",
    "counterNegPron = Counter('') \n",
    "\n",
    "for infile in read_files: \n",
    "    with open(infile, 'r', errors='replace') as f:\n",
    "        text = f.read()\n",
    "        doc = nlp(text)\n",
    "        counterNegPron += analyzePronoun(doc)  "
   ]
  },
  {
   "cell_type": "code",
   "execution_count": 24,
   "metadata": {},
   "outputs": [
    {
     "data": {
      "image/png": "[encoded data removed]",
      "text/plain": [
       "<Figure size 1600x480 with 1 Axes>"
      ]
     },
     "metadata": {},
     "output_type": "display_data"
    }
   ],
   "source": [
    "plt.figure(num=None, figsize=(20, 6), dpi=80, facecolor='w', edgecolor='k')\n",
    "labels, values = rankCounter(counterNegPron)\n",
    "values = np.array(values)*1.0/sum(counterNegPron.values())\n",
    "indexes = np.arange(len(labels)) \n",
    "plt.bar(indexes, values, barwidth)\n",
    "plt.xticks(indexes + barwidth * 0.5, labels)\n",
    "plt.savefig('acl_neg_pron_df.eps', format='eps')\n",
    "plt.show()"
   ]
  },
  {
   "cell_type": "code",
   "execution_count": 25,
   "metadata": {},
   "outputs": [
    {
     "data": {
      "image/png": "[encoded data removed]",
      "text/plain": [
       "<Figure size 1600x480 with 1 Axes>"
      ]
     },
     "metadata": {},
     "output_type": "display_data"
    }
   ],
   "source": [
    "N = len(read_files)\n",
    "counterNegPronIdf = invDocFreq(counterNegPron, N)\n",
    "plt.figure(num=None, figsize=(20, 6), dpi=80, facecolor='w', edgecolor='k')\n",
    "result = {k: v for k, v in sorted(counterNegPronIdf.items(), key=lambda item: item[1])}\n",
    "labels = list(result.keys())[:20]\n",
    "values = list(result.values())[:20]\n",
    "indexes = np.arange(len(labels)) \n",
    "plt.bar(indexes, values, barwidth)\n",
    "plt.xticks(indexes + barwidth * 0.5, labels)\n",
    "plt.savefig('acl_neg_pron_idf.eps', format='eps')\n",
    "plt.show()"
   ]
  },
  {
   "cell_type": "code",
   "execution_count": 26,
   "metadata": {},
   "outputs": [
    {
     "ename": "KeyboardInterrupt",
     "evalue": "",
     "output_type": "error",
     "traceback": [
      "\u001b[0;31m---------------------------------------------------------------------------\u001b[0m",
      "\u001b[0;31mKeyboardInterrupt\u001b[0m                         Traceback (most recent call last)",
      "\u001b[0;32m<ipython-input-26-895fb4c0a5fa>\u001b[0m in \u001b[0;36m<module>\u001b[0;34m\u001b[0m\n\u001b[1;32m      9\u001b[0m     \u001b[0;32mwith\u001b[0m \u001b[0mopen\u001b[0m\u001b[0;34m(\u001b[0m\u001b[0minfile\u001b[0m\u001b[0;34m,\u001b[0m \u001b[0;34m'r'\u001b[0m\u001b[0;34m,\u001b[0m \u001b[0merrors\u001b[0m\u001b[0;34m=\u001b[0m\u001b[0;34m'replace'\u001b[0m\u001b[0;34m)\u001b[0m \u001b[0;32mas\u001b[0m \u001b[0mf\u001b[0m\u001b[0;34m:\u001b[0m\u001b[0;34m\u001b[0m\u001b[0;34m\u001b[0m\u001b[0m\n\u001b[1;32m     10\u001b[0m         \u001b[0mtext\u001b[0m \u001b[0;34m=\u001b[0m \u001b[0mf\u001b[0m\u001b[0;34m.\u001b[0m\u001b[0mread\u001b[0m\u001b[0;34m(\u001b[0m\u001b[0;34m)\u001b[0m\u001b[0;34m\u001b[0m\u001b[0;34m\u001b[0m\u001b[0m\n\u001b[0;32m---> 11\u001b[0;31m         \u001b[0mdoc\u001b[0m \u001b[0;34m=\u001b[0m \u001b[0mnlp\u001b[0m\u001b[0;34m(\u001b[0m\u001b[0mtext\u001b[0m\u001b[0;34m)\u001b[0m\u001b[0;34m\u001b[0m\u001b[0;34m\u001b[0m\u001b[0m\n\u001b[0m\u001b[1;32m     12\u001b[0m         \u001b[0mcounterPron\u001b[0m \u001b[0;34m+=\u001b[0m \u001b[0manalyzePronoun\u001b[0m\u001b[0;34m(\u001b[0m\u001b[0mdoc\u001b[0m\u001b[0;34m)\u001b[0m\u001b[0;34m\u001b[0m\u001b[0;34m\u001b[0m\u001b[0m\n\u001b[1;32m     13\u001b[0m \u001b[0;34m\u001b[0m\u001b[0m\n",
      "\u001b[0;32m~/anaconda3/lib/python3.7/site-packages/spacy/language.py\u001b[0m in \u001b[0;36m__call__\u001b[0;34m(self, text, disable, component_cfg)\u001b[0m\n\u001b[1;32m    433\u001b[0m             \u001b[0;32mif\u001b[0m \u001b[0;32mnot\u001b[0m \u001b[0mhasattr\u001b[0m\u001b[0;34m(\u001b[0m\u001b[0mproc\u001b[0m\u001b[0;34m,\u001b[0m \u001b[0;34m\"__call__\"\u001b[0m\u001b[0;34m)\u001b[0m\u001b[0;34m:\u001b[0m\u001b[0;34m\u001b[0m\u001b[0;34m\u001b[0m\u001b[0m\n\u001b[1;32m    434\u001b[0m                 \u001b[0;32mraise\u001b[0m \u001b[0mValueError\u001b[0m\u001b[0;34m(\u001b[0m\u001b[0mErrors\u001b[0m\u001b[0;34m.\u001b[0m\u001b[0mE003\u001b[0m\u001b[0;34m.\u001b[0m\u001b[0mformat\u001b[0m\u001b[0;34m(\u001b[0m\u001b[0mcomponent\u001b[0m\u001b[0;34m=\u001b[0m\u001b[0mtype\u001b[0m\u001b[0;34m(\u001b[0m\u001b[0mproc\u001b[0m\u001b[0;34m)\u001b[0m\u001b[0;34m,\u001b[0m \u001b[0mname\u001b[0m\u001b[0;34m=\u001b[0m\u001b[0mname\u001b[0m\u001b[0;34m)\u001b[0m\u001b[0;34m)\u001b[0m\u001b[0;34m\u001b[0m\u001b[0;34m\u001b[0m\u001b[0m\n\u001b[0;32m--> 435\u001b[0;31m             \u001b[0mdoc\u001b[0m \u001b[0;34m=\u001b[0m \u001b[0mproc\u001b[0m\u001b[0;34m(\u001b[0m\u001b[0mdoc\u001b[0m\u001b[0;34m,\u001b[0m \u001b[0;34m**\u001b[0m\u001b[0mcomponent_cfg\u001b[0m\u001b[0;34m.\u001b[0m\u001b[0mget\u001b[0m\u001b[0;34m(\u001b[0m\u001b[0mname\u001b[0m\u001b[0;34m,\u001b[0m \u001b[0;34m{\u001b[0m\u001b[0;34m}\u001b[0m\u001b[0;34m)\u001b[0m\u001b[0;34m)\u001b[0m\u001b[0;34m\u001b[0m\u001b[0;34m\u001b[0m\u001b[0m\n\u001b[0m\u001b[1;32m    436\u001b[0m             \u001b[0;32mif\u001b[0m \u001b[0mdoc\u001b[0m \u001b[0;32mis\u001b[0m \u001b[0;32mNone\u001b[0m\u001b[0;34m:\u001b[0m\u001b[0;34m\u001b[0m\u001b[0;34m\u001b[0m\u001b[0m\n\u001b[1;32m    437\u001b[0m                 \u001b[0;32mraise\u001b[0m \u001b[0mValueError\u001b[0m\u001b[0;34m(\u001b[0m\u001b[0mErrors\u001b[0m\u001b[0;34m.\u001b[0m\u001b[0mE005\u001b[0m\u001b[0;34m.\u001b[0m\u001b[0mformat\u001b[0m\u001b[0;34m(\u001b[0m\u001b[0mname\u001b[0m\u001b[0;34m=\u001b[0m\u001b[0mname\u001b[0m\u001b[0;34m)\u001b[0m\u001b[0;34m)\u001b[0m\u001b[0;34m\u001b[0m\u001b[0;34m\u001b[0m\u001b[0m\n",
      "\u001b[0;31mKeyboardInterrupt\u001b[0m: "
     ]
    }
   ],
   "source": [
    "'''\n",
    "Pronoun histogram\n",
    "Percentage of punctuation out of total number of words\n",
    "'''\n",
    "read_files = glob.glob(negTrainDir + '*.txt')\n",
    "counterPron = Counter('') \n",
    "\n",
    "for infile in read_files: \n",
    "    with open(infile, 'r', errors='replace') as f:\n",
    "        text = f.read()\n",
    "        doc = nlp(text)\n",
    "        counterPron += analyzePronoun(doc)  \n",
    "\n",
    "plt.figure(num=None, figsize=(20, 6), dpi=80, facecolor='w', edgecolor='k')\n",
    "labels, values = rankCounter(counterPron)\n",
    "indexes = np.arange(len(labels)) \n",
    "plt.bar(indexes, values, barwidth)\n",
    "plt.xticks(indexes + barwidth * 0.5, labels)\n",
    "plt.show()"
   ]
  },
  {
   "cell_type": "code",
   "execution_count": 26,
   "metadata": {},
   "outputs": [
    {
     "name": "stdout",
     "output_type": "stream",
     "text": [
      "i : 0\n",
      "i : 1\n",
      "i : 2\n",
      "Counter({'it': 12, 'i': 6, 'you': 5, 'his': 5, 'their': 5, 'who': 4, 'he': 3, 'her': 3, 'they': 3, 'them': 2, 'my': 2, 'we': 2, 'themselves': 1, 'its': 1, 'myself': 1, 'what': 1, 'she': 1})\n"
     ]
    },
    {
     "data": {
      "image/png": "[encoded data removed]",
      "text/plain": [
       "<matplotlib.figure.Figure at 0x7f637ed47940>"
      ]
     },
     "metadata": {},
     "output_type": "display_data"
    }
   ],
   "source": [
    "'''\n",
    "Pronoun, personal histogram\n",
    "Percentage of punctuation out of total number of words\n",
    "'''\n",
    "read_files = glob.glob(posTrainDir + '*.txt')\n",
    "counterPronPRP = Counter('') \n",
    "\n",
    "for infile in read_files: \n",
    "    with open(infile, 'r', errors='replace') as f:\n",
    "        text = f.read()\n",
    "        doc = nlp(text)\n",
    "        counterPronPRP += analyzePronounPRP(doc)  \n",
    "        \n",
    "plt.figure(num=None, figsize=(20, 6), dpi=80, facecolor='w', edgecolor='k')\n",
    "labels, values = rankCounter(counterPronPRP)\n",
    "indexes = np.arange(len(labels)) \n",
    "plt.bar(indexes, values, barwidth)\n",
    "plt.xticks(indexes + barwidth * 0.5, labels)\n",
    "plt.show()"
   ]
  },
  {
   "cell_type": "code",
   "execution_count": 27,
   "metadata": {},
   "outputs": [
    {
     "name": "stdout",
     "output_type": "stream",
     "text": [
      "i : 0\n",
      "i : 1\n",
      "i : 2\n",
      "Counter({'their': 5, 'his': 5, 'my': 2, 'her': 1, 'its': 1})\n"
     ]
    },
    {
     "data": {
      "image/png": "[encoded data removed]",
      "text/plain": [
       "<matplotlib.figure.Figure at 0x7f638b167da0>"
      ]
     },
     "metadata": {},
     "output_type": "display_data"
    }
   ],
   "source": [
    "'''\n",
    "pronoun, possessive histogram\n",
    "Percentage of punctuation out of total number of words\n",
    "'''\n",
    "read_files = glob.glob(directory + '*.txt')\n",
    "counterPronPRPD = Counter('') \n",
    "\n",
    "for infile in read_files: \n",
    "    with open(infile, 'r', errors='replace') as f:\n",
    "        text = f.read()\n",
    "        doc = nlp(text)\n",
    "        counterPronPRPD += analyzePronounPRPD(doc)  \n",
    "     \n",
    "plt.figure(num=None, figsize=(20, 6), dpi=80, facecolor='w', edgecolor='k')\n",
    "labels, values = rankCounter(counterPronPRPD)\n",
    "indexes = np.arange(len(labels))\n",
    "width = 1\n",
    "plt.bar(indexes, values, width)\n",
    "plt.xticks(indexes + width * 0.5, labels)\n",
    "plt.show()"
   ]
  },
  {
   "cell_type": "code",
   "execution_count": 28,
   "metadata": {},
   "outputs": [
    {
     "name": "stdout",
     "output_type": "stream",
     "text": [
      "i : 0\n",
      "i : 1\n",
      "i : 2\n",
      "Counter({'who': 4, 'what': 1})\n"
     ]
    },
    {
     "data": {
      "image/png": "[encoded data removed]",
      "text/plain": [
       "<matplotlib.figure.Figure at 0x7f638b1786d8>"
      ]
     },
     "metadata": {},
     "output_type": "display_data"
    }
   ],
   "source": [
    "'''\n",
    "pronoun, possessive histogram\n",
    "Percentage of punctuation out of total number of words\n",
    "'''\n",
    "read_files = glob.glob(exampleDir + '*.txt')\n",
    "\n",
    "counterPronWP = Counter('')\n",
    "i = 0\n",
    "\n",
    "for infile in read_files:\n",
    "    print('i : ' + str(i))\n",
    "    with open(infile, 'r', errors='replace') as f:\n",
    "        text = f.read()\n",
    "        doc = nlp(text)\n",
    "        counterPronWP += analyzePronounWP(doc) \n",
    "        i += 1\n",
    "    \n",
    "print(counterPronWP)\n",
    "plt.figure(num=None, figsize=(20, 6), dpi=80, facecolor='w', edgecolor='k')\n",
    "labels, values = rankCounter(counterPronWP)\n",
    "indexes = np.arange(len(labels))\n",
    "width = 1\n",
    "plt.bar(indexes, values, width)\n",
    "plt.xticks(indexes + width * 0.5, labels) \n",
    "plt.show()"
   ]
  },
  {
   "cell_type": "code",
   "execution_count": 29,
   "metadata": {},
   "outputs": [
    {
     "name": "stdout",
     "output_type": "stream",
     "text": [
      "i : 0\n",
      "i : 1\n",
      "i : 2\n",
      "Counter()\n"
     ]
    }
   ],
   "source": [
    "'''\n",
    "wh-pronoun, possessive histogram\n",
    "Percentage of punctuation out of total number of words\n",
    "'''\n",
    "read_files = glob.glob(directory + '*.txt')\n",
    "\n",
    "counterPronWPD = Counter('')\n",
    "i = 0\n",
    "\n",
    "for infile in read_files:\n",
    "    print('i : ' + str(i))\n",
    "    with open(infile, 'r', errors='replace') as f:\n",
    "        text = f.read()\n",
    "        doc = nlp(text)\n",
    "        counterPronWPD += analyzePronounWPD(doc) \n",
    "        i += 1\n",
    "    \n",
    "print(counterPronWPD)\n",
    "plt.figure(num=None, figsize=(20, 6), dpi=80, facecolor='w', edgecolor='k')\n",
    "labels, values = rankCounter(counterPronWPD)\n",
    "if labels and values:\n",
    "    indexes = np.arange(len(labels))\n",
    "    width = 1\n",
    "    plt.bar(indexes, values, width)\n",
    "    plt.xticks(indexes + width * 0.5, labels)\n",
    "    plt.show()"
   ]
  },
  {
   "cell_type": "code",
   "execution_count": null,
   "metadata": {},
   "outputs": [],
   "source": [
    "'''\n",
    "4 pronoun categories histogram\n",
    "Percentage of punctuation out of total number of words\n",
    "'''\n",
    "read_files = glob.glob(examlpeDir + '*.txt')\n",
    "\n",
    "counterPronCat = Counter('')\n",
    "i = 0\n",
    "\n",
    "for infile in read_files:\n",
    "    print('i : ' + str(i))\n",
    "    with open(infile, 'r', errors='replace') as f:\n",
    "        text = f.read()\n",
    "        doc = nlp(text)\n",
    "        counterPronCat += analyzePronounCategories(doc) \n",
    "        i += 1\n",
    "    \n",
    "print(counterPronCat)\n",
    "plt.figure(num=None, figsize=(20, 6), dpi=80, facecolor='w', edgecolor='k')\n",
    "labels, values = rankCounter(counterPronCat)\n",
    "indexes = np.arange(len(labels)) \n",
    "plt.bar(indexes, values, barwidth)\n",
    "plt.xticks(indexes + barwidth * 0.5, labels)\n",
    "plt.savefig('acl_example_proncat.eps', format='eps')\n",
    "plt.show()"
   ]
  },
  {
   "cell_type": "code",
   "execution_count": 31,
   "metadata": {},
   "outputs": [
    {
     "name": "stdout",
     "output_type": "stream",
     "text": [
      "i : 0\n",
      "i : 1\n",
      "i : 2\n",
      "Counter({'be': 32, 'have': 12, 'do': 6, 'get': 5, 'take': 4, 'seem': 2, 'make': 2, 'look': 2, 'age': 2, 'will': 2, 'track': 2, 'see': 2, 'guess': 2, 'come': 2, 'turn': 2, 'find': 1, 'assassinate': 1, 'keep': 1, 'share': 1, 'satisfy': 1, 'mean': 1, 'fly': 1, 'train': 1, 'entertain': 1, 'become': 1, 'prefer': 1, 'deserve': 1, 'cover': 1, 'run': 1, 'wait': 1, 'swallow': 1, 'raise': 1, 'believe': 1, 'lay': 1, 'relegate': 1, 'implicate': 1, 'put': 1, 'move': 1, 'could': 1, 'watch': 1, 'rely': 1, 'tone': 1, 'listen': 1, 'feature': 1, 'shake': 1, 'resemble': 1, 'lept': 1, 'know': 1, 'end': 1, 'tell': 1, 'sing': 1, 'can': 1, 'follow': 1, 'face': 1, 'ala': 1, 'compare': 1, 'hunt': 1, 'ensue': 1, 'compromise': 1, 'verge': 1, 'fame': 1, 'outwit': 1, 'include': 1, 'suffer': 1, 'boil': 1})\n"
     ]
    },
    {
     "data": {
      "image/png": "[encoded data removed]",
      "text/plain": [
       "<matplotlib.figure.Figure at 0x7f638544b668>"
      ]
     },
     "metadata": {},
     "output_type": "display_data"
    }
   ],
   "source": [
    "'''\n",
    "Verb root words histogram\n",
    "'''\n",
    "read_files = glob.glob(directory + '*.txt')\n",
    "\n",
    "counterVerbRoot = Counter('')\n",
    "i = 0\n",
    "\n",
    "for infile in read_files:\n",
    "    print('i : ' + str(i))\n",
    "    with open(infile, 'r', errors='replace') as f:\n",
    "        text = f.read()\n",
    "        doc = nlp(text)\n",
    "        counterVerbRoot += analyzeVerb(doc) \n",
    "        i += 1\n",
    "    \n",
    "print(counterVerbRoot)\n",
    "plt.figure(num=None, figsize=(20, 6), dpi=80, facecolor='w', edgecolor='k')\n",
    "labels, values = rankCounter(counterVerbRoot)\n",
    "indexes = np.arange(len(labels))\n",
    "width = 1\n",
    "plt.bar(indexes, values, width)\n",
    "plt.xticks(indexes + width * 0.5, labels)\n",
    "plt.show()"
   ]
  },
  {
   "cell_type": "code",
   "execution_count": 27,
   "metadata": {},
   "outputs": [
    {
     "ename": "NameError",
     "evalue": "name 'CounterAct' is not defined",
     "output_type": "error",
     "traceback": [
      "\u001b[0;31m---------------------------------------------------------------------------\u001b[0m",
      "\u001b[0;31mNameError\u001b[0m                                 Traceback (most recent call last)",
      "\u001b[0;32m<ipython-input-27-56d59b3fbec4>\u001b[0m in \u001b[0;36m<module>\u001b[0;34m\u001b[0m\n\u001b[1;32m     31\u001b[0m \u001b[0;34m\u001b[0m\u001b[0m\n\u001b[1;32m     32\u001b[0m \u001b[0mplt\u001b[0m\u001b[0;34m.\u001b[0m\u001b[0mfigure\u001b[0m\u001b[0;34m(\u001b[0m\u001b[0mnum\u001b[0m\u001b[0;34m=\u001b[0m\u001b[0;32mNone\u001b[0m\u001b[0;34m,\u001b[0m \u001b[0mfigsize\u001b[0m\u001b[0;34m=\u001b[0m\u001b[0;34m(\u001b[0m\u001b[0;36m20\u001b[0m\u001b[0;34m,\u001b[0m \u001b[0;36m6\u001b[0m\u001b[0;34m)\u001b[0m\u001b[0;34m,\u001b[0m \u001b[0mdpi\u001b[0m\u001b[0;34m=\u001b[0m\u001b[0;36m80\u001b[0m\u001b[0;34m,\u001b[0m \u001b[0mfacecolor\u001b[0m\u001b[0;34m=\u001b[0m\u001b[0;34m'w'\u001b[0m\u001b[0;34m,\u001b[0m \u001b[0medgecolor\u001b[0m\u001b[0;34m=\u001b[0m\u001b[0;34m'k'\u001b[0m\u001b[0;34m)\u001b[0m\u001b[0;34m\u001b[0m\u001b[0;34m\u001b[0m\u001b[0m\n\u001b[0;32m---> 33\u001b[0;31m \u001b[0mlabels\u001b[0m\u001b[0;34m,\u001b[0m \u001b[0mvalues\u001b[0m \u001b[0;34m=\u001b[0m \u001b[0mrankCounter\u001b[0m\u001b[0;34m(\u001b[0m\u001b[0mCounterAct\u001b[0m\u001b[0;34m[\u001b[0m\u001b[0;36m0\u001b[0m\u001b[0;34m]\u001b[0m\u001b[0;34m)\u001b[0m\u001b[0;34m\u001b[0m\u001b[0;34m\u001b[0m\u001b[0m\n\u001b[0m\u001b[1;32m     34\u001b[0m \u001b[0mindexes\u001b[0m \u001b[0;34m=\u001b[0m \u001b[0mnp\u001b[0m\u001b[0;34m.\u001b[0m\u001b[0marange\u001b[0m\u001b[0;34m(\u001b[0m\u001b[0mlen\u001b[0m\u001b[0;34m(\u001b[0m\u001b[0mlabels\u001b[0m\u001b[0;34m)\u001b[0m\u001b[0;34m)\u001b[0m\u001b[0;34m\u001b[0m\u001b[0;34m\u001b[0m\u001b[0m\n\u001b[1;32m     35\u001b[0m \u001b[0mwidth\u001b[0m \u001b[0;34m=\u001b[0m \u001b[0;36m1\u001b[0m\u001b[0;34m\u001b[0m\u001b[0;34m\u001b[0m\u001b[0m\n",
      "\u001b[0;31mNameError\u001b[0m: name 'CounterAct' is not defined"
     ]
    },
    {
     "data": {
      "text/plain": [
       "<Figure size 1600x480 with 0 Axes>"
      ]
     },
     "metadata": {},
     "output_type": "display_data"
    }
   ],
   "source": [
    "'''\n",
    "Verb category histogram\n",
    "'''\n",
    "read_files = glob.glob(posTrainDir + '*.txt')\n",
    "\n",
    "i = 0\n",
    "countersPosAct = []\n",
    "countersPosLink = []\n",
    "countersPosHelp = [] \n",
    "countersPosHM = []\n",
    "\n",
    "szPosAct = []\n",
    "szPosLink = []\n",
    "szPosHelp = []\n",
    "szPosHM = []\n",
    "\n",
    "for infile in read_files:\n",
    "    with open(infile, 'r', errors='replace') as f:\n",
    "        text = f.read()\n",
    "        doc = nlp(text)\n",
    "        a, b, c, d = analyzeVerbs(doc) \n",
    "        countersPosAct.append(a)\n",
    "        countersPosLink.append(b) \n",
    "        countersPosHelp.append(c) \n",
    "        countersPosHM.append(d) \n",
    "        \n",
    "        szPosAct.append(sum(a.values()))\n",
    "        szPosLink.append(sum(b.values()))\n",
    "        szPosHelp.append(sum(c.values()))\n",
    "        szPosHM.append(sum(d.values()))\n",
    "        \n",
    "plt.figure(num=None, figsize=(20, 6), dpi=80, facecolor='w', edgecolor='k')\n",
    "labels, values = rankCounter(CounterAct[0])\n",
    "indexes = np.arange(len(labels))\n",
    "width = 1\n",
    "plt.bar(indexes, values, width)\n",
    "plt.xticks(indexes + width * 0.5, labels)\n",
    "plt.show()\n",
    "\n",
    "plt.figure(num=None, figsize=(20, 6), dpi=80, facecolor='w', edgecolor='k')\n",
    "labels, values = rankCounter(CounterLink[0])\n",
    "indexes = np.arange(len(labels))\n",
    "width = 1\n",
    "plt.bar(indexes, values, width)\n",
    "plt.xticks(indexes + width * 0.5, labels)\n",
    "plt.show()\n",
    "\n",
    "plt.figure(num=None, figsize=(20, 6), dpi=80, facecolor='w', edgecolor='k')\n",
    "labels, values = rankCounter(CounterHelp[0])\n",
    "indexes = np.arange(len(labels))\n",
    "width = 1\n",
    "plt.bar(indexes, values, width)\n",
    "plt.xticks(indexes + width * 0.5, labels)\n",
    "plt.show()"
   ]
  },
  {
   "cell_type": "code",
   "execution_count": 35,
   "metadata": {},
   "outputs": [
    {
     "data": {
      "image/png": "[encoded data removed]",
      "text/plain": [
       "<Figure size 320x240 with 1 Axes>"
      ]
     },
     "metadata": {},
     "output_type": "display_data"
    }
   ],
   "source": [
    "x = np.array([sum(np.array(szPosAct)), sum(np.array(szPosLink)), sum(np.array(szPosHelp))])\n",
    "# values = x\n",
    "values = x*1.0/sum(x)\n",
    "labels = [\"action\", \"linking\", \"helping\"]\n",
    "indexes = np.arange(len(labels))\n",
    "plt.figure(num=None, figsize=(4, 3), dpi=80, facecolor='w', edgecolor='k') \n",
    "plt.bar(indexes, values, barwidth)\n",
    "plt.xticks(indexes + barwidth * 0.1, labels)\n",
    "plt.savefig('acl_pos_verbcat_pc.eps', format='eps')\n",
    "plt.show()"
   ]
  },
  {
   "cell_type": "code",
   "execution_count": 36,
   "metadata": {},
   "outputs": [
    {
     "name": "stdout",
     "output_type": "stream",
     "text": [
      "[0.5670053  0.29729042 0.13570428]\n"
     ]
    }
   ],
   "source": [
    "print(values)"
   ]
  },
  {
   "cell_type": "code",
   "execution_count": 31,
   "metadata": {},
   "outputs": [
    {
     "data": {
      "image/png": "[encoded data removed]",
      "text/plain": [
       "<Figure size 320x240 with 1 Axes>"
      ]
     },
     "metadata": {},
     "output_type": "display_data"
    }
   ],
   "source": [
    "x = np.array([sum(np.array(szPosAct)), sum(np.array(szPosLink)), sum(np.array(szPosHelp))])\n",
    "values = x\n",
    "# values = x*1.0/sum(x)\n",
    "labels = [\"action\", \"linking\", \"helping\"]\n",
    "indexes = np.arange(len(labels))\n",
    "plt.figure(num=None, figsize=(4, 3), dpi=80, facecolor='w', edgecolor='k') \n",
    "plt.bar(indexes, values, barwidth)\n",
    "plt.xticks(indexes + barwidth * 0.1, labels)\n",
    "plt.savefig('acl_pos_verbcat_ct.eps', format='eps')\n",
    "plt.show()"
   ]
  },
  {
   "cell_type": "code",
   "execution_count": 32,
   "metadata": {},
   "outputs": [],
   "source": [
    "'''\n",
    "Verb category histogram\n",
    "'''\n",
    "read_files = glob.glob(negTrainDir + '*.txt')\n",
    "\n",
    "i = 0\n",
    "countersNegAct = []\n",
    "countersNegLink = []\n",
    "countersNegHelp = [] \n",
    "countersNegHM = []\n",
    "\n",
    "szNegAct = []\n",
    "szNegLink = []\n",
    "szNegHelp = []\n",
    "szNegHM = []\n",
    "\n",
    "for infile in read_files:\n",
    "    with open(infile, 'r', errors='replace') as f:\n",
    "        text = f.read()\n",
    "        doc = nlp(text)\n",
    "        a, b, c, d = analyzeVerbs(doc) \n",
    "        countersNegAct.append(a)\n",
    "        countersNegLink.append(b) \n",
    "        countersNegHelp.append(c) \n",
    "        countersNegHM.append(d) \n",
    "        \n",
    "        szNegAct.append(sum(a.values()))\n",
    "        szNegLink.append(sum(b.values()))\n",
    "        szNegHelp.append(sum(c.values()))\n",
    "        szNegHM.append(sum(d.values()))"
   ]
  },
  {
   "cell_type": "code",
   "execution_count": 140,
   "metadata": {},
   "outputs": [
    {
     "name": "stdout",
     "output_type": "stream",
     "text": [
      "196599\n",
      "106061\n",
      "49452\n"
     ]
    }
   ],
   "source": [
    "print(sum(np.array(szNegAct)))\n",
    "print(sum(np.array(szNegLink)))\n",
    "print(sum(np.array(szNegHelp)))"
   ]
  },
  {
   "cell_type": "code",
   "execution_count": 97,
   "metadata": {},
   "outputs": [
    {
     "name": "stdout",
     "output_type": "stream",
     "text": [
      "Counter()\n"
     ]
    }
   ],
   "source": [
    "print(countersNegHelp[0])"
   ]
  },
  {
   "cell_type": "code",
   "execution_count": 33,
   "metadata": {},
   "outputs": [
    {
     "data": {
      "image/png": "[encoded data removed]",
      "text/plain": [
       "<Figure size 320x240 with 1 Axes>"
      ]
     },
     "metadata": {},
     "output_type": "display_data"
    }
   ],
   "source": [
    "x = np.array([sum(np.array(szNegAct)), sum(np.array(szNegLink)), sum(np.array(szNegHelp))])\n",
    "# values = x\n",
    "values = x*1.0/sum(x)\n",
    "labels = [\"action\", \"linking\", \"helping\"]\n",
    "indexes = np.arange(len(labels))\n",
    "plt.figure(num=None, figsize=(4, 3), dpi=80, facecolor='w', edgecolor='k') \n",
    "plt.bar(indexes, values, barwidth)\n",
    "plt.xticks(indexes + barwidth * 0.1, labels)\n",
    "plt.savefig('acl_neg_verbcat_pc.eps', format='eps')\n",
    "plt.show()"
   ]
  },
  {
   "cell_type": "code",
   "execution_count": 34,
   "metadata": {},
   "outputs": [
    {
     "name": "stdout",
     "output_type": "stream",
     "text": [
      "[0.55834223 0.30121382 0.14044395]\n"
     ]
    }
   ],
   "source": [
    "print(values)"
   ]
  },
  {
   "cell_type": "code",
   "execution_count": 161,
   "metadata": {},
   "outputs": [],
   "source": [
    "x = np.array([sum(abs(np.array(szNegAct)-np.array(szPosAct))), sum(abs(np.array(szNegLink)-np.array(szPosLink))), sum(abs(np.array(szNegHelp)-np.array(szPosHelp)))])"
   ]
  },
  {
   "cell_type": "code",
   "execution_count": 37,
   "metadata": {},
   "outputs": [
    {
     "data": {
      "image/png": "[encoded data removed]",
      "text/plain": [
       "<Figure size 320x240 with 1 Axes>"
      ]
     },
     "metadata": {},
     "output_type": "display_data"
    }
   ],
   "source": [
    "x = np.array([sum(abs(np.array(szNegAct)-np.array(szPosAct))), sum(abs(np.array(szNegLink)-np.array(szPosLink))), sum(abs(np.array(szNegHelp)-np.array(szPosHelp)))])\n",
    "values = x\n",
    "labels = [\"action\", \"linking\", \"helping\"]\n",
    "indexes = np.arange(len(labels))\n",
    "plt.figure(num=None, figsize=(4, 3), dpi=80, facecolor='w', edgecolor='k') \n",
    "plt.bar(indexes, values, barwidth)\n",
    "plt.xticks(indexes + barwidth * 0.1, labels)\n",
    "plt.savefig('acl_neg_verbcat_ct.eps', format='eps')\n",
    "plt.show()"
   ]
  },
  {
   "cell_type": "code",
   "execution_count": 168,
   "metadata": {},
   "outputs": [
    {
     "data": {
      "image/png": "[encoded data removed]",
      "text/plain": [
       "<Figure size 320x240 with 1 Axes>"
      ]
     },
     "metadata": {},
     "output_type": "display_data"
    }
   ],
   "source": [
    "x = np.array([abs(sum(np.array(szNegAct))-sum(np.array(szPosAct))), abs(sum(np.array(szNegLink))-sum(np.array(szPosLink))), abs(sum(np.array(szNegHelp))-sum(np.array(szPosHelp)))])\n",
    "values = x\n",
    "labels = [\"action\", \"linking\", \"helping\"]\n",
    "indexes = np.arange(len(labels))\n",
    "plt.figure(num=None, figsize=(4, 3), dpi=80, facecolor='w', edgecolor='k') \n",
    "plt.bar(indexes, values, barwidth)\n",
    "plt.xticks(indexes + barwidth * 0.1, labels)\n",
    "plt.show()"
   ]
  },
  {
   "cell_type": "code",
   "execution_count": 136,
   "metadata": {},
   "outputs": [],
   "source": [
    "'''\n",
    "Verb category histogram\n",
    "'''\n",
    "read_files = glob.glob(exampleDir + '*.txt')\n",
    "\n",
    "i = 0\n",
    "countersAct = []\n",
    "countersLink = []\n",
    "countersHelp = [] \n",
    "countersHM = []\n",
    "\n",
    "szAct = []\n",
    "szLink = []\n",
    "szHelp = []\n",
    "szHM = []\n",
    "\n",
    "for infile in read_files:\n",
    "    with open(infile, 'r', errors='replace') as f:\n",
    "        text = f.read()\n",
    "        doc = nlp(text)\n",
    "        a, b, c, d = analyzeVerbs(doc) \n",
    "        countersAct.append(a)\n",
    "        countersLink.append(b) \n",
    "        countersHelp.append(c) \n",
    "        countersHM.append(d) \n",
    "        \n",
    "        szAct.append(sum(a.values()))\n",
    "        szLink.append(sum(b.values()))\n",
    "        szHelp.append(sum(c.values()))\n",
    "        szHM.append(sum(d.values()))"
   ]
  },
  {
   "cell_type": "code",
   "execution_count": 138,
   "metadata": {},
   "outputs": [
    {
     "data": {
      "image/png": "[encoded data removed]",
      "text/plain": [
       "<Figure size 320x240 with 1 Axes>"
      ]
     },
     "metadata": {},
     "output_type": "display_data"
    }
   ],
   "source": [
    "x = np.array([sum(np.array(szAct)), sum(np.array(szLink)), sum(np.array(szHelp))])\n",
    "values = x*1.0/sum(x)\n",
    "labels = [\"action\", \"linking\", \"helping\"]\n",
    "indexes = np.arange(len(labels))\n",
    "plt.figure(num=None, figsize=(4, 3), dpi=80, facecolor='w', edgecolor='k') \n",
    "plt.bar(indexes, values, barwidth)\n",
    "plt.xticks(indexes + barwidth * 0.1, labels)\n",
    "plt.show()"
   ]
  },
  {
   "cell_type": "code",
   "execution_count": 135,
   "metadata": {},
   "outputs": [
    {
     "name": "stdout",
     "output_type": "stream",
     "text": [
      "come ['together', 'actually']\n",
      "raise ['-PRON-', 'have', 'be']\n",
      "make []\n",
      "mean ['that']\n",
      "track ['to']\n",
      "listen []\n",
      "get ['after', ',', '-PRON-']\n",
      "see ['to']\n",
      "get ['if', '-PRON-', 'ever']\n",
      "see ['to']\n",
      "compare []\n",
      "believe ['-PRON-']\n",
      "take ['Denver', 'actually']\n",
      "do []\n",
      "guess ['-PRON-']\n",
      "compromise ['normally', 'performer', 'do', 'not']\n",
      "do []\n",
      "sing []\n",
      "can []\n",
      "track ['even', 'if', '-PRON-', 'can', 'not']\n",
      "Counter({'get': 2, 'see': 2, 'come': 1, 'mean': 1, 'track': 1, 'believe': 1, 'take': 1, 'guess': 1, 'compromise': 1})\n",
      "Counter({'be': 4})\n",
      "Counter({'be': 1, 'can': 1})\n",
      "Counter({'raise': 1, 'track': 1})\n",
      "11\n",
      "4\n",
      "2\n",
      "2\n"
     ]
    }
   ],
   "source": [
    "with open(filename, 'r', errors='replace') as f:\n",
    "    text = f.read()\n",
    "    doc = nlp(text)\n",
    "    a, b, c, d = analyzeVerbs(doc) \n",
    "    \n",
    "    print(a)\n",
    "    print(b)\n",
    "    print(c)\n",
    "    print(d) \n",
    "        \n",
    "    print(sum(a.values()))\n",
    "    print(sum(b.values()))\n",
    "    print(sum(c.values()))\n",
    "    print(sum(d.values()))"
   ]
  },
  {
   "cell_type": "code",
   "execution_count": 5,
   "metadata": {},
   "outputs": [
    {
     "name": "stdout",
     "output_type": "stream",
     "text": [
      "i : 0\n",
      "i : 1\n",
      "i : 2\n",
      "Counter({'Garrison': 3, 'special': 2, 'action': 2, 'sing': 1, 'assassinate': 1, 'failure': 1, 'Sentinel': 1, 'lack': 1, 'share': 1, 'desperate': 1, 'reason': 1, 'fairly': 1, 'include': 1, 'powerful': 1, 'director': 1, 'rest': 1, 'title': 1, 'bland': 1, 'mess': 1, 'pleasant': 1, 'love': 1, 'happy': 1})\n"
     ]
    },
    {
     "data": {
      "image/png": "[encoded data removed]",
      "text/plain": [
       "<Figure size 1600x480 with 1 Axes>"
      ]
     },
     "metadata": {},
     "output_type": "display_data"
    }
   ],
   "source": [
    "'''\n",
    "Emotion words histogram\n",
    "''' \n",
    "read_files = glob.glob(exampleDir + '*.txt')\n",
    "\n",
    "emos = loadEmotionWords('/home/dashi/lulu/corpus/NRC-Emotion-Lexicon-v0.92/Generated-EmotionWords.txt')\n",
    "counterEmos = Counter('')\n",
    "i = 0\n",
    "\n",
    "for infile in read_files:\n",
    "    print('i : ' + str(i))\n",
    "    with open(infile, 'r', errors='replace') as f:\n",
    "        text = f.read()\n",
    "        doc = nlp(text)\n",
    "        counterEmos += analyzeEmotionWords(doc, emos) \n",
    "        i += 1\n",
    "    \n",
    "print(counterEmos)\n",
    "plt.figure(num=None, figsize=(20, 6), dpi=80, facecolor='w', edgecolor='k')\n",
    "labels, values = rankCounter(counterEmos)\n",
    "indexes = np.arange(len(labels))\n",
    "width = 1\n",
    "plt.bar(indexes, values, width)\n",
    "plt.xticks(indexes + width * 0.5, labels)\n",
    "plt.show()"
   ]
  },
  {
   "cell_type": "code",
   "execution_count": 38,
   "metadata": {},
   "outputs": [
    {
     "name": "stdout",
     "output_type": "stream",
     "text": [
      "i : 0\n",
      "i : 5000\n",
      "i : 10000\n"
     ]
    }
   ],
   "source": [
    "'''\n",
    "Emotion words histogram\n",
    "'''\n",
    "read_files = glob.glob(posTrainDir + '*.txt')\n",
    "\n",
    "counterPosEmos = Counter('')\n",
    "i = 0\n",
    "\n",
    "for infile in read_files:\n",
    "    with open(infile, 'r', errors='replace') as f:\n",
    "        text = f.read()\n",
    "        doc = nlp(text)\n",
    "        counterPosEmos += analyzeEmotionWords(doc, emos) \n",
    "        if (i % 5000 == 0): \n",
    "            print('i : ' + str(i))  \n",
    "        i += 1\n",
    "    "
   ]
  },
  {
   "cell_type": "code",
   "execution_count": 20,
   "metadata": {},
   "outputs": [],
   "source": [
    "N = len(read_files)\n",
    "counterPosEmosIdf = invDocFreq(counterPosEmos, N)"
   ]
  },
  {
   "cell_type": "code",
   "execution_count": 40,
   "metadata": {},
   "outputs": [
    {
     "name": "stdout",
     "output_type": "stream",
     "text": [
      "i : 0\n",
      "i : 5000\n",
      "i : 10000\n"
     ]
    }
   ],
   "source": [
    "read_files = glob.glob(posTrainDir + '*.txt')\n",
    "\n",
    "i = 0\n",
    "totPosWords = 0\n",
    "\n",
    "for infile in read_files:\n",
    "    with open(infile, 'r', errors='replace') as f:\n",
    "        totPosWords += totalWords(f) \n",
    "        if (i % 5000 == 0): \n",
    "            print('i : ' + str(i))  \n",
    "        i += 1  "
   ]
  },
  {
   "cell_type": "code",
   "execution_count": 41,
   "metadata": {},
   "outputs": [
    {
     "data": {
      "text/plain": [
       "12500"
      ]
     },
     "execution_count": 41,
     "metadata": {},
     "output_type": "execute_result"
    }
   ],
   "source": [
    "N\n"
   ]
  },
  {
   "cell_type": "code",
   "execution_count": 45,
   "metadata": {},
   "outputs": [
    {
     "data": {
      "image/png": "[encoded data removed]",
      "text/plain": [
       "<Figure size 1600x480 with 1 Axes>"
      ]
     },
     "metadata": {},
     "output_type": "display_data"
    }
   ],
   "source": [
    "plt.rcParams.update({'font.size': 12})\n",
    "plt.figure(num=None, figsize=(20, 6), dpi=80, facecolor='w', edgecolor='k')\n",
    "labels, values = rankCounter(counterPosEmos)\n",
    "values = [v*1.0/totPosWords for v in values]\n",
    "indexes = np.arange(len(labels)) \n",
    "plt.bar(indexes, values, barwidth)\n",
    "plt.xticks(indexes + barwidth * 0.5, labels)\n",
    "plt.savefig('acl_pos_emos_df.eps', format='eps')\n",
    "plt.show()"
   ]
  },
  {
   "cell_type": "code",
   "execution_count": 46,
   "metadata": {},
   "outputs": [
    {
     "data": {
      "image/png": "[encoded data removed]",
      "text/plain": [
       "<Figure size 1600x480 with 1 Axes>"
      ]
     },
     "metadata": {},
     "output_type": "display_data"
    }
   ],
   "source": [
    "N = len(read_files)\n",
    "counterPosEmosIdf = invDocFreq(counterPosEmos, N)\n",
    "plt.figure(num=None, figsize=(20, 6), dpi=80, facecolor='w', edgecolor='k')\n",
    "result = {k: v for k, v in sorted(counterPosEmosIdf.items(), key=lambda item: item[1])}\n",
    "labels = list(result.keys())[:20]\n",
    "values = list(result.values())[:20]\n",
    "indexes = np.arange(len(labels)) \n",
    "plt.bar(indexes, values, barwidth)\n",
    "plt.xticks(indexes + barwidth * 0.5, labels)\n",
    "plt.savefig('acl_pos_emos_idf.eps', format='eps')\n",
    "plt.show()"
   ]
  },
  {
   "cell_type": "code",
   "execution_count": 29,
   "metadata": {},
   "outputs": [
    {
     "data": {
      "text/plain": [
       "[0.5942072327050417,\n",
       " 1.1680909924381693,\n",
       " 2.0569757969641724,\n",
       " 2.074016285034771,\n",
       " 2.0765656809343715,\n",
       " 2.4168742393961735,\n",
       " 2.445993676289402,\n",
       " 2.564469472624686,\n",
       " 2.6546990256052156,\n",
       " 2.700082031453033,\n",
       " 2.7767573991120007,\n",
       " 2.8054425471108595,\n",
       " 2.817418738157575,\n",
       " 2.8268337370921772,\n",
       " 2.8500747011316276,\n",
       " 2.8514587843975665,\n",
       " 2.866811493487152,\n",
       " 2.878127031479728,\n",
       " 2.879550519264581,\n",
       " 2.9069890637196023,\n",
       " 2.9488486876551407,\n",
       " 2.9989374045029393,\n",
       " 3.008614899385005,\n",
       " 3.0233090413242256,\n",
       " 3.028255465259551,\n",
       " 3.079113882493042,\n",
       " 3.0896034891640616,\n",
       " 3.091362504569241,\n",
       " 3.0966581921439515,\n",
       " 3.0984296717923336,\n",
       " 3.1073344501352933,\n",
       " 3.11271562903981,\n",
       " 3.114515809543958,\n",
       " 3.1835086810309097,\n",
       " 3.20103590673987,\n",
       " 3.206947254002927,\n",
       " 3.2452198002078028,\n",
       " 3.2555398092397922,\n",
       " 3.2850156273727458,\n",
       " 3.3354096411241523,\n",
       " 3.358137892201708,\n",
       " 3.358137892201708,\n",
       " 3.3604393891899877,\n",
       " 3.3837504680584347,\n",
       " 3.4246707378477974,\n",
       " 3.454598158389271,\n",
       " 3.477646553825562,\n",
       " 3.5226872792498654,\n",
       " 3.536330055653652,\n",
       " 3.5446059649575115,\n",
       " 3.5613661338149765,\n",
       " 3.569852747692295,\n",
       " 3.575550768806933,\n",
       " 3.6163727633271883,\n",
       " 3.619353391465326,\n",
       " 3.619353391465326,\n",
       " 3.649658740960655,\n",
       " 3.6777417097034806,\n",
       " 3.6872807327502395,\n",
       " 3.69048073548091,\n",
       " 3.6936910111111585,\n",
       " 3.703384140316818,\n",
       " 3.7230569059155227,\n",
       " 3.7297014486341915,\n",
       " 3.733040349899706,\n",
       " 3.739751784487693,\n",
       " 3.7880370256471547,\n",
       " 3.791576852352279,\n",
       " 3.7951292539566466,\n",
       " 3.809466417103054,\n",
       " 3.8203558169023224,\n",
       " 3.8313651024106914,\n",
       " 3.8462352648901432,\n",
       " 3.8499876145086933,\n",
       " 3.8537540973041704,\n",
       " 3.8537540973041704,\n",
       " 3.8651394195292954,\n",
       " 3.8766558615908546,\n",
       " 3.884407838395173,\n",
       " 3.884407838395173,\n",
       " 3.900094434562872,\n",
       " 3.9080309841586085,\n",
       " 3.9080309841586085,\n",
       " 3.916031026825685,\n",
       " 3.9240955866624154,\n",
       " 3.9281523873580295,\n",
       " 3.944546197133706,\n",
       " 3.9486869897997376,\n",
       " 3.9696521182647824,\n",
       " 3.9738984091462335,\n",
       " 3.978162807932691,\n",
       " 4.012948924018106,\n",
       " 4.012948924018106,\n",
       " 4.053586569749933,\n",
       " 4.058205515606227,\n",
       " 4.081625789814326,\n",
       " 4.0959458435890745,\n",
       " 4.120277944248605,\n",
       " 4.1401790985659,\n",
       " 4.1401790985659,\n",
       " 4.150280194552404,\n",
       " 4.165625764227064,\n",
       " 4.165625764227064,\n",
       " 4.165625764227064,\n",
       " 4.170793734385507,\n",
       " 4.170793734385507,\n",
       " 4.19173690823075,\n",
       " 4.197041960460443,\n",
       " 4.197041960460443,\n",
       " 4.223997770448972,\n",
       " 4.229477236213597,\n",
       " 4.229477236213597,\n",
       " 4.234986892024567,\n",
       " 4.251700372998307,\n",
       " 4.268697949366879,\n",
       " 4.274428624075863,\n",
       " 4.274428624075863,\n",
       " 4.291820366787733,\n",
       " 4.291820366787733,\n",
       " 4.303585208367319,\n",
       " 4.303585208367319,\n",
       " 4.303585208367319,\n",
       " 4.309519943887134,\n",
       " 4.333617495466194,\n",
       " 4.333617495466194,\n",
       " 4.345887588058009,\n",
       " 4.352079558305929,\n",
       " 4.364579721070161,\n",
       " 4.364579721070161,\n",
       " 4.383627916040855,\n",
       " 4.396531320876764,\n",
       " 4.396531320876764,\n",
       " 4.422848629194137,\n",
       " 4.422848629194137,\n",
       " 4.429537617344933,\n",
       " 4.436271649526278,\n",
       " 4.436271649526278,\n",
       " 4.443051336511656,\n",
       " 4.456750180869818,\n",
       " 4.463670623714392,\n",
       " 4.477656865689132,\n",
       " 4.484724032912224,\n",
       " 4.484724032912224,\n",
       " 4.499009990159701,\n",
       " 4.499009990159701,\n",
       " 4.499009990159701,\n",
       " 4.506230238133187,\n",
       " 4.506230238133187,\n",
       " 4.506230238133187,\n",
       " 4.506230238133187,\n",
       " 4.513502997462267,\n",
       " 4.52082903755434,\n",
       " 4.52082903755434,\n",
       " 4.535644123339481,\n",
       " 4.550682000704022,\n",
       " 4.558286600089241,\n",
       " 4.56594947283481,\n",
       " 4.56594947283481,\n",
       " 4.56594947283481,\n",
       " 4.56594947283481,\n",
       " 4.5736715189287205,\n",
       " 4.5736715189287205,\n",
       " 4.5736715189287205,\n",
       " 4.5814536593707755,\n",
       " 4.5972020163389145,\n",
       " 4.5972020163389145,\n",
       " 4.613202357685355,\n",
       " 4.621299567917975,\n",
       " 4.637693377693651,\n",
       " 4.637693377693651,\n",
       " 4.637693377693651,\n",
       " 4.637693377693651,\n",
       " 4.637693377693651,\n",
       " 4.645992180508347,\n",
       " 4.645992180508347,\n",
       " 4.662799298824727,\n",
       " 4.671309988492636,\n",
       " 4.679893732184028,\n",
       " 4.679893732184028,\n",
       " 4.688551794927142,\n",
       " 4.688551794927142,\n",
       " 4.688551794927142,\n",
       " 4.697285474895897,\n",
       " 4.706096104578052,\n",
       " 4.706096104578052,\n",
       " 4.706096104578052,\n",
       " 4.714985051995298,\n",
       " 4.714985051995298,\n",
       " 4.714985051995298,\n",
       " 4.7239537219780585,\n",
       " 4.733003557497976,\n",
       " 4.742136041061249,\n",
       " 4.742136041061249,\n",
       " 4.7513526961661725,\n",
       " 4.760655088828487,\n",
       " 4.760655088828487,\n",
       " 4.760655088828487,\n",
       " 4.7700448291783255,\n",
       " 4.7700448291783255,\n",
       " 4.779523573132869,\n",
       " 4.78909302414902,\n",
       " 4.808511110006122,\n",
       " 4.808511110006122,\n",
       " 4.818363406449133,\n",
       " 4.818363406449133,\n",
       " 4.8283137373023015,\n",
       " 4.8283137373023015,\n",
       " 4.8283137373023015,\n",
       " 4.838364073155803,\n",
       " 4.838364073155803,\n",
       " 4.848516444619821,\n",
       " 4.869135731822556,\n",
       " 4.869135731822556,\n",
       " 4.869135731822556,\n",
       " 4.879607031689852,\n",
       " 4.879607031689852,\n",
       " 4.879607031689852,\n",
       " 4.890189141020389,\n",
       " 4.890189141020389,\n",
       " 4.890189141020389,\n",
       " 4.900884430137136,\n",
       " 4.900884430137136,\n",
       " 4.911695346241352,\n",
       " 4.922624416773543,\n",
       " 4.922624416773543,\n",
       " 4.922624416773543,\n",
       " 4.922624416773543,\n",
       " 4.933674252960127,\n",
       " 4.956147108812186,\n",
       " 4.967575804635809,\n",
       " 4.967575804635809,\n",
       " 4.967575804635809,\n",
       " 4.967575804635809,\n",
       " 4.967575804635809,\n",
       " 4.967575804635809,\n",
       " 4.967575804635809,\n",
       " 4.967575804635809,\n",
       " 4.979136627036885,\n",
       " 4.979136627036885,\n",
       " 4.979136627036885,\n",
       " 4.979136627036885,\n",
       " 4.979136627036885,\n",
       " 5.002667124447079,\n",
       " 5.002667124447079,\n",
       " 5.002667124447079,\n",
       " 5.002667124447079,\n",
       " 5.014643315493794,\n",
       " 5.014643315493794,\n",
       " 5.014643315493794,\n",
       " 5.014643315493794,\n",
       " 5.014643315493794,\n",
       " 5.014643315493794,\n",
       " 5.014643315493794,\n",
       " 5.014643315493794,\n",
       " 5.026764676026139,\n",
       " 5.026764676026139,\n",
       " 5.026764676026139,\n",
       " 5.026764676026139,\n",
       " 5.039034768617953,\n",
       " 5.039034768617953,\n",
       " 5.039034768617953,\n",
       " 5.039034768617953,\n",
       " 5.039034768617953,\n",
       " 5.039034768617953,\n",
       " 5.051457288616511,\n",
       " 5.051457288616511,\n",
       " 5.064036070823371,\n",
       " 5.064036070823371,\n",
       " 5.064036070823371,\n",
       " 5.076775096600801,\n",
       " 5.076775096600801,\n",
       " 5.076775096600801,\n",
       " 5.089678501436708,\n",
       " 5.089678501436708,\n",
       " 5.089678501436708,\n",
       " 5.089678501436708,\n",
       " 5.089678501436708,\n",
       " 5.089678501436708,\n",
       " 5.102750583004061,\n",
       " 5.102750583004061,\n",
       " 5.102750583004061,\n",
       " 5.102750583004061,\n",
       " 5.102750583004061,\n",
       " 5.102750583004061,\n",
       " 5.115995809754082,\n",
       " 5.115995809754082,\n",
       " 5.115995809754082,\n",
       " 5.129418830086222,\n",
       " 5.129418830086222,\n",
       " 5.129418830086222,\n",
       " 5.1430244821420015,\n",
       " 5.1430244821420015,\n",
       " 5.1430244821420015,\n",
       " 5.1430244821420015,\n",
       " 5.1430244821420015,\n",
       " 5.156817804274337,\n",
       " 5.156817804274337,\n",
       " 5.156817804274337,\n",
       " 5.156817804274337,\n",
       " 5.156817804274337,\n",
       " 5.170804046249077,\n",
       " 5.170804046249077,\n",
       " 5.170804046249077,\n",
       " 5.170804046249077,\n",
       " 5.170804046249077,\n",
       " 5.170804046249077,\n",
       " 5.170804046249077,\n",
       " 5.184988681241034,\n",
       " 5.184988681241034,\n",
       " 5.184988681241034,\n",
       " 5.184988681241034,\n",
       " 5.199377418693133,\n",
       " 5.199377418693133,\n",
       " 5.199377418693133,\n",
       " 5.2139762181142855,\n",
       " 5.2139762181142855,\n",
       " 5.2139762181142855,\n",
       " 5.2139762181142855,\n",
       " 5.2139762181142855,\n",
       " 5.2139762181142855,\n",
       " 5.2139762181142855,\n",
       " 5.2139762181142855,\n",
       " 5.228791303899427,\n",
       " 5.228791303899427,\n",
       " 5.228791303899427,\n",
       " 5.228791303899427,\n",
       " 5.228791303899427,\n",
       " 5.243829181263967,\n",
       " 5.243829181263967,\n",
       " 5.243829181263967,\n",
       " 5.243829181263967,\n",
       " 5.243829181263967,\n",
       " 5.259096653394756,\n",
       " 5.259096653394756,\n",
       " 5.259096653394756,\n",
       " 5.274600839930721,\n",
       " 5.274600839930721,\n",
       " 5.274600839930721,\n",
       " 5.274600839930721,\n",
       " 5.29034919689886,\n",
       " 5.29034919689886,\n",
       " 5.29034919689886,\n",
       " 5.29034919689886,\n",
       " 5.29034919689886,\n",
       " 5.306349538245301,\n",
       " 5.306349538245301,\n",
       " 5.306349538245301,\n",
       " 5.306349538245301,\n",
       " 5.306349538245301,\n",
       " 5.322610059117081,\n",
       " 5.322610059117081,\n",
       " 5.322610059117081,\n",
       " 5.322610059117081,\n",
       " 5.322610059117081,\n",
       " 5.339139361068292,\n",
       " 5.339139361068292,\n",
       " 5.339139361068292,\n",
       " 5.339139361068292,\n",
       " 5.339139361068292,\n",
       " 5.339139361068292,\n",
       " 5.355946479384673,\n",
       " 5.355946479384673,\n",
       " 5.355946479384673,\n",
       " 5.355946479384673,\n",
       " 5.355946479384673,\n",
       " 5.373040912743973,\n",
       " 5.373040912743973,\n",
       " 5.373040912743973,\n",
       " 5.373040912743973,\n",
       " 5.390432655455842,\n",
       " 5.390432655455842,\n",
       " 5.390432655455842,\n",
       " 5.390432655455842,\n",
       " 5.390432655455842,\n",
       " 5.390432655455842,\n",
       " 5.390432655455842,\n",
       " 5.408132232555244,\n",
       " 5.408132232555244,\n",
       " 5.408132232555244,\n",
       " 5.408132232555244,\n",
       " 5.426150738057921,\n",
       " 5.426150738057921,\n",
       " 5.426150738057921,\n",
       " 5.426150738057921,\n",
       " 5.426150738057921,\n",
       " 5.426150738057921,\n",
       " 5.426150738057921,\n",
       " 5.444499876726118,\n",
       " 5.444499876726118,\n",
       " 5.444499876726118,\n",
       " 5.444499876726118,\n",
       " 5.444499876726118,\n",
       " 5.444499876726118,\n",
       " 5.444499876726118,\n",
       " 5.463192009738271,\n",
       " 5.463192009738271,\n",
       " 5.463192009738271,\n",
       " 5.463192009738271,\n",
       " 5.463192009738271,\n",
       " 5.463192009738271,\n",
       " 5.482240204708965,\n",
       " 5.482240204708965,\n",
       " 5.482240204708965,\n",
       " 5.482240204708965,\n",
       " 5.482240204708965,\n",
       " 5.501658290566067,\n",
       " 5.501658290566067,\n",
       " 5.501658290566067,\n",
       " 5.501658290566067,\n",
       " 5.501658290566067,\n",
       " 5.501658290566067,\n",
       " 5.501658290566067,\n",
       " 5.521460917862246,\n",
       " 5.521460917862246,\n",
       " 5.521460917862246,\n",
       " 5.521460917862246,\n",
       " 5.521460917862246,\n",
       " 5.521460917862246,\n",
       " 5.5416636251797655,\n",
       " 5.5416636251797655,\n",
       " 5.5416636251797655,\n",
       " 5.5416636251797655,\n",
       " 5.5416636251797655,\n",
       " 5.5416636251797655,\n",
       " 5.5416636251797655,\n",
       " 5.5416636251797655,\n",
       " 5.562282912382502,\n",
       " 5.562282912382502,\n",
       " 5.562282912382502,\n",
       " 5.562282912382502,\n",
       " 5.562282912382502,\n",
       " 5.562282912382502,\n",
       " 5.562282912382502,\n",
       " 5.562282912382502,\n",
       " 5.562282912382502,\n",
       " 5.583336321580334,\n",
       " 5.583336321580334,\n",
       " 5.583336321580334,\n",
       " 5.583336321580334,\n",
       " 5.583336321580334,\n",
       " 5.604842526801297,\n",
       " 5.604842526801297,\n",
       " 5.604842526801297,\n",
       " 5.604842526801297,\n",
       " 5.604842526801297,\n",
       " 5.604842526801297,\n",
       " 5.604842526801297,\n",
       " 5.626821433520073,\n",
       " 5.626821433520073,\n",
       " 5.626821433520073,\n",
       " 5.626821433520073,\n",
       " 5.626821433520073,\n",
       " 5.626821433520073,\n",
       " 5.649294289372131,\n",
       " 5.649294289372131,\n",
       " 5.649294289372131,\n",
       " 5.649294289372131,\n",
       " 5.649294289372131,\n",
       " 5.649294289372131,\n",
       " 5.649294289372131,\n",
       " 5.649294289372131,\n",
       " 5.649294289372131,\n",
       " 5.6722838075968305,\n",
       " 5.6722838075968305,\n",
       " 5.6722838075968305,\n",
       " 5.6722838075968305,\n",
       " 5.6722838075968305,\n",
       " 5.6722838075968305,\n",
       " 5.6722838075968305,\n",
       " 5.6722838075968305,\n",
       " 5.6958143050070245,\n",
       " 5.6958143050070245,\n",
       " 5.6958143050070245,\n",
       " 5.6958143050070245,\n",
       " 5.6958143050070245,\n",
       " 5.6958143050070245,\n",
       " 5.6958143050070245,\n",
       " 5.7199118565860845,\n",
       " 5.7199118565860845,\n",
       " 5.7199118565860845,\n",
       " 5.7199118565860845,\n",
       " 5.7199118565860845,\n",
       " 5.7199118565860845,\n",
       " 5.7199118565860845,\n",
       " 5.744604469176457,\n",
       " 5.744604469176457,\n",
       " 5.744604469176457,\n",
       " 5.744604469176457,\n",
       " 5.744604469176457,\n",
       " 5.744604469176457,\n",
       " 5.744604469176457,\n",
       " 5.744604469176457,\n",
       " 5.744604469176457,\n",
       " 5.744604469176457,\n",
       " 5.744604469176457,\n",
       " 5.744604469176457,\n",
       " 5.744604469176457,\n",
       " 5.744604469176457,\n",
       " 5.744604469176457,\n",
       " 5.744604469176457,\n",
       " 5.744604469176457,\n",
       " 5.769922277160746,\n",
       " 5.769922277160746,\n",
       " 5.769922277160746,\n",
       " 5.769922277160746,\n",
       " 5.769922277160746,\n",
       " 5.769922277160746,\n",
       " 5.769922277160746,\n",
       " 5.769922277160746,\n",
       " 5.769922277160746,\n",
       " 5.769922277160746,\n",
       " 5.769922277160746,\n",
       " 5.769922277160746,\n",
       " 5.769922277160746,\n",
       " 5.769922277160746,\n",
       " 5.769922277160746,\n",
       " 5.769922277160746,\n",
       " 5.795897763564007,\n",
       " 5.795897763564007,\n",
       " 5.795897763564007,\n",
       " 5.795897763564007,\n",
       " 5.795897763564007,\n",
       " 5.795897763564007,\n",
       " 5.795897763564007,\n",
       " 5.795897763564007,\n",
       " 5.795897763564007,\n",
       " 5.795897763564007,\n",
       " 5.822566010646168,\n",
       " 5.822566010646168,\n",
       " 5.822566010646168,\n",
       " 5.822566010646168,\n",
       " 5.822566010646168,\n",
       " 5.822566010646168,\n",
       " 5.8499649848342825,\n",
       " 5.8499649848342825,\n",
       " 5.8499649848342825,\n",
       " 5.8499649848342825,\n",
       " 5.8499649848342825,\n",
       " 5.8499649848342825,\n",
       " 5.8499649848342825,\n",
       " 5.8499649848342825,\n",
       " 5.8499649848342825,\n",
       " 5.8499649848342825,\n",
       " 5.8499649848342825,\n",
       " 5.8499649848342825,\n",
       " 5.8499649848342825,\n",
       " 5.8781358618009785,\n",
       " 5.8781358618009785,\n",
       " 5.8781358618009785,\n",
       " 5.8781358618009785,\n",
       " 5.8781358618009785,\n",
       " 5.8781358618009785,\n",
       " 5.8781358618009785,\n",
       " 5.8781358618009785,\n",
       " 5.8781358618009785,\n",
       " 5.8781358618009785,\n",
       " 5.907123398674231,\n",
       " 5.907123398674231,\n",
       " 5.907123398674231,\n",
       " 5.907123398674231,\n",
       " 5.907123398674231,\n",
       " 5.907123398674231,\n",
       " 5.907123398674231,\n",
       " 5.907123398674231,\n",
       " 5.907123398674231,\n",
       " 5.907123398674231,\n",
       " 5.907123398674231,\n",
       " 5.936976361823913,\n",
       " 5.936976361823913,\n",
       " 5.936976361823913,\n",
       " 5.936976361823913,\n",
       " 5.936976361823913,\n",
       " 5.936976361823913,\n",
       " 5.936976361823913,\n",
       " 5.936976361823913,\n",
       " 5.936976361823913,\n",
       " 5.936976361823913,\n",
       " 5.936976361823913,\n",
       " 5.967748020490666,\n",
       " 5.967748020490666,\n",
       " 5.967748020490666,\n",
       " 5.967748020490666,\n",
       " 5.967748020490666,\n",
       " 5.967748020490666,\n",
       " 5.967748020490666,\n",
       " 5.967748020490666,\n",
       " 5.967748020490666,\n",
       " 5.967748020490666,\n",
       " 5.967748020490666,\n",
       " 5.999496718805246,\n",
       " 5.999496718805246,\n",
       " 5.999496718805246,\n",
       " 5.999496718805246,\n",
       " 5.999496718805246,\n",
       " 5.999496718805246,\n",
       " 5.999496718805246,\n",
       " 5.999496718805246,\n",
       " 5.999496718805246,\n",
       " 6.032286541628237,\n",
       " 6.032286541628237,\n",
       " 6.032286541628237,\n",
       " 6.032286541628237,\n",
       " 6.032286541628237,\n",
       " 6.032286541628237,\n",
       " 6.032286541628237,\n",
       " 6.032286541628237,\n",
       " 6.032286541628237,\n",
       " 6.032286541628237,\n",
       " 6.032286541628237,\n",
       " 6.032286541628237,\n",
       " 6.032286541628237,\n",
       " 6.032286541628237,\n",
       " 6.032286541628237,\n",
       " 6.066188093303919,\n",
       " 6.066188093303919,\n",
       " 6.066188093303919,\n",
       " 6.066188093303919,\n",
       " 6.066188093303919,\n",
       " 6.066188093303919,\n",
       " 6.066188093303919,\n",
       " 6.066188093303919,\n",
       " 6.066188093303919,\n",
       " 6.066188093303919,\n",
       " 6.066188093303919,\n",
       " 6.066188093303919,\n",
       " 6.066188093303919,\n",
       " 6.066188093303919,\n",
       " 6.066188093303919,\n",
       " 6.066188093303919,\n",
       " 6.066188093303919,\n",
       " 6.101279413115188,\n",
       " 6.101279413115188,\n",
       " 6.101279413115188,\n",
       " 6.101279413115188,\n",
       " 6.101279413115188,\n",
       " 6.101279413115188,\n",
       " 6.101279413115188,\n",
       " 6.101279413115188,\n",
       " 6.101279413115188,\n",
       " 6.137647057286063,\n",
       " 6.137647057286063,\n",
       " 6.137647057286063,\n",
       " 6.137647057286063,\n",
       " 6.137647057286063,\n",
       " 6.137647057286063,\n",
       " 6.137647057286063,\n",
       " 6.137647057286063,\n",
       " 6.137647057286063,\n",
       " 6.137647057286063,\n",
       " 6.137647057286063,\n",
       " 6.137647057286063,\n",
       " 6.137647057286063,\n",
       " 6.137647057286063,\n",
       " 6.137647057286063,\n",
       " 6.137647057286063,\n",
       " 6.137647057286063,\n",
       " 6.137647057286063,\n",
       " 6.137647057286063,\n",
       " 6.137647057286063,\n",
       " 6.175387385268911,\n",
       " 6.175387385268911,\n",
       " 6.175387385268911,\n",
       " 6.175387385268911,\n",
       " 6.175387385268911,\n",
       " 6.175387385268911,\n",
       " 6.175387385268911,\n",
       " 6.175387385268911,\n",
       " 6.175387385268911,\n",
       " 6.175387385268911,\n",
       " 6.175387385268911,\n",
       " 6.175387385268911,\n",
       " 6.175387385268911,\n",
       " 6.175387385268911,\n",
       " 6.175387385268911,\n",
       " 6.175387385268911,\n",
       " 6.175387385268911,\n",
       " 6.175387385268911,\n",
       " 6.175387385268911,\n",
       " 6.175387385268911,\n",
       " 6.175387385268911,\n",
       " 6.214608098422191,\n",
       " 6.214608098422191,\n",
       " 6.214608098422191,\n",
       " 6.214608098422191,\n",
       " 6.214608098422191,\n",
       " 6.214608098422191,\n",
       " 6.214608098422191,\n",
       " 6.214608098422191,\n",
       " 6.214608098422191,\n",
       " 6.214608098422191,\n",
       " 6.214608098422191,\n",
       " 6.214608098422191,\n",
       " 6.214608098422191,\n",
       " 6.214608098422191,\n",
       " 6.214608098422191,\n",
       " 6.214608098422191,\n",
       " 6.214608098422191,\n",
       " 6.214608098422191,\n",
       " 6.214608098422191,\n",
       " 6.214608098422191,\n",
       " 6.255430092942447,\n",
       " 6.255430092942447,\n",
       " 6.255430092942447,\n",
       " 6.255430092942447,\n",
       " 6.255430092942447,\n",
       " 6.255430092942447,\n",
       " 6.255430092942447,\n",
       " 6.255430092942447,\n",
       " 6.255430092942447,\n",
       " 6.255430092942447,\n",
       " 6.255430092942447,\n",
       " 6.255430092942447,\n",
       " 6.255430092942447,\n",
       " 6.255430092942447,\n",
       " 6.255430092942447,\n",
       " 6.255430092942447,\n",
       " 6.297989707361243,\n",
       " 6.297989707361243,\n",
       " 6.297989707361243,\n",
       " 6.297989707361243,\n",
       " 6.297989707361243,\n",
       " 6.297989707361243,\n",
       " 6.297989707361243,\n",
       " 6.297989707361243,\n",
       " 6.297989707361243,\n",
       " 6.297989707361243,\n",
       " 6.297989707361243,\n",
       " 6.297989707361243,\n",
       " 6.297989707361243,\n",
       " 6.297989707361243,\n",
       " 6.297989707361243,\n",
       " 6.297989707361243,\n",
       " 6.297989707361243,\n",
       " 6.297989707361243,\n",
       " 6.297989707361243,\n",
       " 6.297989707361243,\n",
       " 6.297989707361243,\n",
       " 6.297989707361243,\n",
       " 6.342441469932076,\n",
       " 6.342441469932076,\n",
       " 6.342441469932076,\n",
       " 6.342441469932076,\n",
       " 6.342441469932076,\n",
       " 6.342441469932076,\n",
       " 6.342441469932076,\n",
       " 6.342441469932076,\n",
       " 6.342441469932076,\n",
       " 6.342441469932076,\n",
       " 6.342441469932076,\n",
       " 6.342441469932076,\n",
       " 6.342441469932076,\n",
       " 6.342441469932076,\n",
       " 6.342441469932076,\n",
       " 6.342441469932076,\n",
       " 6.342441469932076,\n",
       " 6.342441469932076,\n",
       " 6.342441469932076,\n",
       " 6.342441469932076,\n",
       " 6.342441469932076,\n",
       " 6.342441469932076,\n",
       " 6.342441469932076,\n",
       " 6.342441469932076,\n",
       " 6.388961485566969,\n",
       " 6.388961485566969,\n",
       " 6.388961485566969,\n",
       " 6.388961485566969,\n",
       " 6.388961485566969,\n",
       " 6.388961485566969,\n",
       " 6.388961485566969,\n",
       " 6.388961485566969,\n",
       " 6.388961485566969,\n",
       " 6.388961485566969,\n",
       " 6.388961485566969,\n",
       " 6.388961485566969,\n",
       " 6.388961485566969,\n",
       " 6.388961485566969,\n",
       " 6.388961485566969,\n",
       " 6.388961485566969,\n",
       " 6.388961485566969,\n",
       " 6.388961485566969,\n",
       " 6.388961485566969,\n",
       " 6.388961485566969,\n",
       " 6.388961485566969,\n",
       " 6.388961485566969,\n",
       " 6.388961485566969,\n",
       " 6.388961485566969,\n",
       " 6.388961485566969,\n",
       " 6.388961485566969,\n",
       " 6.388961485566969,\n",
       " 6.388961485566969,\n",
       " 6.388961485566969,\n",
       " 6.388961485566969,\n",
       " 6.388961485566969,\n",
       " 6.388961485566969,\n",
       " 6.437751649736401,\n",
       " 6.437751649736401,\n",
       " 6.437751649736401,\n",
       " 6.437751649736401,\n",
       " 6.437751649736401,\n",
       " 6.437751649736401,\n",
       " 6.437751649736401,\n",
       " 6.437751649736401,\n",
       " 6.437751649736401,\n",
       " 6.437751649736401,\n",
       " 6.437751649736401,\n",
       " 6.437751649736401,\n",
       " 6.437751649736401,\n",
       " 6.437751649736401,\n",
       " 6.437751649736401,\n",
       " 6.437751649736401,\n",
       " 6.437751649736401,\n",
       " 6.437751649736401,\n",
       " 6.437751649736401,\n",
       " 6.437751649736401,\n",
       " 6.437751649736401,\n",
       " 6.437751649736401,\n",
       " 6.437751649736401,\n",
       " 6.437751649736401,\n",
       " 6.437751649736401,\n",
       " 6.437751649736401,\n",
       " 6.437751649736401,\n",
       " 6.437751649736401,\n",
       " 6.437751649736401,\n",
       " 6.437751649736401,\n",
       " 6.437751649736401,\n",
       " 6.437751649736401,\n",
       " 6.489044944123952,\n",
       " 6.489044944123952,\n",
       " 6.489044944123952,\n",
       " 6.489044944123952,\n",
       " 6.489044944123952,\n",
       " 6.489044944123952,\n",
       " 6.489044944123952,\n",
       " 6.489044944123952,\n",
       " 6.489044944123952,\n",
       " 6.489044944123952,\n",
       " 6.489044944123952,\n",
       " 6.489044944123952,\n",
       " 6.489044944123952,\n",
       " 6.489044944123952,\n",
       " 6.489044944123952,\n",
       " 6.489044944123952,\n",
       " 6.489044944123952,\n",
       " 6.489044944123952,\n",
       " 6.489044944123952,\n",
       " 6.489044944123952,\n",
       " 6.489044944123952,\n",
       " 6.489044944123952,\n",
       " 6.489044944123952,\n",
       " 6.489044944123952,\n",
       " 6.489044944123952,\n",
       " 6.489044944123952,\n",
       " 6.489044944123952,\n",
       " 6.489044944123952,\n",
       " 6.489044944123952,\n",
       " 6.489044944123952,\n",
       " 6.489044944123952,\n",
       " 6.489044944123952,\n",
       " 6.543112165394228,\n",
       " 6.543112165394228,\n",
       " 6.543112165394228,\n",
       " 6.543112165394228,\n",
       " 6.543112165394228,\n",
       " 6.543112165394228,\n",
       " 6.543112165394228,\n",
       " 6.543112165394228,\n",
       " 6.543112165394228,\n",
       " 6.543112165394228,\n",
       " 6.543112165394228,\n",
       " 6.543112165394228,\n",
       " 6.543112165394228,\n",
       " 6.543112165394228,\n",
       " 6.543112165394228,\n",
       " 6.543112165394228,\n",
       " 6.543112165394228,\n",
       " 6.543112165394228,\n",
       " 6.543112165394228,\n",
       " 6.543112165394228,\n",
       " 6.543112165394228,\n",
       " 6.543112165394228,\n",
       " 6.543112165394228,\n",
       " 6.543112165394228,\n",
       " 6.543112165394228,\n",
       " 6.543112165394228,\n",
       " 6.543112165394228,\n",
       " 6.543112165394228,\n",
       " 6.543112165394228,\n",
       " 6.543112165394228,\n",
       " 6.543112165394228,\n",
       " 6.543112165394228,\n",
       " 6.543112165394228,\n",
       " 6.600270579234176,\n",
       " 6.600270579234176,\n",
       " 6.600270579234176,\n",
       " 6.600270579234176,\n",
       " 6.600270579234176,\n",
       " 6.600270579234176,\n",
       " 6.600270579234176,\n",
       " 6.600270579234176,\n",
       " 6.600270579234176,\n",
       " 6.600270579234176,\n",
       " 6.600270579234176,\n",
       " 6.600270579234176,\n",
       " 6.600270579234176,\n",
       " 6.600270579234176,\n",
       " 6.600270579234176,\n",
       " 6.600270579234176,\n",
       " 6.600270579234176,\n",
       " 6.600270579234176,\n",
       " 6.600270579234176,\n",
       " 6.600270579234176,\n",
       " 6.600270579234176,\n",
       " 6.600270579234176,\n",
       " 6.600270579234176,\n",
       " 6.600270579234176,\n",
       " 6.600270579234176,\n",
       " 6.600270579234176,\n",
       " 6.600270579234176,\n",
       " 6.600270579234176,\n",
       " 6.660895201050611,\n",
       " 6.660895201050611,\n",
       " 6.660895201050611,\n",
       " 6.660895201050611,\n",
       " 6.660895201050611,\n",
       " 6.660895201050611,\n",
       " 6.660895201050611,\n",
       " 6.660895201050611,\n",
       " 6.660895201050611,\n",
       " 6.660895201050611,\n",
       " 6.660895201050611,\n",
       " 6.660895201050611,\n",
       " 6.660895201050611,\n",
       " 6.660895201050611,\n",
       " 6.660895201050611,\n",
       " 6.660895201050611,\n",
       " 6.660895201050611,\n",
       " 6.660895201050611,\n",
       " 6.660895201050611,\n",
       " 6.660895201050611,\n",
       " 6.660895201050611,\n",
       " 6.660895201050611,\n",
       " 6.660895201050611,\n",
       " 6.660895201050611,\n",
       " 6.660895201050611,\n",
       " 6.660895201050611,\n",
       " 6.660895201050611,\n",
       " 6.660895201050611,\n",
       " 6.660895201050611,\n",
       " 6.660895201050611,\n",
       " 6.660895201050611,\n",
       " 6.660895201050611,\n",
       " 6.725433722188183,\n",
       " 6.725433722188183,\n",
       " 6.725433722188183,\n",
       " 6.725433722188183,\n",
       " 6.725433722188183,\n",
       " 6.725433722188183,\n",
       " 6.725433722188183,\n",
       " 6.725433722188183,\n",
       " 6.725433722188183,\n",
       " 6.725433722188183,\n",
       " 6.725433722188183,\n",
       " 6.725433722188183,\n",
       " 6.725433722188183,\n",
       " 6.725433722188183,\n",
       " 6.725433722188183,\n",
       " 6.725433722188183,\n",
       " 6.725433722188183,\n",
       " 6.725433722188183,\n",
       " 6.725433722188183,\n",
       " 6.725433722188183,\n",
       " 6.725433722188183,\n",
       " 6.725433722188183,\n",
       " 6.725433722188183,\n",
       " 6.725433722188183,\n",
       " 6.725433722188183,\n",
       " 6.725433722188183,\n",
       " 6.725433722188183,\n",
       " 6.725433722188183,\n",
       " 6.725433722188183,\n",
       " 6.725433722188183,\n",
       " 6.725433722188183,\n",
       " 6.725433722188183,\n",
       " 6.725433722188183,\n",
       " 6.725433722188183,\n",
       " 6.725433722188183,\n",
       " 6.725433722188183,\n",
       " 6.725433722188183,\n",
       " 6.725433722188183,\n",
       " 6.725433722188183,\n",
       " 6.725433722188183,\n",
       " 6.725433722188183,\n",
       " 6.725433722188183,\n",
       " 6.725433722188183,\n",
       " 6.794426593675134,\n",
       " 6.794426593675134,\n",
       " 6.794426593675134,\n",
       " 6.794426593675134,\n",
       " 6.794426593675134,\n",
       " 6.794426593675134,\n",
       " ...]"
      ]
     },
     "execution_count": 29,
     "metadata": {},
     "output_type": "execute_result"
    }
   ],
   "source": [
    "list(result.values())"
   ]
  },
  {
   "cell_type": "code",
   "execution_count": 47,
   "metadata": {},
   "outputs": [
    {
     "name": "stdout",
     "output_type": "stream",
     "text": [
      "i : 0\n",
      "i : 5000\n",
      "i : 10000\n"
     ]
    }
   ],
   "source": [
    "'''\n",
    "Emotion words histogram\n",
    "'''\n",
    "read_files = glob.glob(negTrainDir + '*.txt')\n",
    "\n",
    "counterNegEmos = Counter('')\n",
    "i = 0\n",
    "\n",
    "for infile in read_files:\n",
    "    with open(infile, 'r', errors='replace') as f:\n",
    "        text = f.read()\n",
    "        doc = nlp(text)\n",
    "        counterNegEmos += analyzeEmotionWords(doc, emos) \n",
    "        if (i % 5000 == 0): \n",
    "            print('i : ' + str(i))  \n",
    "        i += 1\n",
    "    "
   ]
  },
  {
   "cell_type": "code",
   "execution_count": 54,
   "metadata": {},
   "outputs": [
    {
     "data": {
      "image/png": "[encoded data removed]",
      "text/plain": [
       "<Figure size 1600x480 with 1 Axes>"
      ]
     },
     "metadata": {},
     "output_type": "display_data"
    }
   ],
   "source": [
    "N = len(read_files)\n",
    "counterNegEmosIdf = invDocFreq(counterNegEmos, N)\n",
    "plt.figure(num=None, figsize=(20, 6), dpi=80, facecolor='w', edgecolor='k')\n",
    "result = {k: v for k, v in sorted(counterNegEmosIdf.items(), key=lambda item: item[1])}\n",
    "labels = list(result.keys())[:20]\n",
    "values = list(result.values())[:20]\n",
    "indexes = np.arange(len(labels)) \n",
    "plt.bar(indexes, values, barwidth)\n",
    "plt.xticks(indexes + barwidth * 0.5, labels)\n",
    "plt.savefig('acl_neg_emos_idf.eps', format='eps')\n",
    "plt.show()"
   ]
  },
  {
   "cell_type": "code",
   "execution_count": 51,
   "metadata": {},
   "outputs": [
    {
     "name": "stdout",
     "output_type": "stream",
     "text": [
      "i : 0\n",
      "i : 5000\n",
      "i : 10000\n"
     ]
    }
   ],
   "source": [
    "read_files = glob.glob(negTrainDir + '*.txt')\n",
    "\n",
    "i = 0\n",
    "countNegTrain = 0\n",
    "\n",
    "for infile in read_files:\n",
    "    with open(infile, 'r', errors='replace') as f:\n",
    "        countNegTrain += totalWords(f) \n",
    "        if (i % 5000 == 0): \n",
    "            print('i : ' + str(i))  \n",
    "        i += 1  "
   ]
  },
  {
   "cell_type": "code",
   "execution_count": 53,
   "metadata": {},
   "outputs": [
    {
     "data": {
      "image/png": "[encoded data removed]",
      "text/plain": [
       "<Figure size 1600x480 with 1 Axes>"
      ]
     },
     "metadata": {},
     "output_type": "display_data"
    }
   ],
   "source": [
    "plt.figure(num=None, figsize=(20, 6), dpi=80, facecolor='w', edgecolor='k')\n",
    "labels, values = rankCounter(counterNegEmos)\n",
    "indexes = np.arange(len(labels))\n",
    "values = [v*1.0/countNegTrain for v in values] \n",
    "plt.bar(indexes, values, barwidth)\n",
    "plt.xticks(indexes + barwidth * 0.5, labels)\n",
    "plt.savefig('acl_neg_emos_df.eps', format='eps')\n",
    "plt.show()"
   ]
  },
  {
   "cell_type": "code",
   "execution_count": 24,
   "metadata": {},
   "outputs": [],
   "source": [
    "read_files = glob.glob(posTrainDir + '*.txt')\n",
    "countersPos, sizesPos = docTermFreq(read_files, emos)"
   ]
  },
  {
   "cell_type": "code",
   "execution_count": 29,
   "metadata": {},
   "outputs": [
    {
     "data": {
      "image/png": "[encoded data removed]",
      "text/plain": [
       "<Figure size 1600x480 with 1 Axes>"
      ]
     },
     "metadata": {},
     "output_type": "display_data"
    }
   ],
   "source": [
    "print(len(countersPos))\n",
    "print(len(sizesPos))\n",
    "\n",
    "plt.figure(num=None, figsize=(20, 6), dpi=80, facecolor='w', edgecolor='k')\n",
    "labels, values = rankCounter(countersPos[0])\n",
    "values = [v*1.0/sizesPos[0] for v in values]\n",
    "indexes = np.arange(len(labels)) \n",
    "plt.bar(indexes, values, barwidth)\n",
    "plt.xticks(indexes + barwidth * 0.5, labels)\n",
    "plt.show()"
   ]
  },
  {
   "cell_type": "code",
   "execution_count": 36,
   "metadata": {},
   "outputs": [],
   "source": [
    "tfsPos = termFreq(countersPos, sizesPos)"
   ]
  },
  {
   "cell_type": "code",
   "execution_count": 31,
   "metadata": {},
   "outputs": [],
   "source": [
    "counterPos, szPos = docFreq(countersPos)"
   ]
  },
  {
   "cell_type": "code",
   "execution_count": 32,
   "metadata": {},
   "outputs": [
    {
     "name": "stdout",
     "output_type": "stream",
     "text": [
      "12500\n"
     ]
    }
   ],
   "source": [
    "print(szPos)"
   ]
  },
  {
   "cell_type": "code",
   "execution_count": 33,
   "metadata": {},
   "outputs": [],
   "source": [
    "idfPos = invDocFreq(counterPos, szPos)"
   ]
  },
  {
   "cell_type": "code",
   "execution_count": 38,
   "metadata": {},
   "outputs": [],
   "source": [
    "tiPos = tfIdf(tfsPos, idfPos) "
   ]
  },
  {
   "cell_type": "code",
   "execution_count": 73,
   "metadata": {},
   "outputs": [
    {
     "name": "stdout",
     "output_type": "stream",
     "text": [
      "12500\n"
     ]
    },
    {
     "data": {
      "image/png": "[encoded data removed]",
      "text/plain": [
       "<Figure size 1600x480 with 1 Axes>"
      ]
     },
     "metadata": {},
     "output_type": "display_data"
    }
   ],
   "source": [
    "print(len(tiPos)) \n",
    "d = sortByValue(tiPos[0])\n",
    "plt.figure(num=None, figsize=(20, 6), dpi=80, facecolor='w', edgecolor='k')\n",
    "labels, values = list(d.keys())[:20], list(d.values())[:20]\n",
    "indexes = np.arange(len(labels)) \n",
    "plt.bar(indexes, values, barwidth)\n",
    "plt.xticks(indexes + barwidth * 0.5, labels)\n",
    "plt.show()"
   ]
  },
  {
   "cell_type": "code",
   "execution_count": 75,
   "metadata": {},
   "outputs": [
    {
     "data": {
      "text/plain": [
       "[0.015848411737350597,\n",
       " 0.014463614291079025,\n",
       " 0.013406723513478607,\n",
       " 0.013120417764408428,\n",
       " 0.012092057884733848,\n",
       " 0.012073509066607762,\n",
       " 0.01182630314757046,\n",
       " 0.01147825481100264,\n",
       " 0.010482431576478468,\n",
       " 0.009662359080192265,\n",
       " 0.00957989398130832,\n",
       " 0.004923366642841798,\n",
       " 0.0013077902758816477,\n",
       " 0.0,\n",
       " 0.0,\n",
       " 0.0,\n",
       " 0.0,\n",
       " 0.0,\n",
       " 0.0,\n",
       " 0.0]"
      ]
     },
     "execution_count": 75,
     "metadata": {},
     "output_type": "execute_result"
    }
   ],
   "source": [
    "emotionDict = processMoreSenseFile(WordSenseFile)"
   ]
  },
  {
   "cell_type": "code",
   "execution_count": null,
   "metadata": {},
   "outputs": [],
   "source": [
    "'''non-parametric comparison between corpus emotion score distributions'''\n",
    "counterPosScore = Counter()\n",
    "for c in countersPos: \n",
    "    s = scoreEmos(c)\n",
    "    counterPosScore[s] += 1"
   ]
  },
  {
   "cell_type": "code",
   "execution_count": null,
   "metadata": {},
   "outputs": [],
   "source": [
    "plt.figure(num=None, figsize=(20, 6), dpi=80, facecolor='w', edgecolor='k')\n",
    "labels, values = rankCounter(counterPosScore)\n",
    "indexes = np.arange(len(labels)) \n",
    "plt.bar(indexes, values, barwidth)\n",
    "plt.xticks(indexes + barwidth * 0.5, labels)\n",
    "plt.show()"
   ]
  },
  {
   "cell_type": "code",
   "execution_count": 79,
   "metadata": {},
   "outputs": [],
   "source": [
    "'''\n",
    "Emotion words histogram\n",
    "'''\n",
    "read_files = glob.glob(posTrainDir + '*.txt')\n",
    "\n",
    "posWordSize = []\n",
    "i = 0\n",
    "\n",
    "for infile in read_files:\n",
    "    with open(infile, 'r', errors='replace') as f:\n",
    "        text = f.read()\n",
    "        posWordSize.append(len(text.split()))"
   ]
  },
  {
   "cell_type": "code",
   "execution_count": 55,
   "metadata": {},
   "outputs": [
    {
     "name": "stdout",
     "output_type": "stream",
     "text": [
      "i : 0\n",
      "i : 5000\n",
      "i : 10000\n"
     ]
    }
   ],
   "source": [
    "'''\n",
    "Emotion words histogram\n",
    "'''\n",
    "read_files = glob.glob(posTrainDir + '*.txt')\n",
    "\n",
    "countersPosEmos = []\n",
    "i = 0\n",
    "\n",
    "for infile in read_files:\n",
    "    with open(infile, 'r', errors='replace') as f:\n",
    "        text = f.read()\n",
    "        doc = nlp(text)\n",
    "        countersPosEmos.append(analyzeEmotionWords(doc, emos))\n",
    "        if (i % 5000 == 0): \n",
    "            print('i : ' + str(i))  \n",
    "        i += 1"
   ]
  },
  {
   "cell_type": "code",
   "execution_count": 58,
   "metadata": {},
   "outputs": [],
   "source": [
    "posEmosScore = []\n",
    "\n",
    "for counter in countersPosEmos: \n",
    "    posEmosScore.append(sum(counter.values())) \n",
    " \n",
    "posEmosScore = np.array(posEmosScore)"
   ]
  },
  {
   "cell_type": "code",
   "execution_count": 80,
   "metadata": {},
   "outputs": [],
   "source": [
    "posEmosScoreF = [] \n",
    "for i in range(len(posEmosScore)):\n",
    "    posEmosScoreF.append(posEmosScore[i]*1.0/posWordSize[i])"
   ]
  },
  {
   "cell_type": "code",
   "execution_count": 66,
   "metadata": {},
   "outputs": [
    {
     "data": {
      "text/plain": [
       "DescribeResult(nobs=12500, minmax=(0, 98), mean=8.74208, variance=57.88354795743659, skewness=2.0736811623300326, kurtosis=6.749489467465132)"
      ]
     },
     "execution_count": 66,
     "metadata": {},
     "output_type": "execute_result"
    }
   ],
   "source": [
    "stats.describe(posEmosScore) "
   ]
  },
  {
   "cell_type": "code",
   "execution_count": 81,
   "metadata": {},
   "outputs": [
    {
     "data": {
      "text/plain": [
       "DescribeResult(nobs=12500, minmax=(0.0, 0.17647058823529413), mean=0.03697617418423747, variance=0.0003164569864784542, skewness=0.8821948663027178, kurtosis=2.6464527202981056)"
      ]
     },
     "execution_count": 81,
     "metadata": {},
     "output_type": "execute_result"
    }
   ],
   "source": [
    "stats.describe(posEmosScoreF)"
   ]
  },
  {
   "cell_type": "code",
   "execution_count": 59,
   "metadata": {},
   "outputs": [],
   "source": [
    "import pandas as pd\n",
    "import seaborn as sns \n",
    "from scipy import stats"
   ]
  },
  {
   "cell_type": "code",
   "execution_count": 98,
   "metadata": {},
   "outputs": [
    {
     "data": {
      "image/png": "[encoded data removed]",
      "text/plain": [
       "<Figure size 1600x480 with 1 Axes>"
      ]
     },
     "metadata": {},
     "output_type": "display_data"
    }
   ],
   "source": [
    "binwidth = 1\n",
    "plt.figure(num=None, figsize=(20, 6), dpi=80, facecolor='w', edgecolor='k')\n",
    "plt.hist(posEmosScore, density=True, bins=range(min(posEmosScore), 50, binwidth))  # `density=False` would make counts\n",
    "plt.savefig('acl_pos_emos_scores.eps', format='eps')\n",
    "plt.show()"
   ]
  },
  {
   "cell_type": "code",
   "execution_count": 99,
   "metadata": {},
   "outputs": [
    {
     "data": {
      "image/png": "[encoded data removed]",
      "text/plain": [
       "<Figure size 1600x480 with 1 Axes>"
      ]
     },
     "metadata": {},
     "output_type": "display_data"
    }
   ],
   "source": [
    "binwidth = 1\n",
    "plt.figure(num=None, figsize=(20, 6), dpi=80, facecolor='w', edgecolor='k')\n",
    "plt.hist(posEmosScoreF, density=True, bins=100)  # `density=False` would make counts\n",
    "plt.savefig('acl_pos_emos_scoresF.eps', format='eps')\n",
    "plt.show()"
   ]
  },
  {
   "cell_type": "code",
   "execution_count": 100,
   "metadata": {},
   "outputs": [],
   "source": [
    "'''\n",
    "Emotion words histogram\n",
    "'''\n",
    "read_files = glob.glob(negTrainDir + '*.txt')\n",
    "\n",
    "negWordSize = []\n",
    "i = 0\n",
    "\n",
    "for infile in read_files:\n",
    "    with open(infile, 'r', errors='replace') as f:\n",
    "        text = f.read()\n",
    "        negWordSize.append(len(text.split()))"
   ]
  },
  {
   "cell_type": "code",
   "execution_count": 72,
   "metadata": {},
   "outputs": [
    {
     "name": "stdout",
     "output_type": "stream",
     "text": [
      "i : 0\n",
      "i : 5000\n",
      "i : 10000\n"
     ]
    }
   ],
   "source": [
    "'''\n",
    "Emotion words histogram\n",
    "'''\n",
    "read_files = glob.glob(negTrainDir + '*.txt')\n",
    "\n",
    "countersNegEmos = []\n",
    "i = 0\n",
    "\n",
    "for infile in read_files:\n",
    "    with open(infile, 'r', errors='replace') as f:\n",
    "        text = f.read()\n",
    "        doc = nlp(text)\n",
    "        countersNegEmos.append(analyzeEmotionWords(doc, emos))\n",
    "        if (i % 5000 == 0): \n",
    "            print('i : ' + str(i))  \n",
    "        i += 1"
   ]
  },
  {
   "cell_type": "code",
   "execution_count": 93,
   "metadata": {},
   "outputs": [],
   "source": [
    "negEmosScore = []\n",
    "\n",
    "for counter in countersNegEmos: \n",
    "    negEmosScore.append(sum(counter.values()))\n",
    " \n",
    "negEmosScore = np.array(negEmosScore)"
   ]
  },
  {
   "cell_type": "code",
   "execution_count": 101,
   "metadata": {},
   "outputs": [],
   "source": [
    "negEmosScoreF = [] \n",
    "for i in range(len(negEmosScore)):\n",
    "    negEmosScoreF.append(negEmosScore[i]*1.0/negWordSize[i])"
   ]
  },
  {
   "cell_type": "code",
   "execution_count": 106,
   "metadata": {},
   "outputs": [
    {
     "data": {
      "text/plain": [
       "DescribeResult(nobs=12500, minmax=(0, 73), mean=9.36256, variance=55.37666037923033, skewness=2.0245750792996953, kurtosis=5.903842359512408)"
      ]
     },
     "execution_count": 106,
     "metadata": {},
     "output_type": "execute_result"
    }
   ],
   "source": [
    "stats.describe(negEmosScore)"
   ]
  },
  {
   "cell_type": "code",
   "execution_count": 103,
   "metadata": {},
   "outputs": [
    {
     "data": {
      "text/plain": [
       "DescribeResult(nobs=12500, minmax=(0.0, 0.1702127659574468), mean=0.041488810279563734, variance=0.00034849196944562386, skewness=0.8987107156360705, kurtosis=2.4156048201710787)"
      ]
     },
     "execution_count": 103,
     "metadata": {},
     "output_type": "execute_result"
    }
   ],
   "source": [
    "stats.describe(negEmosScoreF) "
   ]
  },
  {
   "cell_type": "code",
   "execution_count": 77,
   "metadata": {},
   "outputs": [
    {
     "data": {
      "image/png": "[encoded data removed]",
      "text/plain": [
       "<Figure size 1600x480 with 1 Axes>"
      ]
     },
     "metadata": {},
     "output_type": "display_data"
    }
   ],
   "source": [
    "binwidth = 1\n",
    "plt.figure(num=None, figsize=(20, 6), dpi=80, facecolor='w', edgecolor='k')\n",
    "plt.hist(negEmosScore, density=True, bins=range(min(negEmosScore), 50, binwidth))  # `density=False` would make counts\n",
    "plt.savefig('acl_neg_emos_scores.eps', format='eps')\n",
    "plt.show()"
   ]
  },
  {
   "cell_type": "code",
   "execution_count": 105,
   "metadata": {},
   "outputs": [
    {
     "data": {
      "image/png": "[encoded data removed]",
      "text/plain": [
       "<Figure size 1600x480 with 1 Axes>"
      ]
     },
     "metadata": {},
     "output_type": "display_data"
    }
   ],
   "source": [
    "binwidth = 1\n",
    "plt.figure(num=None, figsize=(20, 6), dpi=80, facecolor='w', edgecolor='k')\n",
    "plt.hist(negEmosScoreF, density=True, bins=100)  # `density=False` would make counts\n",
    "plt.savefig('acl_neg_emos_scoresF.eps', format='eps')\n",
    "plt.show()"
   ]
  },
  {
   "cell_type": "code",
   "execution_count": 107,
   "metadata": {},
   "outputs": [
    {
     "data": {
      "text/plain": [
       "MannwhitneyuResult(statistic=66774855.0, pvalue=2.3301721785579888e-88)"
      ]
     },
     "execution_count": 107,
     "metadata": {},
     "output_type": "execute_result"
    }
   ],
   "source": [
    "stats.mannwhitneyu(posEmosScoreF, negEmosScoreF)"
   ]
  },
  {
   "cell_type": "code",
   "execution_count": 112,
   "metadata": {},
   "outputs": [],
   "source": [
    "np.savetxt(statPosEmosF, posEmosScoreF, fmt=\"%f\")"
   ]
  },
  {
   "cell_type": "code",
   "execution_count": 113,
   "metadata": {},
   "outputs": [],
   "source": [
    "np.savetxt(statNegEmosF, negEmosScoreF, fmt=\"%f\")"
   ]
  },
  {
   "cell_type": "code",
   "execution_count": null,
   "metadata": {},
   "outputs": [],
   "source": []
  }
 ],
 "metadata": {
  "anaconda-cloud": {},
  "kernelspec": {
   "display_name": "Python 3",
   "language": "python",
   "name": "python3"
  },
  "language_info": {
   "codemirror_mode": {
    "name": "ipython",
    "version": 3
   },
   "file_extension": ".py",
   "mimetype": "text/x-python",
   "name": "python",
   "nbconvert_exporter": "python",
   "pygments_lexer": "ipython3",
   "version": "3.7.4"
  }
 },
 "nbformat": 4,
 "nbformat_minor": 1
}
