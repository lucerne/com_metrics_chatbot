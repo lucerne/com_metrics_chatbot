{
 "cells": [
  {
   "cell_type": "code",
   "execution_count": 1,
   "metadata": {},
   "outputs": [],
   "source": [
    "%load_ext autoreload\n",
    "%autoreload 2\n",
    "\n",
    "import spacy\n",
    "import numpy as np\n",
    "import matplotlib.pyplot as plt\n",
    "import os\n",
    "import glob\n",
    "import re\n",
    "from collections import Counter\n",
    "import numpy as np\n",
    "import matplotlib.pyplot as plt\n",
    "import json\n",
    "\n",
    "import os\n",
    "import sys\n",
    "module_path = os.path.abspath(os.path.join('..'))\n",
    "if module_path not in sys.path:\n",
    "    sys.path.append(module_path)\n",
    "\n",
    "from analysis_code.analyze_corpus import *"
   ]
  },
  {
   "cell_type": "code",
   "execution_count": 2,
   "metadata": {},
   "outputs": [],
   "source": [
    "plt.rcParams.update({'font.size': 11})\n",
    "barwidth = 0.8"
   ]
  },
  {
   "cell_type": "code",
   "execution_count": 4,
   "metadata": {},
   "outputs": [],
   "source": [
    "# Positive training dataset\n",
    "posTrainDir = '/home/dashi/lulu/corpus/aclImdb/train/pos/'\n",
    "# Negative training dataset\n",
    "negTrainDir = '/home/dashi/lulu/corpus/aclImdb/train/neg/'\n",
    "exampleDir = '/home/dashi/lulu/corpus/aclImdb/sample/'\n",
    "filename = '/home/dashi/lulu/examples/data/9_4.txt'"
   ]
  },
  {
   "cell_type": "code",
   "execution_count": 5,
   "metadata": {},
   "outputs": [],
   "source": [
    "nlp = spacy.load('en_core_web_md')"
   ]
  },
  {
   "cell_type": "code",
   "execution_count": 6,
   "metadata": {},
   "outputs": [],
   "source": [
    "emos = loadEmotionWords('/home/dashi/lulu/corpus/NRC-Emotion-Lexicon-v0.92/Generated-EmotionWords.txt')"
   ]
  },
  {
   "cell_type": "code",
   "execution_count": 7,
   "metadata": {},
   "outputs": [
    {
     "name": "stdout",
     "output_type": "stream",
     "text": [
      "Counter({'DET': 3, 'AUX': 2, 'NOUN': 2, 'PUNCT': 2, 'ADJ': 1, 'ADV': 1})\n"
     ]
    }
   ],
   "source": [
    "parsed_text = 'This is an awesome sentence. Where is the cat?'\n",
    "doc = nlp(parsed_text)\n",
    "counter = analyzePOS(doc)\n",
    "print(counter)"
   ]
  },
  {
   "cell_type": "code",
   "execution_count": 4,
   "metadata": {},
   "outputs": [],
   "source": [
    "filename = '/home/dashi/lulu/examples/data/example_out.json'\n",
    "with open(filename, 'w+') as f:\n",
    "    json.dump(counter, f)"
   ]
  },
  {
   "cell_type": "code",
   "execution_count": 5,
   "metadata": {},
   "outputs": [
    {
     "name": "stdout",
     "output_type": "stream",
     "text": [
      "SENTENCE : This is an awesome sentence.\n",
      "SENTENCE : Where is the cat?\n",
      "Counter({5: 1, 6: 1})\n"
     ]
    }
   ],
   "source": [
    "parsed_text = 'This is an awesome sentence. Where is the cat?'\n",
    "doc = nlp(parsed_text)\n",
    "counter = analyzeSentence(doc)\n",
    "print(counter)"
   ]
  },
  {
   "cell_type": "code",
   "execution_count": 6,
   "metadata": {},
   "outputs": [
    {
     "name": "stdout",
     "output_type": "stream",
     "text": [
      "Counter({2: 3, 1: 2, 3: 2, 4: 1, 5: 1, 7: 1, 8: 1})\n"
     ]
    }
   ],
   "source": [
    "parsed_text = 'This is an awesome sentence. Where is the cat?'\n",
    "doc = nlp(parsed_text)\n",
    "counter = analyzeWordLength(doc)\n",
    "print(counter)"
   ]
  },
  {
   "cell_type": "code",
   "execution_count": 7,
   "metadata": {},
   "outputs": [
    {
     "name": "stdout",
     "output_type": "stream",
     "text": [
      "Counter({'?': 1, '.': 1})\n"
     ]
    }
   ],
   "source": [
    "parsed_text = 'This is an awesome sentence. Where is the cat?'\n",
    "doc = nlp(parsed_text)\n",
    "counter = analyzePunctuation(doc)\n",
    "print(counter)"
   ]
  },
  {
   "cell_type": "code",
   "execution_count": 8,
   "metadata": {},
   "outputs": [
    {
     "name": "stdout",
     "output_type": "stream",
     "text": [
      "0.18181818181818182\n"
     ]
    }
   ],
   "source": [
    "parsed_text = 'This is an awesome sentence. Where is the cat?'\n",
    "doc = nlp(parsed_text)\n",
    "counterPos = analyzePOS(doc)\n",
    "counterPunc = analyzePunctuation(doc)\n",
    "print(sumCounter(counterPunc) / sumCounter(counterPos)) "
   ]
  },
  {
   "cell_type": "code",
   "execution_count": 9,
   "metadata": {},
   "outputs": [
    {
     "name": "stdout",
     "output_type": "stream",
     "text": [
      "Counter({'it': 2, 'what': 1, 'who': 1, 'him': 1, 'their': 1, 'my': 1})\n"
     ]
    }
   ],
   "source": [
    "parsed_text = 'This is an awesome sentence. My is better. Their food is worse. It is it. Who is good? What is in him?'\n",
    "doc = nlp(parsed_text)\n",
    "counterPunc = analyzePronoun(doc)\n",
    "print(counterPunc) "
   ]
  },
  {
   "cell_type": "code",
   "execution_count": 10,
   "metadata": {},
   "outputs": [
    {
     "name": "stdout",
     "output_type": "stream",
     "text": [
      "Counter({'it': 2, 'him': 1})\n"
     ]
    }
   ],
   "source": [
    "parsed_text = 'This is an awesome sentence. My is better. Their food is worse. It is it. Who is good? What is in him?'\n",
    "doc = nlp(parsed_text)\n",
    "counterPRP = analyzePronounPRP(doc)\n",
    "print(counterPRP) "
   ]
  },
  {
   "cell_type": "code",
   "execution_count": 11,
   "metadata": {},
   "outputs": [
    {
     "name": "stdout",
     "output_type": "stream",
     "text": [
      "Counter({'their': 1, 'my': 1})\n"
     ]
    }
   ],
   "source": [
    "parsed_text = 'This is an awesome sentence. My is better. Their food is worse. It is it. Who is good? What is in him?'\n",
    "doc = nlp(parsed_text)\n",
    "counterPRPD = analyzePronounPRPD(doc)\n",
    "print(counterPRPD) "
   ]
  },
  {
   "cell_type": "code",
   "execution_count": 12,
   "metadata": {},
   "outputs": [
    {
     "name": "stdout",
     "output_type": "stream",
     "text": [
      "Counter({'what': 1, 'who': 1})\n"
     ]
    }
   ],
   "source": [
    "parsed_text = 'This is an awesome sentence. My is better. Their food is worse. It is it. Who is good? What is in him?'\n",
    "doc = nlp(parsed_text)\n",
    "counterPWP = analyzePronounWP(doc)\n",
    "print(counterPWP) "
   ]
  },
  {
   "cell_type": "code",
   "execution_count": 13,
   "metadata": {},
   "outputs": [
    {
     "name": "stdout",
     "output_type": "stream",
     "text": [
      "Counter()\n"
     ]
    }
   ],
   "source": [
    "parsed_text = 'This is an awesome sentence. My is better. Their food is worse. It is it. Who is good? What is in him?'\n",
    "doc = nlp(parsed_text)\n",
    "counterPWPD = analyzePronounWPD(doc)\n",
    "print(counterPWPD) "
   ]
  },
  {
   "cell_type": "code",
   "execution_count": 14,
   "metadata": {},
   "outputs": [
    {
     "name": "stdout",
     "output_type": "stream",
     "text": [
      "Counter({'PRP': 3, 'PRP$': 2, 'WP': 2})\n"
     ]
    }
   ],
   "source": [
    "parsed_text = 'This is an awesome sentence. My is better. Their food is worse. It is it. Who is good? What is in him?'\n",
    "doc = nlp(parsed_text)\n",
    "counterPCat = analyzePronounCategories(doc)\n",
    "print(counterPCat) "
   ]
  },
  {
   "cell_type": "code",
   "execution_count": 15,
   "metadata": {},
   "outputs": [
    {
     "name": "stdout",
     "output_type": "stream",
     "text": [
      "Counter({'be': 2, 'rain': 1, 'run': 1})\n"
     ]
    }
   ],
   "source": [
    "parsed_text = 'This is an awesome sentence. I am running. It rains.'\n",
    "doc = nlp(parsed_text)\n",
    "counterVerb = analyzeVerb(doc)\n",
    "print(counterVerb) "
   ]
  },
  {
   "cell_type": "code",
   "execution_count": 5,
   "metadata": {},
   "outputs": [
    {
     "data": {
      "text/plain": [
       "Counter({'! good': 1, '! sentence': 1})"
      ]
     },
     "execution_count": 5,
     "metadata": {},
     "output_type": "execute_result"
    }
   ],
   "source": [
    "parsed_text = 'This is not a good sentence. I am running. It rains.'\n",
    "doc = nlp(parsed_text)\n",
    "analyzeEmotionWords(doc, emos)\n",
    "# counterEmo = analyzeEmotionWords(doc, emos)\n",
    "# print(counterEmo) "
   ]
  },
  {
   "cell_type": "code",
   "execution_count": 16,
   "metadata": {},
   "outputs": [
    {
     "data": {
      "image/png": "[encoded data removed]",
      "text/plain": [
       "<matplotlib.figure.Figure at 0x7f637f1da0b8>"
      ]
     },
     "metadata": {},
     "output_type": "display_data"
    }
   ],
   "source": [
    "labels, values = rankCounter(counter)\n",
    "indexes = np.arange(len(labels))\n",
    "width = 1\n",
    "plt.bar(indexes, values, width)\n",
    "plt.xticks(indexes + width * 0.5, labels)\n",
    "plt.show()"
   ]
  },
  {
   "cell_type": "code",
   "execution_count": 17,
   "metadata": {},
   "outputs": [
    {
     "data": {
      "image/png": "[encoded data removed]",
      "text/plain": [
       "<matplotlib.figure.Figure at 0x7f637f1fb128>"
      ]
     },
     "metadata": {},
     "output_type": "display_data"
    }
   ],
   "source": [
    "labels, values = rankCounter(counter)\n",
    "indexes = np.arange(len(labels))\n",
    "width = 1\n",
    "plt.bar(indexes, values, width)\n",
    "plt.xticks(indexes + width * 0.5, labels)\n",
    "plt.show()"
   ]
  },
  {
   "cell_type": "code",
   "execution_count": 18,
   "metadata": {},
   "outputs": [
    {
     "data": {
      "image/png": "[encoded data removed]",
      "text/plain": [
       "<matplotlib.figure.Figure at 0x7f638d82c208>"
      ]
     },
     "metadata": {},
     "output_type": "display_data"
    }
   ],
   "source": [
    "if __name__ == \"__main__\":  \n",
    "    with open(filename, 'r') as f:\n",
    "        text = f.read()\n",
    "        nlp = spacy.load('en_core_web_md')\n",
    "        doc = nlp(text)\n",
    "        counter = analyzePOS(doc)\n",
    "        \n",
    "        plt.figure(num=None, figsize=(20, 6), dpi=80, facecolor='w', edgecolor='k')\n",
    "\n",
    "        labels, values = rankCounter(counter)\n",
    "        indexes = np.arange(len(labels))\n",
    "        width = 1\n",
    "        plt.bar(indexes, values, width)\n",
    "        plt.xticks(indexes + width * 0.5, labels)\n",
    "        plt.show()\n",
    "    f.close()\n",
    "                \n"
   ]
  },
  {
   "cell_type": "code",
   "execution_count": 21,
   "metadata": {},
   "outputs": [
    {
     "name": "stdout",
     "output_type": "stream",
     "text": [
      "i : 0\n",
      "i : 1\n",
      "i : 2\n"
     ]
    },
    {
     "data": {
      "image/png": "[encoded data removed]",
      "text/plain": [
       "<matplotlib.figure.Figure at 0x7f637f1b38d0>"
      ]
     },
     "metadata": {},
     "output_type": "display_data"
    }
   ],
   "source": [
    "'''\n",
    "POS histogram\n",
    "error: doc input string cannot succeed 1 million characters\n",
    "problem: iterating over text is too slow, parallelize\n",
    "'''\n",
    "\n",
    "# read_files = glob.glob(\"/home/luluvyd/corpus/aclImdb/train/pos/*.txt\")\n",
    "read_files = glob.glob(directory + '*.txt')\n",
    "\n",
    "counter = Counter('')\n",
    "i = 0\n",
    "\n",
    "for infile in read_files:\n",
    "    print('i : ' + str(i))\n",
    "    with open(infile, 'r', errors='replace') as f:\n",
    "        text = f.read()\n",
    "        doc = nlp(text)\n",
    "        counter = analyzePOS(doc)\n",
    "        i += 1\n",
    "        \n",
    "        \n",
    "plt.figure(num=None, figsize=(20, 6), dpi=80, facecolor='w', edgecolor='k')\n",
    "labels, values = rankCounter(counter)\n",
    "indexes = np.arange(len(labels))\n",
    "width = 1\n",
    "plt.bar(indexes, values, width)\n",
    "plt.xticks(indexes + width * 0.5, labels)\n",
    "plt.show()"
   ]
  },
  {
   "cell_type": "code",
   "execution_count": 22,
   "metadata": {},
   "outputs": [
    {
     "name": "stdout",
     "output_type": "stream",
     "text": [
      "i : 0\n",
      "SENTENCE : At first glance, this film looks like the Keifer Sutherland series 24 for the big screen.\n",
      "SENTENCE : With the focus on a plot to assassinate the President of the United States, a race against time, and plenty of Secret Service agents, the agency under the spotlight in The Sentinel.<br\n",
      "SENTENCE : /><br\n",
      "SENTENCE : />But\n",
      "SENTENCE : wait, the protagonist turns out to be Michael Douglas' character Pete Garrison instead, a veteran Secret Service agent famed for taking the bullet for Reagan in 1981.\n",
      "SENTENCE : The SS agents are specially trained to \"take the bullet\", which is what makes them special - who in the right mind will put themselves in the line of a bullet and a target?\n",
      "SENTENCE : But Garrison gets implicated in the assassination plot, and has to run for his life while at the same time doing his bit of investigations into the plot.\n",
      "SENTENCE : All this because of his failure in a polygraph test, due to his adulterous banging of the First Lady (Kim Basinger).\n",
      "SENTENCE : Tsk.<br\n",
      "SENTENCE : /><br\n",
      "SENTENCE : />There are shades of Clint Eastwood's\n",
      "SENTENCE : In the Line of Fire.\n",
      "SENTENCE : Both featured aging actors, and aging veteran has-been heroes with a bit of a historical reference, who took the bullet in their respective tours of duty.\n",
      "SENTENCE : While Eastwood's movie has a more enigmatic villain in John Malkovich, The Sentinel suffered from its lack of a central strong villain, preferring to share the assassination responsibility amongst many forgettable ex-KGB villains, and the mole within the Presidential Detail.\n",
      "SENTENCE : With Douglas on the run from the law, he becomes similar to Dr. Richard Kimble of The Fugitive, hunting the proverbial one-armed man while at the same time, relying on his smarts to outwit fellow agents, which turned out to be quite interesting to watch - despite slick processes, it still boils down to the performance and gullibility of individual agents.<br\n",
      "SENTENCE : /><br\n",
      "SENTENCE : />Keifer Sutherland and Eva Longoria, top TV stars of today from 24 and Desperate Housewives, get relegated into support roles as the Secret Service investigators who are looking into Garrison's probable involvement in the assassination plot, and at times seem to have lept off the pages of CSI with their forensics skills.\n",
      "SENTENCE : The beautiful couple had chemistry that could have resembled X-Files' Fox Mulder and Dana Scully, but alas these two had very little to do here.\n",
      "SENTENCE : We know the reason why they're in the movie, and that is to get their fans into the theatres.\n",
      "SENTENCE : Also, Longoria's role seemed unable to shake off her sexy-mama Gabrielle, and here, has her in fairly low cut blouses (Sutherland actually tells her to cover up) and tight pants (ogle-fest for fellow agents).<br\n",
      "SENTENCE : /><br\n",
      "SENTENCE : />Nonetheless, it's still a pretty interesting look into the lives of probably the most highly charged and tense protection detail in the world, and the typical threats that they face daily, including the following up on every nutcase's threat on the life of the most powerful man in the world.\n",
      "SENTENCE : It's a decent suspense and investigative thriller, with enough subplots to keep you entertained.\n",
      "SENTENCE : But one thing though, like most ending action sequences, this one has a big enough loophole for you to fly a jumbo jet through.\n",
      "i : 1\n",
      "SENTENCE : Working-class romantic drama from director Martin Ritt is as unbelievable as they come, yet there are moments of pleasure due mostly to the charisma of stars Jane Fonda and Robert De Niro (both terrific).\n",
      "SENTENCE : She's a widow who can't move on, he's illiterate and a closet-inventor--you can probably guess the rest.\n",
      "SENTENCE : Adaptation of Pat Barker's novel \"Union Street\" (a better title!) is so laid-back\n",
      "SENTENCE : it verges on bland, and\n",
      "SENTENCE : the film's editing is a mess, but it's still pleasant; a rosy-hued blue-collar fantasy.\n",
      "SENTENCE : There are no overtures to serious issues (even the illiteracy angle is just a plot-tool for the ensuing love story) and no real fireworks, though the characters are intentionally a bit colorless and the leads are toned down to an interesting degree.\n",
      "SENTENCE : The finale is pure fluff--and cynics will find it difficult to swallow--though these two characters deserve a happy ending and the picture wouldn't really be satisfying any other way.\n",
      "SENTENCE : *\n",
      "SENTENCE : *\n",
      "SENTENCE : * from\n",
      "SENTENCE : ***\n",
      "SENTENCE : *\n",
      "i : 2\n",
      "SENTENCE : A Christmas\n",
      "SENTENCE : Together actually came before my time, but I've been raised on John Denver and the songs from this special\n",
      "SENTENCE : were always my family's Christmas music.\n",
      "SENTENCE : For years we had a crackling cassette made from a record that meant it was Christmas.\n",
      "SENTENCE : A few years ago, I was finally able to track down a video of it on Ebay, so after listening to all the music for some 21 years, I got to see John and the Muppets in action for myself.\n",
      "SENTENCE : If you ever get the chance, it's a lot of fun--great music, heart-warming and cheesy.\n",
      "SENTENCE : It's also interesting to see the 70's versions of the Muppets and compare them to their newer versions today.\n",
      "SENTENCE : I believe Denver actually took some heat for doing a show like this--I guess normally performers don't compromise their images by doing sing-a-longs with the Muppets,\n",
      "SENTENCE : but I'm glad he did.\n",
      "SENTENCE : Even if you can't track down the video, the soundtrack is worth it too.\n",
      "SENTENCE : It has some Muppified traditional favorites, but also some original Denver tunes as well.\n"
     ]
    },
    {
     "data": {
      "image/png": "[encoded data removed]",
      "text/plain": [
       "<matplotlib.figure.Figure at 0x7f638cb52198>"
      ]
     },
     "metadata": {},
     "output_type": "display_data"
    }
   ],
   "source": [
    "'''\n",
    "Sentence length histogram\n",
    "error: doc input string cannot succeed 1 million characters\n",
    "problem: non-edited opinion text can have long and publish unaccepted sentence structures\n",
    "'''\n",
    "\n",
    "# read_files = glob.glob(\"/home/luluvyd/corpus/aclImdb/train/pos/*.txt\")\n",
    "read_files = glob.glob(directory + '*.txt')\n",
    "\n",
    "counter = Counter('')\n",
    "i = 0\n",
    "\n",
    "for infile in read_files:\n",
    "    print('i : ' + str(i))\n",
    "    with open(infile, 'r', errors='replace') as f:\n",
    "        text = f.read()\n",
    "        doc = nlp(text)\n",
    "        counter += analyzeSentence(doc) \n",
    "        i += 1\n",
    "        \n",
    "        \n",
    "plt.figure(num=None, figsize=(20, 6), dpi=80, facecolor='w', edgecolor='k')\n",
    "labels, values = rankCounter(counter)\n",
    "indexes = np.arange(len(labels))\n",
    "width = 1\n",
    "plt.bar(indexes, values, width)\n",
    "plt.xticks(indexes + width * 0.5, labels)\n",
    "plt.show()"
   ]
  },
  {
   "cell_type": "code",
   "execution_count": 23,
   "metadata": {},
   "outputs": [
    {
     "name": "stdout",
     "output_type": "stream",
     "text": [
      "i : 0\n",
      "i : 1\n",
      "i : 2\n",
      "average word lengths is : 4.118343195266272\n"
     ]
    },
    {
     "data": {
      "image/png": "[encoded data removed]",
      "text/plain": [
       "<matplotlib.figure.Figure at 0x7f637f211c50>"
      ]
     },
     "metadata": {},
     "output_type": "display_data"
    },
    {
     "data": {
      "text/plain": [
       "Counter({1: 9,\n",
       "         2: 2,\n",
       "         3: 1,\n",
       "         6: 2,\n",
       "         7: 2,\n",
       "         8: 1,\n",
       "         16: 1,\n",
       "         17: 3,\n",
       "         18: 1,\n",
       "         21: 2,\n",
       "         22: 2,\n",
       "         23: 2,\n",
       "         25: 1,\n",
       "         26: 1,\n",
       "         27: 1,\n",
       "         30: 2,\n",
       "         31: 2,\n",
       "         34: 1,\n",
       "         35: 2,\n",
       "         38: 1,\n",
       "         40: 1,\n",
       "         44: 1,\n",
       "         45: 1,\n",
       "         47: 1,\n",
       "         48: 1,\n",
       "         56: 1,\n",
       "         57: 1,\n",
       "         68: 1})"
      ]
     },
     "execution_count": 23,
     "metadata": {},
     "output_type": "execute_result"
    }
   ],
   "source": [
    "'''\n",
    "Word lengths histogram \n",
    "error: doc input string cannot succeed 1 million characters\n",
    "'''\n",
    "\n",
    "# read_files = glob.glob(\"/home/luluvyd/corpus/aclImdb/train/pos/*.txt\")\n",
    "read_files = glob.glob(directory + '*.txt')\n",
    "\n",
    "counterWord = Counter('')\n",
    "i = 0\n",
    "\n",
    "for infile in read_files:\n",
    "    print('i : ' + str(i))\n",
    "    with open(infile, 'r', errors='replace') as f:\n",
    "        text = f.read()\n",
    "        doc = nlp(text)\n",
    "        counterWord += analyzeWordLength(doc) \n",
    "        i += 1\n",
    "\n",
    "mean = sum([k*v for k, v in counterWord.items()]) / sumCounter(counterWord)\n",
    "print('average word lengths is : ' + str(mean))\n",
    "\n",
    "plt.figure(num=None, figsize=(20, 6), dpi=80, facecolor='w', edgecolor='k')\n",
    "labels, values = rankCounter(counterWord)\n",
    "indexes = np.arange(len(labels))\n",
    "width = 1\n",
    "plt.bar(indexes, values, width)\n",
    "plt.xticks(indexes + width * 0.5, labels)\n",
    "plt.show()\n",
    "\n",
    "counter"
   ]
  },
  {
   "cell_type": "code",
   "execution_count": 24,
   "metadata": {},
   "outputs": [
    {
     "name": "stdout",
     "output_type": "stream",
     "text": [
      "i : 0\n",
      "i : 1\n",
      "i : 2\n",
      "percent of puncutation symbol is : 12.52465483234714\n"
     ]
    },
    {
     "data": {
      "image/png": "[encoded data removed]",
      "text/plain": [
       "<matplotlib.figure.Figure at 0x7f637f214080>"
      ]
     },
     "metadata": {},
     "output_type": "display_data"
    }
   ],
   "source": [
    "'''\n",
    "Punctuation histogram\n",
    "Percentage of punctuation out of total number of words\n",
    "'''\n",
    "\n",
    "# read_files = glob.glob(\"/home/luluvyd/corpus/aclImdb/train/pos/*.txt\")\n",
    "read_files = glob.glob(directory + '*.txt')\n",
    "\n",
    "counterPun = Counter('')\n",
    "i = 0\n",
    "\n",
    "for infile in read_files:\n",
    "    print('i : ' + str(i))\n",
    "    with open(infile, 'r', errors='replace') as f:\n",
    "        text = f.read()\n",
    "        doc = nlp(text)\n",
    "        counterPun += analyzePunctuation(doc) \n",
    "        i += 1\n",
    "pert = sumCounter(counterPun) / sumCounter(counterWord)*100\n",
    "print('percent of puncutation symbol is : ' + str(pert))\n",
    "        \n",
    "plt.figure(num=None, figsize=(20, 6), dpi=80, facecolor='w', edgecolor='k')\n",
    "labels, values = rankCounter(counterPun)\n",
    "indexes = np.arange(len(labels))\n",
    "width = 1\n",
    "plt.bar(indexes, values, width)\n",
    "plt.xticks(indexes + width * 0.5, labels)\n",
    "plt.show()"
   ]
  },
  {
   "cell_type": "code",
   "execution_count": 25,
   "metadata": {},
   "outputs": [
    {
     "name": "stdout",
     "output_type": "stream",
     "text": [
      "i : 0\n",
      "i : 1\n",
      "i : 2\n",
      "Counter({'it': 12, 'i': 6, 'you': 5, 'his': 5, 'their': 5, 'who': 4, 'he': 3, 'her': 3, 'they': 3, 'them': 2, 'my': 2, 'we': 2, 'themselves': 1, 'its': 1, 'myself': 1, 'what': 1, 'she': 1})\n"
     ]
    },
    {
     "data": {
      "image/png": "[encoded data removed]",
      "text/plain": [
       "<matplotlib.figure.Figure at 0x7f637ed53ac8>"
      ]
     },
     "metadata": {},
     "output_type": "display_data"
    }
   ],
   "source": [
    "'''\n",
    "Punctuation histogram\n",
    "Percentage of punctuation out of total number of words\n",
    "'''\n",
    "read_files = glob.glob(directory + '*.txt')\n",
    "\n",
    "counterPron = Counter('')\n",
    "i = 0\n",
    "\n",
    "for infile in read_files:\n",
    "    print('i : ' + str(i))\n",
    "    with open(infile, 'r', errors='replace') as f:\n",
    "        text = f.read()\n",
    "        doc = nlp(text)\n",
    "        counterPron += analyzePronoun(doc) \n",
    "        i += 1\n",
    "    \n",
    "print(counterPron)\n",
    "plt.figure(num=None, figsize=(20, 6), dpi=80, facecolor='w', edgecolor='k')\n",
    "labels, values = rankCounter(counterPron)\n",
    "indexes = np.arange(len(labels))\n",
    "width = 1\n",
    "plt.bar(indexes, values, width)\n",
    "plt.xticks(indexes + width * 0.5, labels)\n",
    "plt.show()"
   ]
  },
  {
   "cell_type": "code",
   "execution_count": 26,
   "metadata": {},
   "outputs": [
    {
     "name": "stdout",
     "output_type": "stream",
     "text": [
      "i : 0\n",
      "i : 1\n",
      "i : 2\n",
      "Counter({'it': 12, 'i': 6, 'you': 5, 'his': 5, 'their': 5, 'who': 4, 'he': 3, 'her': 3, 'they': 3, 'them': 2, 'my': 2, 'we': 2, 'themselves': 1, 'its': 1, 'myself': 1, 'what': 1, 'she': 1})\n"
     ]
    },
    {
     "data": {
      "image/png": "[encoded data removed]",
      "text/plain": [
       "<matplotlib.figure.Figure at 0x7f637ed47940>"
      ]
     },
     "metadata": {},
     "output_type": "display_data"
    }
   ],
   "source": [
    "'''\n",
    "Pronoun, personal histogram\n",
    "Percentage of punctuation out of total number of words\n",
    "'''\n",
    "read_files = glob.glob(directory + '*.txt')\n",
    "\n",
    "counterPronPRP = Counter('')\n",
    "i = 0\n",
    "\n",
    "for infile in read_files:\n",
    "    print('i : ' + str(i))\n",
    "    with open(infile, 'r', errors='replace') as f:\n",
    "        text = f.read()\n",
    "        doc = nlp(text)\n",
    "        counterPronPRP += analyzePronounPRP(doc) \n",
    "        i += 1\n",
    "    \n",
    "print(counterPron)\n",
    "plt.figure(num=None, figsize=(20, 6), dpi=80, facecolor='w', edgecolor='k')\n",
    "labels, values = rankCounter(counterPronPRP)\n",
    "indexes = np.arange(len(labels))\n",
    "width = 1\n",
    "plt.bar(indexes, values, width)\n",
    "plt.xticks(indexes + width * 0.5, labels)\n",
    "plt.show()"
   ]
  },
  {
   "cell_type": "code",
   "execution_count": 27,
   "metadata": {},
   "outputs": [
    {
     "name": "stdout",
     "output_type": "stream",
     "text": [
      "i : 0\n",
      "i : 1\n",
      "i : 2\n",
      "Counter({'their': 5, 'his': 5, 'my': 2, 'her': 1, 'its': 1})\n"
     ]
    },
    {
     "data": {
      "image/png": "[encoded data removed]",
      "text/plain": [
       "<matplotlib.figure.Figure at 0x7f638b167da0>"
      ]
     },
     "metadata": {},
     "output_type": "display_data"
    }
   ],
   "source": [
    "'''\n",
    "pronoun, possessive histogram\n",
    "Percentage of punctuation out of total number of words\n",
    "'''\n",
    "read_files = glob.glob(directory + '*.txt')\n",
    "\n",
    "counterPronPRPD = Counter('')\n",
    "i = 0\n",
    "\n",
    "for infile in read_files:\n",
    "    print('i : ' + str(i))\n",
    "    with open(infile, 'r', errors='replace') as f:\n",
    "        text = f.read()\n",
    "        doc = nlp(text)\n",
    "        counterPronPRPD += analyzePronounPRPD(doc) \n",
    "        i += 1\n",
    "    \n",
    "print(counterPronPRPD)\n",
    "plt.figure(num=None, figsize=(20, 6), dpi=80, facecolor='w', edgecolor='k')\n",
    "labels, values = rankCounter(counterPronPRPD)\n",
    "indexes = np.arange(len(labels))\n",
    "width = 1\n",
    "plt.bar(indexes, values, width)\n",
    "plt.xticks(indexes + width * 0.5, labels)\n",
    "plt.show()"
   ]
  },
  {
   "cell_type": "code",
   "execution_count": 28,
   "metadata": {},
   "outputs": [
    {
     "name": "stdout",
     "output_type": "stream",
     "text": [
      "i : 0\n",
      "i : 1\n",
      "i : 2\n",
      "Counter({'who': 4, 'what': 1})\n"
     ]
    },
    {
     "data": {
      "image/png": "[encoded data removed]",
      "text/plain": [
       "<matplotlib.figure.Figure at 0x7f638b1786d8>"
      ]
     },
     "metadata": {},
     "output_type": "display_data"
    }
   ],
   "source": [
    "'''\n",
    "pronoun, possessive histogram\n",
    "Percentage of punctuation out of total number of words\n",
    "'''\n",
    "read_files = glob.glob(directory + '*.txt')\n",
    "\n",
    "counterPronWP = Counter('')\n",
    "i = 0\n",
    "\n",
    "for infile in read_files:\n",
    "    print('i : ' + str(i))\n",
    "    with open(infile, 'r', errors='replace') as f:\n",
    "        text = f.read()\n",
    "        doc = nlp(text)\n",
    "        counterPronWP += analyzePronounWP(doc) \n",
    "        i += 1\n",
    "    \n",
    "print(counterPronWP)\n",
    "plt.figure(num=None, figsize=(20, 6), dpi=80, facecolor='w', edgecolor='k')\n",
    "labels, values = rankCounter(counterPronWP)\n",
    "indexes = np.arange(len(labels))\n",
    "width = 1\n",
    "plt.bar(indexes, values, width)\n",
    "plt.xticks(indexes + width * 0.5, labels)\n",
    "plt.show()"
   ]
  },
  {
   "cell_type": "code",
   "execution_count": 29,
   "metadata": {},
   "outputs": [
    {
     "name": "stdout",
     "output_type": "stream",
     "text": [
      "i : 0\n",
      "i : 1\n",
      "i : 2\n",
      "Counter()\n"
     ]
    }
   ],
   "source": [
    "'''\n",
    "wh-pronoun, possessive histogram\n",
    "Percentage of punctuation out of total number of words\n",
    "'''\n",
    "read_files = glob.glob(directory + '*.txt')\n",
    "\n",
    "counterPronWPD = Counter('')\n",
    "i = 0\n",
    "\n",
    "for infile in read_files:\n",
    "    print('i : ' + str(i))\n",
    "    with open(infile, 'r', errors='replace') as f:\n",
    "        text = f.read()\n",
    "        doc = nlp(text)\n",
    "        counterPronWPD += analyzePronounWPD(doc) \n",
    "        i += 1\n",
    "    \n",
    "print(counterPronWPD)\n",
    "plt.figure(num=None, figsize=(20, 6), dpi=80, facecolor='w', edgecolor='k')\n",
    "labels, values = rankCounter(counterPronWPD)\n",
    "if labels and values:\n",
    "    indexes = np.arange(len(labels))\n",
    "    width = 1\n",
    "    plt.bar(indexes, values, width)\n",
    "    plt.xticks(indexes + width * 0.5, labels)\n",
    "    plt.show()"
   ]
  },
  {
   "cell_type": "code",
   "execution_count": 30,
   "metadata": {},
   "outputs": [
    {
     "name": "stdout",
     "output_type": "stream",
     "text": [
      "i : 0\n",
      "i : 1\n",
      "i : 2\n",
      "Counter({'PRP': 38, 'PRP$': 14, 'WP': 5})\n"
     ]
    },
    {
     "data": {
      "text/plain": [
       "<matplotlib.figure.Figure at 0x7f638b21a828>"
      ]
     },
     "metadata": {},
     "output_type": "display_data"
    },
    {
     "data": {
      "image/png": "[encoded data removed]",
      "text/plain": [
       "<matplotlib.figure.Figure at 0x7f638b20e940>"
      ]
     },
     "metadata": {},
     "output_type": "display_data"
    }
   ],
   "source": [
    "'''\n",
    "4 pronoun categories histogram\n",
    "Percentage of punctuation out of total number of words\n",
    "'''\n",
    "read_files = glob.glob(directory + '*.txt')\n",
    "\n",
    "counterPronCat = Counter('')\n",
    "i = 0\n",
    "\n",
    "for infile in read_files:\n",
    "    print('i : ' + str(i))\n",
    "    with open(infile, 'r', errors='replace') as f:\n",
    "        text = f.read()\n",
    "        doc = nlp(text)\n",
    "        counterPronCat += analyzePronounCategories(doc) \n",
    "        i += 1\n",
    "    \n",
    "print(counterPronCat)\n",
    "plt.figure(num=None, figsize=(20, 6), dpi=80, facecolor='w', edgecolor='k')\n",
    "labels, values = rankCounter(counterPronCat)\n",
    "indexes = np.arange(len(labels))\n",
    "width = 1\n",
    "plt.bar(indexes, values, width)\n",
    "plt.xticks(indexes + width * 0.5, labels)\n",
    "plt.show()"
   ]
  },
  {
   "cell_type": "code",
   "execution_count": 31,
   "metadata": {},
   "outputs": [
    {
     "name": "stdout",
     "output_type": "stream",
     "text": [
      "i : 0\n",
      "i : 1\n",
      "i : 2\n",
      "Counter({'be': 32, 'have': 12, 'do': 6, 'get': 5, 'take': 4, 'seem': 2, 'make': 2, 'look': 2, 'age': 2, 'will': 2, 'track': 2, 'see': 2, 'guess': 2, 'come': 2, 'turn': 2, 'find': 1, 'assassinate': 1, 'keep': 1, 'share': 1, 'satisfy': 1, 'mean': 1, 'fly': 1, 'train': 1, 'entertain': 1, 'become': 1, 'prefer': 1, 'deserve': 1, 'cover': 1, 'run': 1, 'wait': 1, 'swallow': 1, 'raise': 1, 'believe': 1, 'lay': 1, 'relegate': 1, 'implicate': 1, 'put': 1, 'move': 1, 'could': 1, 'watch': 1, 'rely': 1, 'tone': 1, 'listen': 1, 'feature': 1, 'shake': 1, 'resemble': 1, 'lept': 1, 'know': 1, 'end': 1, 'tell': 1, 'sing': 1, 'can': 1, 'follow': 1, 'face': 1, 'ala': 1, 'compare': 1, 'hunt': 1, 'ensue': 1, 'compromise': 1, 'verge': 1, 'fame': 1, 'outwit': 1, 'include': 1, 'suffer': 1, 'boil': 1})\n"
     ]
    },
    {
     "data": {
      "image/png": "[encoded data removed]",
      "text/plain": [
       "<matplotlib.figure.Figure at 0x7f638544b668>"
      ]
     },
     "metadata": {},
     "output_type": "display_data"
    }
   ],
   "source": [
    "'''\n",
    "Verb root words histogram\n",
    "'''\n",
    "read_files = glob.glob(directory + '*.txt')\n",
    "\n",
    "counterVerbRoot = Counter('')\n",
    "i = 0\n",
    "\n",
    "for infile in read_files:\n",
    "    print('i : ' + str(i))\n",
    "    with open(infile, 'r', errors='replace') as f:\n",
    "        text = f.read()\n",
    "        doc = nlp(text)\n",
    "        counterVerbRoot += analyzeVerb(doc) \n",
    "        i += 1\n",
    "    \n",
    "print(counterVerbRoot)\n",
    "plt.figure(num=None, figsize=(20, 6), dpi=80, facecolor='w', edgecolor='k')\n",
    "labels, values = rankCounter(counterVerbRoot)\n",
    "indexes = np.arange(len(labels))\n",
    "width = 1\n",
    "plt.bar(indexes, values, width)\n",
    "plt.xticks(indexes + width * 0.5, labels)\n",
    "plt.show()"
   ]
  },
  {
   "cell_type": "code",
   "execution_count": 5,
   "metadata": {},
   "outputs": [
    {
     "name": "stdout",
     "output_type": "stream",
     "text": [
      "i : 0\n",
      "i : 1\n",
      "i : 2\n",
      "Counter({'Garrison': 3, 'special': 2, 'action': 2, 'sing': 1, 'assassinate': 1, 'failure': 1, 'Sentinel': 1, 'lack': 1, 'share': 1, 'desperate': 1, 'reason': 1, 'fairly': 1, 'include': 1, 'powerful': 1, 'director': 1, 'rest': 1, 'title': 1, 'bland': 1, 'mess': 1, 'pleasant': 1, 'love': 1, 'happy': 1})\n"
     ]
    },
    {
     "data": {
      "image/png": "[encoded data removed]",
      "text/plain": [
       "<Figure size 1600x480 with 1 Axes>"
      ]
     },
     "metadata": {},
     "output_type": "display_data"
    }
   ],
   "source": [
    "'''\n",
    "Emotion words histogram\n",
    "''' \n",
    "read_files = glob.glob(exampleDir + '*.txt')\n",
    "\n",
    "emos = loadEmotionWords('/home/dashi/lulu/corpus/NRC-Emotion-Lexicon-v0.92/Generated-EmotionWords.txt')\n",
    "counterEmos = Counter('')\n",
    "i = 0\n",
    "\n",
    "for infile in read_files:\n",
    "    print('i : ' + str(i))\n",
    "    with open(infile, 'r', errors='replace') as f:\n",
    "        text = f.read()\n",
    "        doc = nlp(text)\n",
    "        counterEmos += analyzeEmotionWords(doc, emos) \n",
    "        i += 1\n",
    "    \n",
    "print(counterEmos)\n",
    "plt.figure(num=None, figsize=(20, 6), dpi=80, facecolor='w', edgecolor='k')\n",
    "labels, values = rankCounter(counterEmos)\n",
    "indexes = np.arange(len(labels))\n",
    "width = 1\n",
    "plt.bar(indexes, values, width)\n",
    "plt.xticks(indexes + width * 0.5, labels)\n",
    "plt.show()"
   ]
  },
  {
   "cell_type": "code",
   "execution_count": 8,
   "metadata": {},
   "outputs": [
    {
     "name": "stdout",
     "output_type": "stream",
     "text": [
      "i : 0\n",
      "i : 5000\n",
      "i : 10000\n",
      "Counter({'good': 6899, 'love': 3886, 'director': 1597, 'action': 1570, 'bad': 1566, 'enjoy': 1114, 'perfect': 1082, 'main': 961, 'special': 878, 'full': 839, 'lose': 777, 'mother': 755, 'star': 746, 'friend': 739, 'black': 722, 'rest': 721, 'word': 710, 'reason': 702, 'production': 701, 'fall': 682, 'late': 654, 'case': 622, 'art': 616, 'shoot': 607, '! good': 604, 'hit': 574, 'title': 568, 'evil': 567, 'score': 564, 'include': 563, 'musical': 558, 'sex': 555, 'wrong': 554, 'superb': 517, 'happy': 508, 'expect': 505, 'leave': 486, 'usual': 481, 'violence': 467, 'powerful': 444, 'famous': 434, 'cool': 434, 'unique': 433, 'interest': 423, 'level': 406, 'lack': 394, 'dance': 385, 'female': 368, 'romance': 363, 'deal': 360, 'subject': 354, 'doubt': 351, 'sweet': 349, 'present': 335, 'truth': 334, 'solid': 334, 'shot': 324, 'hate': 315, 'God': 312, 'effective': 311, 'interested': 310, 'adventure': 307, 'intelligent': 301, 'Star': 299, 'copy': 298, 'rating': 296, '! bad': 282, 'cute': 281, 'die': 280, 'genius': 276, 'escape': 273, 'fairly': 270, 'weird': 266, 'Frank': 265, 'forward': 264, 'silly': 264, 'tough': 261, 'save': 258, 'credit': 256, 'agree': 256, 'innocent': 252, 'Director': 250, 'read': 250, 'honest': 248, 'stupid': 246, 'public': 245, 'cold': 241, 'inspire': 240, 'charm': 235, 'spirit': 234, 'respect': 233, 'cry': 225, 'remarkable': 225, '! love': 216, 'pay': 215, 'force': 210, 'bizarre': 207, 'share': 202, 'pick': 198, 'cult': 198, 'climax': 196, 'treat': 193, 'presence': 193, 'master': 193, 'doctor': 192, 'impossible': 192, 'struggle': 188, 'justice': 187, 'quiet': 187, 'Black': 182, 'receive': 181, 'information': 181, 'superior': 180, 'professional': 177, 'wild': 174, 'unexpected': 173, 'annoying': 173, 'passion': 170, 'monster': 170, 'fair': 168, 'gang': 168, 'pain': 168, 'impression': 167, '! action': 163, 'negative': 163, 'land': 161, 'ridiculous': 160, 'freedom': 158, 'artistic': 158, 'strength': 155, 'awful': 153, 'explain': 153, 'pull': 149, 'pilot': 149, 'continue': 148, 'humanity': 147, 'content': 147, 'chase': 146, 'accident': 144, 'shock': 143, 'constant': 141, 'desperate': 140, 'conflict': 140, 'want': 138, 'absolute': 138, 'loss': 138, 'horrible': 137, 'Don': 137, 'Lord': 137, 'partner': 137, 'faith': 136, 'Academy': 135, 'sing': 135, 'extraordinary': 133, 'pleasant': 131, 'heroine': 130, 'fit': 129, 'Love': 129, 'fate': 129, 'Stone': 129, 'study': 128, 'influence': 128, 'hurt': 128, 'leader': 127, 'sympathetic': 125, 'wit': 125, 'dull': 123, 'marry': 122, '! director': 120, 'legendary': 120, 'winner': 120, 'Green': 120, 'majority': 120, 'Grant': 119, 'blind': 119, 'formula': 117, 'jump': 116, 'officer': 115, 'kick': 115, 'classic': 114, 'Sky': 114, 'relief': 114, 'praise': 113, 'friendly': 112, 'call': 112, 'balance': 112, 'model': 111, '! perfect': 111, '! lose': 111, 'ensemble': 110, 'safe': 109, 'trash': 108, 'dirty': 108, 'essential': 107, 'rough': 106, 'prove': 106, 'great': 106, 'count': 105, 'intelligence': 105, 'vote': 104, 'center': 103, 'grace': 101, 'peace': 101, 'complicated': 100, 'birth': 100, 'ancient': 99, '! special': 99, 'Carol': 99, '! enjoy': 98, 'destroy': 98, 'creature': 97, 'faithful': 95, 'fake': 95, 'splendid': 95, 'spoil': 94, 'structure': 94, 'gain': 94, 'unfortunate': 93, 'difficulty': 93, 'mess': 93, 'fact': 92, 'challenge': 92, 'reporter': 91, 'amazingly': 90, 'desert': 90, 'notable': 90, 'dislike': 90, 'thief': 89, 'prime': 87, 'proper': 86, 'porn': 86, 'stand': 86, 'teen': 86, 'task': 86, 'danger': 86, 'rescue': 86, '! wrong': 86, 'join': 85, 'importance': 85, 'tribute': 85, 'hide': 85, 'Master': 85, 'Cage': 83, 'vivid': 83, 'achieve': 83, 'deadly': 83, 'torture': 82, 'status': 82, 'nightmare': 82, 'alien': 82, 'intellectual': 82, 'abuse': 82, 'commit': 82, 'Doctor': 82, 'delivery': 81, 'routine': 81, 'disappointing': 81, 'revolution': 81, 'darkness': 80, 'bind': 80, 'Dirty': 80, 'flow': 80, 'heavily': 80, 'Good': 80, '! case': 79, 'sky': 79, 'waste': 78, 'crisis': 78, 'gift': 78, 'achievement': 77, 'god': 77, 'serve': 77, 'kudo': 76, '! full': 76, 'sympathy': 76, 'vacation': 76, 'trick': 76, 'Ken': 76, 'ruin': 75, '! word': 75, 'Buck': 75, '! shoot': 75, 'neighbor': 75, 'honor': 75, 'lie': 74, 'wear': 74, 'suffer': 74, 'thrill': 73, 'triumph': 73, 'fault': 73, 'Cold': 72, 'mob': 72, 'crash': 72, 'tender': 72, 'guard': 72, 'failure': 71, 'stellar': 71, '! reason': 71, 'Mother': 71, 'ignore': 71, 'break': 70, 'tear': 70, 'adorable': 70, 'corruption': 70, 'punch': 70, 'promise': 70, 'bother': 70, 'flaw': 69, 'accuse': 69, 'rage': 69, 'redemption': 69, 'worry': 68, 'refuse': 68, 'thrilling': 68, 'attraction': 67, 'quote': 67, 'green': 67, 'crude': 67, 'hang': 67, 'Din': 67, 'Modesty': 67, 'Full': 67, 'noble': 66, 'wealth': 66, 'excuse': 66, 'propaganda': 66, 'poorly': 66, 'fat': 65, '! expect': 65, 'contact': 65, 'horror': 65, 'high': 65, 'split': 64, 'intrigue': 64, 'provide': 64, 'intimate': 63, '! black': 63, 'weight': 63, 'experience': 63, 'birthday': 62, 'defeat': 62, 'cheer': 62, 'sun': 62, 'Wild': 62, 'hidden': 61, 'discovery': 61, 'bomb': 61, 'remarkably': 61, '! sex': 61, 'glory': 60, 'upset': 60, 'confidence': 60, 'low': 60, 'pet': 60, 'substance': 59, 'hysterical': 59, 'row': 59, '! main': 59, 'angel': 59, 'stone': 59, 'strip': 58, 'Lost': 58, '! include': 58, 'complexity': 58, 'sea': 58, 'homage': 57, 'Angel': 57, 'endless': 57, 'stark': 57, 'ease': 56, 'lesbian': 56, 'gross': 56, 'deny': 56, '! leave': 56, 'contrary': 56, 'performer': 56, '! art': 55, 'bonus': 55, 'succeed': 55, 'travel': 55, 'despair': 54, '! production': 54, 'mate': 54, 'celebrity': 54, 'honesty': 54, 'drunken': 54, 'humble': 54, 'absence': 53, 'bland': 53, 'represent': 53, 'calm': 53, 'aid': 53, 'Spirit': 53, 'execution': 53, 'practice': 52, 'storm': 52, 'depression': 52, 'originality': 52, 'versus': 52, 'Fool': 52, 'curse': 51, 'cage': 51, 'unpredictable': 51, 'corrupt': 51, '! rest': 51, '! musical': 50, 'guide': 50, 'Dawn': 50, 'cut': 50, 'Nightmare': 50, 'advance': 50, 'nervous': 50, 'craft': 49, 'fancy': 49, 'polished': 49, 'comfort': 49, '! level': 49, 'smile': 49, 'disgusting': 48, 'argument': 48, 'straightforward': 48, 'stress': 48, 'acceptance': 48, 'servant': 48, 'Colonel': 48, '! violence': 48, '! happy': 47, 'Grace': 47, 'unfold': 47, 'bang': 47, 'foul': 47, 'strike': 47, 'plan': 47, 'sincere': 47, '! evil': 47, 'lord': 46, '! usual': 46, '! deal': 46, '! star': 46, 'exquisite': 46, 'explosion': 45, '! fall': 45, 'farce': 45, 'lost': 45, '! mother': 45, 'advanced': 45, 'rhythm': 45, 'critic': 44, 'precious': 44, 'departure': 44, 'mistress': 44, 'brutality': 44, 'hire': 44, 'Hurt': 43, 'romp': 43, 'Dance': 43, 'Sin': 43, '! late': 43, 'rubbish': 43, '! interest': 43, 'worried': 43, 'shed': 43, 'Sweet': 42, '! subject': 42, 'greatness': 42, 'lavish': 42, 'Sentinel': 42, 'pressure': 42, 'examination': 42, 'demand': 42, 'superficial': 41, 'confident': 41, 'nurse': 41, 'riot': 41, 'reject': 41, 'expedition': 41, '! friend': 41, 'butt': 40, '! famous': 40, 'gag': 40, 'prey': 40, 'broken': 40, 'childish': 40, 'grave': 40, '! score': 39, '! present': 39, 'Sea': 39, '! lack': 39, 'resource': 39, 'crack': 39, 'offensive': 39, 'enchanting': 39, 'benefit': 39, 'demon': 39, 'labor': 39, 'drinking': 39, '! interested': 39, 'Blob': 39, '! title': 39, 'sin': 39, 'idiot': 39, 'burn': 38, 'twin': 38, 'Bloom': 38, 'March': 38, 'eager': 38, 'clash': 38, 'fool': 38, 'exchange': 38, 'fail': 38, 'Depression': 38, 'produce': 38, 'pirate': 38, 'objective': 38, 'betrayal': 38, 'cream': 38, 'shoulder': 38, '! truth': 37, 'chorus': 37, 'prisoner': 37, 'grotesque': 37, 'horribly': 37, 'determination': 37, 'conviction': 37, '! hit': 37, 'terrorist': 37, 'harm': 37, 'samurai': 36, 'fascination': 36, 'Hidden': 36, 'corpse': 36, 'blast': 36, 'reading': 36, 'arrogant': 35, 'dreadful': 35, 'neurotic': 35, 'cutting': 35, 'deliberate': 35, 'blob': 35, 'impress': 35, 'drink': 35, '! shot': 35, 'bully': 35, 'Bad': 35, 'absorb': 35, 'Art': 35, 'sentence': 34, 'modest': 34, 'slap': 34, 'profession': 34, 'dashing': 34, 'celebrate': 34, 'endure': 34, 'Friend': 34, 'encourage': 34, 'divine': 34, 'communicate': 33, 'stiff': 33, 'embrace': 33, 'distress': 33, 'Force': 33, 'confess': 33, 'Pet': 33, 'wreck': 33, 'deceased': 33, 'disorder': 33, 'resident': 33, 'doom': 32, '! romance': 32, 'sneak': 32, 'fade': 32, 'savage': 32, 'vice': 32, 'Chase': 32, 'homosexuality': 32, 'Evil': 32, 'Noble': 32, 'Vertigo': 32, 'recognizable': 31, 'evolution': 31, 'hoot': 31, 'symbolic': 31, '! die': 31, 'growth': 31, '! female': 31, 'pretend': 31, 'swear': 31, 'embarrassing': 31, 'Peck': 31, 'Winner': 30, 'mighty': 30, 'haunt': 30, 'spectacle': 30, 'Justice': 30, '! unique': 30, '! powerful': 30, 'bore': 30, 'empathy': 30, '! agree': 29, 'sloppy': 29, 'belt': 29, 'damage': 29, 'absent': 29, 'isolated': 29, 'glow': 29, 'Count': 29, 'collapse': 29, 'helpful': 29, 'biblical': 29, '! credit': 29, 'patience': 29, 'hippie': 29, 'experienced': 29, 'academy': 28, 'organize': 28, 'stroke': 28, '! spirit': 28, 'furious': 28, 'Happy': 28, 'like': 28, 'suspicion': 28, '! respect': 28, 'weary': 28, 'Sun': 28, '! dance': 28, 'disastrous': 28, 'aspire': 28, 'array': 28, 'error': 28, 'expectation': 28, 'debate': 27, '! impossible': 27, 'dedication': 27, '! share': 27, 'dust': 27, 'Savage': 27, 'Action': 27, '! fault': 27, 'elite': 27, 'frank': 26, 'efficient': 26, 'wound': 26, 'tenderness': 26, 'garden': 26, '! God': 26, 'Perfect': 26, '! content': 26, '! hate': 26, '! spoil': 26, 'rugged': 26, 'defense': 26, '! pay': 26, 'tax': 26, 'champion': 26, 'mortal': 26, 'defend': 26, 'mark': 26, 'admiration': 26, 'tower': 26, 'Honor': 25, 'interior': 25, 'bias': 25, 'cunning': 25, 'Garden': 25, 'fierce': 25, 'polish': 25, 'slip': 25, 'neglect': 25, 'Samurai': 25, 'Storm': 25, 'injure': 25, 'license': 25, 'epitome': 25, 'alcoholism': 25, 'gap': 25, 'caricature': 25, 'unexplained': 25, 'Fleet': 25, 'advise': 25, 'salvation': 25, 'hopeful': 24, 'aura': 24, 'revival': 24, 'shrink': 24, 'sensational': 24, 'confine': 24, 'dubious': 24, 'complement': 24, '! artistic': 24, '! superb': 24, 'stare': 24, '! solid': 24, 'Phantom': 24, 'courtesy': 24, 'lurk': 24, 'Alien': 24, 'jarring': 24, 'abandon': 24, 'Freedom': 24, 'whip': 24, 'senseless': 23, 'bond': 23, 'seasoned': 23, '! stupid': 23, 'hostile': 23, 'earnest': 23, 'sour': 23, 'irrelevant': 23, 'Prime': 23, 'restraint': 23, 'liking': 23, '! intelligent': 23, 'comprehend': 23, 'fanatic': 23, 'compassionate': 23, 'rear': 23, 'rave': 22, 'iron': 22, 'astonishingly': 22, 'verge': 22, 'kindness': 22, 'assistance': 22, '! presence': 22, '! Academy': 22, 'somber': 22, 'uncertain': 22, 'spree': 22, 'associate': 22, 'Adventure': 22, 'familiarity': 22, 'suck': 22, 'applause': 22, '! negative': 22, 'admirer': 22, 'bite': 22, 'partnership': 22, 'pornography': 22, 'bounty': 22, 'overbearing': 21, 'oppressive': 21, '! pleasant': 21, 'distinction': 21, '! justice': 21, 'pound': 21, 'protect': 21, 'injury': 21, 'foolish': 21, 'brawl': 21, 'disgust': 21, 'Iron': 21, 'Romance': 21, '! information': 21, 'Land': 21, 'Public': 21, '! humanity': 21, 'anxiety': 21, 'Officer': 21, 'inheritance': 21, '! public': 21, 'skilled': 21, 'ground': 21, '! escape': 21, 'quaint': 20, '! cool': 20, 'drawback': 20, 'discipline': 20, '! pick': 20, 'cigarette': 20, 'mannered': 20, 'fraud': 20, 'aristocratic': 20, 'bless': 20, 'Bogus': 20, 'intact': 20, 'uncertainty': 20, '! genius': 20, 'contribute': 20, 'scandal': 20, 'progression': 20, 'radiant': 20, 'crook': 20, '! inspire': 20, '! force': 20, 'puppy': 20, '! fate': 20, '! read': 20, 'Rod': 20, 'clean': 20, 'Bite': 20, 'Cry': 20, 'sorely': 20, 'Guide': 20, 'opposition': 20, 'destination': 20, 'palsy': 19, 'outlandish': 19, 'resistance': 19, 'Production': 19, 'grant': 19, 'bum': 19, 'bargain': 19, 'fulfill': 19, 'foundation': 19, 'uninteresting': 19, 'recreation': 19, 'harden': 19, 'decline': 19, '! want': 19, 'hug': 19, '! intelligence': 19, 'welcome': 19, 'spice': 19, 'attack': 19, 'worthless': 19, 'instrumental': 19, '! fairly': 19, '! cold': 19, 'parade': 19, 'Republic': 19, '! weird': 19, 'disregard': 19, 'cocaine': 19, 'honorable': 19, 'Revolution': 19, 'outlaw': 19, 'convention': 19, 'heroism': 18, 'democracy': 18, '! fair': 18, 'stumble': 18, 'illusion': 18, '! pull': 18, 'organization': 18, 'intervention': 18, '! continue': 18, 'harmony': 18, 'Regal': 18, '! rating': 18, 'civilized': 18, 'communism': 18, 'grandeur': 18, 'march': 18, 'Furious': 18, '! Star': 18, '! cute': 18, 'Parade': 18, 'rejection': 18, 'pioneer': 18, 'jam': 18, 'standing': 18, 'STAR': 18, 'Demon': 18, 'sink': 18, '! sweet': 18, 'isolate': 18, '! deny': 18, 'shell': 18, 'retirement': 18, 'pad': 17, 'remove': 17, 'revolt': 17, 'phony': 17, '! adventure': 17, 'rigid': 17, 'persistent': 17, 'revive': 17, '! waste': 17, '! sympathetic': 17, 'smitten': 17, 'handy': 17, 'hesitation': 17, 'dire': 17, 'virtue': 17, '! faithful': 17, '! annoying': 17, 'illustrate': 17, 'Crash': 17, 'worm': 17, '! shock': 17, '! cult': 17, 'bust': 17, 'buck': 17, '! save': 17, '! explain': 17, '! innocent': 17, 'armor': 17, 'distract': 17, '! hurt': 17, 'unlucky': 17, '! pain': 17, 'Monster': 17, 'despise': 16, 'visionary': 16, 'refusal': 16, 'consummate': 16, 'resign': 16, 'gossip': 16, 'verve': 16, 'Bound': 16, 'bogus': 16, '! copy': 16, '! worry': 16, 'luxury': 16, '! doctor': 16, '! study': 16, 'Broken': 16, 'liberty': 16, 'Center': 16, 'colonel': 16, 'rational': 16, 'pervert': 16, 'possess': 16, 'address': 16, 'Special': 16, 'lacking': 16, 'incorrect': 16, '! effective': 16, 'Supremacy': 16, '! bind': 16, 'timely': 15, 'moderate': 15, 'volunteer': 15, 'idiotic': 15, 'Twin': 15, 'root': 15, 'bureaucracy': 15, '! silly': 15, 'irrational': 15, 'merciless': 15, 'tramp': 15, 'fear': 15, 'Main': 15, 'Vice': 15, 'grumpy': 15, 'undying': 15, 'fury': 15, '! receive': 15, 'downfall': 15, 'measure': 15, '! cry': 15, '! horrible': 15, '! sing': 15, 'Thief': 15, 'dump': 15, 'adultery': 15, 'sacrifice': 15, 'strand': 15, '! absolute': 15, 'unquestionably': 15, 'stalk': 15, 'travesty': 15, 'bastard': 14, 'decay': 14, 'Vanity': 14, 'Fair': 14, 'idol': 14, '! hide': 14, 'modesty': 14, 'complicate': 14, 'Hollow': 14, 'Mistress': 14, 'aloof': 14, 'sting': 14, 'timid': 14, 'pinnacle': 14, 'Tempest': 14, 'breakfast': 14, 'lackluster': 14, 'income': 14, '! bother': 14, 'horizon': 14, 'crush': 14, 'Champion': 14, 'stud': 14, 'Grudge': 14, 'SEA': 14, '! birth': 14, 'seduction': 14, 'supporter': 14, 'murky': 14, 'fuss': 14, '! strength': 14, 'poison': 14, 'trophy': 14, 'domination': 14, '! critic': 14, '! remarkable': 14, '! forward': 14, 'Buzz': 14, '! prove': 14, '! praise': 14, 'epidemic': 14, 'don': 14, 'council': 14, 'candid': 13, 'glaring': 13, 'porno': 13, 'tiresome': 13, 'guise': 13, 'sore': 13, '! marry': 13, 'interference': 13, 'reconciliation': 13, '! tough': 13, 'deceive': 13, 'anchor': 13, '! wild': 13, 'Levy': 13, 'perennial': 13, 'alluring': 13, 'poke': 13, 'lump': 13, '! quiet': 13, 'irresponsible': 13, 'dawn': 13, 'decency': 13, 'committed': 13, 'glowing': 13, '! proper': 13, 'assembly': 13, 'battlefield': 13, '! status': 13, '! honest': 13, 'respite': 13, 'prospect': 13, 'acquire': 13, 'unscrupulous': 13, 'heal': 13, 'serene': 13, 'enforcement': 13, 'coolness': 13, 'celebrated': 12, 'mercenary': 12, 'seal': 12, 'alarm': 12, 'delay': 12, 'humility': 12, 'render': 12, '! crude': 12, 'rabid': 12, 'pregnancy': 12, 'rubble': 12, 'nefarious': 12, 'royalty': 12, '! partner': 12, '! bizarre': 12, '! chase': 12, '! impression': 12, 'Desert': 12, 'helplessness': 12, 'famine': 12, '! awful': 12, '! dull': 12, '! Lord': 12, '! master': 12, 'purity': 12, 'nonsensical': 12, '! professional': 12, 'chairman': 12, '! dirty': 12, 'inaccurate': 12, 'discrimination': 12, 'bout': 12, 'unity': 12, '! kick': 12, 'indelible': 12, '! pilot': 12, 'conceal': 12, 'gloss': 12, '! Frank': 12, 'Mighty': 12, 'merge': 12, '! suffer': 11, 'decrepit': 11, 'hail': 11, 'complete': 11, 'numb': 11, 'exuberance': 11, 'Drunken': 11, 'salute': 11, 'recovery': 11, 'erratic': 11, 'shatter': 11, 'conceit': 11, 'smack': 11, '! peace': 11, 'stab': 11, 'Gang': 11, 'voluptuous': 11, 'trip': 11, '! danger': 11, 'Countess': 11, '! count': 11, 'privileged': 11, '! doubt': 11, '! passion': 11, 'splendor': 11, 'Breakfast': 11, 'rail': 11, '! friendly': 11, 'Idol': 11, 'progressive': 11, 'Sex': 11, '! Black': 11, '! provide': 11, 'crusade': 11, 'hardened': 11, 'Creature': 11, '! center': 11, 'hollow': 11, '! fact': 11, '! treat': 11, '! gain': 11, '! conflict': 11, 'enable': 11, 'Crypt': 11, 'justification': 11, 'fleet': 11, 'shoddy': 11, '! legendary': 11, 'exile': 11, 'advent': 11, 'Fury': 11, '! monster': 11, '! ridiculous': 11, '! extraordinary': 10, 'buzz': 10, 'Case': 10, 'dispute': 10, 'misunderstanding': 10, 'flirt': 10, 'assurance': 10, 'whim': 10, 'everlasting': 10, 'outrage': 10, 'organized': 10, '! jump': 10, 'showy': 10, '! loss': 10, 'pose': 10, 'sturdy': 10, '! achieve': 10, 'reserve': 10, 'incompetent': 10, 'distressed': 10, 'Boo': 10, 'Cool': 10, '! classic': 10, 'bear': 10, 'Resident': 10, 'apologize': 10, 'crowning': 10, 'decease': 10, 'moron': 10, 'pretension': 10, '! task': 10, '! superior': 10, 'manifest': 10, 'renegade': 10, 'extinct': 10, 'fidelity': 10, '! difficulty': 10, 'ovation': 10, '! unexpected': 10, 'Punch': 10, 'Row': 10, 'Grave': 10, 'Escape': 10, 'delusional': 10, 'proposition': 10, 'Ally': 10, 'rate': 10, 'unsavory': 10, '! charm': 10, 'aggression': 10, 'patron': 10, '! freedom': 10, 'imitate': 10, 'sap': 10, '! struggle': 10, 'Musical': 10, 'medal': 10, 'grit': 10, 'vanity': 10, 'rapture': 10, '! desperate': 10, 'bitterness': 10, 'wimpy': 10, 'rambling': 10, 'Redemption': 10, 'phantom': 10, 'disillusionment': 10, 'confuse': 10, '! dislike': 10, 'assassinate': 10, '! ignore': 10, 'Peace': 10, 'endow': 10, 'hush': 10, '! tear': 10, 'drown': 10, 'Tower': 10, 'supremacy': 10, 'Ancient': 10, 'afflict': 9, 'construct': 9, 'limp': 9, '! commit': 9, 'fashionable': 9, 'Glory': 9, '! substance': 9, 'superiority': 9, 'breakup': 9, 'ally': 9, 'hanging': 9, 'pretense': 9, 'harvest': 9, '! routine': 9, 'Omen': 9, 'tolerate': 9, 'defiance': 9, 'wind': 9, 'educate': 9, '! trash': 9, '! contact': 9, '! fool': 9, '! heroine': 9, 'rekindle': 9, '! execution': 9, 'speculation': 9, '! Green': 9, 'convert': 9, 'dismay': 9, 'fussy': 9, 'worship': 9, 'GREEN': 9, 'reverence': 9, '! offensive': 9, 'preserve': 9, 'dictatorship': 9, '! challenge': 9, 'Late': 9, 'peck': 9, 'Nurse': 9, 'barrier': 9, 'contradict': 9, 'Famous': 9, 'season': 9, 'glimmer': 9, '! faith': 9, 'premise': 9, 'bickering': 9, 'garish': 9, 'detention': 9, 'paraphrase': 9, 'inconsequential': 9, 'woefully': 9, 'Doom': 9, '! produce': 9, 'Leave': 9, '! join': 9, 'threaten': 9, 'removal': 9, '! ruin': 9, 'Garrison': 9, '! thrilling': 9, 'regal': 9, '! break': 9, '! intellectual': 9, 'abandonment': 9, '! lie': 9, 'grate': 9, 'endeavor': 9, '! triumph': 9, '! heavily': 9, 'Salvation': 9, 'choke': 9, 'planning': 9, 'cruelly': 9, 'tease': 9, '! influence': 9, 'antithesis': 8, 'BLOB': 8, 'drone': 8, '! academy': 8, '! formula': 8, 'Fat': 8, 'Superb': 8, 'sentinel': 8, 'incompetence': 8, 'babble': 8, 'virtuous': 8, '! failure': 8, 'Deadly': 8, '! stare': 8, 'cooperate': 8, '! essential': 8, 'Rear': 8, 'complication': 8, '! communicate': 8, 'pollution': 8, 'captivate': 8, 'dummy': 8, 'attest': 8, '! officer': 8, 'violation': 8, 'dissolution': 8, 'protector': 8, 'crusty': 8, 'unsatisfied': 8, 'oddity': 8, 'cooperation': 8, '! cage': 8, 'entangle': 8, 'Treat': 8, 'excruciating': 8, 'victimize': 8, '! notable': 8, 'Guard': 8, '! bore': 8, '! wit': 8, 'crank': 8, 'frolic': 8, '! excuse': 8, 'injured': 8, 'lapse': 8, 'riddle': 8, '! quote': 8, '! Fool': 8, 'organic': 8, 'distortion': 8, 'Intelligence': 8, '! Grant': 8, 'pillow': 8, 'mutant': 8, 'retribution': 8, '! land': 8, 'Birthday': 8, '! fake': 8, 'strut': 8, 'Pervert': 8, '! great': 8, 'overthrow': 8, 'satanic': 8, 'rod': 8, 'disturbance': 8, 'stint': 8, '! impress': 8, 'whirlwind': 8, 'moronic': 8, 'Prisoner': 8, 'Crisis': 8, 'boil': 8, '! glory': 8, 'Mob': 8, 'forewarn': 8, 'horrid': 8, 'cripple': 8, 'rack': 8, 'Bender': 8, 'swell': 8, 'wage': 8, 'bar': 8, 'serpent': 8, 'Irons': 8, 'aimless': 8, 'infinite': 8, 'boast': 8, 'Ram': 8, '! climax': 8, 'agreement': 7, 'curl': 7, 'sensuality': 7, '! creature': 7, '! neighbor': 7, '! complicated': 7, 'fraught': 7, 'annoy': 7, 'withstand': 7, 'collision': 7, 'rejoice': 7, 'sullen': 7, 'conclude': 7, 'oversight': 7, 'venomous': 7, 'joke': 7, 'bait': 7, 'Weird': 7, '! serve': 7, 'symphony': 7, 'aristocracy': 7, 'earnestly': 7, 'plentiful': 7, 'uninitiated': 7, 'Bomb': 7, '! porn': 7, 'unforgiving': 7, 'subversion': 7, 'unacceptable': 7, '! importance': 7, '! arrogant': 7, 'trendy': 7, 'shiver': 7, '! sympathy': 7, 'spelling': 7, 'Evergreen': 7, 'crypt': 7, 'glare': 7, 'debacle': 7, 'Rescue': 7, 'perplexed': 7, '! structure': 7, 'tumble': 7, '! alien': 7, '! Spirit': 7, '! low': 7, 'beam': 7, 'growl': 7, 'litter': 7, 'cuckoo': 7, '! achievement': 7, 'motherhood': 7, 'boo': 7, 'heighten': 7, 'breach': 7, 'grudge': 7, 'Shock': 7, 'lower': 7, '! comprehend': 7, 'Charm': 7, 'dash': 7, 'boisterous': 7, '! fat': 7, 'prominence': 7, 'tribulation': 7, '! rough': 7, 'animosity': 7, '! Stone': 7, 'customer': 7, 'adverse': 7, 'oppose': 7, 'Foundation': 7, 'shabby': 7, 'oasis': 7, 'Cuckoo': 7, 'trepidation': 7, '! reject': 7, '! flaw': 7, '! promise': 7, '! punch': 7, '! vote': 7, 'hasty': 7, '! stiff': 7, '! winner': 7, 'chore': 7, 'craftsman': 7, 'vanish': 7, 'siren': 7, 'Divine': 7, 'SENTINEL': 7, 'tangle': 7, '! confident': 7, 'embroil': 7, 'orgasm': 7, 'Mortal': 7, 'enthusiast': 7, '! safe': 7, '! deadly': 6, 'Truth': 6, '! leader': 6, 'deterioration': 6, 'suppress': 6, '! gang': 6, '! rubbish': 6, 'slate': 6, '! mate': 6, 'generosity': 6, 'casualty': 6, 'powerless': 6, '! possess': 6, 'glib': 6, '! accident': 6, '! broken': 6, '! polish': 6, 'depressive': 6, '! abuse': 6, '! rage': 6, 'counselor': 6, 'persistence': 6, 'pile': 6, '! hidden': 6, '! guide': 6, 'detection': 6, 'LOVE': 6, 'ravenous': 6, 'grieve': 6, 'irritation': 6, 'excite': 6, '! embrace': 6, 'incisive': 6, '! absence': 6, 'cleaning': 6, '! butt': 6, 'Lower': 6, '! Dirty': 6, 'Shell': 6, 'Brotherhood': 6, 'BLACK': 6, 'Pilot': 6, '! stellar': 6, 'intrusion': 6, 'soil': 6, '! crisis': 6, 'dependency': 6, 'mediocrity': 6, 'selfishness': 6, 'Horrors': 6, 'qualifying': 6, 'CRY': 6, 'chivalry': 6, 'completion': 6, '! cheer': 6, 'HOLLOW': 6, '! March': 6, 'saber': 6, '! balance': 6, '! redemption': 6, 'Classics': 6, 'disparity': 6, 'nursery': 6, 'correction': 6, '! fit': 6, 'Bait': 6, 'unwavering': 6, 'Versus': 6, 'glorify': 6, 'inflation': 6, 'GOD': 6, '! strike': 6, '! smile': 6, 'evade': 6, 'Chairman': 6, 'LOST': 6, '! revolution': 6, 'perplex': 6, 'Present': 6, 'Title': 6, 'aspiring': 6, 'ardent': 6, 'birthplace': 6, 'endanger': 6, 'fee': 6, 'raving': 6, 'Chorus': 6, '! outlaw': 6, 'reactionary': 6, 'desolation': 6, '! damage': 6, '! Sky': 6, 'Trick': 6, 'antagonistic': 6, 'abduction': 6, 'Torn': 6, 'accompaniment': 6, 'Saber': 6, 'uninterested': 6, 'Achievement': 6, '! shed': 6, 'untrue': 6, 'republic': 6, 'Medal': 6, '! injure': 6, 'refinement': 5, 'Seduction': 5, '! plan': 5, 'SPIRIT': 5, 'eagerness': 5, 'patronizing': 5, 'Madden': 5, 'dictionary': 5, 'tact': 5, '! high': 5, 'chemist': 5, 'Grumpy': 5, '! rescue': 5, 'Blind': 5, 'unsatisfactory': 5, 'bloom': 5, '! aid': 5, 'deluge': 5, 'Cult': 5, '! Master': 5, '! craft': 5, '! attraction': 5, '! pet': 5, 'contaminate': 5, 'Darkness': 5, 'erroneous': 5, 'Trash': 5, '! superficial': 5, 'tumor': 5, '! despair': 5, 'sage': 5, 'Die': 5, 'Admiral': 5, 'grasp': 5, 'lace': 5, 'Attraction': 5, '! storm': 5, 'Keystone': 5, 'detect': 5, 'tantalizing': 5, 'Diagnosis': 5, 'bicker': 5, 'bluff': 5, '! originality': 5, '! Lost': 5, '! teen': 5, '! romp': 5, '! sky': 5, 'favorable': 5, 'patter': 5, 'savor': 5, 'Hanging': 5, 'obtuse': 5, 'tenacious': 5, 'exclude': 5, '! experienced': 5, '! honesty': 5, 'fraternal': 5, 'thrift': 5, '! demand': 5, '! celebrate': 5, 'fervor': 5, '! comfort': 5, 'conscientious': 5, 'restrain': 5, 'stereotyped': 5, '! Cage': 5, '! split': 5, 'specter': 5, '! symbolic': 5, '! prime': 5, 'exceed': 5, '! adorable': 5, 'exaggerate': 5, 'humiliating': 5, '! sea': 5, '! torture': 5, 'elimination': 5, '! endure': 5, '! Phantom': 5, 'Shot': 5, 'creditable': 5, 'Delivery': 5, '! Din': 5, 'Council': 5, 'prohibition': 5, 'magnificence': 5, '! advanced': 5, 'stationary': 5, 'soak': 5, '! liberty': 5, '! virtue': 5, '! Sea': 5, '! explosion': 5, 'Endless': 5, 'creak': 5, 'unrequited': 5, '! stand': 5, 'unwelcome': 5, 'Prohibition': 5, '! corrupt': 5, '! grace': 5, 'tangled': 5, '! splendid': 5, 'outdo': 5, 'gaunt': 5, '! curse': 5, 'ramble': 5, '! Mother': 5, '! growth': 5, 'CAROL': 5, 'Stiff': 5, '! fancy': 5, '! ancient': 5, 'Cream': 5, 'prevail': 5, '! like': 5, '! thief': 5, 'equilibrium': 5, 'daze': 5, 'languid': 5, '! pressure': 5, 'Symmetry': 5, '! endless': 5, 'defect': 5, 'Playhouse': 5, '! childish': 5, 'abomination': 5, '! argument': 4, 'mockery': 4, 'unprotected': 4, 'kindred': 4, 'auspicious': 4, 'Liberty': 4, '! Hidden': 4, '! absent': 4, 'Accident': 4, '! strip': 4, '! uninteresting': 4, 'unbiased': 4, '! lord': 4, '! objective': 4, 'offhand': 4, 'paralysis': 4, 'Usual': 4, 'warp': 4, 'dun': 4, 'aptitude': 4, 'plunge': 4, 'forgiving': 4, '! constant': 4, '! polished': 4, '! sincere': 4, '! crash': 4, 'dismemberment': 4, 'Contact': 4, '! fulfill': 4, '! foul': 4, 'opinionated': 4, 'infallible': 4, 'cradle': 4, '! relief': 4, '! handy': 4, '! moronic': 4, 'skewed': 4, 'Harvest': 4, 'Passion': 4, 'unimpressed': 4, 'smiling': 4, 'unbroken': 4, 'resistant': 4, 'Horizon': 4, '! ensemble': 4, 'unfulfille': 4, '! brutality': 4, 'dependence': 4, 'enlighten': 4, 'SKY': 4, 'distracted': 4, '! phony': 4, 'pledge': 4, 'gallant': 4, 'Strip': 4, 'Battlefield': 4, 'Agreement': 4, '! weight': 4, '! exchange': 4, '! destination': 4, 'distasteful': 4, 'Eager': 4, 'margin': 4, '! mob': 4, '! farce': 4, 'atonement': 4, 'Biblical': 4, 'leukemia': 4, 'slug': 4, 'delinquency': 4, 'Corpse': 4, 'inadequate': 4, '! wear': 4, 'humiliate': 4, '! destroy': 4, '! discovery': 4, 'Convention': 4, '! glorify': 4, '! versus': 4, '! worried': 4, 'swastika': 4, '! showy': 4, 'nurture': 4, 'Word': 4, '! deceive': 4, 'sluggish': 4, '! tender': 4, 'indecision': 4, 'unsettled': 4, '! idiotic': 4, '! clash': 4, '! prey': 4, 'diagnosis': 4, 'instruct': 4, '! intimate': 4, 'Deal': 4, '! rhythm': 4, 'Discovery': 4, '! Cold': 4, 'pastime': 4, '! straightforward': 4, 'mite': 4, 'atone': 4, '! fail': 4, 'restriction': 4, '! expectation': 4, 'frigid': 4, '! conviction': 4, 'Fudge': 4, '! contrary': 4, '! propaganda': 4, 'Silly': 4, 'din': 4, 'ministry': 4, 'Impossible': 4, 'resist': 4, 'starve': 4, 'countess': 4, 'zeal': 4, '! horribly': 4, '! trick': 4, 'Pine': 4, '! greatness': 4, 'Anaconda': 4, '! confuse': 4, '! Angel': 4, 'dogged': 4, 'overjoyed': 4, '! Wild': 4, '! pretend': 4, 'banish': 4, 'undermine': 4, '! demon': 4, 'Hush': 4, 'cheesecake': 4, 'traveling': 4, '! mess': 4, '! calm': 4, 'pained': 4, '! restraint': 4, '! disgusting': 4, 'Jam': 4, '! gag': 4, 'martyrdom': 4, 'Pirate': 4, '! aspire': 4, 'dementia': 4, '! terrorist': 4, 'cushion': 4, 'highest': 4, '! reporter': 4, 'blessing': 4, '! examination': 4, 'scramble': 4, 'revere': 4, 'sermon': 4, 'setback': 4, '! fade': 4, 'Violence': 4, '! precious': 4, 'unscathed': 4, 'Protector': 4, '! helpful': 4, '! unpredictable': 4, 'pungent': 4, '! upset': 4, '! delivery': 4, 'Kindred': 4, 'forgive': 4, 'bender': 4, 'smell': 4, '! determination': 4, '! bite': 4, 'perish': 4, 'gent': 4, 'apathetic': 4, 'WILD': 4, 'Strike': 4, '! courtesy': 4, 'smuggler': 4, 'noose': 4, 'loom': 4, '! majority': 4, 'Oak': 4, '! defeat': 4, 'hazard': 4, '! betrayal': 4, '! blind': 4, '! blast': 4, 'instruction': 4, 'Satanic': 4, 'Cradle': 4, 'Symphony': 4, 'Fate': 4, '! nonsensical': 3, 'innocuous': 3, 'payback': 3, 'Professional': 3, 'MARCH': 3, 'imperfection': 3, 'disappoint': 3, 'fleece': 3, '! pillow': 3, '! trendy': 3, 'provocation': 3, 'acrobat': 3, 'Aloha': 3, '! Grace': 3, '! march': 3, '! rave': 3, 'doldrum': 3, 'unfulfilled': 3, '! idiot': 3, '! patience': 3, 'wince': 3, 'Celebrity': 3, 'denunciation': 3, '! Grudge': 3, 'MASTER': 3, '! Redemption': 3, 'atom': 3, 'mutilate': 3, 'Anchor': 3, '! practice': 3, '! chore': 3, 'renewal': 3, 'Destination': 3, '! armor': 3, '! disorder': 3, 'Serpent': 3, '! suppress': 3, '! suck': 3, '! ease': 3, 'Clash': 3, 'hindrance': 3, 'qualify': 3, 'denying': 3, 'shattered': 3, '! pound': 3, '! Special': 3, 'remiss': 3, 'burglary': 3, 'Solid': 3, 'Score': 3, '! infinity': 3, 'Revere': 3, 'vigilance': 3, 'remedy': 3, 'default': 3, 'apprehension': 3, '! Justice': 3, 'beggar': 3, 'dictatorial': 3, 'subdue': 3, '! Sentinel': 3, 'emulate': 3, 'overpaid': 3, 'concluding': 3, '! Ken': 3, 'nap': 3, 'kitten': 3, 'pessimism': 3, '! nightmare': 3, '! humble': 3, 'attractiveness': 3, '! bomb': 3, 'Covenant': 3, 'bribe': 3, 'resignation': 3, 'pine': 3, 'humbug': 3, 'shortcoming': 3, '! jarring': 3, 'openness': 3, '! embarrassing': 3, '! distinction': 3, 'Tramp': 3, 'mishap': 3, 'desire': 3, 'Bounty': 3, '! Twin': 3, '! lost': 3, 'withdraw': 3, '! debate': 3, 'cathartic': 3, 'tenacity': 3, 'instinctive': 3, '! assistance': 3, '! hippie': 3, '! thrill': 3, 'Bless': 3, '! departure': 3, '! excite': 3, '! doom': 3, '! incorrect': 3, '! gross': 3, 'blunder': 3, '! Buck': 3, 'dreadfully': 3, 'authoritative': 3, '! Glory': 3, 'contemptible': 3, '! complement': 3, 'snarl': 3, 'underpaid': 3, '! irrational': 3, '! gap': 3, '! unfortunate': 3, '! adultery': 3, 'sobriety': 3, '! Ram': 3, 'compliance': 3, '! uncertain': 3, '! succeed': 3, 'venerable': 3, 'Craft': 3, 'steadfast': 3, '! unfold': 3, 'DIE': 3, 'Gospel': 3, '! defense': 3, '! confine': 3, 'tickle': 3, '! aggression': 3, '! performer': 3, 'Birth': 3, 'Wrong': 3, '! stress': 3, 'Warp': 3, '! vivid': 3, '! disappointing': 3, 'Quiet': 3, '! confidence': 3, '! experience': 3, 'agonizing': 3, 'marrow': 3, '! slip': 3, 'Friendly': 3, 'corrupting': 3, '! Revolution': 3, 'Kick': 3, 'Seal': 3, '! model': 3, '! wealth': 3, 'PHANTOM': 3, 'GOOD': 3, 'discord': 3, 'torn': 3, 'manly': 3, 'Defense': 3, '! epitome': 3, 'vomiting': 3, 'yawn': 3, 'Butt': 3, '! Late': 3, '! pose': 3, 'Humanity': 3, 'derision': 3, '! represent': 3, 'discretion': 3, 'Influence': 3, 'annihilate': 3, '! aura': 3, '! stark': 3, '! fleet': 3, '! tiresome': 3, 'racket': 3, 'Gift': 3, 'absentee': 3, '! champion': 3, '! rubble': 3, '! civilized': 3, '! Divine': 3, 'RATING': 3, '! Peace': 3, '! corpse': 3, '! zeal': 3, '! homosexuality': 3, '! tolerate': 3, 'stifled': 3, 'Danger': 3, '! call': 3, '! dust': 3, 'Terrorist': 3, 'gospel': 3, 'precinct': 3, 'elect': 3, 'blush': 3, '! green': 3, 'unyielding': 3, '! deliberate': 3, 'ALIEN': 3, 'Tender': 3, 'Sing': 3, '! Main': 3, 'asshole': 3, '! tangle': 3, '! mistress': 3, 'Distress': 3, 'incendiary': 3, '! fanatic': 3, 'Bang': 3, '! neurotic': 3, '! recognizable': 3, '! bang': 3, '! riot': 3, '! benefit': 3, '! depression': 3, '! hang': 3, '! bigoted': 3, '! cream': 3, '! corruption': 3, '! Good': 3, 'inspired': 3, 'feverish': 3, '! stroke': 3, 'Coronation': 3, 'BITE': 3, '! standing': 3, 'disagree': 3, 'mislead': 3, '! poorly': 3, 'wane': 3, 'exhaust': 3, 'Raging': 3, 'Superior': 3, 'passivity': 3, '! homage': 3, 'Rage': 3, 'Level': 3, 'ascent': 3, '! scandal': 3, '! accuse': 3, '! grave': 3, 'Model': 3, 'surrender': 3, 'conjure': 3, 'BIRTH': 3, 'undo': 3, 'Bully': 3, 'stain': 3, '! guard': 3, 'flounder': 3, 'viper': 3, '! advise': 3, 'tranquil': 3, 'bigoted': 3, '! drink': 3, '! admirer': 3, '! intact': 3, '! alarm': 3, '! travel': 3, '! admiration': 3, 'chatter': 3, 'redress': 3, '! modest': 3, '! servant': 3, '! flow': 3, 'sponge': 3, 'dazed': 3, 'SAVAGE': 3, '! Count': 3, 'dwarf': 2, 'authorize': 2, '! accompaniment': 2, 'discard': 2, 'orderly': 2, '! opposition': 2, 'luxuriant': 2, '! Furious': 2, 'precedence': 2, '! cuckoo': 2, 'ineffective': 2, '! spelling': 2, '! joke': 2, '! snide': 2, '! crush': 2, 'GRAVE': 2, '! fury': 2, '! Monster': 2, 'raptors': 2, 'picket': 2, 'egregious': 2, 'jar': 2, 'symmetrical': 2, 'wrench': 2, '! god': 2, 'bark': 2, 'aggressor': 2, 'goodwill': 2, '! organization': 2, 'spasm': 2, 'DON': 2, '! SEA': 2, '! BLACK': 2, '! idol': 2, 'misrepresentation': 2, '! rugged': 2, '! honor': 2, 'masochism': 2, 'choral': 2, '! lesbian': 2, '! expedition': 2, 'stifle': 2, '! gossip': 2, 'Fell': 2, '! Vice': 2, 'standstill': 2, '! fierce': 2, 'naturalist': 2, 'dispel': 2, '! Alien': 2, '! iron': 2, 'bigot': 2, '! cut': 2, '! brotherhood': 2, 'crunch': 2, 'readiness': 2, 'disable': 2, '! tax': 2, 'contributor': 2, '! garden': 2, 'vindicate': 2, '! deceased': 2, 'barbarism': 2, 'laudable': 2, '! Communism': 2, '! Professional': 2, '! restrain': 2, '! shatter': 2, 'bilingual': 2, '! cathartic': 2, '! prestige': 2, 'relieve': 2, '! Officer': 2, '! Dawn': 2, '! pregnancy': 2, 'ken': 2, 'Weeds': 2, '! Strip': 2, 'infinity': 2, 'TREAT': 2, 'sonorous': 2, '! glow': 2, '! heal': 2, '! Modesty': 2, 'endowed': 2, '! boast': 2, '! fear': 2, '! celebrity': 2, 'deactivate': 2, '! Center': 2, 'endangered': 2, 'cramp': 2, 'sisterhood': 2, 'LORD': 2, 'outcry': 2, '! elite': 2, 'hurrah': 2, 'misunderstand': 2, 'usurped': 2, '! discrimination': 2, 'ACTION': 2, 'bound': 2, 'homesick': 2, '! Hurt': 2, 'leeway': 2, 'FREEDOM': 2, '! fraud': 2, 'Contaminated': 2, 'hiss': 2, 'defenseless': 2, 'Heroine': 2, 'grounded': 2, 'unforgive': 2, 'Jump': 2, '! manufacturer': 2, '! savage': 2, 'fume': 2, '! hire': 2, '! mighty': 2, 'measured': 2, 'Stark': 2, '! sensuality': 2, '! Samurai': 2, '! salvation': 2, 'slaughter': 2, '! somber': 2, '! assurance': 2, '! intolerant': 2, 'extricate': 2, 'revulsion': 2, 'SUN': 2, 'ram': 2, '! imitate': 2, '! burn': 2, '! bonus': 2, '! apologize': 2, 'forefather': 2, '! numb': 2, '! gift': 2, '! evolution': 2, 'Pay': 2, '! sneak': 2, '! prominence': 2, '! Peck': 2, 'oak': 2, 'blight': 2, 'Waste': 2, 'frown': 2, 'Gaunt': 2, 'monstrosity': 2, '! crack': 2, 'barricade': 2, 'Bout': 2, '! Fat': 2, 'disqualify': 2, '! Winner': 2, 'enchant': 2, 'betterment': 2, 'entanglement': 2, 'lawful': 2, '! samurai': 2, '! prisoner': 2, 'snag': 2, '! slate': 2, 'soulmate': 2, '! foolish': 2, 'Downfall': 2, '! Depression': 2, 'overpay': 2, 'Goblin': 2, '! timely': 2, '! swear': 2, '! exquisite': 2, 'affiliate': 2, '! earnest': 2, '! Doctor': 2, '! bully': 2, 'adrift': 2, 'Rhythm': 2, 'consecration': 2, '! foundation': 2, '! reading': 2, 'absolution': 2, 'prestige': 2, '! overthrow': 2, '! detect': 2, 'discourage': 2, '! glib': 2, 'Hippie': 2, 'shamble': 2, 'responsive': 2, '! soil': 2, 'Polish': 2, 'Disorder': 2, '! empathy': 2, '! resistance': 2, '! bond': 2, '! modesty': 2, '! spree': 2, 'undecided': 2, 'Elite': 2, 'maternal': 2, '! travesty': 2, '! consummate': 2, '! rigid': 2, 'Dun': 2, 'genial': 2, 'evergreen': 2, 'connoisseur': 2, '! despise': 2, '! infinite': 2, 'snide': 2, 'unpublished': 2, 'fumble': 2, 'Rabid': 2, '! shell': 2, '! Deal': 2, 'ballot': 2, '! supremacy': 2, '! lump': 2, 'minimize': 2, 'coronation': 2, 'Honest': 2, '! eager': 2, 'enliven': 2, 'regret': 2, 'unequivocally': 2, 'torpedo': 2, 'Decency': 2, '! untrue': 2, 'assert': 2, '! jam': 2, 'privilege': 2, 'starved': 2, '! dedication': 2, 'dole': 2, 'damper': 2, 'implacable': 2, '! ste': 2, '! unity': 2, '! sin': 2, '! horror': 2, '! plagiarism': 2, 'inaction': 2, 'impotence': 2, 'subjugation': 2, '! sink': 2, '! downfall': 2, '! pollution': 2, 'Cute': 2, 'moderator': 2, '! belt': 2, '! agreement': 2, '! alluring': 2, 'untold': 2, '! Deadly': 2, 'DIN': 2, 'hobo': 2, '! educate': 2, '! Land': 2, '! Full': 2, '! bias': 2, '! Parade': 2, '! Crypt': 2, 'Adder': 2, 'junta': 2, '! recreation': 2, '! justification': 2, 'exterminate': 2, 'Burn': 2, '! twin': 2, 'Gap': 2, 'plumb': 2, 'Marry': 2, 'UNTOLD': 2, '! Carol': 2, 'grasping': 2, 'Assembly': 2, 'forgery': 2, 'Fake': 2, '! verge': 2, '! wreck': 2, 'defender': 2, '! distortion': 2, 'Examination': 2, 'Encyclopedia': 2, 'vindicated': 2, '! instrumental': 2, 'campaigning': 2, 'transgression': 2, '! tribute': 2, 'Grieve': 2, 'partisan': 2, 'manufacturer': 2, '! wince': 2, '! radiant': 2, '! vice': 2, '! slap': 2, 'failing': 2, 'joking': 2, '! cunning': 2, '! pretense': 2, 'weariness': 2, '! protector': 2, 'vigor': 2, '! abandon': 2, 'JUSTICE': 2, 'relaxation': 2, '! refuse': 2, 'fainting': 2, 'inert': 2, '! noble': 2, 'throttle': 2, '! angel': 2, 'concussion': 2, 'rejuvenate': 2, 'eavesdrop': 2, 'fearing': 2, 'Undying': 2, 'tutelage': 2, 'BOGUS': 2, 'sweetie': 2, 'Content': 2, '! defenseless': 2, 'Promise': 2, '! Chase': 2, 'inconsiderate': 2, 'Progressive': 2, 'constraint': 2, '! antithesis': 2, '! domination': 2, 'Crook': 2, '! seduction': 2, 'Faith': 2, 'gall': 2, 'brotherhood': 2, 'ADVENTURE': 2, 'segregated': 2, '! ally': 2, '! shamble': 2, 'COOL': 2, '! labor': 2, '! vanity': 2, 'delayed': 2, '! Blob': 2, '! mockery': 2, '! remove': 2, 'Communism': 2, '! breakfast': 2, 'Critic': 2, 'spectral': 2, '! worship': 2, 'irrevocable': 2, '! sensational': 2, 'checklist': 2, 'repress': 2, '! Sin': 2, 'Bonus': 2, '! Buzz': 2, '! sap': 2, '! exaggerate': 2, 'mediation': 2, 'bailiff': 2, '! interior': 2, 'Atonement': 2, '! distressed': 2, '! intrigue': 2, 'muddle': 2, 'severity': 2, '! progressive': 2, '! salute': 2, '! advance': 2, '! Vertigo': 2, '! Love': 2, '! spectacle': 2, 'Hiss': 2, 'accommodation': 2, '! dispute': 2, 'valor': 2, 'infraction': 2, 'Bastard': 2, '! rear': 2, '! Chorus': 2, 'Female': 2, 'deficiency': 2, '! harm': 2, 'consternation': 2, '! saber': 2, 'accord': 2, '! organize': 2, 'discriminate': 2, 'rust': 2, '! bloom': 2, '! address': 2, 'denounce': 2, '! absorb': 2, '! shoulder': 2, 'disorganized': 2, 'prosecute': 2, '! Mob': 2, 'tarnish': 2, 'BOO': 2, 'staring': 2, 'plush': 2, '! compassionate': 2, 'battery': 2, 'wanting': 2, 'VERTIGO': 2, '! fashionable': 2, '! rational': 2, '! mortal': 2, 'Rough': 2, '! withstand': 2, 'ART': 2, 'Palsy': 2, 'Lordship': 1, 'Stress': 1, '! disqualify': 1, 'CRISIS': 1, '! furious': 1, '! Atonement': 1, 'maggot': 1, 'agitation': 1, '! gloss': 1, '! whirlwind': 1, '! speculation': 1, '! Honor': 1, 'Absolute': 1, '! spasm': 1, 'riddled': 1, '! nurse': 1, '! dashing': 1, 'playhouse': 1, 'YAWN': 1, '! bureaucracy': 1, 'austerity': 1, '! serpent': 1, '! overjoyed': 1, 'Illusion': 1, 'FORCE': 1, '! sting': 1, '! tramp': 1, 'FAIR': 1, 'Unfortunate': 1, 'advocacy': 1, 'misrepresent': 1, '! keystone': 1, '! haunt': 1, '! boil': 1, 'PARADE': 1, 'Whirlwind': 1, 'Tough': 1, '! pirate': 1, 'Wrench': 1, '! bastard': 1, 'hangman': 1, '! esthetic': 1, '! contributor': 1, '! resignation': 1, '! Leader': 1, '! Trash': 1, 'clashing': 1, '! Thief': 1, 'waffle': 1, 'Neighbor': 1, '! diagnosis': 1, '! Biblical': 1, '! rack': 1, '! organic': 1, 'HORRORS': 1, 'Kudos': 1, 'firearm': 1, '! construct': 1, 'PERFECT': 1, 'STONE': 1, 'weed': 1, 'Struggle': 1, '! emulate': 1, '! denying': 1, '! fray': 1, '! anathema': 1, '! caricature': 1, 'demonstrative': 1, 'Apache': 1, '! Bonds': 1, '! perish': 1, 'Slug': 1, '! ground': 1, '! revere': 1, 'fece': 1, 'buffet': 1, '! animosity': 1, '! PET': 1, 'timidity': 1, 'Ministry': 1, '! mislead': 1, '! buzz': 1, 'Cutting': 1, 'Dictionary': 1, 'jargon': 1, 'quell': 1, '! banish': 1, '! praised': 1, 'MATE': 1, 'spotless': 1, '! plentiful': 1, '! Bite': 1, '! neglect': 1, 'Pinnacle': 1, 'babbling': 1, '! dire': 1, '! Storm': 1, 'campaign': 1, '! mark': 1, '! Fall': 1, 'irons': 1, '! render': 1, '! income': 1, '! CRY': 1, '! reconciliation': 1, '! Brotherhood': 1, '! Intelligence': 1, 'Shed': 1, '! heroism': 1, 'groundwork': 1, 'tempest': 1, 'SUPERB': 1, '! fatality': 1, '! forgiving': 1, '! amazingly': 1, 'Hug': 1, 'Buffet': 1, '! stain': 1, '! siren': 1, '! enlighten': 1, '! exclude': 1, 'Fidelity': 1, 'godly': 1, '! reactionary': 1, 'Wit': 1, 'Deliberate': 1, 'unexpecte': 1, '! fraught': 1, 'bummer': 1, 'tremble': 1, '! sacrifice': 1, '! shoddy': 1, '! limp': 1, '! contaminate': 1, '! unsatisfactory': 1, 'clouded': 1, 'disparage': 1, 'devotional': 1, 'unsustainable': 1, '! Versus': 1, 'admiral': 1, '! threaten': 1, 'Recovery': 1, '! irritation': 1, '! enforcement': 1, 'Symbolic': 1, 'impropriety': 1, '! humiliating': 1, 'skille': 1, 'Rapture': 1, '! grotesque': 1, '! oddity': 1, 'Ballot': 1, '! stool': 1, '! exuberance': 1, 'Damage': 1, 'lash': 1, '! vacation': 1, 'Harmony': 1, 'cutter': 1, 'RAGING': 1, 'Drone': 1, '! beam': 1, '! cigarette': 1, 'Worship': 1, '! inconsiderate': 1, 'quiver': 1, 'fatality': 1, '! unprotected': 1, '! collapse': 1, '! birthday': 1, '! grieve': 1, '! Tempest': 1, 'Farce': 1, '! outdo': 1, '! Regal': 1, 'Perk': 1, 'reciprocate': 1, '! Crash': 1, 'Propaganda': 1, '! steadfast': 1, '! worthless': 1, 'quack': 1, 'Cleaning': 1, 'Acceptance': 1, 'discolor': 1, 'accredit': 1, '! offhand': 1, 'dabble': 1, '! apprehension': 1, '! Salvation': 1, '! impervious': 1, '! cutting': 1, 'horrors': 1, '! pique': 1, 'RACKET': 1, 'AGREEMENT': 1, 'dispersion': 1, 'rout': 1, 'affliction': 1, '! anxiety': 1, '! chivalry': 1, 'dwarfed': 1, 'Everlasting': 1, 'peculiarity': 1, '! overbearing': 1, '! Importance': 1, '! convert': 1, 'wearines': 1, 'Crusade': 1, '! battlefield': 1, '! instruction': 1, 'Glow': 1, 'Apostle': 1, 'patronize': 1, '! DAWN': 1, 'Rating': 1, 'Glib': 1, 'cloud': 1, '! consternation': 1, '! Dementia': 1, 'pretending': 1, 'overjoy': 1, 'Deadlock': 1, '! Adder': 1, 'mimicry': 1, '! Patron': 1, '! fidelity': 1, '! quicksilver': 1, '! bitterly': 1, '! bitterness': 1, 'calculator': 1, 'tumult': 1, '! kindred': 1, 'Oasis': 1, '! mannered': 1, 'pessimist': 1, 'Slate': 1, 'diversified': 1, '! progression': 1, 'Gall': 1, '! unacceptable': 1, '! profession': 1, '! diversified': 1, '! enchanting': 1, '! specie': 1, 'fell': 1, 'Legendary': 1, '! approve': 1, '! seasoned': 1, '! Gross': 1, 'foresight': 1, 'alabaster': 1, '! fee': 1, 'barred': 1, 'standoff': 1, '! monstrosity': 1, '! tribulation': 1, '! Cool': 1, '! candid': 1, '! disregard': 1, 'expel': 1, 'glide': 1, 'Mutant': 1, '! sturdy': 1, 'opiate': 1, 'Hurrah': 1, 'Chivalry': 1, '! perennial': 1, '! famine': 1, '! quaint': 1, 'shelve': 1, 'ordain': 1, 'Sage': 1, 'Gross': 1, 'Reserve': 1, '! mutant': 1, 'unprofitable': 1, 'depreciation': 1, 'falling': 1, 'Labor': 1, '! kindness': 1, '! horizon': 1, 'Lurch': 1, 'taint': 1, 'REVOLUTION': 1, 'SEAL': 1, 'Advance': 1, '! faint': 1, '! affiliate': 1, 'clearance': 1, 'regularity': 1, 'raptor': 1, 'Comfort': 1, '! wrench': 1, 'Authorized': 1, '! isolate': 1, 'authorized': 1, '! dump': 1, '! chairman': 1, '! council': 1, '! biblical': 1, 'esthetic': 1, '! infallible': 1, '! Happy': 1, 'flagrant': 1, 'Unique': 1, '! outrage': 1, 'SWEET': 1, '! Corpse': 1, '! Drinking': 1, '! frank': 1, 'endowment': 1, 'imperfectly': 1, '! resource': 1, 'pickle': 1, 'flap': 1, 'flinch': 1, 'splinter': 1, '! unfulfilled': 1, 'remission': 1, '! outlandish': 1, 'onerous': 1, 'Casualty': 1, 'perk': 1, '! Pet': 1, '! Cry': 1, '! Freedom': 1, '! Blind': 1, 'Routine': 1, '! rate': 1, 'slaughtering': 1, '! violation': 1, '! agility': 1, 'Pick': 1, 'BANG': 1, '! don': 1, '! tarnish': 1, '! enforce': 1, '! restriction': 1, 'Scandal': 1, '! endow': 1, '! Liberty': 1, 'unsatisfie': 1, '! complexity': 1, '! thump': 1, '! tantalize': 1, '! grant': 1, '! rout': 1, '! Elimination': 1, 'Elimination': 1, '! Whip': 1, '! dash': 1, 'enforce': 1, 'Embrace': 1, '! Truth': 1, 'Infinity': 1, 'Waffle': 1, 'Slap': 1, '! uninitiated': 1, 'thoroughbred': 1, 'Grit': 1, 'incompleteness': 1, 'Praise': 1, '! aristocratic': 1, '! contradict': 1, 'inconsistency': 1, 'wireless': 1, '! abolish': 1, 'SAMURAI': 1, '! hail': 1, 'Margin': 1, 'DIRTY': 1, '! elevation': 1, 'BAD': 1, 'boycott': 1, 'stamina': 1, '! Stripe': 1, '! tower': 1, '! vanish': 1, 'tantalize': 1, 'Ridiculous': 1, 'Formula': 1, 'symmetry': 1, 'cunne': 1, 'Lace': 1, 'Earnest': 1, '! Earnest': 1, 'decayed': 1, '! hesitation': 1, '! spice': 1, '! extinct': 1, '! drinking': 1, 'SYMPATHY': 1, '! Colonel': 1, '! Fudge': 1, '! attack': 1, '! welcome': 1, '! Director': 1, '! pervert': 1, '! Savage': 1, 'Stupid': 1, '! dictatorial': 1, '! discipline': 1, 'blowout': 1, '! nefarious': 1, '! drawback': 1, '! inadequate': 1, 'solidity': 1, '! Satanic': 1, 'cheering': 1, 'Affliction': 1, '! senseless': 1, 'blemish': 1, 'NIGHTMARE': 1, '! orgasm': 1, 'startle': 1, '! grudge': 1, 'advisable': 1, 'SIN': 1, '! decayed': 1, 'retort': 1, '! moderate': 1, 'wrangling': 1, '! Drunken': 1, '! Champion': 1, '! scaffold': 1, 'scaffold': 1, '! Superior': 1, '! prohibition': 1, '! Marry': 1, 'winning': 1, '! smitten': 1, '! casualty': 1, '! complication': 1, '! stamina': 1, '! resign': 1, '! mite': 1, '! bogus': 1, '! soulmate': 1, '! license': 1, 'Smiling': 1, 'confined': 1, 'Handy': 1, 'halting': 1, '! dispel': 1, 'Absolution': 1, '! hug': 1, '! bound': 1, 'ATTRACTION': 1, '! aberration': 1, 'Crude': 1, 'Clouded': 1, '! retirement': 1, 'Hasty': 1, '! guise': 1, '! annoy': 1, 'skew': 1, '! dogged': 1, '! persistence': 1, '! discharge': 1, '! wound': 1, 'muzzle': 1, 'TEMPEST': 1, '! fuss': 1, '! Discovery': 1, 'tripping': 1, 'Crusty': 1, 'Plumb': 1, '! checklist': 1, '! acknowledgment': 1, '! profusion': 1, '! default': 1, 'Corruption': 1, '! error': 1, '! Lower': 1, 'deletion': 1, 'SPECIAL': 1, 'Stab': 1, '! innocuous': 1, 'AID': 1, '! expatriate': 1, '! reciprocate': 1, 'Words': 1, 'nul': 1, 'immaturity': 1, 'expedient': 1, '! merciless': 1, 'faint': 1, '! Bark': 1, 'Explosion': 1, 'retract': 1, 'DANCE': 1, 'CAGE': 1, 'bogu': 1, '! BOGUS': 1, 'Hangman': 1, '! persistent': 1, '! reverence': 1, 'Dolphin': 1, '! spell': 1, '! confess': 1, 'Extraordinary': 1, 'banshee': 1, 'obliterated': 1, 'graciously': 1, '! exceed': 1, '! tripping': 1, '! aristocracy': 1, 'Task': 1, 'aberrant': 1, 'approve': 1, 'smoothness': 1, '! torn': 1, 'reinforcement': 1, '! skilled': 1, 'marked': 1, '! endeavor': 1, '! contribute': 1, 'penetration': 1, '! Royalty': 1, '! unsatisfie': 1, '! weary': 1, '! disgust': 1, '! illusion': 1, '! grate': 1, '! Usual': 1, '! complete': 1, 'soiled': 1, '! Bomb': 1, '! trip': 1, 'FURY': 1, 'Reporter': 1, '! Fleet': 1, '! Dance': 1, 'abort': 1, 'emaciated': 1, '! purity': 1, 'ply': 1, 'cultivate': 1, '! Gospel': 1, '! warp': 1, 'deformity': 1, 'delegate': 1, '! Prisoner': 1, 'DIRECTOR': 1, '! tumult': 1, 'raging': 1, '! evade': 1, '! irrelevant': 1, 'Enjoy': 1, '! symmetry': 1, 'dislocate': 1, 'Racket': 1, '! POORLY': 1, '! Friend': 1, 'dishonor': 1, 'balm': 1, 'posses': 1, 'FUSS': 1, 'Genius': 1, 'Horrible': 1, '! Row': 1, 'MONSTER': 1, '! delay': 1, 'Stud': 1, '! PHANTOM': 1, 'gallantry': 1, '! odor': 1, 'Credit': 1, 'Error': 1, '! delusional': 1, '! unsavory': 1, 'Climax': 1, '! prevail': 1, 'Flow': 1, '! denounce': 1, 'procure': 1, 'ejaculation': 1, 'Epidemic': 1, 'halt': 1, 'agonize': 1, 'MUSICAL': 1, 'Dull': 1, 'r': 1, '! highest': 1, '! Sweet': 1, 'Spice': 1, 'Pleasant': 1, '! illustrate': 1, '! swastika': 1, 'Highest': 1, '! noose': 1, 'Prudence': 1, '! acceptance': 1, '! absolution': 1, '! fumble': 1, 'pique': 1, 'DARKNESS': 1, '! unsatisfied': 1, '! divine': 1, 'Artistic': 1, 'Scrumptious': 1, '! fleshy': 1, '! premise': 1, 'Pain': 1, 'Harm': 1, '! grit': 1, '! alcoholism': 1, '! frigid': 1, 'mutilated': 1, '! openness': 1, 'Proposition': 1, '! blush': 1, 'FOOL': 1, 'autocratic': 1, 'injunction': 1, '! shortcoming': 1, 'VERSUS': 1, 'profuse': 1, 'Advent': 1, 'Detention': 1, 'Boilerplate': 1, 'Oracle': 1, '! unbiased': 1, '! democracy': 1, '! sentence': 1, 'uninfected': 1, '! revive': 1, '! preserve': 1, 'unintereste': 1, '! hysterical': 1, 'infiltration': 1, '! delinquency': 1, 'spell': 1, '! Romance': 1, 'inadmissible': 1, 'Stripe': 1, '! withdraw': 1, 'Purity': 1, 'commonwealth': 1, '! Hit': 1, 'impervious': 1, 'COLONEL': 1, 'Whip': 1, 'destroying': 1, 'GUIDE': 1, '! SUN': 1, 'Worm': 1, '! stab': 1, '! Bloom': 1, '! season': 1, '! harmony': 1, '! decease': 1, '! Don': 1, 'Payback': 1, '! exacerbate': 1, '! entangle': 1, 'accuser': 1, '! sour': 1, 'fret': 1, '! barbarism': 1, 'contaminated': 1, 'urchin': 1, '! bargain': 1, '! exile': 1, 'Aspiring': 1, '! pungent': 1, '! bland': 1, 'WORD': 1, 'Forward': 1, '! derision': 1, 'attacking': 1, '! pornography': 1, 'overpriced': 1, 'Study': 1, '! attest': 1, 'blower': 1, 'Constant': 1, '! root': 1, 'undye': 1, '! decay': 1, 'Torture': 1, '! timid': 1, '! cleaning': 1, '! Bout': 1, '! desert': 1, '! ineffective': 1, 'surrendering': 1, 'Traveling': 1, 'synchronize': 1, '! dawn': 1, 'Hostile': 1, 'languish': 1, '! crook': 1, '! curl': 1, 'enmity': 1, 'Blunder': 1, '! nervous': 1, 'Commonwealth': 1, 'Precious': 1, '! indelible': 1, 'DEAL': 1, '! slug': 1, '! weariness': 1, '! fervor': 1, 'weaken': 1, 'discharge': 1, 'inequitable': 1, 'ANGEL': 1, '! pinnacle': 1, '! committed': 1, 'Faithful': 1, 'fray': 1, '! Irons': 1, '! Desert': 1, '! pioneer': 1, '! crowning': 1, 'inactivity': 1, '! lavish': 1, 'TRASH': 1, 'adaptable': 1, '! royalty': 1, '! austerity': 1, 'Sting': 1, '! birthplace': 1, 'expatriate': 1, '! slaughter': 1, '! supporter': 1, 'vegetative': 1, 'Abuse': 1, '! fraternal': 1, 'allure': 1, '! astonishingly': 1, 'lurch': 1, '! Horizon': 1, 'slur': 1, 'Revival': 1, '! Evergreen': 1, 'unsettle': 1, 'Fanatic': 1, '! decline': 1, 'Civilized': 1, 'Leukemia': 1, 'Worry': 1, 'reaffirm': 1, 'hemorrhage': 1, 'Injured': 1, '! liking': 1, '! defend': 1, 'Anxiety': 1, 'falter': 1, 'Shrink': 1, '! balk': 1, '! Clash': 1, 'Resistance': 1, '! dubious': 1, 'omen': 1, 'Counselor': 1, '! assembly': 1, 'labored': 1, '! serene': 1, '! dazed': 1, 'DECLINE': 1, '! Tower': 1, 'Cigarette': 1, 'Hail': 1, 'elated': 1, '! LOST': 1, '! Hollow': 1, 'rugge': 1, 'Split': 1, '! Production': 1, 'sublimation': 1, 'Vacation': 1, 'battle': 1, 'fecal': 1, 'Cocaine': 1, '! removal': 1, 'growling': 1, '! resistant': 1, 'Greater': 1, '! Goblin': 1, '! carie': 1, '! rejection': 1, 'Assent': 1, '! celebrated': 1, 'blot': 1, 'entangled': 1, 'Idiot': 1, '! GARDEN': 1, 'GARDEN': 1, 'crushing': 1, 'repudiation': 1, '! prosecute': 1, 'Leader': 1, '! captivate': 1, '! Relief': 1, 'Endowment': 1, 'restful': 1, '! magnificence': 1, 'CENTER': 1, '! picket': 1, '! shrink': 1, 'Mate': 1, 'perplexity': 1, '! throttle': 1, 'Ardent': 1, '! clean': 1, 'trembling': 1, 'Discipline': 1, '! garish': 1, '! auspicious': 1, '! associate': 1, 'Splendor': 1, '! savor': 1, 'Outlaw': 1, 'EVIL': 1, '! cocaine': 1, 'enjoying': 1, '! conclude': 1, '! customer': 1, '! tact': 1, '! PRISONER': 1, 'Fancy': 1, 'rabie': 1, '! Exchange': 1, 'incase': 1, 'Wound': 1, '! erratic': 1, '! glimmer': 1, 'conflagration': 1, '! depressive': 1, 'abolish': 1, 'bles': 1, 'agility': 1, 'renounce': 1, '! darkness': 1, 'Hit': 1, '! shabby': 1, 'Distortion': 1, 'intolerant': 1, '! hollow': 1, 'windfall': 1, 'irregular': 1, '! embroil': 1, 'BUCK': 1, 'RAGE': 1, 'ordination': 1, 'constancy': 1, '! conceit': 1, '! harden': 1, 'Gaby': 1, 'Triumph': 1, '! horrid': 1, 'Shoot': 1, '! decency': 1, '! republic': 1, '! hoot': 1})\n"
     ]
    }
   ],
   "source": [
    "'''\n",
    "Emotion words histogram\n",
    "'''\n",
    "read_files = glob.glob(posTrainDir + '*.txt')\n",
    "\n",
    "counterPosEmos = Counter('')\n",
    "i = 0\n",
    "\n",
    "for infile in read_files:\n",
    "    with open(infile, 'r', errors='replace') as f:\n",
    "        text = f.read()\n",
    "        doc = nlp(text)\n",
    "        counterPosEmos += analyzeEmotionWords(doc, emos) \n",
    "        if (i % 5000 == 0): \n",
    "            print('i : ' + str(i))  \n",
    "        i += 1\n",
    "    \n",
    "print(counterPosEmos)"
   ]
  },
  {
   "cell_type": "code",
   "execution_count": 20,
   "metadata": {},
   "outputs": [],
   "source": [
    "N = len(read_files)\n",
    "\n",
    "counterPosEmosIdf = invDocFreq(counterPosEmos, N)"
   ]
  },
  {
   "cell_type": "code",
   "execution_count": 14,
   "metadata": {},
   "outputs": [
    {
     "name": "stdout",
     "output_type": "stream",
     "text": [
      "i : 0\n",
      "i : 5000\n",
      "i : 10000\n"
     ]
    }
   ],
   "source": [
    "read_files = glob.glob(posTrainDir + '*.txt')\n",
    "\n",
    "i = 0\n",
    "totPosWords = 0\n",
    "\n",
    "for infile in read_files:\n",
    "    with open(infile, 'r', errors='replace') as f:\n",
    "        totPosWords += totalWords(f) \n",
    "        if (i % 5000 == 0): \n",
    "            print('i : ' + str(i))  \n",
    "        i += 1  "
   ]
  },
  {
   "cell_type": "code",
   "execution_count": 32,
   "metadata": {},
   "outputs": [
    {
     "data": {
      "text/plain": [
       "12500"
      ]
     },
     "execution_count": 32,
     "metadata": {},
     "output_type": "execute_result"
    }
   ],
   "source": [
    "N"
   ]
  },
  {
   "cell_type": "code",
   "execution_count": 17,
   "metadata": {},
   "outputs": [
    {
     "data": {
      "image/png": "[encoded data removed]",
      "text/plain": [
       "<Figure size 1600x480 with 1 Axes>"
      ]
     },
     "metadata": {},
     "output_type": "display_data"
    }
   ],
   "source": [
    "plt.figure(num=None, figsize=(20, 6), dpi=80, facecolor='w', edgecolor='k')\n",
    "labels, values = rankCounter(counterPosEmos)\n",
    "values = [v*1.0/totPosWords for v in values]\n",
    "indexes = np.arange(len(labels)) \n",
    "plt.bar(indexes, values, barwidth)\n",
    "plt.xticks(indexes + width * 0.5, labels)\n",
    "plt.show()"
   ]
  },
  {
   "cell_type": "code",
   "execution_count": 30,
   "metadata": {},
   "outputs": [
    {
     "data": {
      "image/png": "[encoded data removed]",
      "text/plain": [
       "<Figure size 1600x480 with 1 Axes>"
      ]
     },
     "metadata": {},
     "output_type": "display_data"
    }
   ],
   "source": [
    "plt.figure(num=None, figsize=(20, 6), dpi=80, facecolor='w', edgecolor='k')\n",
    "result = {k: v for k, v in sorted(counterPosEmosIdf.items(), key=lambda item: item[1])}\n",
    "labels = list(result.keys())[:20]\n",
    "values = list(result.values())[:20]\n",
    "indexes = np.arange(len(labels)) \n",
    "plt.bar(indexes, values, barwidth)\n",
    "plt.xticks(indexes + width * 0.5, labels)\n",
    "plt.show()"
   ]
  },
  {
   "cell_type": "code",
   "execution_count": 29,
   "metadata": {},
   "outputs": [
    {
     "data": {
      "text/plain": [
       "[0.5942072327050417,\n",
       " 1.1680909924381693,\n",
       " 2.0569757969641724,\n",
       " 2.074016285034771,\n",
       " 2.0765656809343715,\n",
       " 2.4168742393961735,\n",
       " 2.445993676289402,\n",
       " 2.564469472624686,\n",
       " 2.6546990256052156,\n",
       " 2.700082031453033,\n",
       " 2.7767573991120007,\n",
       " 2.8054425471108595,\n",
       " 2.817418738157575,\n",
       " 2.8268337370921772,\n",
       " 2.8500747011316276,\n",
       " 2.8514587843975665,\n",
       " 2.866811493487152,\n",
       " 2.878127031479728,\n",
       " 2.879550519264581,\n",
       " 2.9069890637196023,\n",
       " 2.9488486876551407,\n",
       " 2.9989374045029393,\n",
       " 3.008614899385005,\n",
       " 3.0233090413242256,\n",
       " 3.028255465259551,\n",
       " 3.079113882493042,\n",
       " 3.0896034891640616,\n",
       " 3.091362504569241,\n",
       " 3.0966581921439515,\n",
       " 3.0984296717923336,\n",
       " 3.1073344501352933,\n",
       " 3.11271562903981,\n",
       " 3.114515809543958,\n",
       " 3.1835086810309097,\n",
       " 3.20103590673987,\n",
       " 3.206947254002927,\n",
       " 3.2452198002078028,\n",
       " 3.2555398092397922,\n",
       " 3.2850156273727458,\n",
       " 3.3354096411241523,\n",
       " 3.358137892201708,\n",
       " 3.358137892201708,\n",
       " 3.3604393891899877,\n",
       " 3.3837504680584347,\n",
       " 3.4246707378477974,\n",
       " 3.454598158389271,\n",
       " 3.477646553825562,\n",
       " 3.5226872792498654,\n",
       " 3.536330055653652,\n",
       " 3.5446059649575115,\n",
       " 3.5613661338149765,\n",
       " 3.569852747692295,\n",
       " 3.575550768806933,\n",
       " 3.6163727633271883,\n",
       " 3.619353391465326,\n",
       " 3.619353391465326,\n",
       " 3.649658740960655,\n",
       " 3.6777417097034806,\n",
       " 3.6872807327502395,\n",
       " 3.69048073548091,\n",
       " 3.6936910111111585,\n",
       " 3.703384140316818,\n",
       " 3.7230569059155227,\n",
       " 3.7297014486341915,\n",
       " 3.733040349899706,\n",
       " 3.739751784487693,\n",
       " 3.7880370256471547,\n",
       " 3.791576852352279,\n",
       " 3.7951292539566466,\n",
       " 3.809466417103054,\n",
       " 3.8203558169023224,\n",
       " 3.8313651024106914,\n",
       " 3.8462352648901432,\n",
       " 3.8499876145086933,\n",
       " 3.8537540973041704,\n",
       " 3.8537540973041704,\n",
       " 3.8651394195292954,\n",
       " 3.8766558615908546,\n",
       " 3.884407838395173,\n",
       " 3.884407838395173,\n",
       " 3.900094434562872,\n",
       " 3.9080309841586085,\n",
       " 3.9080309841586085,\n",
       " 3.916031026825685,\n",
       " 3.9240955866624154,\n",
       " 3.9281523873580295,\n",
       " 3.944546197133706,\n",
       " 3.9486869897997376,\n",
       " 3.9696521182647824,\n",
       " 3.9738984091462335,\n",
       " 3.978162807932691,\n",
       " 4.012948924018106,\n",
       " 4.012948924018106,\n",
       " 4.053586569749933,\n",
       " 4.058205515606227,\n",
       " 4.081625789814326,\n",
       " 4.0959458435890745,\n",
       " 4.120277944248605,\n",
       " 4.1401790985659,\n",
       " 4.1401790985659,\n",
       " 4.150280194552404,\n",
       " 4.165625764227064,\n",
       " 4.165625764227064,\n",
       " 4.165625764227064,\n",
       " 4.170793734385507,\n",
       " 4.170793734385507,\n",
       " 4.19173690823075,\n",
       " 4.197041960460443,\n",
       " 4.197041960460443,\n",
       " 4.223997770448972,\n",
       " 4.229477236213597,\n",
       " 4.229477236213597,\n",
       " 4.234986892024567,\n",
       " 4.251700372998307,\n",
       " 4.268697949366879,\n",
       " 4.274428624075863,\n",
       " 4.274428624075863,\n",
       " 4.291820366787733,\n",
       " 4.291820366787733,\n",
       " 4.303585208367319,\n",
       " 4.303585208367319,\n",
       " 4.303585208367319,\n",
       " 4.309519943887134,\n",
       " 4.333617495466194,\n",
       " 4.333617495466194,\n",
       " 4.345887588058009,\n",
       " 4.352079558305929,\n",
       " 4.364579721070161,\n",
       " 4.364579721070161,\n",
       " 4.383627916040855,\n",
       " 4.396531320876764,\n",
       " 4.396531320876764,\n",
       " 4.422848629194137,\n",
       " 4.422848629194137,\n",
       " 4.429537617344933,\n",
       " 4.436271649526278,\n",
       " 4.436271649526278,\n",
       " 4.443051336511656,\n",
       " 4.456750180869818,\n",
       " 4.463670623714392,\n",
       " 4.477656865689132,\n",
       " 4.484724032912224,\n",
       " 4.484724032912224,\n",
       " 4.499009990159701,\n",
       " 4.499009990159701,\n",
       " 4.499009990159701,\n",
       " 4.506230238133187,\n",
       " 4.506230238133187,\n",
       " 4.506230238133187,\n",
       " 4.506230238133187,\n",
       " 4.513502997462267,\n",
       " 4.52082903755434,\n",
       " 4.52082903755434,\n",
       " 4.535644123339481,\n",
       " 4.550682000704022,\n",
       " 4.558286600089241,\n",
       " 4.56594947283481,\n",
       " 4.56594947283481,\n",
       " 4.56594947283481,\n",
       " 4.56594947283481,\n",
       " 4.5736715189287205,\n",
       " 4.5736715189287205,\n",
       " 4.5736715189287205,\n",
       " 4.5814536593707755,\n",
       " 4.5972020163389145,\n",
       " 4.5972020163389145,\n",
       " 4.613202357685355,\n",
       " 4.621299567917975,\n",
       " 4.637693377693651,\n",
       " 4.637693377693651,\n",
       " 4.637693377693651,\n",
       " 4.637693377693651,\n",
       " 4.637693377693651,\n",
       " 4.645992180508347,\n",
       " 4.645992180508347,\n",
       " 4.662799298824727,\n",
       " 4.671309988492636,\n",
       " 4.679893732184028,\n",
       " 4.679893732184028,\n",
       " 4.688551794927142,\n",
       " 4.688551794927142,\n",
       " 4.688551794927142,\n",
       " 4.697285474895897,\n",
       " 4.706096104578052,\n",
       " 4.706096104578052,\n",
       " 4.706096104578052,\n",
       " 4.714985051995298,\n",
       " 4.714985051995298,\n",
       " 4.714985051995298,\n",
       " 4.7239537219780585,\n",
       " 4.733003557497976,\n",
       " 4.742136041061249,\n",
       " 4.742136041061249,\n",
       " 4.7513526961661725,\n",
       " 4.760655088828487,\n",
       " 4.760655088828487,\n",
       " 4.760655088828487,\n",
       " 4.7700448291783255,\n",
       " 4.7700448291783255,\n",
       " 4.779523573132869,\n",
       " 4.78909302414902,\n",
       " 4.808511110006122,\n",
       " 4.808511110006122,\n",
       " 4.818363406449133,\n",
       " 4.818363406449133,\n",
       " 4.8283137373023015,\n",
       " 4.8283137373023015,\n",
       " 4.8283137373023015,\n",
       " 4.838364073155803,\n",
       " 4.838364073155803,\n",
       " 4.848516444619821,\n",
       " 4.869135731822556,\n",
       " 4.869135731822556,\n",
       " 4.869135731822556,\n",
       " 4.879607031689852,\n",
       " 4.879607031689852,\n",
       " 4.879607031689852,\n",
       " 4.890189141020389,\n",
       " 4.890189141020389,\n",
       " 4.890189141020389,\n",
       " 4.900884430137136,\n",
       " 4.900884430137136,\n",
       " 4.911695346241352,\n",
       " 4.922624416773543,\n",
       " 4.922624416773543,\n",
       " 4.922624416773543,\n",
       " 4.922624416773543,\n",
       " 4.933674252960127,\n",
       " 4.956147108812186,\n",
       " 4.967575804635809,\n",
       " 4.967575804635809,\n",
       " 4.967575804635809,\n",
       " 4.967575804635809,\n",
       " 4.967575804635809,\n",
       " 4.967575804635809,\n",
       " 4.967575804635809,\n",
       " 4.967575804635809,\n",
       " 4.979136627036885,\n",
       " 4.979136627036885,\n",
       " 4.979136627036885,\n",
       " 4.979136627036885,\n",
       " 4.979136627036885,\n",
       " 5.002667124447079,\n",
       " 5.002667124447079,\n",
       " 5.002667124447079,\n",
       " 5.002667124447079,\n",
       " 5.014643315493794,\n",
       " 5.014643315493794,\n",
       " 5.014643315493794,\n",
       " 5.014643315493794,\n",
       " 5.014643315493794,\n",
       " 5.014643315493794,\n",
       " 5.014643315493794,\n",
       " 5.014643315493794,\n",
       " 5.026764676026139,\n",
       " 5.026764676026139,\n",
       " 5.026764676026139,\n",
       " 5.026764676026139,\n",
       " 5.039034768617953,\n",
       " 5.039034768617953,\n",
       " 5.039034768617953,\n",
       " 5.039034768617953,\n",
       " 5.039034768617953,\n",
       " 5.039034768617953,\n",
       " 5.051457288616511,\n",
       " 5.051457288616511,\n",
       " 5.064036070823371,\n",
       " 5.064036070823371,\n",
       " 5.064036070823371,\n",
       " 5.076775096600801,\n",
       " 5.076775096600801,\n",
       " 5.076775096600801,\n",
       " 5.089678501436708,\n",
       " 5.089678501436708,\n",
       " 5.089678501436708,\n",
       " 5.089678501436708,\n",
       " 5.089678501436708,\n",
       " 5.089678501436708,\n",
       " 5.102750583004061,\n",
       " 5.102750583004061,\n",
       " 5.102750583004061,\n",
       " 5.102750583004061,\n",
       " 5.102750583004061,\n",
       " 5.102750583004061,\n",
       " 5.115995809754082,\n",
       " 5.115995809754082,\n",
       " 5.115995809754082,\n",
       " 5.129418830086222,\n",
       " 5.129418830086222,\n",
       " 5.129418830086222,\n",
       " 5.1430244821420015,\n",
       " 5.1430244821420015,\n",
       " 5.1430244821420015,\n",
       " 5.1430244821420015,\n",
       " 5.1430244821420015,\n",
       " 5.156817804274337,\n",
       " 5.156817804274337,\n",
       " 5.156817804274337,\n",
       " 5.156817804274337,\n",
       " 5.156817804274337,\n",
       " 5.170804046249077,\n",
       " 5.170804046249077,\n",
       " 5.170804046249077,\n",
       " 5.170804046249077,\n",
       " 5.170804046249077,\n",
       " 5.170804046249077,\n",
       " 5.170804046249077,\n",
       " 5.184988681241034,\n",
       " 5.184988681241034,\n",
       " 5.184988681241034,\n",
       " 5.184988681241034,\n",
       " 5.199377418693133,\n",
       " 5.199377418693133,\n",
       " 5.199377418693133,\n",
       " 5.2139762181142855,\n",
       " 5.2139762181142855,\n",
       " 5.2139762181142855,\n",
       " 5.2139762181142855,\n",
       " 5.2139762181142855,\n",
       " 5.2139762181142855,\n",
       " 5.2139762181142855,\n",
       " 5.2139762181142855,\n",
       " 5.228791303899427,\n",
       " 5.228791303899427,\n",
       " 5.228791303899427,\n",
       " 5.228791303899427,\n",
       " 5.228791303899427,\n",
       " 5.243829181263967,\n",
       " 5.243829181263967,\n",
       " 5.243829181263967,\n",
       " 5.243829181263967,\n",
       " 5.243829181263967,\n",
       " 5.259096653394756,\n",
       " 5.259096653394756,\n",
       " 5.259096653394756,\n",
       " 5.274600839930721,\n",
       " 5.274600839930721,\n",
       " 5.274600839930721,\n",
       " 5.274600839930721,\n",
       " 5.29034919689886,\n",
       " 5.29034919689886,\n",
       " 5.29034919689886,\n",
       " 5.29034919689886,\n",
       " 5.29034919689886,\n",
       " 5.306349538245301,\n",
       " 5.306349538245301,\n",
       " 5.306349538245301,\n",
       " 5.306349538245301,\n",
       " 5.306349538245301,\n",
       " 5.322610059117081,\n",
       " 5.322610059117081,\n",
       " 5.322610059117081,\n",
       " 5.322610059117081,\n",
       " 5.322610059117081,\n",
       " 5.339139361068292,\n",
       " 5.339139361068292,\n",
       " 5.339139361068292,\n",
       " 5.339139361068292,\n",
       " 5.339139361068292,\n",
       " 5.339139361068292,\n",
       " 5.355946479384673,\n",
       " 5.355946479384673,\n",
       " 5.355946479384673,\n",
       " 5.355946479384673,\n",
       " 5.355946479384673,\n",
       " 5.373040912743973,\n",
       " 5.373040912743973,\n",
       " 5.373040912743973,\n",
       " 5.373040912743973,\n",
       " 5.390432655455842,\n",
       " 5.390432655455842,\n",
       " 5.390432655455842,\n",
       " 5.390432655455842,\n",
       " 5.390432655455842,\n",
       " 5.390432655455842,\n",
       " 5.390432655455842,\n",
       " 5.408132232555244,\n",
       " 5.408132232555244,\n",
       " 5.408132232555244,\n",
       " 5.408132232555244,\n",
       " 5.426150738057921,\n",
       " 5.426150738057921,\n",
       " 5.426150738057921,\n",
       " 5.426150738057921,\n",
       " 5.426150738057921,\n",
       " 5.426150738057921,\n",
       " 5.426150738057921,\n",
       " 5.444499876726118,\n",
       " 5.444499876726118,\n",
       " 5.444499876726118,\n",
       " 5.444499876726118,\n",
       " 5.444499876726118,\n",
       " 5.444499876726118,\n",
       " 5.444499876726118,\n",
       " 5.463192009738271,\n",
       " 5.463192009738271,\n",
       " 5.463192009738271,\n",
       " 5.463192009738271,\n",
       " 5.463192009738271,\n",
       " 5.463192009738271,\n",
       " 5.482240204708965,\n",
       " 5.482240204708965,\n",
       " 5.482240204708965,\n",
       " 5.482240204708965,\n",
       " 5.482240204708965,\n",
       " 5.501658290566067,\n",
       " 5.501658290566067,\n",
       " 5.501658290566067,\n",
       " 5.501658290566067,\n",
       " 5.501658290566067,\n",
       " 5.501658290566067,\n",
       " 5.501658290566067,\n",
       " 5.521460917862246,\n",
       " 5.521460917862246,\n",
       " 5.521460917862246,\n",
       " 5.521460917862246,\n",
       " 5.521460917862246,\n",
       " 5.521460917862246,\n",
       " 5.5416636251797655,\n",
       " 5.5416636251797655,\n",
       " 5.5416636251797655,\n",
       " 5.5416636251797655,\n",
       " 5.5416636251797655,\n",
       " 5.5416636251797655,\n",
       " 5.5416636251797655,\n",
       " 5.5416636251797655,\n",
       " 5.562282912382502,\n",
       " 5.562282912382502,\n",
       " 5.562282912382502,\n",
       " 5.562282912382502,\n",
       " 5.562282912382502,\n",
       " 5.562282912382502,\n",
       " 5.562282912382502,\n",
       " 5.562282912382502,\n",
       " 5.562282912382502,\n",
       " 5.583336321580334,\n",
       " 5.583336321580334,\n",
       " 5.583336321580334,\n",
       " 5.583336321580334,\n",
       " 5.583336321580334,\n",
       " 5.604842526801297,\n",
       " 5.604842526801297,\n",
       " 5.604842526801297,\n",
       " 5.604842526801297,\n",
       " 5.604842526801297,\n",
       " 5.604842526801297,\n",
       " 5.604842526801297,\n",
       " 5.626821433520073,\n",
       " 5.626821433520073,\n",
       " 5.626821433520073,\n",
       " 5.626821433520073,\n",
       " 5.626821433520073,\n",
       " 5.626821433520073,\n",
       " 5.649294289372131,\n",
       " 5.649294289372131,\n",
       " 5.649294289372131,\n",
       " 5.649294289372131,\n",
       " 5.649294289372131,\n",
       " 5.649294289372131,\n",
       " 5.649294289372131,\n",
       " 5.649294289372131,\n",
       " 5.649294289372131,\n",
       " 5.6722838075968305,\n",
       " 5.6722838075968305,\n",
       " 5.6722838075968305,\n",
       " 5.6722838075968305,\n",
       " 5.6722838075968305,\n",
       " 5.6722838075968305,\n",
       " 5.6722838075968305,\n",
       " 5.6722838075968305,\n",
       " 5.6958143050070245,\n",
       " 5.6958143050070245,\n",
       " 5.6958143050070245,\n",
       " 5.6958143050070245,\n",
       " 5.6958143050070245,\n",
       " 5.6958143050070245,\n",
       " 5.6958143050070245,\n",
       " 5.7199118565860845,\n",
       " 5.7199118565860845,\n",
       " 5.7199118565860845,\n",
       " 5.7199118565860845,\n",
       " 5.7199118565860845,\n",
       " 5.7199118565860845,\n",
       " 5.7199118565860845,\n",
       " 5.744604469176457,\n",
       " 5.744604469176457,\n",
       " 5.744604469176457,\n",
       " 5.744604469176457,\n",
       " 5.744604469176457,\n",
       " 5.744604469176457,\n",
       " 5.744604469176457,\n",
       " 5.744604469176457,\n",
       " 5.744604469176457,\n",
       " 5.744604469176457,\n",
       " 5.744604469176457,\n",
       " 5.744604469176457,\n",
       " 5.744604469176457,\n",
       " 5.744604469176457,\n",
       " 5.744604469176457,\n",
       " 5.744604469176457,\n",
       " 5.744604469176457,\n",
       " 5.769922277160746,\n",
       " 5.769922277160746,\n",
       " 5.769922277160746,\n",
       " 5.769922277160746,\n",
       " 5.769922277160746,\n",
       " 5.769922277160746,\n",
       " 5.769922277160746,\n",
       " 5.769922277160746,\n",
       " 5.769922277160746,\n",
       " 5.769922277160746,\n",
       " 5.769922277160746,\n",
       " 5.769922277160746,\n",
       " 5.769922277160746,\n",
       " 5.769922277160746,\n",
       " 5.769922277160746,\n",
       " 5.769922277160746,\n",
       " 5.795897763564007,\n",
       " 5.795897763564007,\n",
       " 5.795897763564007,\n",
       " 5.795897763564007,\n",
       " 5.795897763564007,\n",
       " 5.795897763564007,\n",
       " 5.795897763564007,\n",
       " 5.795897763564007,\n",
       " 5.795897763564007,\n",
       " 5.795897763564007,\n",
       " 5.822566010646168,\n",
       " 5.822566010646168,\n",
       " 5.822566010646168,\n",
       " 5.822566010646168,\n",
       " 5.822566010646168,\n",
       " 5.822566010646168,\n",
       " 5.8499649848342825,\n",
       " 5.8499649848342825,\n",
       " 5.8499649848342825,\n",
       " 5.8499649848342825,\n",
       " 5.8499649848342825,\n",
       " 5.8499649848342825,\n",
       " 5.8499649848342825,\n",
       " 5.8499649848342825,\n",
       " 5.8499649848342825,\n",
       " 5.8499649848342825,\n",
       " 5.8499649848342825,\n",
       " 5.8499649848342825,\n",
       " 5.8499649848342825,\n",
       " 5.8781358618009785,\n",
       " 5.8781358618009785,\n",
       " 5.8781358618009785,\n",
       " 5.8781358618009785,\n",
       " 5.8781358618009785,\n",
       " 5.8781358618009785,\n",
       " 5.8781358618009785,\n",
       " 5.8781358618009785,\n",
       " 5.8781358618009785,\n",
       " 5.8781358618009785,\n",
       " 5.907123398674231,\n",
       " 5.907123398674231,\n",
       " 5.907123398674231,\n",
       " 5.907123398674231,\n",
       " 5.907123398674231,\n",
       " 5.907123398674231,\n",
       " 5.907123398674231,\n",
       " 5.907123398674231,\n",
       " 5.907123398674231,\n",
       " 5.907123398674231,\n",
       " 5.907123398674231,\n",
       " 5.936976361823913,\n",
       " 5.936976361823913,\n",
       " 5.936976361823913,\n",
       " 5.936976361823913,\n",
       " 5.936976361823913,\n",
       " 5.936976361823913,\n",
       " 5.936976361823913,\n",
       " 5.936976361823913,\n",
       " 5.936976361823913,\n",
       " 5.936976361823913,\n",
       " 5.936976361823913,\n",
       " 5.967748020490666,\n",
       " 5.967748020490666,\n",
       " 5.967748020490666,\n",
       " 5.967748020490666,\n",
       " 5.967748020490666,\n",
       " 5.967748020490666,\n",
       " 5.967748020490666,\n",
       " 5.967748020490666,\n",
       " 5.967748020490666,\n",
       " 5.967748020490666,\n",
       " 5.967748020490666,\n",
       " 5.999496718805246,\n",
       " 5.999496718805246,\n",
       " 5.999496718805246,\n",
       " 5.999496718805246,\n",
       " 5.999496718805246,\n",
       " 5.999496718805246,\n",
       " 5.999496718805246,\n",
       " 5.999496718805246,\n",
       " 5.999496718805246,\n",
       " 6.032286541628237,\n",
       " 6.032286541628237,\n",
       " 6.032286541628237,\n",
       " 6.032286541628237,\n",
       " 6.032286541628237,\n",
       " 6.032286541628237,\n",
       " 6.032286541628237,\n",
       " 6.032286541628237,\n",
       " 6.032286541628237,\n",
       " 6.032286541628237,\n",
       " 6.032286541628237,\n",
       " 6.032286541628237,\n",
       " 6.032286541628237,\n",
       " 6.032286541628237,\n",
       " 6.032286541628237,\n",
       " 6.066188093303919,\n",
       " 6.066188093303919,\n",
       " 6.066188093303919,\n",
       " 6.066188093303919,\n",
       " 6.066188093303919,\n",
       " 6.066188093303919,\n",
       " 6.066188093303919,\n",
       " 6.066188093303919,\n",
       " 6.066188093303919,\n",
       " 6.066188093303919,\n",
       " 6.066188093303919,\n",
       " 6.066188093303919,\n",
       " 6.066188093303919,\n",
       " 6.066188093303919,\n",
       " 6.066188093303919,\n",
       " 6.066188093303919,\n",
       " 6.066188093303919,\n",
       " 6.101279413115188,\n",
       " 6.101279413115188,\n",
       " 6.101279413115188,\n",
       " 6.101279413115188,\n",
       " 6.101279413115188,\n",
       " 6.101279413115188,\n",
       " 6.101279413115188,\n",
       " 6.101279413115188,\n",
       " 6.101279413115188,\n",
       " 6.137647057286063,\n",
       " 6.137647057286063,\n",
       " 6.137647057286063,\n",
       " 6.137647057286063,\n",
       " 6.137647057286063,\n",
       " 6.137647057286063,\n",
       " 6.137647057286063,\n",
       " 6.137647057286063,\n",
       " 6.137647057286063,\n",
       " 6.137647057286063,\n",
       " 6.137647057286063,\n",
       " 6.137647057286063,\n",
       " 6.137647057286063,\n",
       " 6.137647057286063,\n",
       " 6.137647057286063,\n",
       " 6.137647057286063,\n",
       " 6.137647057286063,\n",
       " 6.137647057286063,\n",
       " 6.137647057286063,\n",
       " 6.137647057286063,\n",
       " 6.175387385268911,\n",
       " 6.175387385268911,\n",
       " 6.175387385268911,\n",
       " 6.175387385268911,\n",
       " 6.175387385268911,\n",
       " 6.175387385268911,\n",
       " 6.175387385268911,\n",
       " 6.175387385268911,\n",
       " 6.175387385268911,\n",
       " 6.175387385268911,\n",
       " 6.175387385268911,\n",
       " 6.175387385268911,\n",
       " 6.175387385268911,\n",
       " 6.175387385268911,\n",
       " 6.175387385268911,\n",
       " 6.175387385268911,\n",
       " 6.175387385268911,\n",
       " 6.175387385268911,\n",
       " 6.175387385268911,\n",
       " 6.175387385268911,\n",
       " 6.175387385268911,\n",
       " 6.214608098422191,\n",
       " 6.214608098422191,\n",
       " 6.214608098422191,\n",
       " 6.214608098422191,\n",
       " 6.214608098422191,\n",
       " 6.214608098422191,\n",
       " 6.214608098422191,\n",
       " 6.214608098422191,\n",
       " 6.214608098422191,\n",
       " 6.214608098422191,\n",
       " 6.214608098422191,\n",
       " 6.214608098422191,\n",
       " 6.214608098422191,\n",
       " 6.214608098422191,\n",
       " 6.214608098422191,\n",
       " 6.214608098422191,\n",
       " 6.214608098422191,\n",
       " 6.214608098422191,\n",
       " 6.214608098422191,\n",
       " 6.214608098422191,\n",
       " 6.255430092942447,\n",
       " 6.255430092942447,\n",
       " 6.255430092942447,\n",
       " 6.255430092942447,\n",
       " 6.255430092942447,\n",
       " 6.255430092942447,\n",
       " 6.255430092942447,\n",
       " 6.255430092942447,\n",
       " 6.255430092942447,\n",
       " 6.255430092942447,\n",
       " 6.255430092942447,\n",
       " 6.255430092942447,\n",
       " 6.255430092942447,\n",
       " 6.255430092942447,\n",
       " 6.255430092942447,\n",
       " 6.255430092942447,\n",
       " 6.297989707361243,\n",
       " 6.297989707361243,\n",
       " 6.297989707361243,\n",
       " 6.297989707361243,\n",
       " 6.297989707361243,\n",
       " 6.297989707361243,\n",
       " 6.297989707361243,\n",
       " 6.297989707361243,\n",
       " 6.297989707361243,\n",
       " 6.297989707361243,\n",
       " 6.297989707361243,\n",
       " 6.297989707361243,\n",
       " 6.297989707361243,\n",
       " 6.297989707361243,\n",
       " 6.297989707361243,\n",
       " 6.297989707361243,\n",
       " 6.297989707361243,\n",
       " 6.297989707361243,\n",
       " 6.297989707361243,\n",
       " 6.297989707361243,\n",
       " 6.297989707361243,\n",
       " 6.297989707361243,\n",
       " 6.342441469932076,\n",
       " 6.342441469932076,\n",
       " 6.342441469932076,\n",
       " 6.342441469932076,\n",
       " 6.342441469932076,\n",
       " 6.342441469932076,\n",
       " 6.342441469932076,\n",
       " 6.342441469932076,\n",
       " 6.342441469932076,\n",
       " 6.342441469932076,\n",
       " 6.342441469932076,\n",
       " 6.342441469932076,\n",
       " 6.342441469932076,\n",
       " 6.342441469932076,\n",
       " 6.342441469932076,\n",
       " 6.342441469932076,\n",
       " 6.342441469932076,\n",
       " 6.342441469932076,\n",
       " 6.342441469932076,\n",
       " 6.342441469932076,\n",
       " 6.342441469932076,\n",
       " 6.342441469932076,\n",
       " 6.342441469932076,\n",
       " 6.342441469932076,\n",
       " 6.388961485566969,\n",
       " 6.388961485566969,\n",
       " 6.388961485566969,\n",
       " 6.388961485566969,\n",
       " 6.388961485566969,\n",
       " 6.388961485566969,\n",
       " 6.388961485566969,\n",
       " 6.388961485566969,\n",
       " 6.388961485566969,\n",
       " 6.388961485566969,\n",
       " 6.388961485566969,\n",
       " 6.388961485566969,\n",
       " 6.388961485566969,\n",
       " 6.388961485566969,\n",
       " 6.388961485566969,\n",
       " 6.388961485566969,\n",
       " 6.388961485566969,\n",
       " 6.388961485566969,\n",
       " 6.388961485566969,\n",
       " 6.388961485566969,\n",
       " 6.388961485566969,\n",
       " 6.388961485566969,\n",
       " 6.388961485566969,\n",
       " 6.388961485566969,\n",
       " 6.388961485566969,\n",
       " 6.388961485566969,\n",
       " 6.388961485566969,\n",
       " 6.388961485566969,\n",
       " 6.388961485566969,\n",
       " 6.388961485566969,\n",
       " 6.388961485566969,\n",
       " 6.388961485566969,\n",
       " 6.437751649736401,\n",
       " 6.437751649736401,\n",
       " 6.437751649736401,\n",
       " 6.437751649736401,\n",
       " 6.437751649736401,\n",
       " 6.437751649736401,\n",
       " 6.437751649736401,\n",
       " 6.437751649736401,\n",
       " 6.437751649736401,\n",
       " 6.437751649736401,\n",
       " 6.437751649736401,\n",
       " 6.437751649736401,\n",
       " 6.437751649736401,\n",
       " 6.437751649736401,\n",
       " 6.437751649736401,\n",
       " 6.437751649736401,\n",
       " 6.437751649736401,\n",
       " 6.437751649736401,\n",
       " 6.437751649736401,\n",
       " 6.437751649736401,\n",
       " 6.437751649736401,\n",
       " 6.437751649736401,\n",
       " 6.437751649736401,\n",
       " 6.437751649736401,\n",
       " 6.437751649736401,\n",
       " 6.437751649736401,\n",
       " 6.437751649736401,\n",
       " 6.437751649736401,\n",
       " 6.437751649736401,\n",
       " 6.437751649736401,\n",
       " 6.437751649736401,\n",
       " 6.437751649736401,\n",
       " 6.489044944123952,\n",
       " 6.489044944123952,\n",
       " 6.489044944123952,\n",
       " 6.489044944123952,\n",
       " 6.489044944123952,\n",
       " 6.489044944123952,\n",
       " 6.489044944123952,\n",
       " 6.489044944123952,\n",
       " 6.489044944123952,\n",
       " 6.489044944123952,\n",
       " 6.489044944123952,\n",
       " 6.489044944123952,\n",
       " 6.489044944123952,\n",
       " 6.489044944123952,\n",
       " 6.489044944123952,\n",
       " 6.489044944123952,\n",
       " 6.489044944123952,\n",
       " 6.489044944123952,\n",
       " 6.489044944123952,\n",
       " 6.489044944123952,\n",
       " 6.489044944123952,\n",
       " 6.489044944123952,\n",
       " 6.489044944123952,\n",
       " 6.489044944123952,\n",
       " 6.489044944123952,\n",
       " 6.489044944123952,\n",
       " 6.489044944123952,\n",
       " 6.489044944123952,\n",
       " 6.489044944123952,\n",
       " 6.489044944123952,\n",
       " 6.489044944123952,\n",
       " 6.489044944123952,\n",
       " 6.543112165394228,\n",
       " 6.543112165394228,\n",
       " 6.543112165394228,\n",
       " 6.543112165394228,\n",
       " 6.543112165394228,\n",
       " 6.543112165394228,\n",
       " 6.543112165394228,\n",
       " 6.543112165394228,\n",
       " 6.543112165394228,\n",
       " 6.543112165394228,\n",
       " 6.543112165394228,\n",
       " 6.543112165394228,\n",
       " 6.543112165394228,\n",
       " 6.543112165394228,\n",
       " 6.543112165394228,\n",
       " 6.543112165394228,\n",
       " 6.543112165394228,\n",
       " 6.543112165394228,\n",
       " 6.543112165394228,\n",
       " 6.543112165394228,\n",
       " 6.543112165394228,\n",
       " 6.543112165394228,\n",
       " 6.543112165394228,\n",
       " 6.543112165394228,\n",
       " 6.543112165394228,\n",
       " 6.543112165394228,\n",
       " 6.543112165394228,\n",
       " 6.543112165394228,\n",
       " 6.543112165394228,\n",
       " 6.543112165394228,\n",
       " 6.543112165394228,\n",
       " 6.543112165394228,\n",
       " 6.543112165394228,\n",
       " 6.600270579234176,\n",
       " 6.600270579234176,\n",
       " 6.600270579234176,\n",
       " 6.600270579234176,\n",
       " 6.600270579234176,\n",
       " 6.600270579234176,\n",
       " 6.600270579234176,\n",
       " 6.600270579234176,\n",
       " 6.600270579234176,\n",
       " 6.600270579234176,\n",
       " 6.600270579234176,\n",
       " 6.600270579234176,\n",
       " 6.600270579234176,\n",
       " 6.600270579234176,\n",
       " 6.600270579234176,\n",
       " 6.600270579234176,\n",
       " 6.600270579234176,\n",
       " 6.600270579234176,\n",
       " 6.600270579234176,\n",
       " 6.600270579234176,\n",
       " 6.600270579234176,\n",
       " 6.600270579234176,\n",
       " 6.600270579234176,\n",
       " 6.600270579234176,\n",
       " 6.600270579234176,\n",
       " 6.600270579234176,\n",
       " 6.600270579234176,\n",
       " 6.600270579234176,\n",
       " 6.660895201050611,\n",
       " 6.660895201050611,\n",
       " 6.660895201050611,\n",
       " 6.660895201050611,\n",
       " 6.660895201050611,\n",
       " 6.660895201050611,\n",
       " 6.660895201050611,\n",
       " 6.660895201050611,\n",
       " 6.660895201050611,\n",
       " 6.660895201050611,\n",
       " 6.660895201050611,\n",
       " 6.660895201050611,\n",
       " 6.660895201050611,\n",
       " 6.660895201050611,\n",
       " 6.660895201050611,\n",
       " 6.660895201050611,\n",
       " 6.660895201050611,\n",
       " 6.660895201050611,\n",
       " 6.660895201050611,\n",
       " 6.660895201050611,\n",
       " 6.660895201050611,\n",
       " 6.660895201050611,\n",
       " 6.660895201050611,\n",
       " 6.660895201050611,\n",
       " 6.660895201050611,\n",
       " 6.660895201050611,\n",
       " 6.660895201050611,\n",
       " 6.660895201050611,\n",
       " 6.660895201050611,\n",
       " 6.660895201050611,\n",
       " 6.660895201050611,\n",
       " 6.660895201050611,\n",
       " 6.725433722188183,\n",
       " 6.725433722188183,\n",
       " 6.725433722188183,\n",
       " 6.725433722188183,\n",
       " 6.725433722188183,\n",
       " 6.725433722188183,\n",
       " 6.725433722188183,\n",
       " 6.725433722188183,\n",
       " 6.725433722188183,\n",
       " 6.725433722188183,\n",
       " 6.725433722188183,\n",
       " 6.725433722188183,\n",
       " 6.725433722188183,\n",
       " 6.725433722188183,\n",
       " 6.725433722188183,\n",
       " 6.725433722188183,\n",
       " 6.725433722188183,\n",
       " 6.725433722188183,\n",
       " 6.725433722188183,\n",
       " 6.725433722188183,\n",
       " 6.725433722188183,\n",
       " 6.725433722188183,\n",
       " 6.725433722188183,\n",
       " 6.725433722188183,\n",
       " 6.725433722188183,\n",
       " 6.725433722188183,\n",
       " 6.725433722188183,\n",
       " 6.725433722188183,\n",
       " 6.725433722188183,\n",
       " 6.725433722188183,\n",
       " 6.725433722188183,\n",
       " 6.725433722188183,\n",
       " 6.725433722188183,\n",
       " 6.725433722188183,\n",
       " 6.725433722188183,\n",
       " 6.725433722188183,\n",
       " 6.725433722188183,\n",
       " 6.725433722188183,\n",
       " 6.725433722188183,\n",
       " 6.725433722188183,\n",
       " 6.725433722188183,\n",
       " 6.725433722188183,\n",
       " 6.725433722188183,\n",
       " 6.794426593675134,\n",
       " 6.794426593675134,\n",
       " 6.794426593675134,\n",
       " 6.794426593675134,\n",
       " 6.794426593675134,\n",
       " 6.794426593675134,\n",
       " ...]"
      ]
     },
     "execution_count": 29,
     "metadata": {},
     "output_type": "execute_result"
    }
   ],
   "source": [
    "list(result.values())"
   ]
  },
  {
   "cell_type": "code",
   "execution_count": null,
   "metadata": {},
   "outputs": [],
   "source": [
    "'''\n",
    "Emotion words histogram\n",
    "'''\n",
    "read_files = glob.glob(negTrainDir + '*.txt')\n",
    "\n",
    "counterNegEmos = Counter('')\n",
    "i = 0\n",
    "\n",
    "for infile in read_files:\n",
    "    with open(infile, 'r', errors='replace') as f:\n",
    "        text = f.read()\n",
    "        doc = nlp(text)\n",
    "        counterNegEmos += analyzeEmotionWords(doc, emos) \n",
    "        if (i % 5000 == 0): \n",
    "            print('i : ' + str(i))  \n",
    "        i += 1\n",
    "    \n",
    "print(counterNegEmos)\n",
    "plt.figure(num=None, figsize=(20, 6), dpi=80, facecolor='w', edgecolor='k')\n",
    "labels, values = rankCounter(counterNegEmos)\n",
    "indexes = np.arange(len(labels))\n",
    "values = [v*1.0/countNegTrain for v in values] \n",
    "plt.bar(indexes, values, barwidth)\n",
    "plt.xticks(indexes + width * 0.5, labels)\n",
    "plt.show()"
   ]
  },
  {
   "cell_type": "code",
   "execution_count": 30,
   "metadata": {},
   "outputs": [
    {
     "data": {
      "image/png": "[encoded data removed]",
      "text/plain": [
       "<Figure size 1600x480 with 1 Axes>"
      ]
     },
     "metadata": {},
     "output_type": "display_data"
    }
   ],
   "source": [
    "plt.figure(num=None, figsize=(20, 6), dpi=80, facecolor='w', edgecolor='k')\n",
    "labels, values = rankCounter(counterNegEmos)\n",
    "indexes = np.arange(len(labels))\n",
    "values = [v*1.0/countNegTrain for v in values] \n",
    "plt.bar(indexes, values, barwidth)\n",
    "plt.xticks(indexes + width * 0.5, labels)\n",
    "plt.show()"
   ]
  },
  {
   "cell_type": "code",
   "execution_count": 11,
   "metadata": {},
   "outputs": [
    {
     "name": "stdout",
     "output_type": "stream",
     "text": [
      "0\n",
      "Counter()\n"
     ]
    },
    {
     "ename": "TypeError",
     "evalue": "object of type 'NoneType' has no len()",
     "output_type": "error",
     "traceback": [
      "\u001b[0;31m---------------------------------------------------------------------------\u001b[0m",
      "\u001b[0;31mTypeError\u001b[0m                                 Traceback (most recent call last)",
      "\u001b[0;32m<ipython-input-11-3fc72876f0dc>\u001b[0m in \u001b[0;36m<module>\u001b[0;34m\u001b[0m\n\u001b[1;32m     11\u001b[0m \u001b[0mplt\u001b[0m\u001b[0;34m.\u001b[0m\u001b[0mfigure\u001b[0m\u001b[0;34m(\u001b[0m\u001b[0mnum\u001b[0m\u001b[0;34m=\u001b[0m\u001b[0;32mNone\u001b[0m\u001b[0;34m,\u001b[0m \u001b[0mfigsize\u001b[0m\u001b[0;34m=\u001b[0m\u001b[0;34m(\u001b[0m\u001b[0;36m20\u001b[0m\u001b[0;34m,\u001b[0m \u001b[0;36m6\u001b[0m\u001b[0;34m)\u001b[0m\u001b[0;34m,\u001b[0m \u001b[0mdpi\u001b[0m\u001b[0;34m=\u001b[0m\u001b[0;36m80\u001b[0m\u001b[0;34m,\u001b[0m \u001b[0mfacecolor\u001b[0m\u001b[0;34m=\u001b[0m\u001b[0;34m'w'\u001b[0m\u001b[0;34m,\u001b[0m \u001b[0medgecolor\u001b[0m\u001b[0;34m=\u001b[0m\u001b[0;34m'k'\u001b[0m\u001b[0;34m)\u001b[0m\u001b[0;34m\u001b[0m\u001b[0;34m\u001b[0m\u001b[0m\n\u001b[1;32m     12\u001b[0m \u001b[0mlabels\u001b[0m\u001b[0;34m,\u001b[0m \u001b[0mvalues\u001b[0m \u001b[0;34m=\u001b[0m \u001b[0mrankCounter\u001b[0m\u001b[0;34m(\u001b[0m\u001b[0mcounterWordIdf\u001b[0m\u001b[0;34m)\u001b[0m\u001b[0;34m\u001b[0m\u001b[0;34m\u001b[0m\u001b[0m\n\u001b[0;32m---> 13\u001b[0;31m \u001b[0mindexes\u001b[0m \u001b[0;34m=\u001b[0m \u001b[0mnp\u001b[0m\u001b[0;34m.\u001b[0m\u001b[0marange\u001b[0m\u001b[0;34m(\u001b[0m\u001b[0mlen\u001b[0m\u001b[0;34m(\u001b[0m\u001b[0mlabels\u001b[0m\u001b[0;34m)\u001b[0m\u001b[0;34m)\u001b[0m\u001b[0;34m\u001b[0m\u001b[0;34m\u001b[0m\u001b[0m\n\u001b[0m\u001b[1;32m     14\u001b[0m \u001b[0mwidth\u001b[0m \u001b[0;34m=\u001b[0m \u001b[0;36m1\u001b[0m\u001b[0;34m\u001b[0m\u001b[0;34m\u001b[0m\u001b[0m\n\u001b[1;32m     15\u001b[0m \u001b[0mplt\u001b[0m\u001b[0;34m.\u001b[0m\u001b[0mbar\u001b[0m\u001b[0;34m(\u001b[0m\u001b[0mindexes\u001b[0m\u001b[0;34m,\u001b[0m \u001b[0mvalues\u001b[0m\u001b[0;34m,\u001b[0m \u001b[0mwidth\u001b[0m\u001b[0;34m)\u001b[0m\u001b[0;34m\u001b[0m\u001b[0;34m\u001b[0m\u001b[0m\n",
      "\u001b[0;31mTypeError\u001b[0m: object of type 'NoneType' has no len()"
     ]
    },
    {
     "data": {
      "text/plain": [
       "<Figure size 1600x480 with 0 Axes>"
      ]
     },
     "metadata": {},
     "output_type": "display_data"
    }
   ],
   "source": [
    "'''\n",
    "Emotion words histogram\n",
    "''' \n",
    "directory = posTrainDir + '*.txt'\n",
    "counterPosEmos = Counter('')\n",
    "i = 0\n",
    "print(len(counterPosEmos.keys()))\n",
    "counterWordIdf = invDocFreq(counterPosEmos.keys(), directory)\n",
    "    \n",
    "print(counterWordIdf)\n",
    "plt.figure(num=None, figsize=(20, 6), dpi=80, facecolor='w', edgecolor='k')\n",
    "labels, values = rankCounter(counterWordIdf) \n",
    "indexes = np.arange(len(labels))\n",
    "width = 1\n",
    "plt.bar(indexes, values, width)\n",
    "plt.xticks(indexes + width * 0.5, labels)\n",
    "plt.show()"
   ]
  },
  {
   "cell_type": "code",
   "execution_count": 6,
   "metadata": {},
   "outputs": [
    {
     "name": "stdout",
     "output_type": "stream",
     "text": [
      "i : 0\n"
     ]
    }
   ],
   "source": [
    "read_files = glob.glob(exampleDir + '*.txt')\n",
    "\n",
    "i = 0\n",
    "count = 0\n",
    "\n",
    "for infile in read_files:\n",
    "    with open(infile, 'r', errors='replace') as f:\n",
    "        count += totalWords(f) \n",
    "        if (i % 5000 == 0): \n",
    "            print('i : ' + str(i))  \n",
    "        i += 1  "
   ]
  },
  {
   "cell_type": "code",
   "execution_count": 12,
   "metadata": {},
   "outputs": [
    {
     "name": "stdout",
     "output_type": "stream",
     "text": [
      "i : 0\n",
      "i : 5000\n",
      "i : 10000\n"
     ]
    }
   ],
   "source": [
    "read_files = glob.glob(posTrainDir + '*.txt')\n",
    "\n",
    "i = 0\n",
    "totWords = 0\n",
    "\n",
    "for infile in read_files:\n",
    "    with open(infile, 'r', errors='replace') as f:\n",
    "        totWords += totalWords(f) \n",
    "        if (i % 5000 == 0): \n",
    "            print('i : ' + str(i))  \n",
    "        i += 1  "
   ]
  },
  {
   "cell_type": "code",
   "execution_count": 13,
   "metadata": {},
   "outputs": [
    {
     "name": "stdout",
     "output_type": "stream",
     "text": [
      "2958696\n"
     ]
    }
   ],
   "source": [
    "print(countPosTrain)"
   ]
  },
  {
   "cell_type": "code",
   "execution_count": 14,
   "metadata": {},
   "outputs": [
    {
     "name": "stdout",
     "output_type": "stream",
     "text": [
      "i : 0\n",
      "i : 5000\n",
      "i : 10000\n"
     ]
    }
   ],
   "source": [
    "read_files = glob.glob(negTrainDir + '*.txt')\n",
    "\n",
    "i = 0\n",
    "countNegTrain = 0\n",
    "\n",
    "for infile in read_files:\n",
    "    with open(infile, 'r', errors='replace') as f:\n",
    "        countNegTrain += totalWords(f) \n",
    "        if (i % 5000 == 0): \n",
    "            print('i : ' + str(i))  \n",
    "        i += 1  "
   ]
  },
  {
   "cell_type": "code",
   "execution_count": 15,
   "metadata": {},
   "outputs": [
    {
     "name": "stdout",
     "output_type": "stream",
     "text": [
      "2885722\n"
     ]
    }
   ],
   "source": [
    "print(countNegTrain)"
   ]
  },
  {
   "cell_type": "code",
   "execution_count": null,
   "metadata": {},
   "outputs": [],
   "source": []
  }
 ],
 "metadata": {
  "anaconda-cloud": {},
  "kernelspec": {
   "display_name": "Python 3",
   "language": "python",
   "name": "python3"
  },
  "language_info": {
   "codemirror_mode": {
    "name": "ipython",
    "version": 3
   },
   "file_extension": ".py",
   "mimetype": "text/x-python",
   "name": "python",
   "nbconvert_exporter": "python",
   "pygments_lexer": "ipython3",
   "version": "3.7.4"
  }
 },
 "nbformat": 4,
 "nbformat_minor": 1
}
