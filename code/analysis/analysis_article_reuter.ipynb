{
 "cells": [
  {
   "cell_type": "code",
   "execution_count": 4,
   "metadata": {
    "collapsed": true
   },
   "outputs": [],
   "source": [
    "import spacy\n",
    "import numpy as np\n",
    "import matplotlib.pyplot as plt\n",
    "import os\n",
    "import glob\n",
    "\n",
    "import os\n",
    "import sys\n",
    "module_path = os.path.abspath(os.path.join('..'))\n",
    "if module_path not in sys.path:\n",
    "    sys.path.append(module_path)\n",
    "\n",
    "from analysis_code.analyze_corpus import *"
   ]
  },
  {
   "cell_type": "code",
   "execution_count": 5,
   "metadata": {
    "collapsed": false
   },
   "outputs": [
    {
     "data": {
      "text/plain": [
       "'document in line format'"
      ]
     },
     "execution_count": 5,
     "metadata": {},
     "output_type": "execute_result"
    }
   ],
   "source": [
    "'''name definition'''\n",
    "example = '/home/luluvyd/corpus/Reuters21578/examples/out.txt'\n",
    "filename = '/home/luluvyd/corpus/Reuters21578/reuter-article.txt'\n",
    "\n",
    "'''document in line format'''"
   ]
  },
  {
   "cell_type": "code",
   "execution_count": 8,
   "metadata": {
    "collapsed": true
   },
   "outputs": [],
   "source": [
    "nlp = spacy.load('en_core_web_md')\n"
   ]
  },
  {
   "cell_type": "code",
   "execution_count": 6,
   "metadata": {
    "collapsed": true
   },
   "outputs": [],
   "source": [
    "emos = loadEmotionWords('/home/luluvyd/corpus/NRC-Emotion-Lexicon-v0.92/Generated-EmotionWords.txt')"
   ]
  },
  {
   "cell_type": "code",
   "execution_count": null,
   "metadata": {
    "collapsed": true
   },
   "outputs": [],
   "source": [
    "'''\n",
    "Example : break-up cmu movie view file\n",
    "'''\n",
    "with open(example, 'r', errors='replace') as f:\n",
    "    r = processArticle(f, emos)\n",
    "    print(r)\n",
    "f.close()"
   ]
  },
  {
   "cell_type": "code",
   "execution_count": 4,
   "metadata": {
    "collapsed": false
   },
   "outputs": [],
   "source": [
    "'''\n",
    "Corpus : get fraction score\n",
    "'''\n",
    "scores = []\n",
    "with open(filename, 'r', errors='replace') as f:\n",
    "    r = scoreArticle(f, emos)\n",
    "    scores += r"
   ]
  },
  {
   "cell_type": "code",
   "execution_count": 5,
   "metadata": {
    "collapsed": false
   },
   "outputs": [
    {
     "data": {
      "text/plain": [
       "14306"
      ]
     },
     "execution_count": 5,
     "metadata": {},
     "output_type": "execute_result"
    }
   ],
   "source": [
    "len(scores)"
   ]
  },
  {
   "cell_type": "code",
   "execution_count": 17,
   "metadata": {
    "collapsed": false
   },
   "outputs": [],
   "source": [
    "'''plot percentage score'''\n",
    "scoresPer = np.array(scores)*100\n",
    "maxScore = 40"
   ]
  },
  {
   "cell_type": "code",
   "execution_count": 18,
   "metadata": {
    "collapsed": false
   },
   "outputs": [
    {
     "data": {
      "image/png": "[encoded data removed]",
      "text/plain": [
       "<matplotlib.figure.Figure at 0x7f0da7899ef0>"
      ]
     },
     "metadata": {},
     "output_type": "display_data"
    }
   ],
   "source": [
    "plt.figure(num=None, figsize=(20, 6), dpi=80, facecolor='w', edgecolor='k')\n",
    "n_bins = 40\n",
    "plt.hist(scoresPer,bins=n_bins)\n",
    "plt.show()"
   ]
  },
  {
   "cell_type": "code",
   "execution_count": 15,
   "metadata": {
    "collapsed": false
   },
   "outputs": [],
   "source": [
    "'''closely look at the bottom 10 percent'''\n",
    "scoresLow = [s for s in scores if s < 0.1]\n",
    "scoresPer = np.array(scoresLow)*100\n",
    "maxScore = 10"
   ]
  },
  {
   "cell_type": "code",
   "execution_count": 16,
   "metadata": {
    "collapsed": false
   },
   "outputs": [
    {
     "data": {
      "image/png": "[encoded data removed]",
      "text/plain": [
       "<matplotlib.figure.Figure at 0x7f0da79b9fd0>"
      ]
     },
     "metadata": {},
     "output_type": "display_data"
    }
   ],
   "source": [
    "plt.figure(num=None, figsize=(20, 6), dpi=80, facecolor='w', edgecolor='k')\n",
    "n_bins = 10\n",
    "plt.hist(scoresPer,bins=n_bins)\n",
    "plt.show()"
   ]
  },
  {
   "cell_type": "code",
   "execution_count": 13,
   "metadata": {
    "collapsed": true
   },
   "outputs": [],
   "source": [
    "def articleEmos(infile, emos): \n",
    "    '''return a counter of emotional words'''\n",
    "    line = infile.readline()\n",
    "    print(len(line))\n",
    "    i = 1\n",
    "    counter = Counter()\n",
    "    while line: \n",
    "        doc = nlp(line)\n",
    "        counter += analyzeEmotionWords(doc, emos)\n",
    "        i += 1 \n",
    "        if (i % 1000 == 0):\n",
    "            print(i)\n",
    "        line = infile.readline()\n",
    "    return counter"
   ]
  },
  {
   "cell_type": "code",
   "execution_count": 14,
   "metadata": {
    "collapsed": false,
    "scrolled": false
   },
   "outputs": [
    {
     "name": "stdout",
     "output_type": "stream",
     "text": [
      "151\n",
      "1000\n",
      "2000\n",
      "3000\n",
      "4000\n",
      "5000\n",
      "6000\n",
      "7000\n",
      "8000\n",
      "9000\n",
      "10000\n",
      "11000\n",
      "12000\n",
      "13000\n",
      "14000\n",
      "15000\n",
      "16000\n",
      "17000\n",
      "18000\n",
      "19000\n",
      "20000\n",
      "21000\n",
      "22000\n",
      "23000\n",
      "24000\n",
      "25000\n",
      "26000\n",
      "27000\n",
      "28000\n",
      "29000\n",
      "30000\n",
      "31000\n",
      "32000\n",
      "33000\n",
      "34000\n",
      "35000\n",
      "36000\n",
      "37000\n",
      "38000\n",
      "Counter({'loss': 4794, 'share': 3961, 'march': 2916, 'exchange': 2719, 'interest': 2343, 'agreement': 2281, 'tax': 2279, 'production': 1724, 'growth': 1491, 'chairman': 1452, 'pay': 1418, 'credit': 1387, 'fell': 1255, 'public': 1100, 'lower': 1098, 'including': 988, 'ministry': 979, 'demand': 952, 'bonds': 902, 'income': 885, 'level': 866, 'fall': 840, 'gain': 821, 'continue': 818, 'full': 803, 'action': 711, 'tender': 674, 'reserve': 668, 'deal': 660, 'decline': 621, 'crude': 603, 'prime': 598, 'late': 588, 'effective': 576, 'received': 575, 'vice': 572, 'inflation': 571, 'subject': 511, 'good': 506, 'acquire': 504, 'director': 494, 'accord': 488, 'balance': 486, 'split': 468, 'expect': 464, 'officer': 446, 'resources': 442, 'special': 436, 'pressure': 430, 'main': 429, 'present': 416, 'council': 410, 'case': 388, 'force': 382, 'strike': 382, 'intervention': 366, 'information': 360, 'study': 337, 'aid': 319, 'hit': 315, 'extraordinary': 314, 'land': 299, 'delivery': 284, 'vote': 274, 'crisis': 270, 'gross': 267, 'partnership': 261, 'calls': 248, 'lost': 245, 'greater': 244, 'majority': 243, 'opposition': 241, 'flow': 240, 'reason': 234, 'rejected': 228, 'falling': 227, 'defense': 226, 'producing': 218, 'rating': 217, 'dispute': 214, 'fee': 212, 'cooperation': 210, 'recovery': 208, 'rest': 202, 'leader': 202, 'planning': 195, 'speculation': 187, 'completion': 184, 'sea': 175, 'pound': 175, 'benefit': 174, 'assistance': 174, 'agree': 174, 'advanced': 173, 'failure': 173, 'authorized': 170, 'organization': 169, 'shell': 167, 'confidence': 166, 'damage': 166, 'center': 164, 'cutting': 161, 'strength': 161, 'versus': 158, 'structure': 157, 'bonus': 149, 'interested': 146, 'resigned': 144, 'forward': 144, 'lack': 139, 'negative': 137, 'redemption': 137, 'relief': 135, 'refused': 133, 'denied': 132, 'customer': 130, 'margin': 128, 'harvest': 128, 'chase': 127, 'bad': 123, 'highest': 122, 'exceed': 121, 'delayed': 120, 'difficulties': 119, 'leave': 117, 'advance': 116, 'join': 114, 'committed': 114, 'ease': 113, 'tough': 113, 'confident': 113, 'achieve': 113, 'status': 112, 'encourage': 111, 'sun': 110, 'serve': 110, 'providing': 110, 'waste': 109, 'excluding': 107, 'row': 107, 'fair': 107, 'debate': 106, 'modest': 105, 'partner': 104, 'enable': 100, 'gap': 99, 'hurt': 99, 'moderate': 98, 'model': 97, 'grace': 94, 'scandal': 94, 'black': 93, 'fleet': 93, 'republic': 93, 'uncertainty': 91, 'labor': 91, 'justice': 89, 'fairly': 89, 'represented': 88, 'collapse': 88, 'grant': 87, 'license': 85, 'acquiring': 84, 'welcomed': 84, 'wages': 83, 'assembly': 82, 'cold': 82, 'practice': 81, 'save': 80, 'heavily': 79, 'depreciation': 78, 'merge': 77, 'acceptance': 76, 'contribute': 75, 'receiving': 73, 'fraud': 72, 'convert': 71, 'doubt': 71, 'manufacturer': 70, 'prospect': 69, 'lose': 69, 'respect': 68, 'favorable': 68, 'star': 68, 'withdraw': 68, 'wireless': 67, 'resignation': 67, 'productivity': 67, 'objective': 66, 'frank': 66, 'iron': 66, 'worried': 65, 'retirement': 64, 'succeed': 64, 'cooperate': 64, 'quiet': 64, 'presence': 64, 'marked': 63, 'compliance': 63, 'remove': 62, 'resistance': 61, 'failing': 61, 'danger': 60, 'prove': 59, 'accused': 58, 'weight': 57, 'pharmaceutical': 57, 'influence': 57, 'oppose': 57, 'formula': 56, 'rail': 56, 'hostile': 56, 'austerity': 55, 'uncertain': 54, 'challenge': 54, 'powerful': 54, 'green': 53, 'dole': 53, 'levy': 53, 'broken': 52, 'default': 52, 'diversified': 52, 'jump': 51, 'task': 51, 'contact': 51, 'adverse': 50, 'content': 50, 'measured': 50, 'importance': 50, 'pick': 49, 'quote': 49, 'impossible': 49, 'sluggish': 49, 'count': 48, 'standing': 48, 'rescue': 48, 'difficulty': 48, 'foundation': 47, 'conflict': 47, 'inadequate': 47, 'crash': 46, 'happy': 46, 'essential': 45, 'deficiency': 45, 'bound': 45, 'intelligence': 45, 'assurance': 45, 'usual': 45, 'commonwealth': 44, 'removal': 44, 'precious': 44, 'associate': 44, 'pledge': 43, 'thrift': 43, 'breach': 43, 'affiliated': 43, 'restraint': 43, 'strengthening': 43, 'delegate': 42, 'solid': 42, 'renewal': 42, 'destroyed': 42, 'sour': 42, 'enforcement': 42, 'absence': 42, 'elimination': 41, 'interior': 41, 'deny': 41, 'freedom': 41, 'suffer': 41, 'reject': 41, 'departure': 40, 'progressive': 40, 'wrong': 40, 'professional': 39, 'correction': 39, 'offensive': 39, 'spirit': 39, 'nervous': 39, 'explain': 38, 'explosion': 38, 'refusal': 38, 'sweet': 38, 'stone': 38, 'injunction': 38, 'promise': 37, 'stress': 37, 'injured': 37, 'dependence': 37, 'deterioration': 37, 'boycott': 36, 'tower': 35, 'cool': 34, 'experienced': 34, 'convention': 34, 'friendly': 34, 'discovery': 33, 'determination': 33, 'belt': 33, 'copy': 32, 'pollution': 32, 'calm': 32, 'treat': 32, 'violation': 31, 'accident': 31, 'elect': 31, 'efficient': 31, 'plunge': 30, 'fidelity': 30, 'royalty': 30, 'unacceptable': 30, 'rejection': 30, 'lord': 30, 'superior': 30, 'safe': 29, 'casualty': 29, 'unexpected': 29, 'worry': 29, 'champion': 29, 'standstill': 28, 'argument': 28, 'pilot': 28, 'peace': 28, 'liberty': 28, 'pull': 28, 'abandon': 28, 'weakened': 28, 'horizon': 28, 'constant': 28, 'authorization': 27, 'shed': 27, 'pioneer': 27, 'discipline': 27, 'unprofitable': 27, 'threaten': 27, 'word': 27, 'fat': 27, 'disappointing': 27, 'words': 27, 'contrary': 27, 'revise': 26, 'faith': 26, 'routine': 26, 'crushing': 26, 'setback': 26, 'storm': 26, 'anchor': 25, 'proper': 25, 'barred': 25, 'harm': 25, 'preserve': 24, 'defeat': 24, 'resign': 24, 'expectation': 24, 'polish': 24, 'eager': 24, 'master': 23, 'rigid': 23, 'honor': 23, 'redress': 23, 'gaining': 23, 'beverage': 23, 'bomb': 23, 'guard': 22, 'shot': 22, 'soil': 22, 'regulate': 22, 'execution': 22, 'twin': 22, 'abolish': 22, 'don': 22, 'protecting': 22, 'reading': 21, 'defending': 21, 'complicated': 21, 'bang': 20, 'facts': 20, 'absolute': 20, 'revive': 20, 'blast': 20, 'struggle': 20, 'refuse': 20, 'praised': 20, 'completing': 20, 'advise': 20, 'suspicion': 20, 'title': 20, 'shock': 20, 'orderly': 19, 'luxury': 19, 'fierce': 19, 'stiff': 19, 'barrier': 19, 'detect': 19, 'deadlock': 19, 'goodwill': 18, 'strip': 18, 'organized': 18, 'hopeful': 18, 'violence': 18, 'discourage': 18, 'art': 18, 'breakup': 18, 'depression': 18, 'battery': 17, 'fulfill': 17, 'timely': 17, 'bargain': 17, 'pose': 17, 'intelligent': 17, 'construct': 17, 'guide': 17, 'choke': 17, 'oak': 17, 'complement': 16, 'denying': 16, 'interference': 16, 'enjoy': 16, 'wealth': 16, 'confined': 16, 'regal': 16, 'credited': 16, 'slip': 16, 'halting': 16, 'resisting': 16, 'upset': 16, 'reaffirm': 15, 'hire': 15, 'garden': 15, 'ignore': 15, 'hurting': 15, 'clearance': 15, 'undermined': 15, 'substance': 15, 'cleaning': 15, 'unity': 15, 'reporter': 15, 'craft': 14, 'equilibrium': 14, 'divested': 14, 'love': 14, 'destination': 14, 'absorbed': 14, 'resident': 14, 'hidden': 14, 'sympathy': 14, 'abuse': 14, 'restriction': 13, 'lump': 13, 'slate': 13, 'examination': 13, 'windfall': 13, 'cushion': 13, 'picket': 13, 'resistant': 12, 'friend': 12, 'responsive': 12, 'communicate': 12, 'isolated': 12, 'fate': 12, 'absent': 12, 'wound': 12, 'relaxation': 12, 'die': 12, 'unsatisfactory': 12, 'winner': 12, 'amend': 12, 'lacking': 12, 'error': 12, 'incorrect': 12, 'conviction': 11, 'grave': 11, 'sympathetic': 11, 'ram': 11, 'penetration': 11, 'tolerate': 11, 'pain': 11, 'academy': 11, 'alarm': 11, 'approving': 11, 'injury': 11, 'democracy': 11, 'enforce': 11, 'attacking': 11, 'impression': 11, 'array': 11, 'dissolution': 11, 'shelved': 11, 'dependency': 11, 'unique': 10, 'sex': 10, 'lapse': 10, 'cream': 10, 'unsettled': 10, 'keystone': 10, 'groundwork': 10, 'desperate': 10, 'lie': 10, 'revival': 10, 'clash': 10, 'notable': 10, 'helpful': 10, 'intact': 10, 'evergreen': 10, 'counselor': 10, 'cooperating': 10, 'reorganize': 10, 'persistent': 10, 'fault': 10, 'lax': 10, 'disastrous': 10, 'wanting': 10, 'remarkable': 10, 'clouded': 10, 'dun': 10, 'prudence': 10, 'dull': 10, 'corruption': 10, 'remedy': 9, 'truth': 9, 'aiding': 9, 'sentence': 9, 'restrain': 9, 'ridiculous': 9, 'fearing': 9, 'brotherhood': 9, 'nursery': 9, 'relieving': 9, 'rod': 9, 'female': 9, 'attractiveness': 9, 'partisan': 9, 'rough': 9, 'corrective': 9, 'prestige': 9, 'justification': 9, 'sacrifices': 9, 'purity': 9, 'firmness': 9, 'seal': 9, 'escape': 9, 'quell': 8, 'adventure': 8, 'exhaust': 8, 'endangered': 8, 'lackluster': 8, 'campaigning': 8, 'deadly': 8, 'withstand': 8, 'birth': 8, 'prevail': 8, 'revolution': 8, 'attraction': 8, 'anxiety': 8, 'skilled': 8, 'tumble': 8, 'warranty': 8, 'verge': 8, 'readiness': 8, 'splinter': 8, 'aggression': 8, 'bureaucracy': 8, 'stark': 8, 'discretion': 8, 'cocaine': 8, 'worsening': 8, 'anchorage': 7, 'detection': 7, 'shrink': 7, 'aloha': 7, 'fits': 7, 'specter': 7, 'crack': 7, 'contaminated': 7, 'ken': 7, 'unfortunate': 7, 'noble': 7, 'irrational': 7, 'peck': 7, 'ineffective': 7, 'revolt': 7, 'payback': 7, 'untrue': 7, 'oversight': 7, 'intellectual': 7, 'destroying': 7, 'score': 7, 'doldrums': 7, 'insolvency': 7, 'symbolic': 7, 'unwelcome': 7, 'punch': 7, 'consummate': 7, 'grounded': 7, 'drinking': 7, 'excuse': 7, 'retraction': 7, 'forbearance': 7, 'irresponsible': 7, 'conserve': 7, 'organic': 7, 'triumph': 7, 'ally': 7, 'discharge': 7, 'slap': 7, 'solvency': 6, 'oracle': 6, 'admiral': 6, 'burn': 6, 'sunk': 6, 'dawn': 6, 'valor': 6, 'concord': 6, 'procure': 6, 'leukemia': 6, 'endowment': 6, 'evasion': 6, 'abandonment': 6, 'falter': 6, 'inaccurate': 6, 'desert': 6, 'pet': 6, 'distortion': 6, 'shoot': 6, 'wane': 6, 'prosecute': 6, 'dashed': 6, 'exacerbate': 6, 'minimize': 6, 'patience': 6, 'gallant': 6, 'evolution': 6, 'aground': 6, 'propaganda': 5, 'swelling': 5, 'perfect': 5, 'wild': 5, 'enjoying': 5, 'inaction': 5, 'infinite': 5, 'irrevocable': 5, 'authoritative': 5, 'leeway': 5, 'constraint': 5, 'fallow': 5, 'awful': 5, 'sage': 5, 'embrace': 5, 'bore': 5, 'rational': 5, 'terrorist': 5, 'god': 5, 'stranded': 5, 'undecided': 5, 'poorly': 5, 'praise': 5, 'rout': 5, 'openness': 5, 'discrimination': 5, 'achievement': 5, 'husbandry': 5, 'distressed': 5, 'disallowed': 5, 'discord': 5, 'accommodation': 5, 'dire': 5, 'spree': 5, 'advisable': 5, 'endure': 5, 'honest': 5, 'defect': 5, 'corrupt': 5, 'addresses': 5, 'soak': 5, 'neglect': 5, 'foreclose': 5, 'contradict': 5, 'pine': 5, 'contentious': 5, 'complexity': 5, 'cigarette': 5, 'comfort': 5, 'drawback': 5, 'premises': 4, 'celebrating': 4, 'ruin': 4, 'superiority': 4, 'prominence': 4, 'bout': 4, 'wrangling': 4, 'decay': 4, 'bickering': 4, 'distinction': 4, 'vigilance': 4, 'virtue': 4, 'inspired': 4, 'antibiotics': 4, 'riot': 4, 'supporter': 4, 'sorely': 4, 'bias': 4, 'gubernatorial': 4, 'breakfast': 4, 'stroke': 4, 'samurai': 4, 'lace': 4, 'irrelevant': 4, 'starved': 4, 'emulate': 4, 'applause': 4, 'forfeited': 4, 'rust': 4, 'colonel': 4, 'render': 4, 'rear': 4, 'disqualified': 4, 'oasis': 4, 'beam': 4, 'irregular': 4, 'renunciation': 4, 'unequivocally': 4, 'atone': 4, 'outcry': 4, 'concluding': 4, 'recreation': 4, 'unpublished': 4, 'loom': 4, 'subjected': 4, 'wear': 4, 'prey': 4, 'flush': 4, 'honesty': 4, 'impress': 4, 'embroiled': 4, 'frigid': 4, 'educate': 4, 'hollow': 4, 'expatriate': 4, 'diagnosis': 4, 'pad': 4, 'dust': 4, 'furious': 4, 'tempest': 4, 'foolish': 4, 'pregnancy': 4, 'conciliation': 3, 'erratic': 3, 'contributor': 3, 'birthday': 3, 'parade': 3, 'familiarity': 3, 'picketing': 3, 'doctor': 3, 'overthrow': 3, 'ordination': 3, 'piles': 3, 'seasoned': 3, 'hiss': 3, 'bizarre': 3, 'pessimism': 3, 'rugged': 3, 'perennial': 3, 'jam': 3, 'scrambling': 3, 'bloom': 3, 'mate': 3, 'hasty': 3, 'inheritance': 3, 'sin': 3, 'confine': 3, 'evade': 3, 'apache': 3, 'handy': 3, 'retract': 3, 'rekindle': 3, 'ballot': 3, 'severity': 3, 'cultivation': 3, 'nap': 3, 'dispel': 3, 'practiced': 3, 'remission': 3, 'critic': 3, 'annihilated': 3, 'torn': 3, 'skewed': 3, 'gift': 3, 'spelling': 3, 'angel': 3, 'domination': 3, 'defiance': 3, 'trick': 3, 'instruction': 3, 'unpredictable': 3, 'embarrassing': 3, 'filibuster': 3, 'carol': 3, 'blind': 3, 'hanging': 3, 'standoff': 3, 'crunch': 3, 'fake': 3, 'exclusion': 3, 'bland': 3, 'surrendering': 3, 'prisoner': 3, 'suppress': 3, 'whip': 3, 'overpriced': 3, 'shattered': 3, 'dismay': 3, 'fasting': 3, 'mess': 3, 'tribute': 3, 'garrison': 3, 'earnest': 3, 'battlefield': 3, 'rubbish': 3, 'deceased': 3, 'illusion': 3, 'opportune': 3, 'disillusionment': 3, 'detention': 3, 'conceal': 3, 'fungus': 3, 'possess': 2, 'symphony': 2, 'vacation': 2, 'organize': 2, 'debacle': 2, 'damper': 2, 'aggressor': 2, 'advent': 2, 'traveling': 2, 'cry': 2, 'instruct': 2, 'deliberate': 2, 'slaughtering': 2, 'famine': 2, 'amenable': 2, 'dislike': 2, 'deflation': 2, 'sky': 2, 'bluff': 2, 'faithful': 2, 'manifested': 2, 'sincere': 2, 'suck': 2, 'genius': 2, 'accredited': 2, 'reinforcement': 2, 'pinnacle': 2, 'performer': 2, 'reconciliation': 2, 'superb': 2, 'chorus': 2, 'flagrant': 2, 'disorder': 2, 'tumor': 2, 'nightmare': 2, 'dogged': 2, 'incompetence': 2, 'remarkably': 2, 'perplexed': 2, 'mediate': 2, 'evil': 2, 'inspire': 2, 'communism': 2, 'muddle': 2, 'whim': 2, 'dabbling': 2, 'asserting': 2, 'stifled': 2, 'vigor': 2, 'acknowledgment': 2, 'manly': 2, 'inactivity': 2, 'mediation': 2, 'legendary': 2, 'subversion': 2, 'disturbance': 2, 'plexus': 2, 'dubious': 2, 'deceived': 2, 'deletion': 2, 'timid': 2, 'undo': 2, 'patron': 2, 'jargon': 2, 'rejuvenate': 2, 'fancy': 2, 'phony': 2, 'raging': 2, 'illustrate': 2, 'distress': 2, 'hardened': 2, 'weary': 2, 'dashing': 2, 'alcoholism': 2, 'preservative': 2, 'bite': 2, 'irritation': 2, 'defender': 2, 'prohibition': 2, 'fade': 2, 'afflicted': 2, 'methanol': 2, 'fashionable': 2, 'privileged': 2, 'discriminate': 2, 'vegetative': 2, 'contravene': 2, 'infinity': 2, 'grate': 2, 'collision': 2, 'courtesy': 2, 'riddled': 2, 'worthless': 2, 'hate': 2, 'crusade': 2, 'buck': 2, 'snags': 2, 'subdue': 2, 'throttle': 2, 'inequitable': 2, 'plush': 2, 'misunderstanding': 2, 'absenteeism': 2, 'intrusion': 2, 'forgery': 2, 'disapproved': 2, 'epidemic': 2, 'refinement': 2, 'ascent': 2, 'oligarchy': 2, 'firearms': 2, 'bitterly': 1, 'boil': 1, 'advocacy': 1, 'timidity': 1, 'nonsensical': 1, 'mislead': 1, 'indecision': 1, 'cytomegalovirus': 1, 'atom': 1, 'enthusiast': 1, 'disregard': 1, 'artistic': 1, 'enliven': 1, 'consternation': 1, 'depreciate': 1, 'busted': 1, 'renounce': 1, 'unprotected': 1, 'tenderness': 1, 'classics': 1, 'frayed': 1, 'sloppy': 1, 'endless': 1, 'siren': 1, 'tantalizing': 1, 'cheering': 1, 'hazard': 1, 'incompetent': 1, 'extinct': 1, 'candid': 1, 'stationary': 1, 'lawful': 1, 'exile': 1, 'proposition': 1, 'alleviation': 1, 'dolphin': 1, 'shrunk': 1, 'dance': 1, 'revere': 1, 'fury': 1, 'kindness': 1, 'abort': 1, 'eavesdropping': 1, 'unrequited': 1, 'racket': 1, 'flap': 1, 'noose': 1, 'dummy': 1, 'encyclopedia': 1, 'celebrity': 1, 'uninfected': 1, 'wrench': 1, 'instinctive': 1, 'recognizable': 1, 'downfall': 1, 'cyanide': 1, 'ovation': 1, 'compassionate': 1, 'sore': 1, 'fuming': 1, 'blot': 1, 'beggar': 1, 'doit': 1, 'astringent': 1, 'prick': 1, 'litigant': 1, 'dictionary': 1, 'cutters': 1, 'medal': 1, 'autocratic': 1, 'untoward': 1, 'unquestionably': 1, 'dirty': 1, 'bribe': 1, 'caries': 1, 'battled': 1, 'trash': 1, 'laudable': 1, 'childish': 1, 'reciprocate': 1, 'fervor': 1, 'chemist': 1, 'aloof': 1, 'famous': 1, 'earnestly': 1, 'mite': 1, 'stupid': 1, 'regretting': 1, 'imitated': 1, 'unsustainable': 1, 'glory': 1, 'quicksilver': 1, 'complication': 1, 'abduction': 1, 'rack': 1, 'feverish': 1, 'sneak': 1, 'nutritious': 1, 'kick': 1, 'deceive': 1, 'savage': 1, 'insufficiency': 1, 'coercion': 1, 'unsatisfied': 1, 'agonizing': 1, 'vanished': 1, 'liking': 1, 'serene': 1, 'respecting': 1, 'incase': 1, 'disparity': 1, 'spoil': 1, 'rubble': 1, 'bait': 1, 'dismemberment': 1, 'tact': 1, 'assent': 1, 'adjunct': 1, 'unfold': 1, 'unauthorized': 1, 'forgiving': 1, 'commutation': 1, 'cumbersome': 1, 'motherhood': 1, 'armaments': 1, 'covenant': 1, 'crook': 1, 'neighbor': 1, 'silly': 1, 'butt': 1, 'impracticable': 1, 'hindrance': 1, 'fecal': 1, 'expedient': 1, 'harmony': 1, 'glowing': 1, 'shoulder': 1, 'gang': 1, 'rave': 1, 'monster': 1, 'confuse': 1, 'elite': 1, 'cunning': 1, 'unsavory': 1, 'outdo': 1, 'qualifying': 1, 'steadfast': 1, 'neglecting': 1, 'phantom': 1, 'onerous': 1, 'pickle': 1, 'plentiful': 1, 'bailiff': 1, 'confess': 1, 'repudiation': 1, 'junta': 1, 'egregious': 1, 'secondhand': 1, 'exaggerate': 1, 'smiling': 1, 'litigate': 1, 'mighty': 1, 'servant': 1, 'entangled': 1, 'bigot': 1, 'outlaw': 1, 'cultivate': 1, 'nurse': 1, 'mutilated': 1, 'plumb': 1, 'reparation': 1, 'fool': 1, 'admiration': 1, 'teens': 1, 'heighten': 1, 'denounce': 1, 'disregarded': 1, 'taint': 1, 'mob': 1, 'arrogant': 1, 'complicate': 1, 'dwarfed': 1, 'progression': 1, 'tranquil': 1, 'animosity': 1, 'celebrated': 1, 'extricate': 1, 'erroneous': 1, 'aura': 1, 'infallible': 1, 'inadmissible': 1, 'coronation': 1, 'glib': 1, 'favoritism': 1, 'vomiting': 1})\n"
     ]
    },
    {
     "data": {
      "image/png": "[encoded data removed]",
      "text/plain": [
       "<matplotlib.figure.Figure at 0x7fc5794d9ac8>"
      ]
     },
     "metadata": {},
     "output_type": "display_data"
    }
   ],
   "source": [
    "with open(filename, 'r', errors='replace') as f:\n",
    "    counterEmos = articleEmos(f, emos)\n",
    "    \n",
    "print(counterEmos)\n",
    "plt.figure(num=None, figsize=(20, 6), dpi=80, facecolor='w', edgecolor='k')\n",
    "labels, values = rankCounter(counterEmos)\n",
    "indexes = np.arange(len(labels))\n",
    "width = 1\n",
    "plt.bar(indexes, values, width)\n",
    "plt.xticks(indexes + width * 0.5, labels)\n",
    "plt.show()"
   ]
  },
  {
   "cell_type": "code",
   "execution_count": null,
   "metadata": {
    "collapsed": true
   },
   "outputs": [],
   "source": []
  }
 ],
 "metadata": {
  "anaconda-cloud": {},
  "kernelspec": {
   "display_name": "Python [conda env:anaconda3]",
   "language": "python",
   "name": "conda-env-anaconda3-py"
  },
  "language_info": {
   "codemirror_mode": {
    "name": "ipython",
    "version": 3
   },
   "file_extension": ".py",
   "mimetype": "text/x-python",
   "name": "python",
   "nbconvert_exporter": "python",
   "pygments_lexer": "ipython3",
   "version": "3.5.2"
  }
 },
 "nbformat": 4,
 "nbformat_minor": 1
}
