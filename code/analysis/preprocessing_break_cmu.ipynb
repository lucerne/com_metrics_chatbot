{
 "cells": [
  {
   "cell_type": "code",
   "execution_count": 1,
   "metadata": {
    "collapsed": true
   },
   "outputs": [],
   "source": [
    "import spacy\n",
    "import numpy as np\n",
    "import matplotlib.pyplot as plt\n",
    "import os\n",
    "import glob"
   ]
  },
  {
   "cell_type": "code",
   "execution_count": 15,
   "metadata": {
    "collapsed": false
   },
   "outputs": [],
   "source": [
    "'''name definition'''\n",
    "example = '/home/luluvyd/examples/data/MovieSummary_example.txt'\n",
    "filename = '/home/luluvyd/corpus/MovieSummaries/plot_summaries.txt'\n",
    "outdirect = '/home/luluvyd/corpus/MovieSummaries/MovieSummaries-break/'"
   ]
  },
  {
   "cell_type": "code",
   "execution_count": 19,
   "metadata": {
    "collapsed": false
   },
   "outputs": [],
   "source": [
    "def breakFile(infile, outdirect, n = 1000): \n",
    "    '''\n",
    "    break a giant input file into small output files of size n articles \n",
    "    parameters : infile : file handler of a giant input file\n",
    "    i : i-th input file\n",
    "    n : number of articles in each output file\n",
    "    '''\n",
    "    line = infile.readline()\n",
    "    buffer = \"\"\n",
    "    i = 0 \n",
    "    j = 0 \n",
    "    while line:\n",
    "        buffer += line\n",
    "        j += 1\n",
    "        if (j % 450 == 0): \n",
    "            write_file = outdirect + 'cmu_Movie_Summary_' + str(i) + '.txt'\n",
    "            with open(write_file, \"w\") as outfile:\n",
    "                outfile.write(buffer) \n",
    "            outfile.close() \n",
    "            buffer = \"\"\n",
    "            i += 1\n",
    "        line = infile.readline()"
   ]
  },
  {
   "cell_type": "code",
   "execution_count": 20,
   "metadata": {
    "collapsed": false
   },
   "outputs": [],
   "source": [
    "'''\n",
    "break-up cmu movie view file\n",
    "'''\n",
    "with open(filename, 'r', errors='replace') as f:\n",
    "    breakFile(f, outdirect)\n",
    "f.close()\n",
    "    "
   ]
  },
  {
   "cell_type": "code",
   "execution_count": null,
   "metadata": {
    "collapsed": true
   },
   "outputs": [],
   "source": []
  }
 ],
 "metadata": {
  "anaconda-cloud": {},
  "kernelspec": {
   "display_name": "Python [conda env:anaconda3]",
   "language": "python",
   "name": "conda-env-anaconda3-py"
  },
  "language_info": {
   "codemirror_mode": {
    "name": "ipython",
    "version": 3
   },
   "file_extension": ".py",
   "mimetype": "text/x-python",
   "name": "python",
   "nbconvert_exporter": "python",
   "pygments_lexer": "ipython3",
   "version": "3.5.2"
  }
 },
 "nbformat": 4,
 "nbformat_minor": 1
}
