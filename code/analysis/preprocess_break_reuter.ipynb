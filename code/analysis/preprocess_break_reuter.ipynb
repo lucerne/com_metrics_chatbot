{
 "cells": [
  {
   "cell_type": "code",
   "execution_count": 1,
   "metadata": {},
   "outputs": [],
   "source": [
    "import spacy\n",
    "import numpy as np\n",
    "import matplotlib.pyplot as plt\n",
    "import os\n",
    "import glob\n",
    "from xml.etree import cElementTree as ET\n",
    "import re\n"
   ]
  },
  {
   "cell_type": "code",
   "execution_count": 19,
   "metadata": {},
   "outputs": [],
   "source": [
    "example = '/home/dashi/lulu/corpus/Reuters21578/examples/sample.sgm'\n",
    "exampleOut = '/home/dashi/lulu/corpus/Reuters21578/examples/out.sgm'\n",
    "\n",
    "'''converted articles'''\n",
    "articleData = '/home/dashi/lulu/corpus/Reuters21578/reuter-article.txt'\n",
    "articleDir = '/home/dashi/lulu/corpus/Reuters21578/Reuters-articles/'\n",
    "\n",
    "dataDir = '/home/dashi/lulu/corpus/Reuters21578/Reuters-data/'\n",
    "breakDir = '/home/dashi/lulu/corpus/Reuters21578/Reuters21578-break/'"
   ]
  },
  {
   "cell_type": "code",
   "execution_count": 20,
   "metadata": {},
   "outputs": [],
   "source": [
    "def convertFile(infile, outfile): \n",
    "    '''Convert articles in a sgm formatted file into line format'''\n",
    "    line = infile.readline()\n",
    "    article = \"\"    \n",
    "    i = 0\n",
    "    \n",
    "    while line:\n",
    "        if '</DATELINE><BODY>' in line: \n",
    "            article += line.split('<BODY>',1)[1].rstrip(\"\\n\\r\") \n",
    "            line = infile.readline() \n",
    "            \n",
    "            # get body\n",
    "            while '&#3;</BODY></TEXT>' not in line: \n",
    "                article += line.rstrip(\"\\n\\r\")\n",
    "                line = infile.readline() \n",
    "            \n",
    "            article = article.strip('Reuter')\n",
    "            article = article.strip('REUTER')\n",
    "            outfile.write(article) \n",
    "            outfile.write('\\n')\n",
    "            outfile.write('\\n')\n",
    "            article = \"\"\n",
    "            i += 1 \n",
    "        line = infile.readline()  \n",
    "\n",
    "def breakFile(infile, i, n = 1000): \n",
    "    '''\n",
    "    break a giant input file into small output files of size n articles \n",
    "    parameters : infile : file handler of a giant input file\n",
    "    i : i-th input file\n",
    "    n : number of articles in each output file\n",
    "    '''\n",
    "    line = infile.readline()\n",
    "    buffer = \"\"\n",
    "    j = 0 \n",
    "    k = 0\n",
    "    while line:\n",
    "        buffer += line\n",
    "        if \"/REUTERS\" in line: \n",
    "            write_file = outdirect + 'reut' + str(i) + '-' + str(j) + '.sgm'\n",
    "            with open(write_file, \"w\") as outfile:\n",
    "                outfile.write(buffer) \n",
    "            outfile.close() \n",
    "            buffer = \"\"\n",
    "            j += 1 \n",
    "        line = infile.readline()\n",
    "        \n",
    "def breakArticle(infile, outdir, n = 1000): \n",
    "    '''\n",
    "    break a giant article formatted file into a set of small output files of size n articles \n",
    "    parameters : infile : file handler of a giant input file\n",
    "    i : i-th input file\n",
    "    n : number of articles in each output file\n",
    "    '''\n",
    "    line = infile.readline()\n",
    "    i = 1\n",
    "    buffer = \"\"\n",
    "    j = 0\n",
    "    while line:\n",
    "        buffer += line\n",
    "        if (i % n == 0):  \n",
    "            write_file = outdir + 'reuter' + str(j) + '.txt' \n",
    "            with open(write_file, \"w\") as outfile:\n",
    "                outfile.write(buffer) \n",
    "            outfile.close() \n",
    "            buffer = \"\"\n",
    "            j += 1 \n",
    "        line = infile.readline()\n",
    "        i += 1 \n",
    "        \n",
    "def scoreA(infile): \n",
    "    '''\n",
    "    print the first line in line-formatted articles file\n",
    "    infile : name of file containing articles \n",
    "    result : None\n",
    "    '''\n",
    "    line = infile.readline()\n",
    "    while line:\n",
    "        print(line)\n",
    "        line = infile.readline()"
   ]
  },
  {
   "cell_type": "code",
   "execution_count": 4,
   "metadata": {},
   "outputs": [],
   "source": [
    "'''\n",
    "Example : break-up reuter news files \n",
    "'''\n",
    "with open(example, 'r', errors='replace') as infile:\n",
    "    breakFile(infile, 0)\n",
    "infile.close()\n"
   ]
  },
  {
   "cell_type": "code",
   "execution_count": null,
   "metadata": {},
   "outputs": [],
   "source": [
    "# '''\n",
    "# Corpus : break reuter sgm files a small set of .sgm files\n",
    "# '''\n",
    "# read_files = glob.glob(dataDir + '*.sgm')\n",
    "\n",
    "# with open(example, 'r', errors='replace') as infile:\n",
    "#     breakFile(infile, 0)\n",
    "# infile.close()"
   ]
  },
  {
   "cell_type": "code",
   "execution_count": 5,
   "metadata": {},
   "outputs": [],
   "source": [
    "'''\n",
    "Example : convert sgm into line formatted file \n",
    "'''\n",
    "with open(example, 'r', errors='replace') as infile:\n",
    "    with open(exampleOut, \"w\") as outfile:\n",
    "        convertFile(infile, outfile)\n",
    "infile.close()\n",
    "outfile.close()\n"
   ]
  },
  {
   "cell_type": "code",
   "execution_count": 6,
   "metadata": {},
   "outputs": [
    {
     "name": "stdout",
     "output_type": "stream",
     "text": [
      "Showers continued throughout the week inthe Bahia cocoa zone, alleviating the drought since earlyJanuary and improving prospects for the coming temporao,although normal humidity levels have not been restored,Comissaria Smith said in its weekly review.    The dry period means the temporao will be late this year.    Arrivals for the week ended February 22 were 155,221 bagsof 60 kilos making a cumulative total for the season of 5.93mln against 5.81 at the same stage last year. Again it seemsthat cocoa delivered earlier on consignment was included in thearrivals figures.    Comissaria Smith said there is still some doubt as to howmuch old crop cocoa is still available as harvesting haspractically come to an end. With total Bahia crop estimatesaround 6.4 mln bags and sales standing at almost 6.2 mln thereare a few hundred thousand bags still in the hands of farmers,middlemen, exporters and processors.    There are doubts as to how much of this cocoa would be fitfor export as shippers are now experiencing dificulties inobtaining +Bahia superior+ certificates.    In view of the lower quality over recent weeks farmers havesold a good part of their cocoa held on consignment.    Comissaria Smith said spot bean prices rose to 340 to 350cruzados per arroba of 15 kilos.    Bean shippers were reluctant to offer nearby shipment andonly limited sales were booked for March shipment at 1,750 to1,780 dlrs per tonne to ports to be named.    New crop sales were also light and all to open ports withJune/July going at 1,850 and 1,880 dlrs and at 35 and 45 dlrsunder New York july, Aug/Sept at 1,870, 1,875 and 1,880 dlrsper tonne FOB.    Routine sales of butter were made. March/April sold at4,340, 4,345 and 4,350 dlrs.    April/May butter went at 2.27 times New York May, June/Julyat 4,400 and 4,415 dlrs, Aug/Sept at 4,351 to 4,450 dlrs and at2.27 and 2.28 times New York Sept and Oct/Dec at 4,480 dlrs and2.27 times New York Dec, Comissaria Smith said.    Destinations were the U.S., Covertible currency areas,Uruguay and open ports.    Cake sales were registered at 785 to 995 dlrs forMarch/April, 785 dlrs for May, 753 dlrs for Aug and 0.39 timesNew York Dec for Oct/Dec.    Buyers were the U.S., Argentina, Uruguay and convertiblecurrency areas.    Liquor sales were limited with March/April selling at 2,325and 2,380 dlrs, June/July at 2,375 dlrs and at 1.25 times NewYork July, Aug/Sept at 2,400 dlrs and at 1.25 times New YorkSept and Oct/Dec at 1.25 times New York Dec, Comissaria Smithsaid.    Total Bahia sales are currently estimated at 6.13 mln bagsagainst the 1986/87 crop and 1.06 mln bags against the 1987/88crop.    Final figures for the period to February 28 are expected tobe published by the Brazilian Cocoa Trade Commission aftercarnival which ends midday on February 27. \n",
      "\n",
      "\n",
      "\n",
      "Standard Oil Co and BP North AmericaInc said they plan to form a venture to manage the money marketborrowing and investment activities of both companies.    BP North America is a subsidiary of British Petroleum CoPlc &lt;BP>, which also owns a 55 pct interest in Standard Oil.    The venture will be called BP/Standard Financial Tradingand will be operated by Standard Oil under the oversight of ajoint management committee. \n",
      "\n",
      "\n",
      "\n",
      "exas Commerce Bancshares Inc's TexasCommerce Bank-Houston said it filed an application with theComptroller of the Currency in an effort to create the largestbanking network in Harris County.    The bank said the network would link 31 banks having13.5 billion dlrs in assets and 7.5 billion dlrs in deposits.        \n",
      "\n",
      "\n",
      "\n",
      "BankAmerica Corp is not underpressure to act quickly on its proposed equity offering andwould do well to delay it because of the stock's recent poorperformance, banking analysts said.    Some analysts said they have recommended BankAmerica delayits up to one-billion-dlr equity offering, which has yet to beapproved by the Securities and Exchange Commission.    BankAmerica stock fell this week, along with other bankingissues, on the news that Brazil has suspended interest paymentson a large portion of its foreign debt.    The stock traded around 12, down 1/8, this afternoon,after falling to 11-1/2 earlier this week on the news.    Banking analysts said that with the immediate threat of theFirst Interstate Bancorp &lt;I> takeover bid gone, BankAmerica isunder no pressure to sell the securities into a market thatwill be nervous on bank stocks in the near term.    BankAmerica filed the offer on January 26. It was seen asone of the major factors leading the First Interstatewithdrawing its takeover bid on February 9.    A BankAmerica spokesman said SEC approval is taking longerthan expected and market conditions must now be re-evaluated.    \"The circumstances at the time will determine what we do,\"said Arthur Miller, BankAmerica's Vice President for FinancialCommunications, when asked if BankAmerica would proceed withthe offer immediately after it receives SEC approval.    \"I'd put it off as long as they conceivably could,\" saidLawrence Cohn, analyst with Merrill Lynch, Pierce, Fenner andSmith.    Cohn said the longer BankAmerica waits, the longer theyhave to show the market an improved financial outlook.    Although BankAmerica has yet to specify the types ofequities it would offer, most analysts believed a convertiblepreferred stock would encompass at least part of it.    Such an offering at a depressed stock price would mean alower conversion price and more dilution to BankAmerica stockholders, noted Daniel Williams, analyst with Sutro Group.    Several analysts said that while they believe the Braziliandebt problem will continue to hang over the banking industrythrough the quarter, the initial shock reaction is likely toease over the coming weeks.    Nevertheless, BankAmerica, which holds about 2.70 billiondlrs in Brazilian loans, stands to lose 15-20 mln dlrs if theinterest rate is reduced on the debt, and as much as 200 mlndlrs if Brazil pays no interest for a year, said JosephArsenio, analyst with Birr, Wilson and Co.    He noted, however, that any potential losses would not showup in the current quarter.    With other major banks standing to lose even more thanBankAmerica if Brazil fails to service its debt, the analystssaid they expect the debt will be restructured, similar to wayMexico's debt was, minimizing losses to the creditor banks. \n",
      "\n",
      "\n",
      "\n",
      "he U.S. Agriculture Departmentreported the farmer-owned reserve national five-day averageprice through February 25 as follows (Dlrs/Bu-Sorghum Cwt) -         Natl   Loan           Release   Call         Avge   Rate-X  Level    Price  Price Wheat   2.55   2.40       IV     4.65     --                            V     4.65     --                           VI     4.45     -- Corn    1.35   1.92       IV     3.15   3.15                            V     3.25     -- X - 1986 Rates.          Natl   Loan          Release   Call          Avge   Rate-X  Level   Price  Price Oats     1.24   0.99        V    1.65    --  Barley   n.a.   1.56       IV    2.55   2.55                             V    2.65    --  Sorghum  2.34   3.25-Y     IV    5.36   5.36                             V    5.54    --     Reserves I, II and III have matured. Level IV reflectsgrain entered after Oct 6, 1981 for feedgrain and after July23, 1981 for wheat. Level V wheat/barley after 5/14/82,corn/sorghum after 7/1/82. Level VI covers wheat entered afterJanuary 19, 1984.  X-1986 rates. Y-dlrs per CWT (100 lbs).n.a.-not available. \n",
      "\n",
      "\n",
      "\n",
      "Argentine grain board figures showcrop registrations of grains, oilseeds and their products toFebruary 11, in thousands of tonnes, showing those for futurEshipments month, 1986/87 total and 1985/86 total to February12, 1986, in brackets:    Bread wheat prev 1,655.8, Feb 872.0, March 164.6, total2,692.4 (4,161.0).    Maize Mar 48.0, total 48.0 (nil).    Sorghum nil (nil)    Oilseed export registrations were:    Sunflowerseed total 15.0 (7.9)    Soybean May 20.0, total 20.0 (nil)    The board also detailed export registrations forsubproducts, as follows,    SUBPRODUCTS    Wheat prev 39.9, Feb 48.7, March 13.2, Apr 10.0, total111.8 (82.7) .    Linseed prev 34.8, Feb 32.9, Mar 6.8, Apr 6.3, total 80.8(87.4).    Soybean prev 100.9, Feb 45.1, MAr nil, Apr nil, May 20.0,total 166.1 (218.5).    Sunflowerseed prev 48.6, Feb 61.5, Mar 25.1, Apr 14.5,total 149.8 (145.3).    Vegetable oil registrations were :             Sunoil prev 37.4, Feb 107.3, Mar 24.5, Apr 3.2, May nil,Jun 10.0, total 182.4 (117.6).                      Linoil prev 15.9, Feb 23.6, Mar 20.4, Apr 2.0, total 61.8,(76.1).                             Soybean oil prev 3.7, Feb 21.1, Mar nil, Apr 2.0, May 9.0,Jun 13.0, Jul 7.0, total 55.8 (33.7).        \n",
      "\n",
      "\n",
      "\n",
      "d Lion Inns Limited Partnershipsaid it filed a registration statement with the Securities andExchange Commission covering a proposed offering of 4,790,000units of limited partnership interests.    The company said it expects the offering to be priced at 20dlrs per unit.    It said proceeds from the offering, along with a 102.5 mlndlr mortgage loan, will be used to finance its plannedacquisition of 10 Red Lion hotels. \n",
      "\n",
      "\n",
      "\n",
      "Moody's Investors Service Inc said itlowered the debt and preferred stock ratings of USX Corp andits units. About seven billion dlrs of securities is affected.    Moody's said Marathon Oil Co's recent establishment of upto one billion dlrs in production payment facilities on itsprolific Yates Field has significant negative implications forUSX's unsecured creditors.    The company appears to have positioned its steel segmentfor a return to profit by late 1987, Moody's added.    Ratings lowered include those on USX's senior debt to BA-1from BAA-3. \n",
      "\n",
      "\n",
      "\n",
      "Champion Products Inc said itsboard of directors approved a two-for-one stock split of itscommon shares for shareholders of record as of April 1, 1987.    The company also said its board voted to recommend toshareholders at the annual meeting April 23 an increase in theauthorized capital stock from five mln to 25 mln shares. \n",
      "\n",
      "\n",
      "\n"
     ]
    }
   ],
   "source": [
    "with open(exampleOut, 'r', errors='replace') as f:\n",
    "    scoreA(f)"
   ]
  },
  {
   "cell_type": "code",
   "execution_count": 7,
   "metadata": {},
   "outputs": [
    {
     "ename": "NameError",
     "evalue": "name 'outputFile' is not defined",
     "output_type": "error",
     "traceback": [
      "\u001b[0;31m---------------------------------------------------------------------------\u001b[0m",
      "\u001b[0;31mNameError\u001b[0m                                 Traceback (most recent call last)",
      "\u001b[0;32m<ipython-input-7-3659649e1515>\u001b[0m in \u001b[0;36m<module>\u001b[0;34m\u001b[0m\n\u001b[1;32m      1\u001b[0m \u001b[0mscores\u001b[0m \u001b[0;34m=\u001b[0m \u001b[0;34m[\u001b[0m\u001b[0;34m]\u001b[0m\u001b[0;34m\u001b[0m\u001b[0;34m\u001b[0m\u001b[0m\n\u001b[0;32m----> 2\u001b[0;31m \u001b[0;32mwith\u001b[0m \u001b[0mopen\u001b[0m\u001b[0;34m(\u001b[0m\u001b[0moutputFile\u001b[0m\u001b[0;34m,\u001b[0m \u001b[0;34m'r'\u001b[0m\u001b[0;34m,\u001b[0m \u001b[0merrors\u001b[0m\u001b[0;34m=\u001b[0m\u001b[0;34m'replace'\u001b[0m\u001b[0;34m)\u001b[0m \u001b[0;32mas\u001b[0m \u001b[0mf\u001b[0m\u001b[0;34m:\u001b[0m\u001b[0;34m\u001b[0m\u001b[0;34m\u001b[0m\u001b[0m\n\u001b[0m\u001b[1;32m      3\u001b[0m     \u001b[0mr\u001b[0m \u001b[0;34m=\u001b[0m \u001b[0mscoreArticle\u001b[0m\u001b[0;34m(\u001b[0m\u001b[0mf\u001b[0m\u001b[0;34m,\u001b[0m \u001b[0memos\u001b[0m\u001b[0;34m)\u001b[0m\u001b[0;34m\u001b[0m\u001b[0;34m\u001b[0m\u001b[0m\n\u001b[1;32m      4\u001b[0m     \u001b[0mscores\u001b[0m \u001b[0;34m+=\u001b[0m \u001b[0mr\u001b[0m\u001b[0;34m\u001b[0m\u001b[0;34m\u001b[0m\u001b[0m\n",
      "\u001b[0;31mNameError\u001b[0m: name 'outputFile' is not defined"
     ]
    }
   ],
   "source": [
    "scores = []\n",
    "with open(outputFile, 'r', errors='replace') as f:\n",
    "    r = scoreArticle(f, emos)\n",
    "    scores += r"
   ]
  },
  {
   "cell_type": "code",
   "execution_count": 5,
   "metadata": {},
   "outputs": [
    {
     "name": "stdout",
     "output_type": "stream",
     "text": [
      "1\n",
      "2\n",
      "3\n",
      "4\n",
      "5\n",
      "6\n",
      "7\n",
      "8\n",
      "9\n",
      "10\n",
      "11\n",
      "12\n",
      "13\n",
      "14\n",
      "15\n",
      "16\n",
      "17\n",
      "18\n",
      "19\n",
      "20\n",
      "21\n",
      "22\n"
     ]
    }
   ],
   "source": [
    "'''\n",
    "Corpus : convert reuter sgm files into a set of article formatted files\n",
    "'''\n",
    "read_files = glob.glob(dataDir + '*.sgm')\n",
    "\n",
    "i = 0 \n",
    "for f in read_files:\n",
    "    with open(f, 'r', errors='replace') as infile:\n",
    "        if os.path.exists(articleData):\n",
    "            append_write = 'a' # append if already exists\n",
    "        else:\n",
    "            append_write = 'w'\n",
    "        with open(articleData, append_write) as outfile:\n",
    "            convertFile(infile, outfile)\n",
    "    infile.close()\n",
    "    i += 1 \n",
    "    print(i)\n",
    "outfile.close()\n"
   ]
  },
  {
   "cell_type": "code",
   "execution_count": 21,
   "metadata": {},
   "outputs": [],
   "source": [
    "'''\n",
    "break-up reuter news files \n",
    "'''    \n",
    "with open(articleData, 'r', errors='replace') as infile: \n",
    "    breakArticle(infile, articleDir)\n",
    "    infile.close() "
   ]
  },
  {
   "cell_type": "code",
   "execution_count": null,
   "metadata": {
    "collapsed": true
   },
   "outputs": [],
   "source": []
  }
 ],
 "metadata": {
  "anaconda-cloud": {},
  "kernelspec": {
   "display_name": "Python 3",
   "language": "python",
   "name": "python3"
  },
  "language_info": {
   "codemirror_mode": {
    "name": "ipython",
    "version": 3
   },
   "file_extension": ".py",
   "mimetype": "text/x-python",
   "name": "python",
   "nbconvert_exporter": "python",
   "pygments_lexer": "ipython3",
   "version": "3.7.4"
  }
 },
 "nbformat": 4,
 "nbformat_minor": 1
}
