{
 "cells": [
  {
   "cell_type": "code",
   "execution_count": 1,
   "metadata": {
    "collapsed": true
   },
   "outputs": [],
   "source": [
    "import spacy\n",
    "import numpy as np\n",
    "import matplotlib.pyplot as plt\n",
    "import os\n",
    "import glob\n",
    "from xml.etree import cElementTree as ET\n",
    "import re\n"
   ]
  },
  {
   "cell_type": "code",
   "execution_count": 5,
   "metadata": {
    "collapsed": true
   },
   "outputs": [],
   "source": [
    "'''name definition'''\n",
    "example = '/home/luluvyd/corpus/Reuters21578/other/sample.sgm'\n",
    "indirect = '/home/luluvyd/corpus/Reuters21578/Reuter-data'\n",
    "outdirect = '/home/luluvyd/corpus/Reuters21578/Reuters21578-break/'"
   ]
  },
  {
   "cell_type": "code",
   "execution_count": 6,
   "metadata": {
    "collapsed": true
   },
   "outputs": [],
   "source": [
    "def breakFile(infile, i, n = 1000): \n",
    "    '''\n",
    "    break a giant input file into small output files of size n articles \n",
    "    parameters : infile : file handler of a giant input file\n",
    "    i : i-th input file\n",
    "    n : number of articles in each output file\n",
    "    '''\n",
    "    line = infile.readline()\n",
    "    buffer = \"\"\n",
    "    j = 0 \n",
    "    k = 0\n",
    "    while line:\n",
    "        buffer += line\n",
    "        if \"/REUTERS\" in line: \n",
    "            write_file = outdirect + 'reut' + str(i) + '-' + str(j) + '.sgm'\n",
    "            with open(write_file, \"w\") as outfile:\n",
    "                outfile.write(buffer) \n",
    "            outfile.close() \n",
    "            buffer = \"\"\n",
    "            j += 1 \n",
    "        line = infile.readline()"
   ]
  },
  {
   "cell_type": "code",
   "execution_count": 7,
   "metadata": {
    "collapsed": false
   },
   "outputs": [],
   "source": [
    "'''\n",
    "Example : break-up reuter news files \n",
    "'''\n",
    "with open(example, 'r', errors='replace') as infile:\n",
    "    breakFile(infile, 0)\n",
    "infile.close()\n"
   ]
  },
  {
   "cell_type": "code",
   "execution_count": null,
   "metadata": {
    "collapsed": true
   },
   "outputs": [],
   "source": [
    "'''\n",
    "break-up reuter news files \n",
    "'''\n",
    "# nlp = spacy.load('en_core_web_md')\n",
    "read_files = glob.glob(indirect + '*.sgm')\n",
    "# read_files = glob.glob(\"/home/luluvyd/corpus/Reuters21578/reut2-000.sgm\")\n",
    "\n",
    "i = 0 \n",
    "for f in read_files:\n",
    "    with open(f, 'r', errors='replace') as infile:\n",
    "        breakFile(infile, i)\n",
    "    infile.close()\n",
    "    i += 1 "
   ]
  }
 ],
 "metadata": {
  "anaconda-cloud": {},
  "kernelspec": {
   "display_name": "Python [conda env:anaconda3]",
   "language": "python",
   "name": "conda-env-anaconda3-py"
  },
  "language_info": {
   "codemirror_mode": {
    "name": "ipython",
    "version": 3
   },
   "file_extension": ".py",
   "mimetype": "text/x-python",
   "name": "python",
   "nbconvert_exporter": "python",
   "pygments_lexer": "ipython3",
   "version": "3.5.2"
  }
 },
 "nbformat": 4,
 "nbformat_minor": 1
}
