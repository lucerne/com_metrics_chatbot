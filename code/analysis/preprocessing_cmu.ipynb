{
 "cells": [
  {
   "cell_type": "code",
   "execution_count": 1,
   "metadata": {
    "collapsed": true
   },
   "outputs": [],
   "source": [
    "import spacy\n",
    "import numpy as np\n",
    "import matplotlib.pyplot as plt\n",
    "import os\n",
    "import glob\n",
    "\n",
    "import os\n",
    "import sys\n",
    "module_path = os.path.abspath(os.path.join('..'))\n",
    "if module_path not in sys.path:\n",
    "    sys.path.append(module_path)\n",
    "\n",
    "from analysis_code.analyze_corpus import *"
   ]
  },
  {
   "cell_type": "code",
   "execution_count": 2,
   "metadata": {
    "collapsed": false
   },
   "outputs": [],
   "source": [
    "'''name definition'''\n",
    "example = '/home/luluvyd/examples/data/MovieSummary_example.txt'\n",
    "filename = '/home/luluvyd/corpus/MovieSummaries/plot_summaries.txt'\n",
    "outdirect = '/home/luluvyd/corpus/MovieSummaries/MovieSummaries-break/'"
   ]
  },
  {
   "cell_type": "code",
   "execution_count": 3,
   "metadata": {
    "collapsed": true
   },
   "outputs": [],
   "source": [
    "emos = loadEmotionWords('/home/luluvyd/corpus/NRC-Emotion-Lexicon-v0.92/Generated-EmotionWords.txt')"
   ]
  },
  {
   "cell_type": "code",
   "execution_count": 4,
   "metadata": {
    "collapsed": false
   },
   "outputs": [],
   "source": [
    "def breakFile(infile, outdirect, n = 1000): \n",
    "    '''\n",
    "    break a giant input file into small output files of size n articles \n",
    "    parameters : infile : file handler of a giant input file\n",
    "    i : i-th input file\n",
    "    n : number of articles in each output file\n",
    "    '''\n",
    "    line = infile.readline()\n",
    "    buffer = \"\"\n",
    "    i = 0 \n",
    "    j = 0 \n",
    "    while line:\n",
    "        buffer += line\n",
    "        j += 1\n",
    "        if (j % 450 == 0): \n",
    "            write_file = outdirect + 'cmu_Movie_Summary_' + str(i) + '.txt'\n",
    "            with open(write_file, \"w\") as outfile:\n",
    "                outfile.write(buffer) \n",
    "            outfile.close() \n",
    "            buffer = \"\"\n",
    "            i += 1\n",
    "        line = infile.readline()"
   ]
  },
  {
   "cell_type": "code",
   "execution_count": 20,
   "metadata": {
    "collapsed": false
   },
   "outputs": [],
   "source": [
    "'''\n",
    "Corpus : break-up cmu movie view file\n",
    "'''\n",
    "with open(filename, 'r', errors='replace') as f:\n",
    "    breakFile(f, outdirect)\n",
    "f.close()\n",
    "    "
   ]
  },
  {
   "cell_type": "code",
   "execution_count": 5,
   "metadata": {
    "collapsed": true
   },
   "outputs": [],
   "source": [
    "def breakFile(compute, n = 1000): \n",
    "    '''\n",
    "    apply a function to each article in the inputfile \n",
    "    compute : function that process the article \n",
    "    '''\n",
    "    line = infile.readline()\n",
    "    buffer = \"\"\n",
    "    result = []\n",
    "    while line:\n",
    "        words = line.strip().split()\n",
    "        if (words[0].isnumeric()): \n",
    "            s = compute(buffer)\n",
    "            result.append(s)\n",
    "        else: \n",
    "            buffer += line\n",
    "        j += 1\n",
    "        if (j % 450 == 0): \n",
    "            write_file = outdirect + 'cmu_Movie_Summary_' + str(i) + '.txt'\n",
    "            with open(write_file, \"w\") as outfile:\n",
    "                outfile.write(buffer) \n",
    "            outfile.close() \n",
    "            buffer = \"\"\n",
    "            i += 1\n",
    "        line = infile.readline()"
   ]
  },
  {
   "cell_type": "code",
   "execution_count": 7,
   "metadata": {
    "collapsed": false
   },
   "outputs": [
    {
     "name": "stdout",
     "output_type": "stream",
     "text": [
      "[0.0625, 0.0258751902587519, 0.05011389521640091, 0.025034770514603615, 0.02631578947368421, 0.013377926421404682]\n"
     ]
    }
   ],
   "source": [
    "'''\n",
    "Example : break-up cmu movie view file\n",
    "'''\n",
    "with open(example, 'r', errors='replace') as f:\n",
    "    r = processArticle(f, emos)\n",
    "    print(r)\n",
    "f.close()\n",
    "    "
   ]
  },
  {
   "cell_type": "code",
   "execution_count": null,
   "metadata": {
    "collapsed": true
   },
   "outputs": [],
   "source": []
  }
 ],
 "metadata": {
  "anaconda-cloud": {},
  "kernelspec": {
   "display_name": "Python [conda env:anaconda3]",
   "language": "python",
   "name": "conda-env-anaconda3-py"
  },
  "language_info": {
   "codemirror_mode": {
    "name": "ipython",
    "version": 3
   },
   "file_extension": ".py",
   "mimetype": "text/x-python",
   "name": "python",
   "nbconvert_exporter": "python",
   "pygments_lexer": "ipython3",
   "version": "3.5.2"
  }
 },
 "nbformat": 4,
 "nbformat_minor": 1
}
