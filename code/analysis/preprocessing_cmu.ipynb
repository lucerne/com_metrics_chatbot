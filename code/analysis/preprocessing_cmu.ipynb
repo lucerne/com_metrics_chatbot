{
 "cells": [
  {
   "cell_type": "code",
   "execution_count": 5,
   "metadata": {},
   "outputs": [],
   "source": [
    "import spacy\n",
    "import numpy as np\n",
    "import matplotlib.pyplot as plt\n",
    "import os\n",
    "import glob\n",
    "\n",
    "import os\n",
    "import sys\n",
    "module_path = os.path.abspath(os.path.join('..'))\n",
    "if module_path not in sys.path:\n",
    "    sys.path.append(module_path)\n",
    "\n",
    "from analysis_code.analyze_corpus import *"
   ]
  },
  {
   "cell_type": "code",
   "execution_count": 27,
   "metadata": {},
   "outputs": [],
   "source": [
    "'''name definition'''\n",
    "example = '/home/dashi/lulu/examples/data/MovieSummary_example.txt'\n",
    "filename = '/home/dashi/lulu/corpus/MovieSummaries/plot_summaries.txt'\n",
    "articleDir = '/home/dashi/lulu/corpus/MovieSummaries/MovieSummaries-break/'\n",
    "\n",
    "'''name definition'''\n",
    "sampleArt = '/home/dashi/lulu/corpus/MovieSummaries/sample.txt'\n",
    "sampleDir = '/home/dashi/lulu/corpus/MovieSummaries/MS-sample/'\n",
    "artbreakDir = '/home/dashi/lulu/corpus/MovieSummaries/MovieSummaries-artbreak/'"
   ]
  },
  {
   "cell_type": "code",
   "execution_count": 3,
   "metadata": {
    "collapsed": true
   },
   "outputs": [],
   "source": [
    "emos = loadEmotionWords('/home/luluvyd/corpus/NRC-Emotion-Lexicon-v0.92/Generated-EmotionWords.txt')"
   ]
  },
  {
   "cell_type": "code",
   "execution_count": 28,
   "metadata": {},
   "outputs": [],
   "source": [
    "def breakFile(infile, outdirect, n = 1000): \n",
    "    '''\n",
    "    break a giant input file into small output files of size n articles \n",
    "    parameters : infile : file handler of a giant input file\n",
    "    i : i-th input file\n",
    "    n : number of articles in each output file\n",
    "    '''\n",
    "    line = infile.readline()\n",
    "    buffer = \"\"\n",
    "    i = 0 \n",
    "    j = 0 \n",
    "    while line:\n",
    "        buffer += line\n",
    "        j += 1\n",
    "        if (j % 450 == 0): \n",
    "            write_file = outdirect + 'cmu_Movie_Summary_' + str(i) + '.txt'\n",
    "            with open(write_file, \"w\") as outfile:\n",
    "                outfile.write(buffer) \n",
    "            outfile.close() \n",
    "            buffer = \"\"\n",
    "            i += 1\n",
    "        line = infile.readline()\n",
    "        \n",
    "def breakMore(indir, outdir): \n",
    "    '''\n",
    "    take out id\n",
    "    break size n articles in txt format such that each txt contain only 1 summary\n",
    "    '''\n",
    "    i=0\n",
    "    read_files = glob.glob(indir + '*.txt')\n",
    "    for infile in read_files:\n",
    "        print(\"i=\", i)\n",
    "        j=0\n",
    "        with open(infile, 'r', errors='replace') as f:\n",
    "            line = f.readline() \n",
    "            \n",
    "            while line: \n",
    "                line = line[8:] # remove id\n",
    "                write_file = outdir + 'summary_' + str(i) + \"_\" + str(j) + '.txt' \n",
    "                with open(write_file, \"w+\") as outfile:\n",
    "                    outfile.write(line) \n",
    "                outfile.close() \n",
    "                \n",
    "                line = f.readline()\n",
    "                j += 1\n",
    "            i +=1 "
   ]
  },
  {
   "cell_type": "code",
   "execution_count": 26,
   "metadata": {},
   "outputs": [
    {
     "name": "stdout",
     "output_type": "stream",
     "text": [
      "i= 0\n",
      "\tShlykov, a hard-working taxi driver and Lyosha, a saxophonist, develop a bizarre love-hate relationship, and despite their prejudices, realize they aren't so different after all.\n",
      "\n",
      "\tThe nation of Panem consists of a wealthy Capitol and twelve poorer districts. As punishment for a past rebellion, each district must provide a boy and girl  between the ages of 12 and 18 selected by lottery  for the annual Hunger Games. The tributes must fight to the death in an arena; the sole survivor is rewarded with fame and wealth. In her first Reaping, 12-year-old Primrose Everdeen is chosen from District 12. Her older sister Katniss volunteers to take her place. Peeta Mellark, a baker's son who once gave Katniss bread when she was starving, is the other District 12 tribute. Katniss and Peeta are taken to the Capitol, accompanied by their frequently drunk mentor, past victor Haymitch Abernathy. He warns them about the \"Career\" tributes who train intensively at special academies and almost always win. During a TV interview with Caesar Flickerman, Peeta unexpectedly reveals his love for Katniss. She is outraged, believing it to be a ploy to gain audience support, as \"sponsors\" may provide in-Games gifts of food, medicine, and tools. However, she discovers Peeta meant what he said. The televised Games begin with half of the tributes killed in the first few minutes; Katniss barely survives ignoring Haymitch's advice to run away from the melee over the tempting supplies and weapons strewn in front of a structure called the Cornucopia. Peeta forms an uneasy alliance with the four Careers. They later find Katniss and corner her up a tree. Rue, hiding in a nearby tree, draws her attention to a poisonous tracker jacker nest hanging from a branch. Katniss drops it on her sleeping besiegers. They all scatter, except for Glimmer, who is killed by the insects. Hallucinating due to tracker jacker venom, Katniss is warned to run away by Peeta. Rue cares for Katniss for a couple of days until she recovers. Meanwhile, the alliance has gathered all the supplies into a pile. Katniss has Rue draw them off, then destroys the stockpile by setting off the mines planted around it. Furious, Cato kills the boy assigned to guard it. As Katniss runs from the scene, she hears Rue calling her name. She finds Rue trapped and releases her. Marvel, a tribute from District 1, throws a spear at Katniss, but she dodges the spear, causing it to stab Rue in the stomach instead. Katniss shoots him dead with an arrow. She then comforts the dying Rue with a song. Afterward, she gathers and arranges flowers around Rue's body. When this is televised, it sparks a riot in Rue's District 11. President Snow summons Seneca Crane, the Gamemaker, to express his displeasure at the way the Games are turning out. Since Katniss and Peeta have been presented to the public as \"star-crossed lovers\", Haymitch is able to convince Crane to make a rule change to avoid inciting further riots. It is announced that tributes from the same district can win as a pair. Upon hearing this, Katniss searches for Peeta and finds him with an infected sword wound in the leg. She portrays herself as deeply in love with him and gains a sponsor's gift of soup. An announcer proclaims a feast, where the thing each survivor needs most will be provided. Peeta begs her not to risk getting him medicine. Katniss promises not to go, but after he falls asleep, she heads to the feast. Clove ambushes her and pins her down. As Clove gloats, Thresh, the other District 11 tribute, kills Clove after overhearing her tormenting Katniss about killing Rue. He spares Katniss \"just this time...for Rue\". The medicine works, keeping Peeta mobile. Foxface, the girl from District 5, dies from eating nightlock berries she stole from Peeta; neither knew they are highly poisonous. Crane changes the time of day in the arena to late at night and unleashes a pack of hound-like creatures to speed things up. They kill Thresh and force Katniss and Peeta to flee to the roof of the Cornucopia, where they encounter Cato. After a battle, Katniss wounds Cato with an arrow and Peeta hurls him to the creatures below. Katniss shoots Cato to spare him a prolonged death. With Peeta and Katniss apparently victorious, the rule change allowing two winners is suddenly revoked. Peeta tells Katniss to shoot him. Instead, she gives him half of the nightlock. However, before they can commit suicide, they are hastily proclaimed the victors of the 74th Hunger Games. Haymitch warns Katniss that she has made powerful enemies after her display of defiance. She and Peeta return to District 12, while Crane is locked in a room with a bowl of nightlock berries, and President Snow considers the situation.\n",
      "\n",
      "\tPoovalli Induchoodan  is sentenced for six years prison life for murdering his classmate. Induchoodan, the only son of Justice Maranchery Karunakara Menon  was framed in the case by Manapally Madhavan Nambiar  and his crony DYSP Sankaranarayanan  to take revenge on idealist judge Menon who had earlier given jail sentence to Manapally in a corruption case. Induchoodan, who had achieved top rank in Indian Civil Service loses the post and Manapally Sudheeran ([[Saikumar  enters the list of civil service trainees. We learn in flashback that it was Ramakrishnan  the son of Moopil Nair , who had actually killed his classmate. Six years passes by and Manapally Madhavan Nambiar, now a former state minister, is dead and Induchoodan, who is all rage at the gross injustice meted out to him - thus destroying his promising life, is released from prison. Induchoodan thwarts Manapally Pavithran  from performing the funeral rituals of Nambiar at Bharathapuzha. Many confrontations between Induchoodan and Manapally's henchmen follow. Induchoodan also falls in love with Anuradha ([[Aishwarya , the strong-willed and independent-minded daughter of Mooppil Nair. Justice Menon and his wife returns back to Kerala to stay with Induchoodan. There is an appearance of a girl named Indulekha ([[Kanaka , who claims to be the daughter of Justice Menon. Menon flatly refuses the claim and banishes her. Forced by circumstances and at the instigation and help of Manapally Pavithran, she reluctantly come out open with the claim. Induchoodan at first thrashes the protesters. But upon knowing the truth from Chandrabhanu his uncle, he accepts the task of her protection in the capacity as elder brother. Induchoodan decides to marry off Indulekha to his good friend Jayakrishnan . Induchoodan has a confrontation with his father and prods him to accept mistake and acknowledge the parentage of Indulekha. Menon ultimately regrets and goes on to confess to his daughter. The very next day, when Induchoodan returns to Poovally, Indulekha is found dead and Menon is accused of murdering her. The whole act was planned by Pavithran, who after killing Indulekha, forces Raman Nair  to testify against Menon in court. In court, Nandagopal Maarar , a close friend of Induchoodan and a famous supreme court lawyer, appears for Menon and manages to lay bare the murder plot and hidden intentions of other party . Menon is judged innocent of the crime by court. After confronting Pavithran and promising just retribution to the crime of killing Indulekha, Induchoodan returns to his father, who now shows remorse for all his actions including not believing in the innocence of his son. But while speaking to Induchoodan, Menon suffers a heart stroke and passes away. At Menon's funeral, Manapally Pavithran arrives to poke fun at Induchoodan and he also tries to carry out the postponed last rituals of his own father. Induchoodan interrupts the ritual and avenges for the death of his sister and father by severely injuring Pavithran. On his way back to peaceful life, Induchoodan accepts Anuradha as his life partner.\n",
      "\n",
      "i= 1\n",
      "\tThe Planet Express crew visits Amy's parents, Leo and Inez, who are destroying the \"old\" Mars Vegas and constructing a more extravagant one. A group of eco-feminists  led by Frida Waterfall protest the destruction of the environment, leading to an accident wherein a piece of Frida's jewelry lodges inside Fry's brain. The destruction upsets Leela, but Leo has bribed Professor Farnsworth to rubber stamp the project as environmentally friendly. Leela saves a Martian muck leech, the last of its species, from the site. In New Mars Vegas, Fry starts to go mad when he cannot stop hearing the thoughts of everyone around him. He meets Hutch, a transient who advises Fry to wear a tin foil hat to keep others' thoughts out of his head. Hutch warns Fry never to reveal his powers and to beware the \"Dark Ones\". While golfing with the crew, Leo reveals plans to build the universe's largest miniature golf course, destroying 12% of the Milky Way in the process. Farnsworth and the crew survey the site and discover an asteroid in a violet dwarf star system teeming with primordial life. Despite this, Farnsworth approves Leo’s project. Disgusted, Leela joins the eco-feminists, who begin sabotaging the project.  Hutch introduces Fry to the \"Legion of Mad Fellows\", a secret society of tin-foil-hat-wearing telepaths led by the Number 9 man. No. 9 tells Fry a story of two species that worked together to survive, until one broke the cycle and caused an \"evolutionary arms race\", both species evolving to defeat the other. One became the extinct \"Encyclopods\" who evolved to preserve the DNA of endangered species so they could be restored should they become extinct. The other became the \"Dark Ones\", who want to destroy all life. Fry learns that the violet dwarf is the only surviving egg of the Encyclopods. Due to a resurgence in the life-giving force \"Chi\", the Encyclopod will soon be reborn. As Fry is immune to the Dark Ones' psionic powers he alone can save it from Leo Wong's plans to turn it into a golf course, and from the Dark Ones, who have evolved to the point that no one knows what they look like. To end the sabotage, Leo enlists Zapp Brannigan and Kif Kroker, who in turn hire Bender to track down the eco-feministas. Fry infiltrates Leo's empire as a security guard. Amy is angered by her father's sexist jokes and joins Leela, while Bender bugs Fry's phone in case he communicates with Leela. Fry runs into Frida and has her take a message of support to Leela, but an unseen Dark One murders Frida. Farnsworth prepares to close Planet Express; with their delivery team missing they cannot continue. Leo Wong hires them to put up a fence around the construction site. Farnsworth cancels the closing and goes with Zoidberg and Hermes to do the job. They are captured by the eco-feminists, who commandeer the Planet Express ship. When the eco-feministas suspect Fry of murdering Frida, Fry and Leela arrange a rendezvous. They are ambushed by the Nimbus, which was tipped off by Bender. The eco-feministas are sent to prison. At a Legion meeting, No. 9 explains that Fry must stop the implosion of the violet dwarf and thwart the Dark One who is sure to be present. Though no one knows the Dark One's form, its mind cannot be read, allowing Fry to identify it. No. 9 gives Fry the Omega Device, which can temporarily disable the Dark One at close range. Bender frees the eco-feministas from prison in order to uphold his record for most crimes committed at once. Hermes, Zoidberg, Scruffy, and a repentant Farnsworth rescue them. At the ceremony, Fry cannot locate an unreadable mind; he concludes that he himself  must be the Dark One. The eco-feministas disrupt the ceremony, but Fry convinces Leela to let him proceed. Fry activates the Omega Device, which creates a small dome around the two that appears to have no effect. Leela's leech falls to the ground and reveals itself as the final Dark One. The violet dwarf system forms a giant sperm and flies into the star, creating an Encyclopod embryo which quickly matures, taking the form of a giant manta ray-like creature. The Dark One kills Hutch, whose dying act is to pull Frida's necklace out of Fry's forehead, causing Fry to lose his telepathy. The Encyclopod kills the Dark One. No. 9 convinces the Encyclopod to preserve the Dark One's DNA, but Zoidberg eats the remains before it can. The Encyclopod preserves Hutch's DNA before leaving. Zapp attempts to apprehend the escaped prisoners, but the crew of the Planet Express ship and the Eco-feminists escape along with Kif. Fry and Leela profess their love for each other as the Nimbus chases the Planet Express ship toward a wormhole, which the Professor warns could take them trillions of light years away. Everyone agrees to go for it. Fry and Leela kiss as the ship enters the wormhole.  The ending refers to the unsure future of the show. The makers were not sure if the show would return to TV, so if it did not, it is implied that the ship was in fact taken trillions of light years away. The show was picked up by Comedy Central, and it is revealed in the next episode \"Rebirth\" that the wormhole sent the ship directly back to Earth.\n",
      "\n",
      "A gangster and a corrupt police officer travel to the tiny remote island of Mapado to hunt down a young woman who has run off with a winning lottery ticket. Upon arriving, they discover that no one lives there except for five old women who have not once seen a man for 20 years. Both men soon experience a nightmare of hard labour and harassment.\n",
      "\n",
      "Due to an administrative error two male college students, the shy and intellectual Eddy  and the All-American jock Stuart , end up with a female roommate. The university thought that Alex  was a man  and thus the three students are forced to live with each other until the university can move Alex to a female residence hall. Alex falls in love and tries unsuccessfully to seduce Eddy; Stuart is in love with Alex, and Eddy falls in love with Stuart. The trio become good friends and scare off anyone who tries to seduce the other. Eventually, Alex, Stuart and Eddy agree to have an actual threesome that seems to destroy the friendship, and raises the possibility that Alex might have become pregnant. After the threesome, they start to drift apart. Three weeks later the semester ends and Alex moves to an apartment. The next year Eddy gets a single dorm with no roommates and the three continue to drift apart. Eddy  eventually finds a boyfriend, Stuart finds happiness in a monogamous relationship with a woman, and Alex remains single. While they drifted apart, only to see each other for lunch occasionally, they do not seem to regret the friendship they had while in college.\n",
      "\n",
      "\tA Comorian village. Djibril spends his frees time taking care of an abandoned villa. While he is busy there, his cabin catches fire. Homeless, he must find a place to live.\n",
      "\n",
      "\tThe people of the town of Hamelin are celebrating the high rat population being driven from the town. The cats hearing the news, do not bode well for them as it means their main food source is gone. In panic, they decide to go to the Supreem Cat for a solution to the problem. Supreem tells to the crowd of cats that his plan is to get the rats back by sabotaging the Piper's reward collecting with a full-body rat suit. While wearing the rat disguise, Supreem sneaks into the town hall. Supreem arrives at the town hall just at the time that Porky is going to get his reward money from the mayor. Supreem walks straight into the mayor's office and does a Last of the Mohicans impression and the mayor tells Porky he won't be getting the money until that rat is gone. Around the town, Supreem bothers Porky by running around in the rat costume and momentarily removes it to trip and insult Porky in various ways. Porky eventually grabs the \"rat\" by its rubber tail and Supreem deliberately doffs it. Porky takes the empty costume back to the town hall to get the reward money. Just when the mayor gets the reward money from the vault, Supreem pops out and steals it. Porky chases after him to get it back, which he does by tricking the cat to come out of hiding by pretending to bring the rats back  Finally Porky gets the reward money and insults the cat back before he leaves playing his clarinet and walks into the distance.\n",
      "\n"
     ]
    }
   ],
   "source": [
    "breakMore(sampleDir, artbreakDir)"
   ]
  },
  {
   "cell_type": "code",
   "execution_count": 29,
   "metadata": {},
   "outputs": [
    {
     "name": "stdout",
     "output_type": "stream",
     "text": [
      "i= 0\n",
      "i= 1\n",
      "i= 2\n",
      "i= 3\n",
      "i= 4\n",
      "i= 5\n",
      "i= 6\n",
      "i= 7\n",
      "i= 8\n",
      "i= 9\n",
      "i= 10\n",
      "i= 11\n",
      "i= 12\n",
      "i= 13\n",
      "i= 14\n",
      "i= 15\n",
      "i= 16\n",
      "i= 17\n",
      "i= 18\n",
      "i= 19\n",
      "i= 20\n",
      "i= 21\n",
      "i= 22\n",
      "i= 23\n",
      "i= 24\n",
      "i= 25\n",
      "i= 26\n",
      "i= 27\n",
      "i= 28\n",
      "i= 29\n",
      "i= 30\n",
      "i= 31\n",
      "i= 32\n",
      "i= 33\n",
      "i= 34\n",
      "i= 35\n",
      "i= 36\n",
      "i= 37\n",
      "i= 38\n",
      "i= 39\n",
      "i= 40\n",
      "i= 41\n",
      "i= 42\n",
      "i= 43\n",
      "i= 44\n",
      "i= 45\n",
      "i= 46\n",
      "i= 47\n",
      "i= 48\n",
      "i= 49\n",
      "i= 50\n",
      "i= 51\n",
      "i= 52\n",
      "i= 53\n",
      "i= 54\n",
      "i= 55\n",
      "i= 56\n",
      "i= 57\n",
      "i= 58\n",
      "i= 59\n",
      "i= 60\n",
      "i= 61\n",
      "i= 62\n",
      "i= 63\n",
      "i= 64\n",
      "i= 65\n",
      "i= 66\n",
      "i= 67\n",
      "i= 68\n",
      "i= 69\n",
      "i= 70\n",
      "i= 71\n",
      "i= 72\n",
      "i= 73\n",
      "i= 74\n",
      "i= 75\n",
      "i= 76\n",
      "i= 77\n",
      "i= 78\n",
      "i= 79\n",
      "i= 80\n",
      "i= 81\n",
      "i= 82\n",
      "i= 83\n",
      "i= 84\n",
      "i= 85\n",
      "i= 86\n",
      "i= 87\n",
      "i= 88\n",
      "i= 89\n",
      "i= 90\n",
      "i= 91\n",
      "i= 92\n",
      "i= 93\n"
     ]
    }
   ],
   "source": [
    "breakMore(articleDir, artbreakDir)"
   ]
  },
  {
   "cell_type": "code",
   "execution_count": 20,
   "metadata": {},
   "outputs": [],
   "source": [
    "'''\n",
    "Corpus : break-up cmu movie view file\n",
    "'''\n",
    "with open(filename, 'r', errors='replace') as f:\n",
    "    breakFile(f, outdirect)\n",
    "f.close()\n",
    "    "
   ]
  },
  {
   "cell_type": "code",
   "execution_count": 5,
   "metadata": {
    "collapsed": true
   },
   "outputs": [],
   "source": [
    "def breakFile(compute, n = 1000): \n",
    "    '''\n",
    "    apply a function to each article in the inputfile \n",
    "    compute : function that process the article \n",
    "    '''\n",
    "    line = infile.readline()\n",
    "    buffer = \"\"\n",
    "    result = []\n",
    "    while line:\n",
    "        words = line.strip().split()\n",
    "        if (words[0].isnumeric()): \n",
    "            s = compute(buffer)\n",
    "            result.append(s)\n",
    "        else: \n",
    "            buffer += line\n",
    "        j += 1\n",
    "        if (j % 450 == 0): \n",
    "            write_file = outdirect + 'cmu_Movie_Summary_' + str(i) + '.txt'\n",
    "            with open(write_file, \"w\") as outfile:\n",
    "                outfile.write(buffer) \n",
    "            outfile.close() \n",
    "            buffer = \"\"\n",
    "            i += 1\n",
    "        line = infile.readline()"
   ]
  },
  {
   "cell_type": "code",
   "execution_count": 7,
   "metadata": {},
   "outputs": [
    {
     "name": "stdout",
     "output_type": "stream",
     "text": [
      "[0.0625, 0.0258751902587519, 0.05011389521640091, 0.025034770514603615, 0.02631578947368421, 0.013377926421404682]\n"
     ]
    }
   ],
   "source": [
    "'''\n",
    "Example : break-up cmu movie view file\n",
    "'''\n",
    "with open(example, 'r', errors='replace') as f:\n",
    "    r = processArticle(f, emos)\n",
    "    print(r)\n",
    "f.close()\n",
    "    "
   ]
  },
  {
   "cell_type": "code",
   "execution_count": null,
   "metadata": {
    "collapsed": true
   },
   "outputs": [],
   "source": []
  }
 ],
 "metadata": {
  "anaconda-cloud": {},
  "kernelspec": {
   "display_name": "Python 3",
   "language": "python",
   "name": "python3"
  },
  "language_info": {
   "codemirror_mode": {
    "name": "ipython",
    "version": 3
   },
   "file_extension": ".py",
   "mimetype": "text/x-python",
   "name": "python",
   "nbconvert_exporter": "python",
   "pygments_lexer": "ipython3",
   "version": "3.7.4"
  }
 },
 "nbformat": 4,
 "nbformat_minor": 1
}
