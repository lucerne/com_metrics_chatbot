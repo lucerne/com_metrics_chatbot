{
 "cells": [
  {
   "cell_type": "code",
   "execution_count": 1,
   "metadata": {
    "collapsed": true
   },
   "outputs": [],
   "source": [
    "import spacy\n",
    "import numpy as np\n",
    "import matplotlib.pyplot as plt\n",
    "import os\n",
    "import glob\n",
    "from xml.etree import cElementTree as ET\n",
    "import re\n",
    "import json\n",
    "from collections import Counter\n",
    "import os\n",
    "import sys\n",
    "module_path = os.path.abspath(os.path.join('..'))\n",
    "if module_path not in sys.path:\n",
    "    sys.path.append(module_path)\n",
    "\n",
    "from analysis_code.analyze_corpus import *"
   ]
  },
  {
   "cell_type": "code",
   "execution_count": 2,
   "metadata": {
    "collapsed": true
   },
   "outputs": [],
   "source": [
    "'''name definition'''\n",
    "example = '/home/luluvyd/corpus/gutenberg-poem/gutenberg-poetry-example.ndjson'\n",
    "filename = '/home/luluvyd/corpus/gutenberg-poem/gutenberg-poetry-v001.ndjson'\n",
    "output = '/home/luluvyd/corpus/gutenberg-poem/gutenberg-poetry-example-articles.txt'\n",
    "outputFile = '/home/luluvyd/corpus/gutenberg-poem/gutenberg-poetry-articles.txt'\n"
   ]
  },
  {
   "cell_type": "code",
   "execution_count": 3,
   "metadata": {
    "collapsed": true
   },
   "outputs": [],
   "source": [
    "emos = loadEmotionWords('/home/luluvyd/corpus/NRC-Emotion-Lexicon-v0.92/Generated-EmotionWords.txt')"
   ]
  },
  {
   "cell_type": "code",
   "execution_count": 4,
   "metadata": {
    "collapsed": false
   },
   "outputs": [],
   "source": [
    "def convertFile(infile, outfile): \n",
    "    '''Convert json formatted file into line format'''\n",
    "    line = infile.readline()\n",
    "    article = \"\"\n",
    "    i = 0\n",
    "    pgid = -1\n",
    "    out = open(outfile, \"w+\") \n",
    "    \n",
    "    while line:\n",
    "        res = json.loads(line) \n",
    "        c = res['s']\n",
    "        cgid = res['gid']\n",
    "\n",
    "        if (cgid != pgid): \n",
    "            if (len(article) > 0):\n",
    "                out.write(article) \n",
    "                out.write('\\n')\n",
    "                article = \"\"\n",
    "                pgid = cgid\n",
    "                i += 1\n",
    "            article += c + \" \"\n",
    "            pgid = cgid\n",
    "        else: \n",
    "            article += c + \" \"\n",
    "        line = infile.readline()\n",
    "        \n",
    "    if (len(article) > 0): \n",
    "        out.write(article) \n",
    "    out.close() "
   ]
  },
  {
   "cell_type": "code",
   "execution_count": null,
   "metadata": {
    "collapsed": false
   },
   "outputs": [],
   "source": [
    "'''\n",
    "Example : convert file from json to line format\n",
    "'''\n",
    "with open(example, 'r', errors='replace') as f:\n",
    "    convertFile(f,output)\n",
    "f.close()"
   ]
  },
  {
   "cell_type": "code",
   "execution_count": 5,
   "metadata": {
    "collapsed": false
   },
   "outputs": [],
   "source": [
    "'''\n",
    "Corpus : convert file from json to line format\n",
    "'''\n",
    "with open(filename, 'r', errors='replace') as f:\n",
    "    convertFile(f,outputFile)\n",
    "f.close()"
   ]
  },
  {
   "cell_type": "code",
   "execution_count": 6,
   "metadata": {
    "collapsed": false
   },
   "outputs": [],
   "source": [
    "'''\n",
    "Corpus : break-up cmu movie view file\n",
    "'''\n",
    "scores = []\n",
    "with open(outputFile, 'r', errors='replace') as f:\n",
    "    r = scoreArticle(f, emos)\n",
    "    scores += r"
   ]
  },
  {
   "cell_type": "code",
   "execution_count": 7,
   "metadata": {
    "collapsed": false
   },
   "outputs": [
    {
     "data": {
      "text/plain": [
       "1191"
      ]
     },
     "execution_count": 7,
     "metadata": {},
     "output_type": "execute_result"
    }
   ],
   "source": [
    "len(scores)"
   ]
  },
  {
   "cell_type": "code",
   "execution_count": 8,
   "metadata": {
    "collapsed": false
   },
   "outputs": [],
   "source": [
    "scoresPer = np.array(scores)*100\n",
    "maxScore = max(scoresPer)"
   ]
  },
  {
   "cell_type": "code",
   "execution_count": 9,
   "metadata": {
    "collapsed": false
   },
   "outputs": [
    {
     "data": {
      "image/png": "[encoded data removed]",
      "text/plain": [
       "<matplotlib.figure.Figure at 0x7fb0f30d13c8>"
      ]
     },
     "metadata": {},
     "output_type": "display_data"
    }
   ],
   "source": [
    "plt.figure(num=None, figsize=(20, 6), dpi=80, facecolor='w', edgecolor='k')\n",
    "n_bins = 50\n",
    "plt.hist(scoresPer,bins=n_bins)\n",
    "plt.show()"
   ]
  },
  {
   "cell_type": "code",
   "execution_count": null,
   "metadata": {
    "collapsed": true
   },
   "outputs": [],
   "source": []
  }
 ],
 "metadata": {
  "anaconda-cloud": {},
  "kernelspec": {
   "display_name": "Python [conda env:anaconda3]",
   "language": "python",
   "name": "conda-env-anaconda3-py"
  },
  "language_info": {
   "codemirror_mode": {
    "name": "ipython",
    "version": 3
   },
   "file_extension": ".py",
   "mimetype": "text/x-python",
   "name": "python",
   "nbconvert_exporter": "python",
   "pygments_lexer": "ipython3",
   "version": "3.5.2"
  }
 },
 "nbformat": 4,
 "nbformat_minor": 1
}
