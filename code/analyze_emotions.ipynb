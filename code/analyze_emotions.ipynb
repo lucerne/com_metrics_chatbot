{
 "cells": [
  {
   "cell_type": "code",
   "execution_count": 1,
   "metadata": {
    "collapsed": true
   },
   "outputs": [],
   "source": [
    "import spacy\n",
    "import numpy as np\n",
    "import matplotlib.pyplot as plt\n",
    "import os\n",
    "import glob\n",
    "import re\n",
    "from collections import Counter\n",
    "from collections import defaultdict\n",
    "import numpy as np\n",
    "import matplotlib.pyplot as plt"
   ]
  },
  {
   "cell_type": "code",
   "execution_count": 123,
   "metadata": {
    "collapsed": true
   },
   "outputs": [],
   "source": [
    "Directory = '/home/luluvyd/corpus/NRC-Emotion-Lexicon-v0.92/'\n",
    "# Each line has the following format:\n",
    "# <term>--<NearSynonyms><tab><AffectCategory><tab><AssociationFlag>\n",
    "# <term> is a word for which emotion associations are provided;\n",
    "# <NearSynonyms> is a set of one to three comma-separated words that indicate the sense of the <term>. The affect annotations are for this sense of the term.\n",
    "# <AffectCategory> is one of eight emotions (anger, fear, anticipation, trust, surprise, sadness, joy, or disgust) or one of two polarities (negative or positive);\n",
    "# <AssociationFlag> has one of two possible values: 0 or 1. 0 indicates that the target word has no association with affect category, whereas 1 indicates an association.\n",
    "WordSenseFile = 'NRC-Emotion-Lexicon-Senselevel-v0.92.txt'\n",
    "# Each line has the following format:\n",
    "# <term><tab><AffectCategory><tab><AssociationFlag>\n",
    "# <term> is a word for which emotion associations are provided;\n",
    "# <AffectCategory> is one of eight emotions (anger, fear, anticipation, trust, surprise, sadness, joy, or disgust) or one of two polarities (negative or positive);\n",
    "# <AssociationFlag> has one of two possible values: 0 or 1. 0 indicates that the target word has no association with affect category, whereas 1 indicates an association.\n",
    "WordFile = 'NRC-Emotion-Lexicon-Wordlevel-v0.92.txt'\n",
    "\n",
    "outFile ='Generated-EmotionWords.txt'"
   ]
  },
  {
   "cell_type": "code",
   "execution_count": 104,
   "metadata": {
    "collapsed": false
   },
   "outputs": [],
   "source": [
    "def processSenseFile(filename):\n",
    "    '''\n",
    "    input : sense file\n",
    "    return : set of emotion words\n",
    "    '''\n",
    "    emotionWords = set([])\n",
    "    with open(filename, 'r', errors='replace') as f:\n",
    "        line = f.readline()\n",
    "        while line:\n",
    "            words = line.strip().split()\n",
    "            if len(words) == 5: \n",
    "                category = words[3]\n",
    "                sentiment = words[4]\n",
    "                word = re.split(r'(\\W+)', words[0])[0]\n",
    "                if ('positive' == category or 'negative' == category) and ('1' == sentiment):\n",
    "                    emotionWords.add(word)\n",
    "            line = f.readline()            \n",
    "    return emotionWords\n",
    "\n",
    "def processWordFile(filename):\n",
    "    '''\n",
    "    input : word file \n",
    "    return : set of emotion words\n",
    "    '''\n",
    "    emotionWords = set([])\n",
    "    with open(filename, 'r', errors='replace') as f:\n",
    "        line = f.readline()\n",
    "        while line:\n",
    "            words = line.strip().split()\n",
    "            if len(words) == 3: \n",
    "                word = words[0]\n",
    "                category = words[1]\n",
    "                sentiment = words[2]\n",
    "                if ('positive' == category or 'negative' == category) and ('1' == sentiment):\n",
    "                    emotionWords.add(word)\n",
    "            line = f.readline()            \n",
    "    return emotionWords"
   ]
  },
  {
   "cell_type": "code",
   "execution_count": 97,
   "metadata": {
    "collapsed": false
   },
   "outputs": [
    {
     "name": "stdout",
     "output_type": "stream",
     "text": [
      "{'ignore'}\n"
     ]
    }
   ],
   "source": [
    "'''\n",
    "Create emotion word set, no associations, feelings, or sentiment categories\n",
    "'''\n",
    "# file1 = Directory + WordSenseFile\n",
    "words = processSenseFile(Directory + 'NRC-example_1.txt')\n",
    "print(words)"
   ]
  },
  {
   "cell_type": "code",
   "execution_count": 100,
   "metadata": {
    "collapsed": false
   },
   "outputs": [
    {
     "name": "stdout",
     "output_type": "stream",
     "text": [
      "{'abandon'}\n"
     ]
    }
   ],
   "source": [
    "'''\n",
    "Create emotion word set, no associations, feelings, or sentiment categories\n",
    "'''\n",
    "words = processWordFile(Directory + 'NRC-example_2.txt')\n",
    "print(words)"
   ]
  },
  {
   "cell_type": "code",
   "execution_count": 118,
   "metadata": {
    "collapsed": false
   },
   "outputs": [
    {
     "name": "stdout",
     "output_type": "stream",
     "text": [
      "number of emotion words : 1900\n",
      "first 10 words : ['soiled', 'default', 'jump', 'aggressor', 'liberty', 'powerless', 'justification', 'perplexity', 'boisterous', 'furor']\n"
     ]
    }
   ],
   "source": [
    "senseWords = processSenseFile(Directory + WordSenseFile)\n",
    "print('number of emotion words : ' + str(len(senseWords)))\n",
    "print('first 10 words : ' + str(list(senseWords)[0:10]))"
   ]
  },
  {
   "cell_type": "code",
   "execution_count": 119,
   "metadata": {
    "collapsed": false
   },
   "outputs": [
    {
     "name": "stdout",
     "output_type": "stream",
     "text": [
      "number of emotion words : 5555\n",
      "first 10 words : ['polygamy', 'justification', 'steward', 'superhuman', 'furor', 'withered', 'recast', 'encouragement', 'sinful', 'immaturity']\n"
     ]
    }
   ],
   "source": [
    "wordWords = processWordFile(Directory + WordFile)\n",
    "print('number of emotion words : ' + str(len(wordWords)))\n",
    "print('first 10 words : ' + str(list(wordWords)[0:10]))"
   ]
  },
  {
   "cell_type": "code",
   "execution_count": 120,
   "metadata": {
    "collapsed": false
   },
   "outputs": [
    {
     "data": {
      "text/plain": [
       "1894"
      ]
     },
     "execution_count": 120,
     "metadata": {},
     "output_type": "execute_result"
    }
   ],
   "source": [
    "len(senseWords & wordWords)"
   ]
  },
  {
   "cell_type": "code",
   "execution_count": 127,
   "metadata": {
    "collapsed": false
   },
   "outputs": [],
   "source": [
    "'''\n",
    "Use sense words only\n",
    "'''\n",
    "with open(Directory + outFile, \"w\") as outfile:\n",
    "    for w in senseWords:\n",
    "        outfile.write(w + '\\n') \n",
    "outfile.close()\n",
    "    "
   ]
  }
 ],
 "metadata": {
  "anaconda-cloud": {},
  "kernelspec": {
   "display_name": "Python [conda env:anaconda3]",
   "language": "python",
   "name": "conda-env-anaconda3-py"
  },
  "language_info": {
   "codemirror_mode": {
    "name": "ipython",
    "version": 3
   },
   "file_extension": ".py",
   "mimetype": "text/x-python",
   "name": "python",
   "nbconvert_exporter": "python",
   "pygments_lexer": "ipython3",
   "version": "3.5.2"
  }
 },
 "nbformat": 4,
 "nbformat_minor": 1
}
