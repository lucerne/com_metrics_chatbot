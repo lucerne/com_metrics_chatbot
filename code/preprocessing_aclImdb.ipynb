{
 "cells": [
  {
   "cell_type": "code",
   "execution_count": 1,
   "metadata": {
    "collapsed": true
   },
   "outputs": [],
   "source": [
    "import spacy\n",
    "import numpy as np\n",
    "import matplotlib.pyplot as plt\n",
    "import os\n",
    "import glob"
   ]
  },
  {
   "cell_type": "code",
   "execution_count": 2,
   "metadata": {
    "collapsed": false
   },
   "outputs": [],
   "source": [
    "import re\n",
    "\n",
    "def cleanhtml(raw_html):\n",
    "    cleanr = re.compile('<.*?>')\n",
    "    cleantext = re.sub(cleanr, '', raw_html)\n",
    "    return cleantext\n",
    "\n",
    "def clean_text(doc):\n",
    "    txt = \"\"\n",
    "    for token in doc:\n",
    "        if token.text.isalpha(): \n",
    "            txt += token.text + \" \"\n",
    "    return txt.lower()"
   ]
  },
  {
   "cell_type": "code",
   "execution_count": 3,
   "metadata": {
    "collapsed": false
   },
   "outputs": [],
   "source": [
    "directory = os.fsencode(\"/home/luluvyd/corpus/aclImdb/test/example_pos\")\n",
    "\n",
    "if __name__ == \"__main__\":\n",
    "    nlp = spacy.load('en_core_web_md')\n",
    "    \n",
    "    read_files = glob.glob(\"/home/luluvyd/corpus/aclImdb/test/example_pos/*.txt\")\n",
    "    \n",
    "    with open(\"combined.txt\", \"wb\") as outfile:\n",
    "        for f in read_files:\n",
    "            with open(f, \"rb\") as infile:\n",
    "                outfile.write(infile.read())\n",
    "    outfile.close()\n",
    "                \n"
   ]
  },
  {
   "cell_type": "code",
   "execution_count": 4,
   "metadata": {
    "collapsed": true
   },
   "outputs": [],
   "source": [
    "with open('combined.txt', 'r') as f:\n",
    "    data = f.read()\n",
    "    parsed_text = nlp(data)\n",
    "    txt = clean_text(parsed_text)\n",
    "    with open(\"/home/luluvyd/corpus/GloVe/text_example_1.txt\", \"w\") as outfile:\n",
    "        outfile.write(txt)\n",
    "    outfile.close()\n",
    "f.close() \n",
    "    "
   ]
  },
  {
   "cell_type": "code",
   "execution_count": 5,
   "metadata": {
    "collapsed": false
   },
   "outputs": [
    {
     "data": {
      "text/plain": [
       "'my boyfriend and i went to watch the guardian at first i did want to watch it but i loved the it was definitely the best movie i have seen in sometime they portrayed the uscg very well it really showed me what they do and i think they should really be appreciated more not only did it teach but it was a really good movie the movie shows what the really do and how hard the job is i think being a uscg would be challenging and very scary it was a great movie all around i would suggest this movie for anyone to see the ending broke my heart but i know why he did it the storyline was great i give it thumbs up i cried it was very emotional i would give it a if i yardstick for measuring a movie watch ability is if i get squirmy if i start shifting positions and noticing my butt is sore the film is too long this movie did not even come close to being boring predictable in some parts sure but never of the other military branches have had love notes written about them and seen their recruitment levels go up why not the coast guard too they are definitely under appreciated until the day your boat sinks that movie was very enjoyable and fun kevin costner is perfect as the aging macho man who does know when to quit however i was most impressed by ashton kutcher performance i have never liked him never watched any of his tv shows and always considered him an immature well punk in this film he does a great job he is well on his way to having leading man status i think the film we were shown must have been an advance rough cut or something because about of the way in the film stock turned very grainy the sound level dropped and microphones were seen dropping down all over the place also at the viewing were representatives from the movie looking for audience feedback particularly on the parts of the film we did spoiler the feedback i gave concerned a a couple of lines in the beginning kevin costner comes home to see his wife sela ward packing her stuff up and moving out he says maybe i should be the one to move out and she replies no you do know where anything is in this house i should be the one to go this does make sense if she knows the layout so well costner is right he should be the one to leave i went and saw this movie last night after being coaxed to by a few friends of mine i admit that i was reluctant to see it because from what i knew of ashton kutcher he was only able to do comedy i was wrong kutcher played the character of jake fischer very well and kevin costner played ben randall with such professionalism the sign of a good movie is that it can toy with our emotions this one did exactly that the entire theater which was sold out was overcome by laughter during the first half of the movie and were moved to tears during the second half while exiting the theater i not only saw many women in tears but many full grown men as well trying desperately not to let anyone see them crying this movie was great and i suggest that you go see it before you judge '"
      ]
     },
     "execution_count": 5,
     "metadata": {},
     "output_type": "execute_result"
    }
   ],
   "source": [
    "clean_text(parsed_text)"
   ]
  },
  {
   "cell_type": "code",
   "execution_count": null,
   "metadata": {
    "collapsed": false
   },
   "outputs": [],
   "source": [
    "parsed_text"
   ]
  },
  {
   "cell_type": "code",
   "execution_count": null,
   "metadata": {
    "collapsed": true
   },
   "outputs": [],
   "source": []
  }
 ],
 "metadata": {
  "anaconda-cloud": {},
  "kernelspec": {
   "display_name": "Python [conda env:anaconda3]",
   "language": "python",
   "name": "conda-env-anaconda3-py"
  },
  "language_info": {
   "codemirror_mode": {
    "name": "ipython",
    "version": 3
   },
   "file_extension": ".py",
   "mimetype": "text/x-python",
   "name": "python",
   "nbconvert_exporter": "python",
   "pygments_lexer": "ipython3",
   "version": "3.5.2"
  }
 },
 "nbformat": 4,
 "nbformat_minor": 1
}
